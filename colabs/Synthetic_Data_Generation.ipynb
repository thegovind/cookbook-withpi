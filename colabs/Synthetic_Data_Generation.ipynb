{
  "cells": [
    {
      "cell_type": "markdown",
      "metadata": {
        "id": "view-in-github",
        "colab_type": "text"
      },
      "source": [
        "<a href=\"https://colab.research.google.com/github/withpi/cookbook-withpi/blob/main/colabs/Synthetic_Data_Generation.ipynb\" target=\"_parent\"><img src=\"https://colab.research.google.com/assets/colab-badge.svg\" alt=\"Open In Colab\"/></a>"
      ]
    },
    {
      "cell_type": "markdown",
      "source": [
        "<a href=\"https://withpi.ai\"><img src=\"https://withpi.ai/logoFullBlack.svg\" width=\"240\"></a>\n",
        "\n",
        "<a href=\"https://code.withpi.ai\"><font size=\"4\">Documentation</font></a>\n",
        "\n",
        "<a href=\"https://play.withpi.ai\"><font size=\"4\">Technique Catalog</font></a>"
      ],
      "metadata": {
        "id": "pi-masthead"
      }
    },
    {
      "cell_type": "markdown",
      "metadata": {
        "id": "Bwm4tjdnedp6"
      },
      "source": [
        "# Synthetic Data Generation\n",
        "\n",
        "There is no Playground associated with this Colab, but it's coming soon!\n",
        "\n",
        "Many techniques require input and LLM response to drives evaluation and training, but getting high-quality data can be painful and expensive.\n",
        "\n",
        "Generating this data with AI support can give you a higher quality set with much lower effort.  And it can be done with the same Contract that drives other techniques in Pi!\n",
        "\n",
        "We will walk through the same `Aesop AI` example, but you can load any contract here. Let's dig in!"
      ]
    },
    {
      "cell_type": "markdown",
      "source": [
        "## Install and initialize SDK\n",
        "\n",
        "Connect to a regular CPU Python 3 runtime.  You won't need GPUs for this notebook.\n",
        "\n",
        "You'll need a WITHPI_API_KEY from https://play.withpi.ai.  Add it to your notebook secrets (the key symbol) on the left.\n",
        "\n",
        "Run the cell below to install packages and load the SDK"
      ],
      "metadata": {
        "id": "pi-setup-markdown"
      }
    },
    {
      "cell_type": "code",
      "metadata": {
        "id": "pi-setup"
      },
      "outputs": [],
      "execution_count": 1,
      "source": [
        "%%capture\n",
        "\n",
        "import os\n",
        "from google.colab import files, userdata\n",
        "\n",
        "# Load the notebook secret into the environment so the Pi Client can access it.\n",
        "os.environ[\"WITHPI_API_KEY\"] = userdata.get('WITHPI_API_KEY')\n",
        "\n",
        "%pip install withpi litellm httpx datasets jinja2 tqdm\n",
        "\n",
        "# Import a bunch of useful libraries for later.\n",
        "from concurrent.futures import ThreadPoolExecutor\n",
        "from collections import defaultdict\n",
        "import time\n",
        "import json\n",
        "from pathlib import Path\n",
        "import re\n",
        "\n",
        "import datasets\n",
        "import httpx\n",
        "import litellm\n",
        "import jinja2\n",
        "from tqdm.notebook import tqdm\n",
        "from withpi import PiClient\n",
        "from withpi.types import Contract\n",
        "\n",
        "from rich.console import Console\n",
        "from rich.table import Table\n",
        "from rich.live import Live\n",
        "\n",
        "console = Console()\n",
        "\n",
        "client = PiClient()\n",
        "\n",
        "def print_contract(contract: Contract):\n",
        "  \"\"\"print_contract pretty-prints a contract\"\"\"\n",
        "  for dimension in contract.dimensions:\n",
        "    print(dimension.label)\n",
        "    for sub_dimension in dimension.sub_dimensions:\n",
        "      print(f\"\\t{sub_dimension.description}\")\n",
        "\n",
        "def generate(system: str, user: str, model: str) -> str:\n",
        "  \"\"\"generate passes the provided system and user prompts into the given model\n",
        "  via LiteLLM\"\"\"\n",
        "  messages = [\n",
        "    {\n",
        "      \"content\": system,\n",
        "      \"role\": \"system\"\n",
        "    },\n",
        "    {\n",
        "      \"content\": user,\n",
        "      \"role\": \"user\"\n",
        "    }\n",
        "  ]\n",
        "  return litellm.completion(model=model,\n",
        "                            messages=messages).choices[0].message.content\n",
        "\n",
        "class printer(str):\n",
        "  \"\"\"printer makes strings with embedded newlines print more nicely\"\"\"\n",
        "  def __repr__(self):\n",
        "    return self\n",
        "def print_response(response: str):\n",
        "  \"\"\"print_response pretty-prints an LLM response, respecting newlines\"\"\"\n",
        "  display(printer(response))\n",
        "\n",
        "def print_scores(pi_scores):\n",
        "  \"\"\"print_scores pretty-prints a Pi Score response as a table.\"\"\"\n",
        "  for dimension_name, dimension_scores in pi_scores.dimension_scores.items():\n",
        "    print(f\"{dimension_name}: {dimension_scores.total_score}\")\n",
        "    for subdimension_name, subdimension_score in dimension_scores.subdimension_scores.items():\n",
        "      print(f\"\\t{subdimension_name}: {subdimension_score}\")\n",
        "    print(\"\\n\")\n",
        "  print(\"---------------------\")\n",
        "  print(f\"Total score: {pi_scores.total_score}\")\n",
        "\n",
        "def save_file(filename: str, model: str):\n",
        "  \"\"\"save_file offers to download the model with the given filename\"\"\"\n",
        "  Path(filename).write_text(model)\n",
        "  files.download(filename)\n",
        "\n",
        "def load_contract(url: str) -> Contract:\n",
        "  \"\"\"load_contract pulls a Contract JSON blob locally with validation.\"\"\"\n",
        "  resp = httpx.get(url)\n",
        "  return Contract.model_validate_json(resp.content)\n",
        "\n",
        "def load_and_split_dataset(url: str) -> datasets.DatasetDict:\n",
        "  \"\"\"load_and_split_dataset pulls in the Parquet file at url and does a 90/10 split\"\"\"\n",
        "  return datasets.load_dataset('parquet', data_files=url, split=\"train\").train_test_split(test_size=0.1)\n",
        "\n",
        "def do_bulk_inference(dataset, system, model):\n",
        "  \"\"\"do_bulk_inference performs inference on the 'input' column of dataset, using\n",
        "  the provided system prompt.  The model identified will be used via LiteLLM\"\"\"\n",
        "\n",
        "  def do_generate(user, pbar):\n",
        "    result = generate(system, user, model)\n",
        "    pbar.update(1)\n",
        "    return result\n",
        "\n",
        "  futures = []\n",
        "  pbar = tqdm(total=len(dataset))\n",
        "  with ThreadPoolExecutor(max_workers=4) as executor:\n",
        "    for row in dataset:\n",
        "      futures.append(executor.submit(do_generate, row[\"input\"], pbar))\n",
        "  return [future.result() for future in futures]\n",
        "\n",
        "def do_bulk_templated_inference(dataset, optimized, model):\n",
        "  \"\"\"do_bulk_templated_inference performs inference on the 'input' column of dataset,\n",
        "  using the provided optimized prompt.  It should be a Jinja2 template as returned\n",
        "  by DSPy\"\"\"\n",
        "  prompt_template = jinja2.Template(optimized)\n",
        "  result_extractor = re.compile(r\".*\\[\\[ ## response ## \\]\\](.*)\\[\\[ ## completed ## \\]\\]\", re.DOTALL)\n",
        "\n",
        "  def do_generate(prompt: str, pbar) -> str:\n",
        "    messages = json.loads(prompt_template.render(input=prompt))\n",
        "    result = litellm.completion(model=model,\n",
        "                                messages=messages).choices[0].message.content\n",
        "\n",
        "    pbar.update(1)\n",
        "    return result_extractor.match(result).group(1)\n",
        "\n",
        "  futures = []\n",
        "  pbar = tqdm(total=len(dataset))\n",
        "  with ThreadPoolExecutor(max_workers=4) as executor:\n",
        "    for row in dataset:\n",
        "      futures.append(executor.submit(do_generate, row[\"input\"], pbar))\n",
        "  return [future.result() for future in futures]\n",
        "\n",
        "def generate_table(\n",
        "    job_id: str, training_data: dict, is_done: bool, additional_columns: dict[str, str]\n",
        "):\n",
        "    \"\"\"Generate a training progress table dynamically.\"\"\"\n",
        "    table = Table(title=f\"Training Status for {job_id}\")\n",
        "\n",
        "    # Define columns\n",
        "    table.add_column(\"Step\", justify=\"right\", style=\"cyan\")\n",
        "    table.add_column(\"Epoch\", justify=\"right\", style=\"cyan\")\n",
        "    table.add_column(\"Learning Rate\", justify=\"right\", style=\"cyan\")\n",
        "    table.add_column(\"Train Loss\", justify=\"right\", style=\"magenta\")\n",
        "    table.add_column(\"Eval Loss\", justify=\"right\", style=\"green\")\n",
        "    for header in additional_columns.keys():\n",
        "        table.add_column(header, justify=\"right\", style=\"black\")\n",
        "\n",
        "    def format_num(num: float | None, digits: int = 4) -> str:\n",
        "        if num is None:\n",
        "            return \"X\"\n",
        "        return format(num, f\".{digits}f\")\n",
        "\n",
        "    for step, data in training_data.items():\n",
        "        additional_columns_data = [\n",
        "            format_num(data.get(column_name, None))\n",
        "            for column_name in additional_columns.values()\n",
        "        ]\n",
        "        table.add_row(\n",
        "            str(step),\n",
        "            format_num(data.get(\"epoch\", None)),\n",
        "            format_num(data.get(\"learning_rate\", None), digits=10),\n",
        "            format_num(data.get(\"loss\", None)),\n",
        "            format_num(data.get(\"eval_loss\", None)),\n",
        "            *additional_columns_data,\n",
        "        )\n",
        "\n",
        "    if not is_done:\n",
        "        table.add_row(\"...\", \"\", \"\", \"\", \"\", \"\")\n",
        "\n",
        "    return table\n",
        "\n",
        "\n",
        "def stream_response(job_id: str, method, additional_columns: dict[str, str]):\n",
        "    \"\"\"stream_response streams messages from the provided method\n",
        "\n",
        "    method should be a Pi client object with `retrieve` and `stream_messages`\n",
        "    endpoints.  This is primarily for convenience.\"\"\"\n",
        "\n",
        "    training_data = defaultdict(dict)\n",
        "    is_log_console = False\n",
        "\n",
        "    while True:\n",
        "        response = method.retrieve(job_id=job_id)\n",
        "        if (response.state != \"QUEUED\") and (response.state != \"RUNNING\"):\n",
        "            if response.state == \"DONE\" and not is_log_console:\n",
        "                for line in response.detailed_status:\n",
        "                    try:\n",
        "                        data_dict = json.loads(line)\n",
        "                        training_data[data_dict[\"step\"]].update(data_dict)\n",
        "                    except Exception:\n",
        "                        pass\n",
        "                console.print(\n",
        "                    generate_table(\n",
        "                        job_id,\n",
        "                        training_data,\n",
        "                        is_done=True,\n",
        "                        additional_columns=additional_columns,\n",
        "                    )\n",
        "                )\n",
        "            return response\n",
        "\n",
        "        with method.with_streaming_response.stream_messages(\n",
        "            job_id=job_id, timeout=None\n",
        "        ) as response:\n",
        "            with Live(auto_refresh=True, console=console, refresh_per_second=4) as live:\n",
        "                is_done = False\n",
        "                for line in response.iter_lines():\n",
        "                    if line == \"DONE\":\n",
        "                        is_done = True\n",
        "                    try:\n",
        "                        data_dict = json.loads(line)\n",
        "                        training_data[data_dict[\"step\"]].update(data_dict)\n",
        "                    except Exception:\n",
        "                        pass\n",
        "                    live.update(\n",
        "                        generate_table(\n",
        "                            job_id,\n",
        "                            training_data,\n",
        "                            is_done,\n",
        "                            additional_columns=additional_columns,\n",
        "                        )\n",
        "                    )\n",
        "                    is_log_console = True\n"
      ]
    },
    {
      "cell_type": "markdown",
      "metadata": {
        "id": "s7RRO3iXjYbY"
      },
      "source": [
        "# Load contract\n",
        "\n",
        "Load the `Aesop AI` example from Pi Labs cookbooks, or edit below to load a different one.\n"
      ]
    },
    {
      "cell_type": "code",
      "execution_count": 2,
      "metadata": {
        "id": "oXJmb89i5iN5"
      },
      "outputs": [],
      "source": [
        "aesop_contract = load_contract(\"https://raw.githubusercontent.com/withpi/cookbook-withpi/refs/heads/main/contracts/aesop_ai.json\")"
      ]
    },
    {
      "cell_type": "markdown",
      "metadata": {
        "id": "j1FAoBqU7dwf"
      },
      "source": [
        "## Generate an Example Set\n",
        "\n",
        "Given this structured description, let's build a Dataset containing a bunch of plausible moral lessons that could be used to exercise the contract.  This will take about 50 seconds to generate."
      ]
    },
    {
      "cell_type": "code",
      "execution_count": 3,
      "metadata": {
        "id": "4NpCZhP6exgI"
      },
      "outputs": [],
      "source": [
        "synthetic_data_generation_status = client.data.generate_synthetic_data.create(\n",
        "    system_prompt=aesop_contract.description,\n",
        "    num_examples_to_generate=10,\n",
        "    seeds=[],\n",
        "    batch_size=3,\n",
        "    num_shots=3,\n",
        ")\n"
      ]
    },
    {
      "cell_type": "markdown",
      "source": [
        "## Steam the messages as the data is generated\n",
        "\n",
        "The messages provide detail about what is being done to generate the data."
      ],
      "metadata": {
        "id": "KmsSQWqXW0Hm"
      }
    },
    {
      "cell_type": "code",
      "source": [
        "import json\n",
        "\n",
        "while True:\n",
        "    job_status = client.data.generate_synthetic_data.retrieve(synthetic_data_generation_status.job_id)\n",
        "    if job_status.state in [\"ERROR\", \"DONE\"]:\n",
        "        break\n",
        "\n",
        "    # Steam Messages\n",
        "    with client.data.with_streaming_response.generate_synthetic_data.stream_messages(synthetic_data_generation_status.job_id) as response:\n",
        "      for line in response.iter_lines():\n",
        "        print(line)"
      ],
      "metadata": {
        "id": "iGS4bqGWSb4X"
      },
      "execution_count": 13,
      "outputs": []
    },
    {
      "cell_type": "markdown",
      "source": [
        "One can also stream the data instead as shown in the cell below"
      ],
      "metadata": {
        "id": "tq-uvsA0XJRI"
      }
    },
    {
      "cell_type": "code",
      "source": [
        "# Steam Generated Data\n",
        "with client.data.with_streaming_response.generate_synthetic_data.stream_data(synthetic_data_generation_status.job_id) as response:\n",
        "    for line in response.iter_lines():\n",
        "        pretty_json = json.dumps(line, indent=2)\n",
        "        print(f\"Generated Example:\\n{pretty_json}\")"
      ],
      "metadata": {
        "colab": {
          "base_uri": "https://localhost:8080/"
        },
        "id": "lYtgWQ4TUY9L",
        "outputId": "cdecbaff-9e32-4845-9a72-cb7e683592eb"
      },
      "execution_count": 21,
      "outputs": [
        {
          "output_type": "stream",
          "name": "stdout",
          "text": [
            "Generated Example:\n",
            "\"{\\\"llm_input\\\": \\\"Please write a fable that illustrates the power of kindness for children.\\\", \\\"llm_output\\\": \\\"In a forest filled with tall trees, a little rabbit named Rosie lived a busy life. She spent her days hopping from one place to another, gathering berries and carrots for her family's dinner. One day, while Rosie was out on her daily errand, she came across a big, old bear named Boris. Boris was lying on the ground, too tired and weak to move.\\\\n\\\\nAt first, Rosie was scared of Boris, but as she looked into his eyes, she saw sadness and hunger. She decided to help him, even though she didn't know him. Rosie brought Boris some juicy berries and fresh water from the stream. She even shared her own carrots with him.\\\\n\\\\nBoris was so grateful to Rosie that he promised to repay her kindness one day. Rosie didn't think much of it and continued on her way. Days passed, and Rosie forgot all about Boris.\\\\n\\\\nOne winter morning, a big snowstorm hit the forest, and Rosie's burrow was buried under a thick layer of snow. She tried to dig her way out, but it was too hard. Just as she was starting to lose hope, she heard a loud rumbling sound. It was Boris, the big bear, digging through the snow to rescue her.\\\\n\\\\nBoris worked tirelessly until he finally reached Rosie's burrow. He gently lifted her out of the snow and took her to his cozy cave, where a warm fire was burning. Rosie was amazed by Boris's kindness and realized that her small act of kindness had come back to her in a big way.\\\\n\\\\nFrom that day on, Rosie and Boris became the best of friends. They helped each other in times of need, and their friendship grew stronger with each passing day. Rosie learned that kindness is like a seed that you plant in the ground. It may take time, but it will always grow into something beautiful and come back to you in unexpected ways.\\\"}\"\n",
            "Generated Example:\n",
            "\"{\\\"llm_input\\\": \\\"I would love a story that teaches kids the significance of teamwork, like Aesop's style.\\\", \\\"llm_output\\\": \\\"In a lush forest, there lived four little birds: Chirpy, Flutter, Tweety, and Skye. Each bird had a unique talent - Chirpy could sing the most melodious songs, Flutter was incredibly agile, Tweety had exceptional eyesight, and Skye could fly the highest.\\\\n\\\\nOne day, a harsh storm rolled in, bringing strong winds and heavy rains. The birds' homes were destroyed, and they were left shivering with cold and hunger. They decided to work together to build a new, stronger nest.\\\\n\\\\nChirpy used her beautiful voice to attract other animals to help, Flutter used her agility to gather twigs and leaves, Tweety used her sharp eyesight to spot the best materials, and Skye used her flying skills to bring back strong branches.\\\\n\\\\nAs they worked together, they realized that each bird's talent was vital to the success of their project. Chirpy's singing kept everyone's spirits high, Flutter's agility allowed her to reach high branches, Tweety's eyesight helped them avoid any dangers, and Skye's flying brought back the heaviest loads.\\\\n\\\\nAfter many hours of hard work, the birds finally completed their new nest. It was the strongest and coziest nest in the forest, and all the birds were proud of what they had achieved together.\\\\n\\\\nAs they snuggled up in their new home, Chirpy sang a song of gratitude, and the other birds joined in. They realized that by working together, they had accomplished something truly amazing, and that their individual talents were even more powerful when combined.\\\\n\\\\nFrom that day on, the four little birds lived happily ever after in their strong and cozy nest, always remembering the importance of teamwork and collaboration.\\\"}\"\n",
            "Generated Example:\n",
            "\"{\\\"llm_input\\\": \\\"Can you tell me a fable about the dangers of greed for young readers?\\\", \\\"llm_output\\\": \\\"In a forest filled with tall trees, there lived a little squirrel named Squeaky. Squeaky loved to collect nuts for the winter, and she would often spend her days gathering as many as she could. One day, while out collecting, Squeaky stumbled upon a magical nut tree that produced the most delicious nuts she had ever tasted. The tree told Squeaky that she could have all the nuts she wanted, but warned her that if she took too many, the tree would wither and die.\\\\n\\\\nAt first, Squeaky was careful and only took a few nuts each day. But as time passed, she began to want more and more. She thought to herself, \\\\\\\"Why should I only have a few nuts when I can have them all?\\\\\\\" So, she started taking as many nuts as she could carry, every day. The tree pleaded with Squeaky to stop, but she wouldn't listen.\\\\n\\\\nAs Squeaky's greed grew, the tree began to wither and die. The nuts that Squeaky had taken began to rot, and she was left with nothing. The other animals in the forest tried to help Squeaky, but it was too late. The tree was gone, and Squeaky was left with nothing but a pile of rotten nuts.\\\\n\\\\nThe other animals in the forest looked at Squeaky with sad eyes and said, \\\\\\\"If only you had been content with what you had, the tree would still be alive, and you would have had all the nuts you needed.\\\\\\\" Squeaky realized that her greed had destroyed the very thing that had given her so much. From that day on, she learned to be content with what she had and to never let her greed consume her again.\\\"}\"\n",
            "Generated Example:\n",
            "\"{\\\"llm_input\\\": \\\"Tell me a story that teaches the value of generosity, similar to an Aesop's Fable.\\\", \\\"llm_output\\\": \\\"In a small village, there lived a poor farmer named Kaito. Kaito worked hard every day to grow crops and raise animals, but no matter how hard he worked, he never seemed to have enough. One day, while Kaito was out in his fields, a wise old man came to visit him. The old man told Kaito that he would give him a magical seed that would grow into a plant with the most delicious and nutritious fruits anyone had ever tasted.\\\\n\\\\nThe old man gave Kaito the seed, but warned him that the plant would only thrive if Kaito shared its fruits with others. Kaito was skeptical, but he decided to follow the old man's advice. He planted the seed and took good care of it. Soon, the plant grew into a beautiful tree with juicy and sweet fruits.\\\\n\\\\nAs the fruits ripened, people from all over the village came to taste them. Kaito generously shared the fruits with everyone, and soon his farm became a gathering place for the community. People would come to eat the delicious fruits, and Kaito would also share his knowledge and skills with them.\\\\n\\\\nAs Kaito continued to share his fruits, his farm began to prosper. More and more people came to visit, and they would bring gifts and offer to help Kaito with his work. The farm became a symbol of generosity and community, and Kaito's life was filled with joy and abundance.\\\\n\\\\nOne day, a severe drought hit the land, and many farmers struggled to grow their crops. But Kaito's farm continued to thrive, and his tree remained healthy and fruitful. The villagers were amazed and asked Kaito to share his secret. Kaito smiled and said, \\\\\\\"I have learned that generosity is like a river that flows in a circle. When I give to others, I receive even more in return. My tree has taught me that sharing is the key to true prosperity and happiness.\\\\\\\"\\\\n\\\\nFrom that day on, Kaito's farm became a model for the entire village, and people came from far and wide to learn from him. Kaito's story spread, and it taught everyone the value of generosity and the importance of sharing with others. The villagers learned that when they gave to others, they would always receive more in return, and that generosity was the key to a happy and fulfilling life.\\\"}\"\n",
            "Generated Example:\n",
            "\"{\\\"llm_input\\\": \\\"Can you create a fable about how sharing our blessings makes everyone happier?\\\", \\\"llm_output\\\": \\\"In a small village nestled in a green valley, there lived a farmer named Maria. Maria was blessed with a lush garden that produced the most delicious fruits and vegetables in the entire village. She spent her days tending to her garden, and her nights enjoying the fruits of her labor with her family.\\\\n\\\\nAs time passed, Maria's garden became more and more abundant, and she found herself with more food than she knew what to do with. She started to store the extra produce in her barn, but soon it was overflowing. Maria's family and friends would often ask her for some of her fresh produce, but she would hesitate, thinking that she might need it all for herself.\\\\n\\\\nOne day, a wise old man came to visit Maria and saw the abundance of her garden. He asked her why she wasn't sharing her blessings with the rest of the village. Maria replied that she was afraid of not having enough for herself. The old man smiled and said, \\\\\\\"Maria, when you share your blessings, you don't lose anything, you only gain more happiness and friends.\\\\\\\"\\\\n\\\\nMaria thought about the old man's words and decided to take his advice. She started sharing her produce with the rest of the village, and soon her garden became a symbol of community and generosity. People would come from all around to taste Maria's delicious fruits and vegetables, and in return, they would share their own talents and skills with her.\\\\n\\\\nA young girl who loved to bake would bring Maria fresh bread and pastries. A skilled musician would play his flute in Maria's garden, filling the air with sweet melodies. A group of children would help Maria with her harvest, laughing and playing together in the sunshine.\\\\n\\\\nAs Maria shared her blessings, she found that her garden became even more abundant, and her heart became fuller with joy. She realized that sharing wasn't about losing something, but about gaining more love, friendship, and happiness. The villagers, too, were happier, as they enjoyed the fresh produce and the sense of community that Maria's garden had brought them.\\\\n\\\\nThe wise old man returned to visit Maria and saw the transformation that had taken place. He smiled and said, \\\\\\\"You see, Maria, when you share your blessings, you create a ripple effect of happiness that spreads far and wide. Your garden is no longer just a source of food, but a symbol of the joy and love that comes from sharing with others.\\\\\\\" And from that day on, Maria's garden continued to flourish, spreading happiness and blessings to all who visited.\\\"}\"\n",
            "Generated Example:\n",
            "\"{\\\"llm_input\\\": \\\"Tell me a story that teaches children the value of perseverance.\\\", \\\"llm_output\\\": \\\"In a small pond, there lived a little frog named Croaky. Croaky had a big dream: he wanted to climb to the top of a tall mountain that stood near the pond. All the other frogs laughed at him, saying, \\\\\\\"You're just a little frog, you'll never make it to the top!\\\\\\\" But Croaky didn't listen. He was determined to reach his goal.\\\\n\\\\nEvery day, Croaky would climb a little bit up the mountain, but he would always get tired and have to come back down. The other frogs would tease him, saying, \\\\\\\"You'll never make it, you're too small and too slow!\\\\\\\" But Croaky didn't give up. He kept climbing, day after day, even when it seemed like he wasn't getting anywhere.\\\\n\\\\nOne day, a wise old turtle came to the pond. The turtle saw Croaky trying to climb the mountain and asked him, \\\\\\\"What are you doing, little frog?\\\\\\\" Croaky explained his dream, and the turtle smiled. \\\\\\\"I can help you,\\\\\\\" said the turtle. \\\\\\\"But you have to promise me one thing: you have to keep going, no matter what.\\\\\\\"\\\\n\\\\nCroaky promised, and the turtle gave him some advice. \\\\\\\"Don't try to climb the whole mountain at once,\\\\\\\" said the turtle. \\\\\\\"Just take it one step at a time. Focus on the next rock, the next tree, the next patch of grass. Before you know it, you'll be at the top.\\\\\\\"\\\\n\\\\nCroaky took the turtle's advice and kept climbing. He focused on one step at a time, and slowly but surely, he began to make progress. The other frogs watched in amazement as Croaky climbed higher and higher. They cheered him on, and soon they were all rooting for him.\\\\n\\\\nFinally, after many days of climbing, Croaky reached the top of the mountain. He was exhausted but exhilarated. He looked out at the breathtaking view and felt an overwhelming sense of pride and accomplishment.\\\\n\\\\nAs he made his way back down the mountain, the other frogs greeted him as a hero. \\\\\\\"We were wrong to doubt you,\\\\\\\" they said. \\\\\\\"You're the most determined frog we've ever met!\\\\\\\" Croaky smiled and said, \\\\\\\"It's not about being the biggest or the strongest. It's about persevering, no matter what. If I can climb a mountain, you can achieve your dreams too.\\\\\\\"\\\\n\\\\nFrom that day on, Croaky became known as the greatest climber in the land. And he lived happily ever after, inspiring others to chase their dreams and never give up, no matter how impossible they may seem.\\\"}\"\n",
            "Generated Example:\n",
            "\"{\\\"llm_input\\\": \\\"Give me a fable that shows the benefits of listening to wise advice.\\\", \\\"llm_output\\\": \\\"In a dense jungle, there lived a young and ambitious monkey named Max. Max was known for his cleverness and agility, but he was also very stubborn and rarely listened to others. One day, while Max was out exploring, he stumbled upon a wise old owl perched on a tree branch. The owl, whose name was Olwen, looked at Max with her big, round eyes and said, \\\\\\\"Max, I see that you are a talented and resourceful monkey, but I also sense that you are headed for trouble. The jungle is full of dangers, and if you don't learn to listen to wise advice, you will surely fall into harm's way.\\\\\\\"\\\\n\\\\nMax laughed at Olwen's warning and said, \\\\\\\"I don't need anyone's advice. I can take care of myself.\\\\\\\" Olwen looked at Max with a mixture of sadness and concern, but she didn't push the issue. Instead, she said, \\\\\\\"Very well, Max. If you ever need help, don't hesitate to come to me. But for now, I will give you a small test. Follow the path to the left, and you will find a beautiful garden filled with juicy fruits and sweet honey. But be warned, the path to the right is treacherous and will lead you to a steep cliff.\\\\\\\"\\\\n\\\\nMax, being the stubborn monkey that he was, decided to ignore Olwen's advice and follow the path to the right. As he walked, the path became narrower and steeper, and Max found himself slipping and sliding on the loose rocks. Just as he was about to reach the edge of the cliff, he heard a loud rumbling sound, and the ground gave way beneath him. Max fell into a deep ravine, injuring his arm and leg.\\\\n\\\\nAs he lay there, helpless and in pain, Max realized that he should have listened to Olwen's wise advice. He slowly made his way back to Olwen's tree, where he found the old owl waiting for him. Olwen looked at Max with a knowing glance and said, \\\\\\\"I told you, Max, that the path to the right was treacherous. But I also told you that I would be here to help you if you needed it. Now, let me help you heal your wounds and teach you the value of listening to wise advice.\\\\\\\"\\\\n\\\\nMax was grateful for Olwen's help and guidance. He learned that listening to wise advice can save you from harm and lead you to great rewards. From that day on, Max made it a point to listen to Olwen and other wise creatures in the jungle, and he became known as one of the most prudent and successful monkeys in the land. Max's story spread, teaching all the animals in the jungle the importance of listening to wise advice and seeking guidance from those who are wiser and more experienced.\\\"}\"\n"
          ]
        }
      ]
    },
    {
      "cell_type": "markdown",
      "source": [
        "## Take a look at the generated examples\n",
        "\n",
        "Take a look at the returned examples (inputs + outputs)"
      ],
      "metadata": {
        "id": "D1HbFi52U5oJ"
      }
    },
    {
      "cell_type": "code",
      "source": [
        "if job_status.state not in [\"ERROR\", \"DONE\"]:\n",
        "  print(\"Please wait for the job to finish and then run this cell again...\")\n",
        "else:\n",
        "    if job_status.state == \"DONE\":\n",
        "        print(\"Printing all the generated examples below...\")\n",
        "        assert job_status.data is not None\n",
        "        for example in job_status.data:\n",
        "            print(example)\n",
        "    else:\n",
        "        print(\"Job ended in error\")"
      ],
      "metadata": {
        "colab": {
          "base_uri": "https://localhost:8080/"
        },
        "id": "KdG8YlSGTE73",
        "outputId": "a5cf4667-d6ac-4222-e50f-6f93d4739b3b"
      },
      "execution_count": 17,
      "outputs": [
        {
          "output_type": "stream",
          "name": "stdout",
          "text": [
            "Printing all the generated examples below...\n",
            "Example(llm_input='Please write a fable that illustrates the power of kindness for children.', llm_output=\"In a forest filled with tall trees, a little rabbit named Rosie lived a busy life. She spent her days hopping from one place to another, gathering berries and carrots for her family's dinner. One day, while Rosie was out on her daily errand, she came across a big, old bear named Boris. Boris was lying on the ground, too tired and weak to move.\\n\\nAt first, Rosie was scared of Boris, but as she looked into his eyes, she saw sadness and hunger. She decided to help him, even though she didn't know him. Rosie brought Boris some juicy berries and fresh water from the stream. She even shared her own carrots with him.\\n\\nBoris was so grateful to Rosie that he promised to repay her kindness one day. Rosie didn't think much of it and continued on her way. Days passed, and Rosie forgot all about Boris.\\n\\nOne winter morning, a big snowstorm hit the forest, and Rosie's burrow was buried under a thick layer of snow. She tried to dig her way out, but it was too hard. Just as she was starting to lose hope, she heard a loud rumbling sound. It was Boris, the big bear, digging through the snow to rescue her.\\n\\nBoris worked tirelessly until he finally reached Rosie's burrow. He gently lifted her out of the snow and took her to his cozy cave, where a warm fire was burning. Rosie was amazed by Boris's kindness and realized that her small act of kindness had come back to her in a big way.\\n\\nFrom that day on, Rosie and Boris became the best of friends. They helped each other in times of need, and their friendship grew stronger with each passing day. Rosie learned that kindness is like a seed that you plant in the ground. It may take time, but it will always grow into something beautiful and come back to you in unexpected ways.\")\n",
            "Example(llm_input=\"I would love a story that teaches kids the significance of teamwork, like Aesop's style.\", llm_output=\"In a lush forest, there lived four little birds: Chirpy, Flutter, Tweety, and Skye. Each bird had a unique talent - Chirpy could sing the most melodious songs, Flutter was incredibly agile, Tweety had exceptional eyesight, and Skye could fly the highest.\\n\\nOne day, a harsh storm rolled in, bringing strong winds and heavy rains. The birds' homes were destroyed, and they were left shivering with cold and hunger. They decided to work together to build a new, stronger nest.\\n\\nChirpy used her beautiful voice to attract other animals to help, Flutter used her agility to gather twigs and leaves, Tweety used her sharp eyesight to spot the best materials, and Skye used her flying skills to bring back strong branches.\\n\\nAs they worked together, they realized that each bird's talent was vital to the success of their project. Chirpy's singing kept everyone's spirits high, Flutter's agility allowed her to reach high branches, Tweety's eyesight helped them avoid any dangers, and Skye's flying brought back the heaviest loads.\\n\\nAfter many hours of hard work, the birds finally completed their new nest. It was the strongest and coziest nest in the forest, and all the birds were proud of what they had achieved together.\\n\\nAs they snuggled up in their new home, Chirpy sang a song of gratitude, and the other birds joined in. They realized that by working together, they had accomplished something truly amazing, and that their individual talents were even more powerful when combined.\\n\\nFrom that day on, the four little birds lived happily ever after in their strong and cozy nest, always remembering the importance of teamwork and collaboration.\")\n",
            "Example(llm_input='Can you tell me a fable about the dangers of greed for young readers?', llm_output='In a forest filled with tall trees, there lived a little squirrel named Squeaky. Squeaky loved to collect nuts for the winter, and she would often spend her days gathering as many as she could. One day, while out collecting, Squeaky stumbled upon a magical nut tree that produced the most delicious nuts she had ever tasted. The tree told Squeaky that she could have all the nuts she wanted, but warned her that if she took too many, the tree would wither and die.\\n\\nAt first, Squeaky was careful and only took a few nuts each day. But as time passed, she began to want more and more. She thought to herself, \"Why should I only have a few nuts when I can have them all?\" So, she started taking as many nuts as she could carry, every day. The tree pleaded with Squeaky to stop, but she wouldn\\'t listen.\\n\\nAs Squeaky\\'s greed grew, the tree began to wither and die. The nuts that Squeaky had taken began to rot, and she was left with nothing. The other animals in the forest tried to help Squeaky, but it was too late. The tree was gone, and Squeaky was left with nothing but a pile of rotten nuts.\\n\\nThe other animals in the forest looked at Squeaky with sad eyes and said, \"If only you had been content with what you had, the tree would still be alive, and you would have had all the nuts you needed.\" Squeaky realized that her greed had destroyed the very thing that had given her so much. From that day on, she learned to be content with what she had and to never let her greed consume her again.')\n",
            "Example(llm_input=\"Tell me a story that teaches the value of generosity, similar to an Aesop's Fable.\", llm_output='In a small village, there lived a poor farmer named Kaito. Kaito worked hard every day to grow crops and raise animals, but no matter how hard he worked, he never seemed to have enough. One day, while Kaito was out in his fields, a wise old man came to visit him. The old man told Kaito that he would give him a magical seed that would grow into a plant with the most delicious and nutritious fruits anyone had ever tasted.\\n\\nThe old man gave Kaito the seed, but warned him that the plant would only thrive if Kaito shared its fruits with others. Kaito was skeptical, but he decided to follow the old man\\'s advice. He planted the seed and took good care of it. Soon, the plant grew into a beautiful tree with juicy and sweet fruits.\\n\\nAs the fruits ripened, people from all over the village came to taste them. Kaito generously shared the fruits with everyone, and soon his farm became a gathering place for the community. People would come to eat the delicious fruits, and Kaito would also share his knowledge and skills with them.\\n\\nAs Kaito continued to share his fruits, his farm began to prosper. More and more people came to visit, and they would bring gifts and offer to help Kaito with his work. The farm became a symbol of generosity and community, and Kaito\\'s life was filled with joy and abundance.\\n\\nOne day, a severe drought hit the land, and many farmers struggled to grow their crops. But Kaito\\'s farm continued to thrive, and his tree remained healthy and fruitful. The villagers were amazed and asked Kaito to share his secret. Kaito smiled and said, \"I have learned that generosity is like a river that flows in a circle. When I give to others, I receive even more in return. My tree has taught me that sharing is the key to true prosperity and happiness.\"\\n\\nFrom that day on, Kaito\\'s farm became a model for the entire village, and people came from far and wide to learn from him. Kaito\\'s story spread, and it taught everyone the value of generosity and the importance of sharing with others. The villagers learned that when they gave to others, they would always receive more in return, and that generosity was the key to a happy and fulfilling life.')\n",
            "Example(llm_input='Can you create a fable about how sharing our blessings makes everyone happier?', llm_output='In a small village nestled in a green valley, there lived a farmer named Maria. Maria was blessed with a lush garden that produced the most delicious fruits and vegetables in the entire village. She spent her days tending to her garden, and her nights enjoying the fruits of her labor with her family.\\n\\nAs time passed, Maria\\'s garden became more and more abundant, and she found herself with more food than she knew what to do with. She started to store the extra produce in her barn, but soon it was overflowing. Maria\\'s family and friends would often ask her for some of her fresh produce, but she would hesitate, thinking that she might need it all for herself.\\n\\nOne day, a wise old man came to visit Maria and saw the abundance of her garden. He asked her why she wasn\\'t sharing her blessings with the rest of the village. Maria replied that she was afraid of not having enough for herself. The old man smiled and said, \"Maria, when you share your blessings, you don\\'t lose anything, you only gain more happiness and friends.\"\\n\\nMaria thought about the old man\\'s words and decided to take his advice. She started sharing her produce with the rest of the village, and soon her garden became a symbol of community and generosity. People would come from all around to taste Maria\\'s delicious fruits and vegetables, and in return, they would share their own talents and skills with her.\\n\\nA young girl who loved to bake would bring Maria fresh bread and pastries. A skilled musician would play his flute in Maria\\'s garden, filling the air with sweet melodies. A group of children would help Maria with her harvest, laughing and playing together in the sunshine.\\n\\nAs Maria shared her blessings, she found that her garden became even more abundant, and her heart became fuller with joy. She realized that sharing wasn\\'t about losing something, but about gaining more love, friendship, and happiness. The villagers, too, were happier, as they enjoyed the fresh produce and the sense of community that Maria\\'s garden had brought them.\\n\\nThe wise old man returned to visit Maria and saw the transformation that had taken place. He smiled and said, \"You see, Maria, when you share your blessings, you create a ripple effect of happiness that spreads far and wide. Your garden is no longer just a source of food, but a symbol of the joy and love that comes from sharing with others.\" And from that day on, Maria\\'s garden continued to flourish, spreading happiness and blessings to all who visited.')\n",
            "Example(llm_input='Tell me a story that teaches children the value of perseverance.', llm_output='In a small pond, there lived a little frog named Croaky. Croaky had a big dream: he wanted to climb to the top of a tall mountain that stood near the pond. All the other frogs laughed at him, saying, \"You\\'re just a little frog, you\\'ll never make it to the top!\" But Croaky didn\\'t listen. He was determined to reach his goal.\\n\\nEvery day, Croaky would climb a little bit up the mountain, but he would always get tired and have to come back down. The other frogs would tease him, saying, \"You\\'ll never make it, you\\'re too small and too slow!\" But Croaky didn\\'t give up. He kept climbing, day after day, even when it seemed like he wasn\\'t getting anywhere.\\n\\nOne day, a wise old turtle came to the pond. The turtle saw Croaky trying to climb the mountain and asked him, \"What are you doing, little frog?\" Croaky explained his dream, and the turtle smiled. \"I can help you,\" said the turtle. \"But you have to promise me one thing: you have to keep going, no matter what.\"\\n\\nCroaky promised, and the turtle gave him some advice. \"Don\\'t try to climb the whole mountain at once,\" said the turtle. \"Just take it one step at a time. Focus on the next rock, the next tree, the next patch of grass. Before you know it, you\\'ll be at the top.\"\\n\\nCroaky took the turtle\\'s advice and kept climbing. He focused on one step at a time, and slowly but surely, he began to make progress. The other frogs watched in amazement as Croaky climbed higher and higher. They cheered him on, and soon they were all rooting for him.\\n\\nFinally, after many days of climbing, Croaky reached the top of the mountain. He was exhausted but exhilarated. He looked out at the breathtaking view and felt an overwhelming sense of pride and accomplishment.\\n\\nAs he made his way back down the mountain, the other frogs greeted him as a hero. \"We were wrong to doubt you,\" they said. \"You\\'re the most determined frog we\\'ve ever met!\" Croaky smiled and said, \"It\\'s not about being the biggest or the strongest. It\\'s about persevering, no matter what. If I can climb a mountain, you can achieve your dreams too.\"\\n\\nFrom that day on, Croaky became known as the greatest climber in the land. And he lived happily ever after, inspiring others to chase their dreams and never give up, no matter how impossible they may seem.')\n",
            "Example(llm_input='Give me a fable that shows the benefits of listening to wise advice.', llm_output='In a dense jungle, there lived a young and ambitious monkey named Max. Max was known for his cleverness and agility, but he was also very stubborn and rarely listened to others. One day, while Max was out exploring, he stumbled upon a wise old owl perched on a tree branch. The owl, whose name was Olwen, looked at Max with her big, round eyes and said, \"Max, I see that you are a talented and resourceful monkey, but I also sense that you are headed for trouble. The jungle is full of dangers, and if you don\\'t learn to listen to wise advice, you will surely fall into harm\\'s way.\"\\n\\nMax laughed at Olwen\\'s warning and said, \"I don\\'t need anyone\\'s advice. I can take care of myself.\" Olwen looked at Max with a mixture of sadness and concern, but she didn\\'t push the issue. Instead, she said, \"Very well, Max. If you ever need help, don\\'t hesitate to come to me. But for now, I will give you a small test. Follow the path to the left, and you will find a beautiful garden filled with juicy fruits and sweet honey. But be warned, the path to the right is treacherous and will lead you to a steep cliff.\"\\n\\nMax, being the stubborn monkey that he was, decided to ignore Olwen\\'s advice and follow the path to the right. As he walked, the path became narrower and steeper, and Max found himself slipping and sliding on the loose rocks. Just as he was about to reach the edge of the cliff, he heard a loud rumbling sound, and the ground gave way beneath him. Max fell into a deep ravine, injuring his arm and leg.\\n\\nAs he lay there, helpless and in pain, Max realized that he should have listened to Olwen\\'s wise advice. He slowly made his way back to Olwen\\'s tree, where he found the old owl waiting for him. Olwen looked at Max with a knowing glance and said, \"I told you, Max, that the path to the right was treacherous. But I also told you that I would be here to help you if you needed it. Now, let me help you heal your wounds and teach you the value of listening to wise advice.\"\\n\\nMax was grateful for Olwen\\'s help and guidance. He learned that listening to wise advice can save you from harm and lead you to great rewards. From that day on, Max made it a point to listen to Olwen and other wise creatures in the jungle, and he became known as one of the most prudent and successful monkeys in the land. Max\\'s story spread, teaching all the animals in the jungle the importance of listening to wise advice and seeking guidance from those who are wiser and more experienced.')\n"
          ]
        }
      ]
    },
    {
      "cell_type": "markdown",
      "metadata": {
        "id": "rMTmieU9xPgT"
      },
      "source": [
        "## Save the set\n",
        "\n",
        "We will come back to this in a future colab, so it's useful to capture.  Store it as a Parquet table, which you can download.\n",
        "\n",
        "Alternatively, upload to Hugging Face."
      ]
    },
    {
      "cell_type": "code",
      "source": [
        "data = {\n",
        "    'input': [example.llm_input for example in job_status.data],\n",
        "    'output': [example.llm_output for example in job_status.data]\n",
        "}\n",
        "\n",
        "example_set = datasets.Dataset.from_dict(data)"
      ],
      "metadata": {
        "id": "MGKeiN9jV-gN"
      },
      "execution_count": 18,
      "outputs": []
    },
    {
      "cell_type": "code",
      "execution_count": 19,
      "metadata": {
        "id": "tpWpFWfEwo4j",
        "colab": {
          "base_uri": "https://localhost:8080/",
          "height": 49,
          "referenced_widgets": [
            "bd826a007001433cb88132d74c82f207",
            "265332b80c95405d9d842ee8c6671b1c",
            "ee0595e3f750413181224fc699e59159",
            "a3a03fae65004794b8fbb9fed70adcc6",
            "e87a6bc2ce254f8e8abdd0eb5bc197d9",
            "ead6f5b1274345f897bfc283fc46daee",
            "f0cb9b2a89254d919bd724dc80696b59",
            "dcea305dff134cac90608d8e0a5a500a",
            "2d92124e51d74a7ab2892b848916a7d8",
            "d821804b9b6448d0aa7b1ea4ea65c106",
            "9c6bf2c7ec544f0387b393acba68315d"
          ]
        },
        "outputId": "fd53824b-b664-413a-f47f-4a0c94dcffbc"
      },
      "outputs": [
        {
          "output_type": "display_data",
          "data": {
            "text/plain": [
              "Creating parquet from Arrow format:   0%|          | 0/1 [00:00<?, ?ba/s]"
            ],
            "application/vnd.jupyter.widget-view+json": {
              "version_major": 2,
              "version_minor": 0,
              "model_id": "bd826a007001433cb88132d74c82f207"
            }
          },
          "metadata": {}
        },
        {
          "output_type": "display_data",
          "data": {
            "text/plain": [
              "<IPython.core.display.Javascript object>"
            ],
            "application/javascript": [
              "\n",
              "    async function download(id, filename, size) {\n",
              "      if (!google.colab.kernel.accessAllowed) {\n",
              "        return;\n",
              "      }\n",
              "      const div = document.createElement('div');\n",
              "      const label = document.createElement('label');\n",
              "      label.textContent = `Downloading \"${filename}\": `;\n",
              "      div.appendChild(label);\n",
              "      const progress = document.createElement('progress');\n",
              "      progress.max = size;\n",
              "      div.appendChild(progress);\n",
              "      document.body.appendChild(div);\n",
              "\n",
              "      const buffers = [];\n",
              "      let downloaded = 0;\n",
              "\n",
              "      const channel = await google.colab.kernel.comms.open(id);\n",
              "      // Send a message to notify the kernel that we're ready.\n",
              "      channel.send({})\n",
              "\n",
              "      for await (const message of channel.messages) {\n",
              "        // Send a message to notify the kernel that we're ready.\n",
              "        channel.send({})\n",
              "        if (message.buffers) {\n",
              "          for (const buffer of message.buffers) {\n",
              "            buffers.push(buffer);\n",
              "            downloaded += buffer.byteLength;\n",
              "            progress.value = downloaded;\n",
              "          }\n",
              "        }\n",
              "      }\n",
              "      const blob = new Blob(buffers, {type: 'application/binary'});\n",
              "      const a = document.createElement('a');\n",
              "      a.href = window.URL.createObjectURL(blob);\n",
              "      a.download = filename;\n",
              "      div.appendChild(a);\n",
              "      a.click();\n",
              "      div.remove();\n",
              "    }\n",
              "  "
            ]
          },
          "metadata": {}
        },
        {
          "output_type": "display_data",
          "data": {
            "text/plain": [
              "<IPython.core.display.Javascript object>"
            ],
            "application/javascript": [
              "download(\"download_ef8cc506-e62a-4b36-ab1c-5f05a542f206\", \"aesop_ai_examples.parquet\", 24174)"
            ]
          },
          "metadata": {}
        }
      ],
      "source": [
        "from google.colab import files\n",
        "\n",
        "filename = \"aesop_ai_examples.parquet\"\n",
        "example_set.to_parquet(filename)\n",
        "files.download(filename)"
      ]
    },
    {
      "cell_type": "markdown",
      "metadata": {
        "id": "jT7s_nuJsHbM"
      },
      "source": [
        "## Next Steps\n",
        "\n",
        "This input set can drive many other techniques in Pi.  You can adjust the above methods to add seeds and steer the AI in different ways."
      ]
    }
  ],
  "metadata": {
    "colab": {
      "provenance": [],
      "include_colab_link": true
    },
    "kernelspec": {
      "display_name": "Python 3",
      "name": "python3"
    },
    "language_info": {
      "name": "python"
    },
    "widgets": {
      "application/vnd.jupyter.widget-state+json": {
        "bd826a007001433cb88132d74c82f207": {
          "model_module": "@jupyter-widgets/controls",
          "model_name": "HBoxModel",
          "model_module_version": "1.5.0",
          "state": {
            "_dom_classes": [],
            "_model_module": "@jupyter-widgets/controls",
            "_model_module_version": "1.5.0",
            "_model_name": "HBoxModel",
            "_view_count": null,
            "_view_module": "@jupyter-widgets/controls",
            "_view_module_version": "1.5.0",
            "_view_name": "HBoxView",
            "box_style": "",
            "children": [
              "IPY_MODEL_265332b80c95405d9d842ee8c6671b1c",
              "IPY_MODEL_ee0595e3f750413181224fc699e59159",
              "IPY_MODEL_a3a03fae65004794b8fbb9fed70adcc6"
            ],
            "layout": "IPY_MODEL_e87a6bc2ce254f8e8abdd0eb5bc197d9"
          }
        },
        "265332b80c95405d9d842ee8c6671b1c": {
          "model_module": "@jupyter-widgets/controls",
          "model_name": "HTMLModel",
          "model_module_version": "1.5.0",
          "state": {
            "_dom_classes": [],
            "_model_module": "@jupyter-widgets/controls",
            "_model_module_version": "1.5.0",
            "_model_name": "HTMLModel",
            "_view_count": null,
            "_view_module": "@jupyter-widgets/controls",
            "_view_module_version": "1.5.0",
            "_view_name": "HTMLView",
            "description": "",
            "description_tooltip": null,
            "layout": "IPY_MODEL_ead6f5b1274345f897bfc283fc46daee",
            "placeholder": "​",
            "style": "IPY_MODEL_f0cb9b2a89254d919bd724dc80696b59",
            "value": "Creating parquet from Arrow format: 100%"
          }
        },
        "ee0595e3f750413181224fc699e59159": {
          "model_module": "@jupyter-widgets/controls",
          "model_name": "FloatProgressModel",
          "model_module_version": "1.5.0",
          "state": {
            "_dom_classes": [],
            "_model_module": "@jupyter-widgets/controls",
            "_model_module_version": "1.5.0",
            "_model_name": "FloatProgressModel",
            "_view_count": null,
            "_view_module": "@jupyter-widgets/controls",
            "_view_module_version": "1.5.0",
            "_view_name": "ProgressView",
            "bar_style": "success",
            "description": "",
            "description_tooltip": null,
            "layout": "IPY_MODEL_dcea305dff134cac90608d8e0a5a500a",
            "max": 1,
            "min": 0,
            "orientation": "horizontal",
            "style": "IPY_MODEL_2d92124e51d74a7ab2892b848916a7d8",
            "value": 1
          }
        },
        "a3a03fae65004794b8fbb9fed70adcc6": {
          "model_module": "@jupyter-widgets/controls",
          "model_name": "HTMLModel",
          "model_module_version": "1.5.0",
          "state": {
            "_dom_classes": [],
            "_model_module": "@jupyter-widgets/controls",
            "_model_module_version": "1.5.0",
            "_model_name": "HTMLModel",
            "_view_count": null,
            "_view_module": "@jupyter-widgets/controls",
            "_view_module_version": "1.5.0",
            "_view_name": "HTMLView",
            "description": "",
            "description_tooltip": null,
            "layout": "IPY_MODEL_d821804b9b6448d0aa7b1ea4ea65c106",
            "placeholder": "​",
            "style": "IPY_MODEL_9c6bf2c7ec544f0387b393acba68315d",
            "value": " 1/1 [00:00&lt;00:00, 28.94ba/s]"
          }
        },
        "e87a6bc2ce254f8e8abdd0eb5bc197d9": {
          "model_module": "@jupyter-widgets/base",
          "model_name": "LayoutModel",
          "model_module_version": "1.2.0",
          "state": {
            "_model_module": "@jupyter-widgets/base",
            "_model_module_version": "1.2.0",
            "_model_name": "LayoutModel",
            "_view_count": null,
            "_view_module": "@jupyter-widgets/base",
            "_view_module_version": "1.2.0",
            "_view_name": "LayoutView",
            "align_content": null,
            "align_items": null,
            "align_self": null,
            "border": null,
            "bottom": null,
            "display": null,
            "flex": null,
            "flex_flow": null,
            "grid_area": null,
            "grid_auto_columns": null,
            "grid_auto_flow": null,
            "grid_auto_rows": null,
            "grid_column": null,
            "grid_gap": null,
            "grid_row": null,
            "grid_template_areas": null,
            "grid_template_columns": null,
            "grid_template_rows": null,
            "height": null,
            "justify_content": null,
            "justify_items": null,
            "left": null,
            "margin": null,
            "max_height": null,
            "max_width": null,
            "min_height": null,
            "min_width": null,
            "object_fit": null,
            "object_position": null,
            "order": null,
            "overflow": null,
            "overflow_x": null,
            "overflow_y": null,
            "padding": null,
            "right": null,
            "top": null,
            "visibility": null,
            "width": null
          }
        },
        "ead6f5b1274345f897bfc283fc46daee": {
          "model_module": "@jupyter-widgets/base",
          "model_name": "LayoutModel",
          "model_module_version": "1.2.0",
          "state": {
            "_model_module": "@jupyter-widgets/base",
            "_model_module_version": "1.2.0",
            "_model_name": "LayoutModel",
            "_view_count": null,
            "_view_module": "@jupyter-widgets/base",
            "_view_module_version": "1.2.0",
            "_view_name": "LayoutView",
            "align_content": null,
            "align_items": null,
            "align_self": null,
            "border": null,
            "bottom": null,
            "display": null,
            "flex": null,
            "flex_flow": null,
            "grid_area": null,
            "grid_auto_columns": null,
            "grid_auto_flow": null,
            "grid_auto_rows": null,
            "grid_column": null,
            "grid_gap": null,
            "grid_row": null,
            "grid_template_areas": null,
            "grid_template_columns": null,
            "grid_template_rows": null,
            "height": null,
            "justify_content": null,
            "justify_items": null,
            "left": null,
            "margin": null,
            "max_height": null,
            "max_width": null,
            "min_height": null,
            "min_width": null,
            "object_fit": null,
            "object_position": null,
            "order": null,
            "overflow": null,
            "overflow_x": null,
            "overflow_y": null,
            "padding": null,
            "right": null,
            "top": null,
            "visibility": null,
            "width": null
          }
        },
        "f0cb9b2a89254d919bd724dc80696b59": {
          "model_module": "@jupyter-widgets/controls",
          "model_name": "DescriptionStyleModel",
          "model_module_version": "1.5.0",
          "state": {
            "_model_module": "@jupyter-widgets/controls",
            "_model_module_version": "1.5.0",
            "_model_name": "DescriptionStyleModel",
            "_view_count": null,
            "_view_module": "@jupyter-widgets/base",
            "_view_module_version": "1.2.0",
            "_view_name": "StyleView",
            "description_width": ""
          }
        },
        "dcea305dff134cac90608d8e0a5a500a": {
          "model_module": "@jupyter-widgets/base",
          "model_name": "LayoutModel",
          "model_module_version": "1.2.0",
          "state": {
            "_model_module": "@jupyter-widgets/base",
            "_model_module_version": "1.2.0",
            "_model_name": "LayoutModel",
            "_view_count": null,
            "_view_module": "@jupyter-widgets/base",
            "_view_module_version": "1.2.0",
            "_view_name": "LayoutView",
            "align_content": null,
            "align_items": null,
            "align_self": null,
            "border": null,
            "bottom": null,
            "display": null,
            "flex": null,
            "flex_flow": null,
            "grid_area": null,
            "grid_auto_columns": null,
            "grid_auto_flow": null,
            "grid_auto_rows": null,
            "grid_column": null,
            "grid_gap": null,
            "grid_row": null,
            "grid_template_areas": null,
            "grid_template_columns": null,
            "grid_template_rows": null,
            "height": null,
            "justify_content": null,
            "justify_items": null,
            "left": null,
            "margin": null,
            "max_height": null,
            "max_width": null,
            "min_height": null,
            "min_width": null,
            "object_fit": null,
            "object_position": null,
            "order": null,
            "overflow": null,
            "overflow_x": null,
            "overflow_y": null,
            "padding": null,
            "right": null,
            "top": null,
            "visibility": null,
            "width": null
          }
        },
        "2d92124e51d74a7ab2892b848916a7d8": {
          "model_module": "@jupyter-widgets/controls",
          "model_name": "ProgressStyleModel",
          "model_module_version": "1.5.0",
          "state": {
            "_model_module": "@jupyter-widgets/controls",
            "_model_module_version": "1.5.0",
            "_model_name": "ProgressStyleModel",
            "_view_count": null,
            "_view_module": "@jupyter-widgets/base",
            "_view_module_version": "1.2.0",
            "_view_name": "StyleView",
            "bar_color": null,
            "description_width": ""
          }
        },
        "d821804b9b6448d0aa7b1ea4ea65c106": {
          "model_module": "@jupyter-widgets/base",
          "model_name": "LayoutModel",
          "model_module_version": "1.2.0",
          "state": {
            "_model_module": "@jupyter-widgets/base",
            "_model_module_version": "1.2.0",
            "_model_name": "LayoutModel",
            "_view_count": null,
            "_view_module": "@jupyter-widgets/base",
            "_view_module_version": "1.2.0",
            "_view_name": "LayoutView",
            "align_content": null,
            "align_items": null,
            "align_self": null,
            "border": null,
            "bottom": null,
            "display": null,
            "flex": null,
            "flex_flow": null,
            "grid_area": null,
            "grid_auto_columns": null,
            "grid_auto_flow": null,
            "grid_auto_rows": null,
            "grid_column": null,
            "grid_gap": null,
            "grid_row": null,
            "grid_template_areas": null,
            "grid_template_columns": null,
            "grid_template_rows": null,
            "height": null,
            "justify_content": null,
            "justify_items": null,
            "left": null,
            "margin": null,
            "max_height": null,
            "max_width": null,
            "min_height": null,
            "min_width": null,
            "object_fit": null,
            "object_position": null,
            "order": null,
            "overflow": null,
            "overflow_x": null,
            "overflow_y": null,
            "padding": null,
            "right": null,
            "top": null,
            "visibility": null,
            "width": null
          }
        },
        "9c6bf2c7ec544f0387b393acba68315d": {
          "model_module": "@jupyter-widgets/controls",
          "model_name": "DescriptionStyleModel",
          "model_module_version": "1.5.0",
          "state": {
            "_model_module": "@jupyter-widgets/controls",
            "_model_module_version": "1.5.0",
            "_model_name": "DescriptionStyleModel",
            "_view_count": null,
            "_view_module": "@jupyter-widgets/base",
            "_view_module_version": "1.2.0",
            "_view_name": "StyleView",
            "description_width": ""
          }
        }
      }
    }
  },
  "nbformat": 4,
  "nbformat_minor": 0
}