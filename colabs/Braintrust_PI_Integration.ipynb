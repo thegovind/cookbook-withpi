{
  "nbformat": 4,
  "nbformat_minor": 0,
  "metadata": {
    "colab": {
      "provenance": [],
      "include_colab_link": true
    },
    "kernelspec": {
      "name": "python3",
      "display_name": "Python 3"
    },
    "language_info": {
      "name": "python"
    },
    "widgets": {
      "application/vnd.jupyter.widget-state+json": {
        "bb31015f8ee248b69ca42543bae769e1": {
          "model_module": "@jupyter-widgets/controls",
          "model_name": "HBoxModel",
          "model_module_version": "1.5.0",
          "state": {
            "_dom_classes": [],
            "_model_module": "@jupyter-widgets/controls",
            "_model_module_version": "1.5.0",
            "_model_name": "HBoxModel",
            "_view_count": null,
            "_view_module": "@jupyter-widgets/controls",
            "_view_module_version": "1.5.0",
            "_view_name": "HBoxView",
            "box_style": "",
            "children": [
              "IPY_MODEL_a2d9d883d02e4fdfb32d4f3d96db18bc",
              "IPY_MODEL_e262408d4c6c40c199f526c017c8758b",
              "IPY_MODEL_ee197367d5d34c4f9234e40ab18665e4"
            ],
            "layout": "IPY_MODEL_c9cd0068c68e4287aa6b319d374c4bbc"
          }
        },
        "a2d9d883d02e4fdfb32d4f3d96db18bc": {
          "model_module": "@jupyter-widgets/controls",
          "model_name": "HTMLModel",
          "model_module_version": "1.5.0",
          "state": {
            "_dom_classes": [],
            "_model_module": "@jupyter-widgets/controls",
            "_model_module_version": "1.5.0",
            "_model_name": "HTMLModel",
            "_view_count": null,
            "_view_module": "@jupyter-widgets/controls",
            "_view_module_version": "1.5.0",
            "_view_name": "HTMLView",
            "description": "",
            "description_tooltip": null,
            "layout": "IPY_MODEL_4f09d26a81084514abaf0a9e664a4a3d",
            "placeholder": "​",
            "style": "IPY_MODEL_bccc08089642438f993df425b08508b4",
            "value": "Blog Post Generator [experiment_name=Pi Blog Post] (tasks): 100%"
          }
        },
        "e262408d4c6c40c199f526c017c8758b": {
          "model_module": "@jupyter-widgets/controls",
          "model_name": "FloatProgressModel",
          "model_module_version": "1.5.0",
          "state": {
            "_dom_classes": [],
            "_model_module": "@jupyter-widgets/controls",
            "_model_module_version": "1.5.0",
            "_model_name": "FloatProgressModel",
            "_view_count": null,
            "_view_module": "@jupyter-widgets/controls",
            "_view_module_version": "1.5.0",
            "_view_name": "ProgressView",
            "bar_style": "success",
            "description": "",
            "description_tooltip": null,
            "layout": "IPY_MODEL_afc0e592fbbb4a958d2cffff78fddfbe",
            "max": 5,
            "min": 0,
            "orientation": "horizontal",
            "style": "IPY_MODEL_709ac508147c467f981486fe5f46bae2",
            "value": 5
          }
        },
        "ee197367d5d34c4f9234e40ab18665e4": {
          "model_module": "@jupyter-widgets/controls",
          "model_name": "HTMLModel",
          "model_module_version": "1.5.0",
          "state": {
            "_dom_classes": [],
            "_model_module": "@jupyter-widgets/controls",
            "_model_module_version": "1.5.0",
            "_model_name": "HTMLModel",
            "_view_count": null,
            "_view_module": "@jupyter-widgets/controls",
            "_view_module_version": "1.5.0",
            "_view_name": "HTMLView",
            "description": "",
            "description_tooltip": null,
            "layout": "IPY_MODEL_241a9f3096124870898f86fd9b0aa672",
            "placeholder": "​",
            "style": "IPY_MODEL_2a3c972248514863a447d26bc9bb5655",
            "value": " 5/5 [00:33&lt;00:00,  5.98s/it]"
          }
        },
        "c9cd0068c68e4287aa6b319d374c4bbc": {
          "model_module": "@jupyter-widgets/base",
          "model_name": "LayoutModel",
          "model_module_version": "1.2.0",
          "state": {
            "_model_module": "@jupyter-widgets/base",
            "_model_module_version": "1.2.0",
            "_model_name": "LayoutModel",
            "_view_count": null,
            "_view_module": "@jupyter-widgets/base",
            "_view_module_version": "1.2.0",
            "_view_name": "LayoutView",
            "align_content": null,
            "align_items": null,
            "align_self": null,
            "border": null,
            "bottom": null,
            "display": null,
            "flex": null,
            "flex_flow": null,
            "grid_area": null,
            "grid_auto_columns": null,
            "grid_auto_flow": null,
            "grid_auto_rows": null,
            "grid_column": null,
            "grid_gap": null,
            "grid_row": null,
            "grid_template_areas": null,
            "grid_template_columns": null,
            "grid_template_rows": null,
            "height": null,
            "justify_content": null,
            "justify_items": null,
            "left": null,
            "margin": null,
            "max_height": null,
            "max_width": null,
            "min_height": null,
            "min_width": null,
            "object_fit": null,
            "object_position": null,
            "order": null,
            "overflow": null,
            "overflow_x": null,
            "overflow_y": null,
            "padding": null,
            "right": null,
            "top": null,
            "visibility": null,
            "width": null
          }
        },
        "4f09d26a81084514abaf0a9e664a4a3d": {
          "model_module": "@jupyter-widgets/base",
          "model_name": "LayoutModel",
          "model_module_version": "1.2.0",
          "state": {
            "_model_module": "@jupyter-widgets/base",
            "_model_module_version": "1.2.0",
            "_model_name": "LayoutModel",
            "_view_count": null,
            "_view_module": "@jupyter-widgets/base",
            "_view_module_version": "1.2.0",
            "_view_name": "LayoutView",
            "align_content": null,
            "align_items": null,
            "align_self": null,
            "border": null,
            "bottom": null,
            "display": null,
            "flex": null,
            "flex_flow": null,
            "grid_area": null,
            "grid_auto_columns": null,
            "grid_auto_flow": null,
            "grid_auto_rows": null,
            "grid_column": null,
            "grid_gap": null,
            "grid_row": null,
            "grid_template_areas": null,
            "grid_template_columns": null,
            "grid_template_rows": null,
            "height": null,
            "justify_content": null,
            "justify_items": null,
            "left": null,
            "margin": null,
            "max_height": null,
            "max_width": null,
            "min_height": null,
            "min_width": null,
            "object_fit": null,
            "object_position": null,
            "order": null,
            "overflow": null,
            "overflow_x": null,
            "overflow_y": null,
            "padding": null,
            "right": null,
            "top": null,
            "visibility": null,
            "width": null
          }
        },
        "bccc08089642438f993df425b08508b4": {
          "model_module": "@jupyter-widgets/controls",
          "model_name": "DescriptionStyleModel",
          "model_module_version": "1.5.0",
          "state": {
            "_model_module": "@jupyter-widgets/controls",
            "_model_module_version": "1.5.0",
            "_model_name": "DescriptionStyleModel",
            "_view_count": null,
            "_view_module": "@jupyter-widgets/base",
            "_view_module_version": "1.2.0",
            "_view_name": "StyleView",
            "description_width": ""
          }
        },
        "afc0e592fbbb4a958d2cffff78fddfbe": {
          "model_module": "@jupyter-widgets/base",
          "model_name": "LayoutModel",
          "model_module_version": "1.2.0",
          "state": {
            "_model_module": "@jupyter-widgets/base",
            "_model_module_version": "1.2.0",
            "_model_name": "LayoutModel",
            "_view_count": null,
            "_view_module": "@jupyter-widgets/base",
            "_view_module_version": "1.2.0",
            "_view_name": "LayoutView",
            "align_content": null,
            "align_items": null,
            "align_self": null,
            "border": null,
            "bottom": null,
            "display": null,
            "flex": null,
            "flex_flow": null,
            "grid_area": null,
            "grid_auto_columns": null,
            "grid_auto_flow": null,
            "grid_auto_rows": null,
            "grid_column": null,
            "grid_gap": null,
            "grid_row": null,
            "grid_template_areas": null,
            "grid_template_columns": null,
            "grid_template_rows": null,
            "height": null,
            "justify_content": null,
            "justify_items": null,
            "left": null,
            "margin": null,
            "max_height": null,
            "max_width": null,
            "min_height": null,
            "min_width": null,
            "object_fit": null,
            "object_position": null,
            "order": null,
            "overflow": null,
            "overflow_x": null,
            "overflow_y": null,
            "padding": null,
            "right": null,
            "top": null,
            "visibility": null,
            "width": null
          }
        },
        "709ac508147c467f981486fe5f46bae2": {
          "model_module": "@jupyter-widgets/controls",
          "model_name": "ProgressStyleModel",
          "model_module_version": "1.5.0",
          "state": {
            "_model_module": "@jupyter-widgets/controls",
            "_model_module_version": "1.5.0",
            "_model_name": "ProgressStyleModel",
            "_view_count": null,
            "_view_module": "@jupyter-widgets/base",
            "_view_module_version": "1.2.0",
            "_view_name": "StyleView",
            "bar_color": null,
            "description_width": ""
          }
        },
        "241a9f3096124870898f86fd9b0aa672": {
          "model_module": "@jupyter-widgets/base",
          "model_name": "LayoutModel",
          "model_module_version": "1.2.0",
          "state": {
            "_model_module": "@jupyter-widgets/base",
            "_model_module_version": "1.2.0",
            "_model_name": "LayoutModel",
            "_view_count": null,
            "_view_module": "@jupyter-widgets/base",
            "_view_module_version": "1.2.0",
            "_view_name": "LayoutView",
            "align_content": null,
            "align_items": null,
            "align_self": null,
            "border": null,
            "bottom": null,
            "display": null,
            "flex": null,
            "flex_flow": null,
            "grid_area": null,
            "grid_auto_columns": null,
            "grid_auto_flow": null,
            "grid_auto_rows": null,
            "grid_column": null,
            "grid_gap": null,
            "grid_row": null,
            "grid_template_areas": null,
            "grid_template_columns": null,
            "grid_template_rows": null,
            "height": null,
            "justify_content": null,
            "justify_items": null,
            "left": null,
            "margin": null,
            "max_height": null,
            "max_width": null,
            "min_height": null,
            "min_width": null,
            "object_fit": null,
            "object_position": null,
            "order": null,
            "overflow": null,
            "overflow_x": null,
            "overflow_y": null,
            "padding": null,
            "right": null,
            "top": null,
            "visibility": null,
            "width": null
          }
        },
        "2a3c972248514863a447d26bc9bb5655": {
          "model_module": "@jupyter-widgets/controls",
          "model_name": "DescriptionStyleModel",
          "model_module_version": "1.5.0",
          "state": {
            "_model_module": "@jupyter-widgets/controls",
            "_model_module_version": "1.5.0",
            "_model_name": "DescriptionStyleModel",
            "_view_count": null,
            "_view_module": "@jupyter-widgets/base",
            "_view_module_version": "1.2.0",
            "_view_name": "StyleView",
            "description_width": ""
          }
        }
      }
    }
  },
  "cells": [
    {
      "cell_type": "markdown",
      "metadata": {
        "id": "view-in-github",
        "colab_type": "text"
      },
      "source": [
        "<a href=\"https://colab.research.google.com/github/withpi/cookbook-withpi/blob/main/colabs/Braintrust_PI_Integration.ipynb\" target=\"_parent\"><img src=\"https://colab.research.google.com/assets/colab-badge.svg\" alt=\"Open In Colab\"/></a>"
      ]
    },
    {
      "cell_type": "code",
      "execution_count": null,
      "metadata": {
        "id": "Uc9WGlKvEOXx"
      },
      "outputs": [],
      "source": [
        "%%capture\n",
        "%pip install -U braintrust openai datasets autoevals"
      ]
    },
    {
      "cell_type": "code",
      "source": [
        "# @title Setup API Keys\n",
        "\n",
        "from google.colab import userdata\n",
        "import os\n",
        "\n",
        "os.environ[\"BRAINTRUST_API_KEY\"] = userdata.get(\"BRAINTRUST_API_KEY\")\n",
        "\n",
        "# Get PI API key: https://build.withpi.ai/account/keys\n",
        "os.environ[\"WITHPI_API_KEY\"] = userdata.get('WITHPI_API_KEY')"
      ],
      "metadata": {
        "id": "Qh-NG9Y7HZxy"
      },
      "execution_count": null,
      "outputs": []
    },
    {
      "cell_type": "code",
      "source": [
        "# @title Load a sample dataset\n",
        "\n",
        "from datasets import load_dataset\n",
        "\n",
        "ds = load_dataset(\"withpi/mlmastery_com_blogs_condensed\", split=\"train\")\n",
        "\n",
        "topics = ds[\"topic\"][:5]\n",
        "\n",
        "data = [{\"input\": topic} for topic in topics]\n",
        "\n",
        "display(data)"
      ],
      "metadata": {
        "id": "ZmqGigZtOwby",
        "colab": {
          "base_uri": "https://localhost:8080/",
          "height": 138
        },
        "outputId": "40f72417-32f9-4c8d-a6d1-a1bbe2691bf4"
      },
      "execution_count": null,
      "outputs": [
        {
          "output_type": "display_data",
          "data": {
            "text/plain": [
              "[{'input': 'Tips for beginners to get started with deep learning, including mastering machine learning fundamentals, choosing a framework, understanding neural network architectures, starting with simple projects, and practicing regularly while engaging with the community.'},\n",
              " {'input': 'The topic of this blog post is: \"Understanding the Data Science Mind Map: A comprehensive guide to essential Python packages for data preparation, visualization, and statistical analysis, with an emphasis on storytelling in data science.\"'},\n",
              " {'input': 'The 5 Most Influential Machine Learning Research Papers of 2024 and Their Contributions to AI Advancement'},\n",
              " {'input': 'Cross-validation techniques for comprehensive model evaluation beyond simple train-test splits'},\n",
              " {'input': 'Creating an effective machine learning portfolio that demonstrates practical skills and helps land job opportunities in the competitive ML industry.'}]"
            ]
          },
          "metadata": {}
        }
      ]
    },
    {
      "cell_type": "code",
      "source": [
        "# @title Braintrust tracing setup\n",
        "\n",
        "import braintrust\n",
        "from openai import OpenAI\n",
        "\n",
        "MODEL = \"gpt-4o-mini\"\n",
        "\n",
        "client = braintrust.wrap_openai(\n",
        "    OpenAI(\n",
        "        base_url=\"https://api.braintrust.dev/v1/proxy\",\n",
        "        api_key=os.environ[\"BRAINTRUST_API_KEY\"],\n",
        "    )\n",
        ")\n",
        "\n",
        "@braintrust.traced\n",
        "def generate_blog_post(input):\n",
        "    messages = [\n",
        "        {\n",
        "            \"role\": \"system\",\n",
        "            \"content\": \"\"\"You are a specialized blog post writer. Given a topic, write a technical blog post. Here are specific instructions:\n",
        "- Make sure that the blog is approximately under 500 words\n",
        "- The blog should be technical in nature with clear instructions\n",
        "\"\"\",\n",
        "        },\n",
        "        {\n",
        "            \"role\": \"user\",\n",
        "            \"content\": input,\n",
        "        },\n",
        "    ]\n",
        "    result = client.chat.completions.create(\n",
        "        model=MODEL,\n",
        "        messages=messages,\n",
        "        max_tokens=4096,\n",
        "    )\n",
        "    return result.choices[0].message.content\n",
        "\n"
      ],
      "metadata": {
        "id": "Z_R0dnUTObcB"
      },
      "execution_count": null,
      "outputs": []
    },
    {
      "cell_type": "code",
      "source": [
        "# @title Pi-Scorer Setup\n",
        "\n",
        "import os\n",
        "import requests\n",
        "from autoevals import ScorerWithPartial\n",
        "from braintrust_core.score import Score\n",
        "\n",
        "PI_API_URL = \"https://api.withpi.ai/v1/scoring_system/score\"\n",
        "HEADERS = {\n",
        "    \"Content-Type\": \"application/json\",\n",
        "    \"x-api-key\": os.environ.get(\"WITHPI_API_KEY\"),\n",
        "}\n",
        "\n",
        "class PiScorerBase(ScorerWithPartial):\n",
        "    question: str = \"\"\n",
        "    label: str = \"\"\n",
        "\n",
        "    def _run_eval_sync(self, output, expected=None, **kwargs):\n",
        "        assert \"input\" in kwargs, \"Missing 'input' in kwargs\"\n",
        "        payload = {\n",
        "            \"llm_input\": kwargs[\"input\"],\n",
        "            \"llm_output\": output,\n",
        "            \"scoring_spec\": [{\"question\": self.question}]\n",
        "        }\n",
        "        response = requests.post(PI_API_URL, headers=HEADERS, json=payload)\n",
        "        pi_score = response.json()\n",
        "        return Score(name=self.label or self._name(), score=pi_score[\"total_score\"])\n",
        "\n",
        "\n",
        "class PiScorerConclusion(PiScorerBase):\n",
        "    question = \"Does the post have a conclusion section?\"\n",
        "    label = \"conclusion\"\n",
        "\n",
        "class PiScorerPitfall(PiScorerBase):\n",
        "    question = \"Does the post call out potential pitfalls or common mistakes?\"\n",
        "    label = \"pitfall\"\n",
        "\n",
        "\n"
      ],
      "metadata": {
        "id": "MSJYnIUInc2x"
      },
      "execution_count": null,
      "outputs": []
    },
    {
      "cell_type": "code",
      "source": [
        "# @title Run eval\n",
        "\n",
        "await braintrust.Eval(\n",
        "    \"Blog Post Generator\",\n",
        "    data=data,\n",
        "    task=generate_blog_post,\n",
        "    scores=[PiScorerConclusion, PiScorerPitfall],\n",
        "    experiment_name=\"Pi Blog Post\",\n",
        ")"
      ],
      "metadata": {
        "colab": {
          "base_uri": "https://localhost:8080/",
          "height": 379,
          "referenced_widgets": [
            "bb31015f8ee248b69ca42543bae769e1",
            "a2d9d883d02e4fdfb32d4f3d96db18bc",
            "e262408d4c6c40c199f526c017c8758b",
            "ee197367d5d34c4f9234e40ab18665e4",
            "c9cd0068c68e4287aa6b319d374c4bbc",
            "4f09d26a81084514abaf0a9e664a4a3d",
            "bccc08089642438f993df425b08508b4",
            "afc0e592fbbb4a958d2cffff78fddfbe",
            "709ac508147c467f981486fe5f46bae2",
            "241a9f3096124870898f86fd9b0aa672",
            "2a3c972248514863a447d26bc9bb5655"
          ]
        },
        "id": "sTSDkO-aoeFL",
        "outputId": "1b90fdda-95be-44ec-db7e-0b9068777962"
      },
      "execution_count": null,
      "outputs": [
        {
          "output_type": "stream",
          "name": "stderr",
          "text": [
            "Experiment Pi Blog Post-47e9fc56 is running at https://www.braintrust.dev/app/Pi%20Labs/p/Blog%20Post%20Generator/experiments/Pi%20Blog%20Post-47e9fc56\n",
            "Blog Post Generator [experiment_name=Pi Blog Post] (data): 5it [00:00, 15022.58it/s]\n"
          ]
        },
        {
          "output_type": "display_data",
          "data": {
            "text/plain": [
              "Blog Post Generator [experiment_name=Pi Blog Post] (tasks):   0%|          | 0/5 [00:00<?, ?it/s]"
            ],
            "application/vnd.jupyter.widget-view+json": {
              "version_major": 2,
              "version_minor": 0,
              "model_id": "bb31015f8ee248b69ca42543bae769e1"
            }
          },
          "metadata": {}
        },
        {
          "output_type": "stream",
          "name": "stdout",
          "text": [
            "\n",
            "=========================SUMMARY=========================\n",
            "Pi Blog Post-47e9fc56 compared to Pi Blog Post-f3d5ea05:\n",
            "100.00% 'conclusion' score\n",
            "00.58% 'pitfall'    score\n",
            "\n",
            "1745614988.48s start\n",
            "1745615011.10s end\n",
            "22.06s (-262.47%) 'duration'         \t(2 improvements, 0 regressions)\n",
            "12.42s (-316.88%) 'llm_duration'     \t(2 improvements, 0 regressions)\n",
            "85.80tok (-) 'prompt_tokens'    \t(0 improvements, 0 regressions)\n",
            "819.80tok (-2000.00%) 'completion_tokens'\t(1 improvements, 1 regressions)\n",
            "905.60tok (-2000.00%) 'total_tokens'     \t(1 improvements, 1 regressions)\n",
            "0.00$ (-00.00%) 'estimated_cost'   \t(0 improvements, 0 regressions)\n",
            "\n",
            "See results for Pi Blog Post-47e9fc56 at https://www.braintrust.dev/app/Pi%20Labs/p/Blog%20Post%20Generator/experiments/Pi%20Blog%20Post-47e9fc56\n"
          ]
        },
        {
          "output_type": "execute_result",
          "data": {
            "text/plain": [
              "EvalResultWithSummary(summary=\"...\", results=[...])"
            ]
          },
          "metadata": {},
          "execution_count": 45
        }
      ]
    },
    {
      "cell_type": "code",
      "source": [
        "# See results: https://www.braintrust.dev/app/Pi%20Labs/p/Blog%20Post%20Generator/experiments/Pi%20Blog%20Post-47e9fc56?c="
      ],
      "metadata": {
        "id": "zZMTGpkkxRTB"
      },
      "execution_count": null,
      "outputs": []
    }
  ]
}