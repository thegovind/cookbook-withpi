{
  "nbformat": 4,
  "nbformat_minor": 0,
  "metadata": {
    "colab": {
      "provenance": [],
      "include_colab_link": true
    },
    "kernelspec": {
      "name": "python3",
      "display_name": "Python 3"
    },
    "language_info": {
      "name": "python"
    }
  },
  "cells": [
    {
      "cell_type": "markdown",
      "metadata": {
        "id": "view-in-github",
        "colab_type": "text"
      },
      "source": [
        "<a href=\"https://colab.research.google.com/github/withpi/cookbook-withpi/blob/main/colabs/Braintrust_PI_Integration.ipynb\" target=\"_parent\"><img src=\"https://colab.research.google.com/assets/colab-badge.svg\" alt=\"Open In Colab\"/></a>"
      ]
    },
    {
      "cell_type": "code",
      "execution_count": 1,
      "metadata": {
        "id": "Uc9WGlKvEOXx"
      },
      "outputs": [],
      "source": [
        "%%capture\n",
        "%pip install -U braintrust openai datasets autoevals"
      ]
    },
    {
      "cell_type": "code",
      "source": [
        "# @title Setup API Keys\n",
        "\n",
        "from google.colab import userdata\n",
        "import os\n",
        "\n",
        "os.environ[\"BRAINTRUST_API_KEY\"] = userdata.get(\"BRAINTRUST_API_KEY\")\n",
        "\n",
        "# Get PI API key: https://build.withpi.ai/account/keys\n",
        "os.environ[\"WITHPI_API_KEY\"] = userdata.get('WITHPI_API_KEY')"
      ],
      "metadata": {
        "id": "Qh-NG9Y7HZxy"
      },
      "execution_count": 2,
      "outputs": []
    },
    {
      "cell_type": "code",
      "source": [
        "# @title Load a sample dataset\n",
        "\n",
        "from datasets import load_dataset\n",
        "\n",
        "ds = load_dataset(\"withpi/mlmastery_com_blogs_condensed\", split=\"train\")\n",
        "\n",
        "topics = ds[\"topic\"][:5]\n",
        "\n",
        "data = [{\"input\": topic} for topic in topics]\n",
        "\n",
        "display(data)"
      ],
      "metadata": {
        "colab": {
          "base_uri": "https://localhost:8080/",
          "height": 138
        },
        "id": "WQ8sWNn-Fl4i",
        "outputId": "06bb3526-f537-4b4f-ef97-38e4a884c1ed"
      },
      "execution_count": 4,
      "outputs": [
        {
          "output_type": "display_data",
          "data": {
            "text/plain": [
              "[{'input': 'Tips for beginners to get started with deep learning, including mastering machine learning fundamentals, choosing a framework, understanding neural network architectures, starting with simple projects, and practicing regularly while engaging with the community.'},\n",
              " {'input': 'The topic of this blog post is: \"Understanding the Data Science Mind Map: A comprehensive guide to essential Python packages for data preparation, visualization, and statistical analysis, with an emphasis on storytelling in data science.\"'},\n",
              " {'input': 'The 5 Most Influential Machine Learning Research Papers of 2024 and Their Contributions to AI Advancement'},\n",
              " {'input': 'Cross-validation techniques for comprehensive model evaluation beyond simple train-test splits'},\n",
              " {'input': 'Creating an effective machine learning portfolio that demonstrates practical skills and helps land job opportunities in the competitive ML industry.'}]"
            ]
          },
          "metadata": {}
        }
      ]
    },
    {
      "cell_type": "code",
      "source": [
        "# @title Braintrust tracing setup\n",
        "\n",
        "import braintrust\n",
        "from openai import OpenAI\n",
        "\n",
        "MODEL = \"gpt-4o-mini\"\n",
        "\n",
        "client = braintrust.wrap_openai(\n",
        "    OpenAI(\n",
        "        base_url=\"https://api.braintrust.dev/v1/proxy\",\n",
        "        api_key=os.environ[\"BRAINTRUST_API_KEY\"],\n",
        "    )\n",
        ")\n",
        "\n",
        "@braintrust.traced\n",
        "def generate_blog_post(input):\n",
        "    messages = [\n",
        "        {\n",
        "            \"role\": \"system\",\n",
        "            \"content\": \"\"\"You are a specialized blog post writer. Given a topic, write a technical blog post. Here are specific instructions:\n",
        "- Make sure that the blog is approximately under 500 words\n",
        "- The blog should be technical in nature with clear instructions\n",
        "\"\"\",\n",
        "        },\n",
        "        {\n",
        "            \"role\": \"user\",\n",
        "            \"content\": input,\n",
        "        },\n",
        "    ]\n",
        "    result = client.chat.completions.create(\n",
        "        model=MODEL,\n",
        "        messages=messages,\n",
        "        max_tokens=4096,\n",
        "    )\n",
        "    return result.choices[0].message.content"
      ],
      "metadata": {
        "id": "mtKp_YIXGBWl"
      },
      "execution_count": 5,
      "outputs": []
    },
    {
      "cell_type": "code",
      "source": [
        "# @title Pi-Scorer Setup\n",
        "\n",
        "import os\n",
        "import requests\n",
        "from autoevals import ScorerWithPartial\n",
        "from braintrust_core.score import Score\n",
        "\n",
        "PI_API_URL = \"https://api.withpi.ai/v1/scoring_system/score\"\n",
        "HEADERS = {\n",
        "    \"Content-Type\": \"application/json\",\n",
        "    \"x-api-key\": os.environ.get(\"WITHPI_API_KEY\"),\n",
        "}\n",
        "\n",
        "class PiScorerBase(ScorerWithPartial):\n",
        "    question: str = \"\"\n",
        "    label: str = \"\"\n",
        "\n",
        "    def _run_eval_sync(self, output, expected=None, **kwargs):\n",
        "        assert \"input\" in kwargs, \"Missing 'input' in kwargs\"\n",
        "        payload = {\n",
        "            \"llm_input\": kwargs[\"input\"],\n",
        "            \"llm_output\": output,\n",
        "            \"scoring_spec\": [{\"question\": self.question}]\n",
        "        }\n",
        "        response = requests.post(PI_API_URL, headers=HEADERS, json=payload)\n",
        "        pi_score = response.json()\n",
        "        return Score(name=self.label or self._name(), score=pi_score[\"total_score\"])\n",
        "\n",
        "\n",
        "class PiScorerConclusion(PiScorerBase):\n",
        "    question = \"Does the post have a conclusion section?\"\n",
        "    label = \"conclusion\"\n",
        "\n",
        "class PiScorerPitfall(PiScorerBase):\n",
        "    question = \"Does the post call out potential pitfalls or common mistakes?\"\n",
        "    label = \"pitfall\""
      ],
      "metadata": {
        "id": "eDMk9LVfGLx6"
      },
      "execution_count": null,
      "outputs": []
    },
    {
      "cell_type": "code",
      "source": [
        "# @title Run eval\n",
        "\n",
        "await braintrust.Eval(\n",
        "    \"Blog Post Generator\",\n",
        "    data=data,\n",
        "    task=generate_blog_post,\n",
        "    scores=[PiScorerConclusion, PiScorerPitfall],\n",
        "    experiment_name=\"Pi Blog Post\",\n",
        ")"
      ],
      "metadata": {
        "id": "5CpoSS6BGU0z"
      },
      "execution_count": null,
      "outputs": []
    },
    {
      "cell_type": "code",
      "source": [
        "# See results: https://www.braintrust.dev/app/Pi%20Labs/p/Blog%20Post%20Generator/experiments/Pi%20Blog%20Post-47e9fc56?c="
      ],
      "metadata": {
        "id": "JATOmVhbGZyo"
      },
      "execution_count": null,
      "outputs": []
    }
  ]
}