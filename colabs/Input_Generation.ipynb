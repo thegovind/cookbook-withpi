{
  "cells": [
    {
      "cell_type": "markdown",
      "metadata": {
        "id": "view-in-github",
        "colab_type": "text"
      },
      "source": [
        "<a href=\"https://colab.research.google.com/github/withpi/cookbook-withpi/blob/main/colabs/Input_Generation.ipynb\" target=\"_parent\"><img src=\"https://colab.research.google.com/assets/colab-badge.svg\" alt=\"Open In Colab\"/></a>"
      ]
    },
    {
      "cell_type": "markdown",
      "metadata": {
        "id": "pi-masthead"
      },
      "source": [
        "<a href=\"https://withpi.ai\"><img src=\"https://play.withpi.ai/logo/logoFullBlack.svg\" width=\"240\"></a>\n",
        "\n",
        "<a href=\"https://code.withpi.ai\"><font size=\"4\">Documentation</font></a>\n",
        "\n",
        "<a href=\"https://play.withpi.ai\"><font size=\"4\">Technique Catalog</font></a>"
      ]
    },
    {
      "cell_type": "markdown",
      "metadata": {
        "id": "Bwm4tjdnedp6"
      },
      "source": [
        "# Input Generation\n",
        "\n",
        "There is no Playground associated with this Colab, but it's coming soon!\n",
        "\n",
        "Many techniques require input data to drives evaluation and training, but getting high-quality data can be painful and expensive.\n",
        "\n",
        "Generating this data with AI support can give you a higher quality set with much lower effort.  And it can be done with the same Contract that drives other techniques in Pi!\n",
        "\n",
        "We will walk through the same `Aesop AI` example, but you can load any contract here. Let's dig in!"
      ]
    },
    {
      "cell_type": "markdown",
      "metadata": {
        "id": "pi-setup-markdown"
      },
      "source": [
        "## Install and initialize SDK\n",
        "\n",
        "Connect to a regular CPU Python 3 runtime.  You won't need GPUs for this notebook.\n",
        "\n",
        "You'll need a WITHPI_API_KEY from https://play.withpi.ai.  Add it to your notebook secrets (the key symbol) on the left.\n",
        "\n",
        "Run the cell below to install packages and load the SDK"
      ]
    },
    {
      "cell_type": "code",
      "execution_count": 2,
      "metadata": {
        "id": "pi-setup"
      },
      "outputs": [],
      "source": [
        "%%capture\n",
        "\n",
        "%pip install withpi withpi-utils datasets tqdm litellm\n",
        "\n",
        "import os\n",
        "from google.colab import userdata\n",
        "from withpi import PiClient\n",
        "\n",
        "# Load the notebook secret into the environment so the Pi Client can access it.\n",
        "os.environ[\"WITHPI_API_KEY\"] = userdata.get('WITHPI_API_KEY')\n",
        "\n",
        "client = PiClient()"
      ]
    },
    {
      "cell_type": "markdown",
      "metadata": {
        "id": "s7RRO3iXjYbY"
      },
      "source": [
        "# Load Scoring Spec\n",
        "\n",
        "Load the `Aesop AI` example from Pi Labs cookbooks, or edit below to load a different one.\n"
      ]
    },
    {
      "cell_type": "code",
      "execution_count": 3,
      "metadata": {
        "id": "oXJmb89i5iN5",
        "outputId": "9921070b-a3bf-4575-b667-039c3749ec8c",
        "colab": {
          "base_uri": "https://localhost:8080/",
          "height": 618
        }
      },
      "outputs": [
        {
          "output_type": "display_data",
          "data": {
            "text/plain": [
              "<IPython.core.display.HTML object>"
            ],
            "text/html": [
              "<div style='font-family: Arial, sans-serif;'><h2 style='color: #202124; border-bottom: 2px solid #4285F4; padding-bottom: 8px; margin-bottom: 10px;'>ScoringSpec: aesop_ai</h2><p style='margin-top: 0; margin-bottom: 20px; color: #5F6368;'>Write a children's story in the style of Aesop's Fables teaching a life lesson specified by the user.  Provide just the story with no extra content.</p><h3 style='margin-bottom: 5px; color: #4285F4;'>Story Structure</h3><ul style='margin-top: 0; padding-left: 20px;'><li><strong>PI_SCORER:</strong> Does the story have a clear beginning, middle, and end?</li><li><strong>PI_SCORER:</strong> Is there a conflict introduced early in the story that drives the plot?</li><li><strong>PI_SCORER:</strong> Is the resolution of the conflict clear and satisfying?</li></ul><h3 style='margin-bottom: 5px; color: #4285F4;'>Character Development</h3><ul style='margin-top: 0; padding-left: 20px;'><li><strong>PI_SCORER:</strong> Does the story include characters that are relatable for children?</li><li><strong>PI_SCORER:</strong> Do the characters demonstrate growth or change by the end of the story?</li><li><strong>PI_SCORER:</strong> Is the dialogue between characters natural and age-appropriate?</li></ul><h3 style='margin-bottom: 5px; color: #4285F4;'>Narrative Engagement</h3><ul style='margin-top: 0; padding-left: 20px;'><li><strong>PI_SCORER:</strong> Is the story engaging and likely to hold a child's interest?</li><li><strong>PI_SCORER:</strong> Does the story use vivid imagery to help children visualize the scenes?</li><li><strong>PI_SCORER:</strong> Does the story incorporate repetitive elements that aid in comprehension and retention?</li></ul><h3 style='margin-bottom: 5px; color: #4285F4;'>Language Appropriateness</h3><ul style='margin-top: 0; padding-left: 20px;'><li><strong>PI_SCORER:</strong> Is the language used in the story appropriate for children's understanding?</li><li><strong>PI_SCORER:</strong> Is the story an appropriate length for a children's tale (not exceeding 1000 words)?</li></ul><h3 style='margin-bottom: 5px; color: #4285F4;'>Moral and Cultural Sensitivity</h3><ul style='margin-top: 0; padding-left: 20px;'><li><strong>PI_SCORER:</strong> Does the story clearly convey a specified life lesson?</li><li><strong>PI_SCORER:</strong> Does the story reiterate the moral lesson at the end?</li><li><strong>PI_SCORER:</strong> Is the content culturally sensitive and inclusive for all children?</li></ul><h3 style='margin-bottom: 5px; color: #4285F4;'>Illustration Integration</h3><ul style='margin-top: 0; padding-left: 20px;'><li><strong>PI_SCORER:</strong> Does the story provide opportunities for illustrations that enhance the narrative?</li></ul></div>"
            ]
          },
          "metadata": {}
        }
      ],
      "source": [
        "from withpi_utils.colab import load_scoring_spec_from_web, display_scoring_spec\n",
        "\n",
        "aesop_scoring_spec = load_scoring_spec_from_web(\n",
        "    \"https://raw.githubusercontent.com/withpi/cookbook-withpi/refs/heads/main/scoring_specs/aesop_ai.json\"\n",
        ")\n",
        "\n",
        "display_scoring_spec(aesop_scoring_spec)"
      ]
    },
    {
      "cell_type": "markdown",
      "metadata": {
        "id": "j1FAoBqU7dwf"
      },
      "source": [
        "## Generate an Input Set\n",
        "\n",
        "Given this structured description, let's build a Dataset containing a bunch of plausible moral lessons that could be used to exercise the contract.  This will take about 30 seconds to generate."
      ]
    },
    {
      "cell_type": "code",
      "execution_count": 4,
      "metadata": {
        "id": "4NpCZhP6exgI"
      },
      "outputs": [],
      "source": [
        "data_generation_status = client.data.generate.start_job(\n",
        "    application_description=aesop_scoring_spec.description,\n",
        "    num_inputs_to_generate=10,\n",
        "    seeds=[],\n",
        "    batch_size=3,\n",
        "    num_shots=3,\n",
        ")"
      ]
    },
    {
      "cell_type": "markdown",
      "metadata": {
        "id": "ktYlEezB236H"
      },
      "source": [
        "## Stream the messages as the inputs are generated\n",
        "\n",
        "The messages provide detail about what is being done to generate the data."
      ]
    },
    {
      "cell_type": "code",
      "execution_count": 8,
      "metadata": {
        "id": "6_cX91PLz7S7",
        "outputId": "48cfca0e-9b1f-44ab-ad59-bd53ba3501ec",
        "colab": {
          "base_uri": "https://localhost:8080/"
        }
      },
      "outputs": [
        {
          "output_type": "stream",
          "name": "stdout",
          "text": [
            "Detailed Status for generation_jobs:09ac227c912792130a876568ea872593308c0d4b3d7c896ec7991f041cbeedd8:a695bf41-d103-4fa9-9f92-91ec94af6c9c\n",
            "LAUNCHING\n",
            "RUNNING\n",
            "[INFO] Generating 3 seeds as they are not provided.\n",
            "[INFO] Progress=> Good: 0/10 Bad: 0 Similar: 0\n",
            "[INFO] Generated themes: ['Honesty and Trust', 'Kindness and Empathy', 'Responsibility and Duty', 'Courage and Bravery', 'Perseverance and Hard Work', 'Patience and Persistence', 'Teamwork and Collaboration', 'Respect and Politeness', 'Self-Control and Discipline', 'Gratitude and Appreciation']\n",
            "[INFO] Using selected theme: 'Self-Control and Discipline' for this batch of generation\n",
            "[INFO] Generation LLM temperature fixed or updated to 1.0\n",
            "[INFO] Data Generation Ongoing => Good Inputs: 3/10. Bad Inputs: 0. Similar Inputs: 0\n",
            "[INFO] Progress=> Good: 3/10 Bad: 0 Similar: 0\n",
            "[INFO] Using selected theme: 'Self-Control and Discipline' for this batch of generation\n",
            "[INFO] Generation LLM temperature fixed or updated to 1.0\n",
            "[INFO] Data Generation Ongoing => Good Inputs: 6/10. Bad Inputs: 0. Similar Inputs: 0\n",
            "[INFO] Progress=> Good: 6/10 Bad: 0 Similar: 0\n",
            "[INFO] Using selected theme: 'Self-Control and Discipline' for this batch of generation\n",
            "[INFO] Generation LLM temperature fixed or updated to 1.0\n",
            "[INFO] Data Generation Ongoing => Good Inputs: 9/10. Bad Inputs: 0. Similar Inputs: 0\n",
            "[INFO] Progress=> Good: 9/10 Bad: 0 Similar: 0\n",
            "[INFO] Using selected theme: 'Honesty and Trust' for this batch of generation\n",
            "[INFO] With similarity score: 0.90, New input: 'Write a story illustrating the lesson of discipline through a young squirrel who saves nuts for winter instead of eating them all at once.' too similar to: \n",
            " 'Tell a story of a squirrel who discovers that resisting temptation leads to greater success in gathering food for winter.'\n",
            "[INFO] Generation LLM temperature fixed or updated to 1.07\n",
            "[INFO] Data Generation Complete => Good Inputs: 11. Bad Inputs: 0. Similar Inputs: 1\n",
            "DONE\n"
          ]
        }
      ],
      "source": [
        "from withpi_utils.colab import stream_response\n",
        "\n",
        "data_generation_status = stream_response(\n",
        "    data_generation_status.job_id, client.data.generate\n",
        ")"
      ]
    },
    {
      "cell_type": "markdown",
      "metadata": {
        "id": "wuG3KiVS3FEi"
      },
      "source": [
        "One can also stream the inputs instead as shown in the cell below"
      ]
    },
    {
      "cell_type": "code",
      "execution_count": 9,
      "metadata": {
        "id": "jQaxczWF3Jdz",
        "outputId": "832a575a-1a7c-4dd9-c203-17e2932f0aff",
        "colab": {
          "base_uri": "https://localhost:8080/"
        }
      },
      "outputs": [
        {
          "output_type": "stream",
          "name": "stdout",
          "text": [
            "Tell a fable about a clever fox who learns that lying can lead to trouble.\n",
            "Create a story that shows how sharing can build trust among friends using animal characters.\n",
            "Generate a tale that illustrates the importance of keeping promises, featuring a loyal dog and a forgetful turtle.\n",
            "Create a fable about a young turtle who learns that patience can lead to great rewards in life.\n",
            "Tell a story of a squirrel who discovers that resisting temptation leads to greater success in gathering food for winter.\n",
            "Write a fable about a stubborn donkey who learns that self-control is essential to avoid danger in the forest.\n",
            "Create a fable that illustrates how teamwork can help a group of animals achieve their goal of reaching a distant berry bush.\n",
            "Write a story about two birds who learn that collaborating together makes it easier to build a nest.\n",
            "Generate a tale featuring a clever fox and a slow turtle who find that working together can overcome their individual limitations.\n",
            "Tell a fable about a clever fox who learns the value of self-control after trying to eat too many fruits before the harvest.\n",
            "Create a tale featuring a hungry rabbit who learns that moderation is key after overindulging on carrots and facing an upset stomach.\n"
          ]
        }
      ],
      "source": [
        "from withpi_utils.colab import stream_data\n",
        "\n",
        "data_generation_status = stream_data(\n",
        "    data_generation_status.job_id, client.data.generate\n",
        ")\n"
      ]
    },
    {
      "cell_type": "markdown",
      "metadata": {
        "id": "bLi5JRNz_IUd"
      },
      "source": [
        "## Take a look at the returned data\n",
        "\n",
        "Take a look at the returned inputs"
      ]
    },
    {
      "cell_type": "code",
      "execution_count": 10,
      "metadata": {
        "id": "DDOM8UIA96M9",
        "outputId": "3a6b1f51-c6b6-429b-c215-5532041ec856",
        "colab": {
          "base_uri": "https://localhost:8080/"
        }
      },
      "outputs": [
        {
          "output_type": "stream",
          "name": "stdout",
          "text": [
            "Printing all the generated inputs below...\n",
            "Tell a fable about a clever fox who learns that lying can lead to trouble.\n",
            "Create a story that shows how sharing can build trust among friends using animal characters.\n",
            "Generate a tale that illustrates the importance of keeping promises, featuring a loyal dog and a forgetful turtle.\n",
            "Create a fable about a young turtle who learns that patience can lead to great rewards in life.\n",
            "Tell a story of a squirrel who discovers that resisting temptation leads to greater success in gathering food for winter.\n",
            "Write a fable about a stubborn donkey who learns that self-control is essential to avoid danger in the forest.\n",
            "Create a fable that illustrates how teamwork can help a group of animals achieve their goal of reaching a distant berry bush.\n",
            "Write a story about two birds who learn that collaborating together makes it easier to build a nest.\n",
            "Generate a tale featuring a clever fox and a slow turtle who find that working together can overcome their individual limitations.\n",
            "Tell a fable about a clever fox who learns the value of self-control after trying to eat too many fruits before the harvest.\n",
            "Create a tale featuring a hungry rabbit who learns that moderation is key after overindulging on carrots and facing an upset stomach.\n"
          ]
        }
      ],
      "source": [
        "# Print all the data now that the job is complete.\n",
        "if data_generation_status.state not in [\"ERROR\", \"DONE\"]:\n",
        "  print(\"Please wait for the job to finish and then run this cell again...\")\n",
        "else:\n",
        "    if data_generation_status.state == \"DONE\":\n",
        "        print(\"Printing all the generated inputs below...\")\n",
        "        assert data_generation_status.data is not None\n",
        "        for input in data_generation_status.data:\n",
        "            print(input)\n",
        "    else:\n",
        "        print(\"Job ended in error\")"
      ]
    },
    {
      "cell_type": "markdown",
      "metadata": {
        "id": "gSmwlrjSWtxl"
      },
      "source": [
        "# Augment with responses\n",
        "\n",
        "Now run inference with your favorite LLM to generate responses to the default prompt.  We will optimize this later.\n",
        "\n",
        "The below cell uses LiteLLM.  You can get a Gemini key from the left side for free to try it out.  You may need a small amount of money in your account to run to completion."
      ]
    },
    {
      "cell_type": "code",
      "execution_count": 21,
      "metadata": {
        "id": "ENQHR9XTW3LP",
        "outputId": "fa7f155d-6b1c-4979-ada9-e85c03b3e8a6",
        "colab": {
          "base_uri": "https://localhost:8080/"
        }
      },
      "outputs": [
        {
          "output_type": "stream",
          "name": "stderr",
          "text": [
            "100%|██████████| 11/11 [00:25<00:00,  2.33s/it]\n"
          ]
        }
      ],
      "source": [
        "# @title Generate responses\n",
        "import litellm\n",
        "from tqdm import tqdm\n",
        "\n",
        "os.environ[\"GEMINI_API_KEY\"] = userdata.get('GOOGLE_API_KEY')\n",
        "\n",
        "def generate(system: str, user: str, model: str) -> str:\n",
        "    \"\"\"generate passes the provided system and user prompts into the given model\n",
        "    via LiteLLM\"\"\"\n",
        "    messages = [\n",
        "        {\"content\": system, \"role\": \"system\"},\n",
        "        {\"content\": user, \"role\": \"user\"},\n",
        "    ]\n",
        "    return litellm.completion(model=model, messages=messages).choices[0].message.content\n",
        "\n",
        "responses = []\n",
        "for input in tqdm(data_generation_status.data):\n",
        "  responses.append(generate(\n",
        "        system=aesop_scoring_spec.description,\n",
        "        user=input,\n",
        "        model=\"gemini/gemini-1.5-flash-8b\",\n",
        "    ))"
      ]
    },
    {
      "cell_type": "code",
      "source": [
        "responses[0]"
      ],
      "metadata": {
        "id": "Av51XiJwriiM",
        "outputId": "beed2602-7d0c-4351-fb83-d7c9952ec6c0",
        "colab": {
          "base_uri": "https://localhost:8080/",
          "height": 35
        }
      },
      "execution_count": 19,
      "outputs": [
        {
          "output_type": "execute_result",
          "data": {
            "text/plain": [
              "'B'"
            ],
            "application/vnd.google.colaboratory.intrinsic+json": {
              "type": "string"
            }
          },
          "metadata": {},
          "execution_count": 19
        }
      ]
    },
    {
      "cell_type": "code",
      "source": [
        "# @title Let's Score and manually inspect the data\n",
        "from withpi_utils.colab import pretty_print_responses\n",
        "\n",
        "for i in range(len(responses)):\n",
        "    score = client.scoring_system.score(\n",
        "        llm_input=data_generation_status.data[i],\n",
        "        llm_output=responses[i],\n",
        "        scoring_spec=aesop_scoring_spec,\n",
        "    )\n",
        "\n",
        "    pretty_print_responses(\n",
        "        header=\"#### Input:\\n\" + data_generation_status.data[i],\n",
        "        response1=\"#### Output:\\n\" + responses[i],\n",
        "        left_label=\"gemini/gemini-1.5-flash-8b\",\n",
        "        scores_left=score,\n",
        "    )\n",
        "    print(\"\\n\\n\")"
      ],
      "metadata": {
        "id": "yTTU8z5Iqu5H",
        "outputId": "5bbe8eca-d09e-40ca-911f-8f50c671fc1a",
        "colab": {
          "base_uri": "https://localhost:8080/",
          "height": 1000
        }
      },
      "execution_count": 22,
      "outputs": [
        {
          "output_type": "display_data",
          "data": {
            "text/plain": [
              "<IPython.core.display.HTML object>"
            ],
            "text/html": [
              "\n",
              "        <div style=\"display: flex; gap: 20px;\">\n",
              "            <div style=\"width: 80%; padding: 10px; border: 1px solid #ddd; background-color: #fff9f5;\">\n",
              "                <h4><h4>Input:</h4>\n",
              "<p>Tell a fable about a clever fox who learns that lying can lead to trouble.</p></h4>\n",
              "            </div>\n",
              "        </div>\n",
              "        <div style=\"display: flex; gap: 20px;\">\n",
              "            <div style=\"width: 80%; padding: 10px; border: 1px solid #ddd; background-color: #f0f0f0; text-align:center;\">\n",
              "                <h4>gemini/gemini-1.5-flash-8b</h4>\n",
              "            </div>\n",
              "        </div>\n",
              "        <div style=\"display: flex; gap: 20px;\">\n",
              "            <div style=\"width: 80%; padding: 10px; border: 1px solid #ddd;\">\n",
              "                <h4>Output:</h4>\n",
              "<p>A sly fox, known throughout the forest for his cunning, stumbled upon a plump goose nestled amongst tall reeds.  The goose, oblivious to the fox's approach, was happily gobbling down juicy berries.  The fox, his eyes gleaming with greed, crept closer.</p>\n",
              "<p>\"Good morning, fine goose!\" he called out in a voice as smooth as polished stone. \"Your feathers are as bright as the morning sun!  I have never seen such a magnificent creature!\"</p>\n",
              "<p>The goose, startled but trusting, looked up. \"Thank you, clever fox,\" she replied. \"But what brings you to my humble patch?\"</p>\n",
              "<p>\"Ah,\" the fox said, lowering himself gracefully. \"I was searching for the most exquisite berries in the entire forest.  I heard tales of your garden – that they are the sweetest, the plumpest, the most...delicious!\"</p>\n",
              "<p>The goose, flattered by the fox's praise, puffed out her chest.  \"Indeed,\" she chirped. \"My berries are renowned. Come, share a taste with me!\"</p>\n",
              "<p>She led the fox to the tastiest clusters.  The fox, however, had another idea.  As he plucked a juicy berry, he tripped.  The berries scattered, and the fox, in his haste to gather them, tripped again, sending him tumbling into the tall grass.  </p>\n",
              "<p>He scrambled to his feet, feathers sticking to his fur.  \"Oh dear!\" he cried, \"I seem to have misplaced my basket!\"</p>\n",
              "<p>The goose, ever trusting, rushed to help.  \"Let me see,\" she cooed, \"perhaps I can find it for you.\" She searched diligently, but the basket was nowhere to be seen.  The fox, feigning distress, let out a mournful cry.  \"I'm lost!\" he wailed. \"How will I ever get back to my home?\"</p>\n",
              "<p>The kind goose, feeling sorry for the distressed fox, led him back to her home, showing him the best path.  As she led him through the forest, the other animals watched, shaking their heads.  They had heard many stories about the fox’s lies, but today, they witnessed the fox's trouble, firsthand.  The fox, feeling the weight of his dishonesty, finally understood the folly of his ways.  From that day forward, though he still held his cunning, he learned to speak the truth, for honesty, he discovered, was often the best policy.</p>\n",
              "            </div>\n",
              "        </div>\n",
              "        \n",
              "            <div style=\"display: flex; gap: 20px;\">\n",
              "                <div style=\"width: 80%; padding: 10px; border: 1px solid #ddd; background-color: #f2f1fe;\">\n",
              "                    \n",
              "  <style>\n",
              "  table {\n",
              "    border-collapse: collapse; /* Ensures borders don't double up */\n",
              "    width: 100%; /* Optional: makes the table full width */\n",
              "  }\n",
              "\n",
              "  tr {\n",
              "    border-bottom: 1px solid #ccc; /* Sets a bottom border for each row */\n",
              "    border-top: 1px solid #ccc; /* Sets a bottom border for each row */\n",
              "  }\n",
              "\n",
              "  th, td {\n",
              "    font-weight: bold;\n",
              "    padding: 4px; /* Adds some spacing */\n",
              "    text-align: left; /* Aligns text to the left */\n",
              "    border-right: 1px solid #ccc; /* Sets a bottom border for each row */\n",
              "    border-left: 1px solid #ccc; /* Sets a bottom border for each row */\n",
              "  }\n",
              "  img {\n",
              "    width: 30%;\n",
              "  }\n",
              "  </style>\n",
              "  <table><tr><td><b>Story Structure</b></td><td></td><td style='color: #2abd68'>0.871</td></tr>\n",
              "<tr><td></td><td style='font-weight: normal;'>Plot Structure</td><td style='color: #27ae60'>1.0</td></tr>\n",
              "<tr><td></td><td style='font-weight: normal;'>Conflict Introduction</td><td style='color: #2bbf69'>0.852</td></tr>\n",
              "<tr><td></td><td style='font-weight: normal;'>Resolution Clarity</td><td style='color: #2dca70'>0.762</td></tr>\n",
              "\n",
              "\n",
              "<tr><td><b>Character Development</b></td><td></td><td style='color: #2bc06a'>0.842</td></tr>\n",
              "<tr><td></td><td style='font-weight: normal;'>Character Presence</td><td style='color: #2dcb70'>0.754</td></tr>\n",
              "<tr><td></td><td style='font-weight: normal;'>Character Development</td><td style='color: #2dc86f'>0.773</td></tr>\n",
              "<tr><td></td><td style='font-weight: normal;'>Dialogue Quality</td><td style='color: #27ae60'>1.0</td></tr>\n",
              "\n",
              "\n",
              "<tr><td><b>Narrative Engagement</b></td><td></td><td style='color: #2dc76e'>0.781</td></tr>\n",
              "<tr><td></td><td style='font-weight: normal;'>Engaging Narrative</td><td style='color: #2dc76e'>0.781</td></tr>\n",
              "<tr><td></td><td style='font-weight: normal;'>Imagery Use</td><td style='color: #2cc66e'>0.789</td></tr>\n",
              "<tr><td></td><td style='font-weight: normal;'>Repetitive Elements</td><td style='color: #2dc86f'>0.773</td></tr>\n",
              "\n",
              "\n",
              "<tr><td><b>Language Appropriateness</b></td><td></td><td style='color: #28b664'>0.928</td></tr>\n",
              "<tr><td></td><td style='font-weight: normal;'>Language Simplicity</td><td style='color: #2abe69'>0.855</td></tr>\n",
              "<tr><td></td><td style='font-weight: normal;'>Length Appropriateness</td><td style='color: #27ae60'>1.0</td></tr>\n",
              "\n",
              "\n",
              "<tr><td><b>Moral and Cultural Sensitivity</b></td><td></td><td style='color: #2abc68'>0.88</td></tr>\n",
              "<tr><td></td><td style='font-weight: normal;'>Moral Clarity</td><td style='color: #29ba66'>0.895</td></tr>\n",
              "<tr><td></td><td style='font-weight: normal;'>Life Lesson Reiteration</td><td style='color: #2ecb70'>0.746</td></tr>\n",
              "<tr><td></td><td style='font-weight: normal;'>Cultural Sensitivity</td><td style='color: #27ae60'>1.0</td></tr>\n",
              "\n",
              "\n",
              "<tr><td><b>Illustration Integration</b></td><td></td><td style='color: #2bc26b'>0.824</td></tr>\n",
              "<tr><td></td><td style='font-weight: normal;'>Illustration Suggestions</td><td style='color: #2bc26b'>0.824</td></tr>\n",
              "\n",
              "\n",
              "<tr></tr>\n",
              "<tr><td>Total score</td><td></td><td style='color: #2bbf69'><b>0.854</b></td></tr>\n",
              "</table>\n",
              "                </div>\n",
              "            </div>"
            ]
          },
          "metadata": {}
        },
        {
          "output_type": "stream",
          "name": "stdout",
          "text": [
            "\n",
            "\n",
            "\n"
          ]
        },
        {
          "output_type": "display_data",
          "data": {
            "text/plain": [
              "<IPython.core.display.HTML object>"
            ],
            "text/html": [
              "\n",
              "        <div style=\"display: flex; gap: 20px;\">\n",
              "            <div style=\"width: 80%; padding: 10px; border: 1px solid #ddd; background-color: #fff9f5;\">\n",
              "                <h4><h4>Input:</h4>\n",
              "<p>Create a story that shows how sharing can build trust among friends using animal characters.</p></h4>\n",
              "            </div>\n",
              "        </div>\n",
              "        <div style=\"display: flex; gap: 20px;\">\n",
              "            <div style=\"width: 80%; padding: 10px; border: 1px solid #ddd; background-color: #f0f0f0; text-align:center;\">\n",
              "                <h4>gemini/gemini-1.5-flash-8b</h4>\n",
              "            </div>\n",
              "        </div>\n",
              "        <div style=\"display: flex; gap: 20px;\">\n",
              "            <div style=\"width: 80%; padding: 10px; border: 1px solid #ddd;\">\n",
              "                <h4>Output:</h4>\n",
              "<p>The little rabbit, Pip, loved carrots.  He had a whole burrow full, stashed away in secret.  He'd nibble one, then another, sharing only the smallest, tiniest pieces with his friends, the squirrel, Nutsy, and the little bear cub, Barnaby.</p>\n",
              "<p>Nutsy, with his bushy tail, adored nuts. He, too, had hoarded a generous pile.  He'd happily share a few with Pip, but only if Pip gave him a large, juicy carrot in return.  Barnaby, the bear cub, loved honey and berries, and he rarely shared anything.  He thought he had enough for himself.</p>\n",
              "<p>One day, a terrible storm rolled in.  The wind howled, rain lashed down, and the forest was plunged into darkness.  Trees crashed, and the animals scurried for shelter.</p>\n",
              "<p>Pip, Nutsy, and Barnaby found themselves huddled together in a hollow log.  Pip, though he had his own carrots, realized how little food he had left.  Nutsy's nuts were running low, and Barnaby, with a rumbling tummy, had nothing.</p>\n",
              "<p>Pip remembered how he'd only shared small pieces before.  He pulled out all his carrots, a mountain of orange delights, and shared them generously with Nutsy and Barnaby.  Nutsy, in turn, shared his dwindling nuts.  Barnaby, surprised by the unexpected generosity, offered a few berries he’d stashed.</p>\n",
              "<p>Together, they shared everything they had.  Their bellies filled, they huddled closer, sharing stories and warmth.  The storm raged outside, but inside the hollow log, a comforting silence settled.  They were safe, not just from the storm, but because they had trusted each other to share.</p>\n",
              "<p>When the sun finally broke through the clouds, Pip, Nutsy, and Barnaby emerged, stronger, their trust for each other firmly established.  They understood that sharing wasn't about losing, but about gaining something much more valuable – the warmth of friendship.</p>\n",
              "            </div>\n",
              "        </div>\n",
              "        \n",
              "            <div style=\"display: flex; gap: 20px;\">\n",
              "                <div style=\"width: 80%; padding: 10px; border: 1px solid #ddd; background-color: #f2f1fe;\">\n",
              "                    \n",
              "  <style>\n",
              "  table {\n",
              "    border-collapse: collapse; /* Ensures borders don't double up */\n",
              "    width: 100%; /* Optional: makes the table full width */\n",
              "  }\n",
              "\n",
              "  tr {\n",
              "    border-bottom: 1px solid #ccc; /* Sets a bottom border for each row */\n",
              "    border-top: 1px solid #ccc; /* Sets a bottom border for each row */\n",
              "  }\n",
              "\n",
              "  th, td {\n",
              "    font-weight: bold;\n",
              "    padding: 4px; /* Adds some spacing */\n",
              "    text-align: left; /* Aligns text to the left */\n",
              "    border-right: 1px solid #ccc; /* Sets a bottom border for each row */\n",
              "    border-left: 1px solid #ccc; /* Sets a bottom border for each row */\n",
              "  }\n",
              "  img {\n",
              "    width: 30%;\n",
              "  }\n",
              "  </style>\n",
              "  <table><tr><td><b>Story Structure</b></td><td></td><td style='color: #27ae60'>1.0</td></tr>\n",
              "<tr><td></td><td style='font-weight: normal;'>Plot Structure</td><td style='color: #27ae60'>1.0</td></tr>\n",
              "<tr><td></td><td style='font-weight: normal;'>Conflict Introduction</td><td style='color: #27ae60'>1.0</td></tr>\n",
              "<tr><td></td><td style='font-weight: normal;'>Resolution Clarity</td><td style='color: #27ae60'>1.0</td></tr>\n",
              "\n",
              "\n",
              "<tr><td><b>Character Development</b></td><td></td><td style='color: #27ae60'>1.0</td></tr>\n",
              "<tr><td></td><td style='font-weight: normal;'>Character Presence</td><td style='color: #27ae60'>1.0</td></tr>\n",
              "<tr><td></td><td style='font-weight: normal;'>Character Development</td><td style='color: #27ae60'>1.0</td></tr>\n",
              "<tr><td></td><td style='font-weight: normal;'>Dialogue Quality</td><td style='color: #27ae60'>1.0</td></tr>\n",
              "\n",
              "\n",
              "<tr><td><b>Narrative Engagement</b></td><td></td><td style='color: #29b765'>0.914</td></tr>\n",
              "<tr><td></td><td style='font-weight: normal;'>Engaging Narrative</td><td style='color: #27ae60'>1.0</td></tr>\n",
              "<tr><td></td><td style='font-weight: normal;'>Imagery Use</td><td style='color: #2ecb70'>0.746</td></tr>\n",
              "<tr><td></td><td style='font-weight: normal;'>Repetitive Elements</td><td style='color: #27ae60'>0.996</td></tr>\n",
              "\n",
              "\n",
              "<tr><td><b>Language Appropriateness</b></td><td></td><td style='color: #27ae60'>1.0</td></tr>\n",
              "<tr><td></td><td style='font-weight: normal;'>Language Simplicity</td><td style='color: #27ae60'>1.0</td></tr>\n",
              "<tr><td></td><td style='font-weight: normal;'>Length Appropriateness</td><td style='color: #27ae60'>1.0</td></tr>\n",
              "\n",
              "\n",
              "<tr><td><b>Moral and Cultural Sensitivity</b></td><td></td><td style='color: #27ae60'>1.0</td></tr>\n",
              "<tr><td></td><td style='font-weight: normal;'>Moral Clarity</td><td style='color: #27ae60'>1.0</td></tr>\n",
              "<tr><td></td><td style='font-weight: normal;'>Life Lesson Reiteration</td><td style='color: #27ae60'>1.0</td></tr>\n",
              "<tr><td></td><td style='font-weight: normal;'>Cultural Sensitivity</td><td style='color: #27ae60'>1.0</td></tr>\n",
              "\n",
              "\n",
              "<tr><td><b>Illustration Integration</b></td><td></td><td style='color: #2dca70'>0.758</td></tr>\n",
              "<tr><td></td><td style='font-weight: normal;'>Illustration Suggestions</td><td style='color: #2dca70'>0.758</td></tr>\n",
              "\n",
              "\n",
              "<tr></tr>\n",
              "<tr><td>Total score</td><td></td><td style='color: #28b463'><b>0.945</b></td></tr>\n",
              "</table>\n",
              "                </div>\n",
              "            </div>"
            ]
          },
          "metadata": {}
        },
        {
          "output_type": "stream",
          "name": "stdout",
          "text": [
            "\n",
            "\n",
            "\n"
          ]
        },
        {
          "output_type": "display_data",
          "data": {
            "text/plain": [
              "<IPython.core.display.HTML object>"
            ],
            "text/html": [
              "\n",
              "        <div style=\"display: flex; gap: 20px;\">\n",
              "            <div style=\"width: 80%; padding: 10px; border: 1px solid #ddd; background-color: #fff9f5;\">\n",
              "                <h4><h4>Input:</h4>\n",
              "<p>Generate a tale that illustrates the importance of keeping promises, featuring a loyal dog and a forgetful turtle.</p></h4>\n",
              "            </div>\n",
              "        </div>\n",
              "        <div style=\"display: flex; gap: 20px;\">\n",
              "            <div style=\"width: 80%; padding: 10px; border: 1px solid #ddd; background-color: #f0f0f0; text-align:center;\">\n",
              "                <h4>gemini/gemini-1.5-flash-8b</h4>\n",
              "            </div>\n",
              "        </div>\n",
              "        <div style=\"display: flex; gap: 20px;\">\n",
              "            <div style=\"width: 80%; padding: 10px; border: 1px solid #ddd;\">\n",
              "                <h4>Output:</h4>\n",
              "<p>Barnaby the beagle, a dog of unwavering loyalty, loved to play fetch.  He would race across the meadow, retrieving a brightly coloured ball, his tail wagging furiously.  He always brought it back to his friend, Sheldon the turtle, who patiently waited, a thoughtful expression on his shell.  \"I promise,\" Barnaby would bark, \"I'll bring it back, Sheldon!\"</p>\n",
              "<p>Sheldon, with his slow and steady pace, was a creature of habit.  He loved his quiet pond and the plump water lilies that grew there.  He also loved the promise of a game of fetch.  He found Barnaby's promise delightful, but Sheldon's memory was as slow as his shell.  He often forgot what he was supposed to do, what he had said he would do.</p>\n",
              "<p>One sunny afternoon, Barnaby bounded across the meadow, the ball held high.  He zipped and zoomed, his paws pounding the earth. \"I promise, Sheldon!\" he barked,  \"I'll get you the ball!\"</p>\n",
              "<p>Sheldon, nestled amongst the reeds, nodded.  He saw the ball, but as Barnaby played hide-and-seek with the tall grasses, Sheldon pondered the best way to collect berries, forgetting his promise.</p>\n",
              "<p>Barnaby, after a long chase, returned to the pond, the ball clutched in his mouth. He looked around, expecting Sheldon. \"Sheldon?\" he barked.</p>\n",
              "<p>No Sheldon.  Barnaby trotted closer to the pond, and then, a gentle sigh, a worried look.  There was Sheldon, nibbling on a particularly plump water lily, completely oblivious to Barnaby's arrival.</p>\n",
              "<p>Barnaby, disappointed, lowered the ball.  He looked at Sheldon, who looked up, startled, then back at the ball.   A flicker of understanding touched Sheldon’s shell.  \"Oh, Barnaby,\" Sheldon mumbled, \"I had forgotten.\"</p>\n",
              "<p>Barnaby wagged his tail slowly, understanding now, too.  The game couldn’t continue until the promise was met.  He gently placed the ball at Sheldon's feet.  Sheldon, realizing his forgetfulness, felt a pang of regret. From that day forward, Sheldon made a conscious effort to remember his promises, and Barnaby knew that, even with a forgetful friend, loyalty and promises were important.</p>\n",
              "            </div>\n",
              "        </div>\n",
              "        \n",
              "            <div style=\"display: flex; gap: 20px;\">\n",
              "                <div style=\"width: 80%; padding: 10px; border: 1px solid #ddd; background-color: #f2f1fe;\">\n",
              "                    \n",
              "  <style>\n",
              "  table {\n",
              "    border-collapse: collapse; /* Ensures borders don't double up */\n",
              "    width: 100%; /* Optional: makes the table full width */\n",
              "  }\n",
              "\n",
              "  tr {\n",
              "    border-bottom: 1px solid #ccc; /* Sets a bottom border for each row */\n",
              "    border-top: 1px solid #ccc; /* Sets a bottom border for each row */\n",
              "  }\n",
              "\n",
              "  th, td {\n",
              "    font-weight: bold;\n",
              "    padding: 4px; /* Adds some spacing */\n",
              "    text-align: left; /* Aligns text to the left */\n",
              "    border-right: 1px solid #ccc; /* Sets a bottom border for each row */\n",
              "    border-left: 1px solid #ccc; /* Sets a bottom border for each row */\n",
              "  }\n",
              "  img {\n",
              "    width: 30%;\n",
              "  }\n",
              "  </style>\n",
              "  <table><tr><td><b>Story Structure</b></td><td></td><td style='color: #29b865'>0.913</td></tr>\n",
              "<tr><td></td><td style='font-weight: normal;'>Plot Structure</td><td style='color: #27ae60'>1.0</td></tr>\n",
              "<tr><td></td><td style='font-weight: normal;'>Conflict Introduction</td><td style='color: #2dca70'>0.758</td></tr>\n",
              "<tr><td></td><td style='font-weight: normal;'>Resolution Clarity</td><td style='color: #27af61'>0.98</td></tr>\n",
              "\n",
              "\n",
              "<tr><td><b>Character Development</b></td><td></td><td style='color: #27ae60'>1.0</td></tr>\n",
              "<tr><td></td><td style='font-weight: normal;'>Character Presence</td><td style='color: #27ae60'>1.0</td></tr>\n",
              "<tr><td></td><td style='font-weight: normal;'>Character Development</td><td style='color: #27ae60'>1.0</td></tr>\n",
              "<tr><td></td><td style='font-weight: normal;'>Dialogue Quality</td><td style='color: #27ae60'>1.0</td></tr>\n",
              "\n",
              "\n",
              "<tr><td><b>Narrative Engagement</b></td><td></td><td style='color: #2dcb70'>0.75</td></tr>\n",
              "<tr><td></td><td style='font-weight: normal;'>Engaging Narrative</td><td style='color: #2ecb70'>0.746</td></tr>\n",
              "<tr><td></td><td style='font-weight: normal;'>Imagery Use</td><td style='color: #2dcb70'>0.754</td></tr>\n",
              "<tr><td></td><td style='font-weight: normal;'>Repetitive Elements</td><td style='color: #2dcb70'>0.75</td></tr>\n",
              "\n",
              "\n",
              "<tr><td><b>Language Appropriateness</b></td><td></td><td style='color: #27ae60'>1.0</td></tr>\n",
              "<tr><td></td><td style='font-weight: normal;'>Language Simplicity</td><td style='color: #27ae60'>1.0</td></tr>\n",
              "<tr><td></td><td style='font-weight: normal;'>Length Appropriateness</td><td style='color: #27ae60'>1.0</td></tr>\n",
              "\n",
              "\n",
              "<tr><td><b>Moral and Cultural Sensitivity</b></td><td></td><td style='color: #29b765'>0.919</td></tr>\n",
              "<tr><td></td><td style='font-weight: normal;'>Moral Clarity</td><td style='color: #27ae60'>1.0</td></tr>\n",
              "<tr><td></td><td style='font-weight: normal;'>Life Lesson Reiteration</td><td style='color: #2dca70'>0.758</td></tr>\n",
              "<tr><td></td><td style='font-weight: normal;'>Cultural Sensitivity</td><td style='color: #27ae60'>1.0</td></tr>\n",
              "\n",
              "\n",
              "<tr><td><b>Illustration Integration</b></td><td></td><td style='color: #2dcb70'>0.754</td></tr>\n",
              "<tr><td></td><td style='font-weight: normal;'>Illustration Suggestions</td><td style='color: #2dcb70'>0.754</td></tr>\n",
              "\n",
              "\n",
              "<tr></tr>\n",
              "<tr><td>Total score</td><td></td><td style='color: #2abb67'><b>0.889</b></td></tr>\n",
              "</table>\n",
              "                </div>\n",
              "            </div>"
            ]
          },
          "metadata": {}
        },
        {
          "output_type": "stream",
          "name": "stdout",
          "text": [
            "\n",
            "\n",
            "\n"
          ]
        },
        {
          "output_type": "display_data",
          "data": {
            "text/plain": [
              "<IPython.core.display.HTML object>"
            ],
            "text/html": [
              "\n",
              "        <div style=\"display: flex; gap: 20px;\">\n",
              "            <div style=\"width: 80%; padding: 10px; border: 1px solid #ddd; background-color: #fff9f5;\">\n",
              "                <h4><h4>Input:</h4>\n",
              "<p>Create a fable about a young turtle who learns that patience can lead to great rewards in life.</p></h4>\n",
              "            </div>\n",
              "        </div>\n",
              "        <div style=\"display: flex; gap: 20px;\">\n",
              "            <div style=\"width: 80%; padding: 10px; border: 1px solid #ddd; background-color: #f0f0f0; text-align:center;\">\n",
              "                <h4>gemini/gemini-1.5-flash-8b</h4>\n",
              "            </div>\n",
              "        </div>\n",
              "        <div style=\"display: flex; gap: 20px;\">\n",
              "            <div style=\"width: 80%; padding: 10px; border: 1px solid #ddd;\">\n",
              "                <h4>Output:</h4>\n",
              "<p>Tiny Terrapin, a young turtle with a shell the color of a summer sky, longed for the glittering, juicy berries that grew high atop the tallest fig tree.  Every day, he'd watch the swift rabbits and the nimble squirrels scamper up the tree, their paws reaching for the prize.  Frustrated, Terrapin tried to climb, but his legs, though strong, were slow.  He'd slip and slide, his shell scraping against the bark, each fall a fresh pang of disappointment.</p>\n",
              "<p>The other animals, seeing his struggles, chuckled. \"You'll never reach those berries,\" they'd jeer.  \"You're too slow, too clumsy!\"</p>\n",
              "<p>Terrapin felt his heart sink.  He tried a different route, a quicker one, but the slope was too steep.  He tried another, a longer one, but the berries still seemed out of reach.  He was about to give up, ready to accept a life of humble, leafy greens, when he saw a wise old owl perched on a branch.</p>\n",
              "<p>\"Why the long face, little one?\" the owl hooted gently.</p>\n",
              "<p>Terrapin, tears welling in his eyes, explained his plight.</p>\n",
              "<p>The owl smiled.  \"Patience, little Terrapin, is the key.  Speed will not always be your friend.  Consider the berries; they are ripe, and sweet, because the tree has taken its time nurturing them.  Just as the tree needs time to grow the berries, you need time to achieve your goals.\"</p>\n",
              "<p>Terrapin thought about this. He carefully observed the squirrels and rabbits, noticing how their speed often led them to lose their grip.  With a deep breath, he decided to try a different strategy. He chose a slow, steady climb, taking his time with each step, focusing on each patch of bark beneath his feet.  He carefully assessed the angle of each incline, never rushing.  And finally, after what seemed like an eternity, he reached the top.  The juicy, glistening berries, plump and delicious, awaited him.</p>\n",
              "<p>He savored each one, appreciating the fruits of his careful climb.  The rabbits and squirrels, who had rushed past him countless times, were now watching, their eyes wide.  The wise owl nodded with satisfaction, knowing Terrapin had learned a valuable lesson.  From that day on, Terrapin always climbed with patience and thought, and he always found that the sweetest rewards came to those who persevered.</p>\n",
              "            </div>\n",
              "        </div>\n",
              "        \n",
              "            <div style=\"display: flex; gap: 20px;\">\n",
              "                <div style=\"width: 80%; padding: 10px; border: 1px solid #ddd; background-color: #f2f1fe;\">\n",
              "                    \n",
              "  <style>\n",
              "  table {\n",
              "    border-collapse: collapse; /* Ensures borders don't double up */\n",
              "    width: 100%; /* Optional: makes the table full width */\n",
              "  }\n",
              "\n",
              "  tr {\n",
              "    border-bottom: 1px solid #ccc; /* Sets a bottom border for each row */\n",
              "    border-top: 1px solid #ccc; /* Sets a bottom border for each row */\n",
              "  }\n",
              "\n",
              "  th, td {\n",
              "    font-weight: bold;\n",
              "    padding: 4px; /* Adds some spacing */\n",
              "    text-align: left; /* Aligns text to the left */\n",
              "    border-right: 1px solid #ccc; /* Sets a bottom border for each row */\n",
              "    border-left: 1px solid #ccc; /* Sets a bottom border for each row */\n",
              "  }\n",
              "  img {\n",
              "    width: 30%;\n",
              "  }\n",
              "  </style>\n",
              "  <table><tr><td><b>Story Structure</b></td><td></td><td style='color: #27ae60'>1.0</td></tr>\n",
              "<tr><td></td><td style='font-weight: normal;'>Plot Structure</td><td style='color: #27ae60'>1.0</td></tr>\n",
              "<tr><td></td><td style='font-weight: normal;'>Conflict Introduction</td><td style='color: #27ae60'>1.0</td></tr>\n",
              "<tr><td></td><td style='font-weight: normal;'>Resolution Clarity</td><td style='color: #27ae60'>1.0</td></tr>\n",
              "\n",
              "\n",
              "<tr><td><b>Character Development</b></td><td></td><td style='color: #28b463'>0.944</td></tr>\n",
              "<tr><td></td><td style='font-weight: normal;'>Character Presence</td><td style='color: #2bc16b'>0.832</td></tr>\n",
              "<tr><td></td><td style='font-weight: normal;'>Character Development</td><td style='color: #27ae60'>1.0</td></tr>\n",
              "<tr><td></td><td style='font-weight: normal;'>Dialogue Quality</td><td style='color: #27ae60'>1.0</td></tr>\n",
              "\n",
              "\n",
              "<tr><td><b>Narrative Engagement</b></td><td></td><td style='color: #27ae60'>1.0</td></tr>\n",
              "<tr><td></td><td style='font-weight: normal;'>Engaging Narrative</td><td style='color: #27ae60'>1.0</td></tr>\n",
              "<tr><td></td><td style='font-weight: normal;'>Imagery Use</td><td style='color: #27ae60'>1.0</td></tr>\n",
              "<tr><td></td><td style='font-weight: normal;'>Repetitive Elements</td><td style='color: #27ae60'>1.0</td></tr>\n",
              "\n",
              "\n",
              "<tr><td><b>Language Appropriateness</b></td><td></td><td style='color: #27ae60'>1.0</td></tr>\n",
              "<tr><td></td><td style='font-weight: normal;'>Language Simplicity</td><td style='color: #27ae60'>1.0</td></tr>\n",
              "<tr><td></td><td style='font-weight: normal;'>Length Appropriateness</td><td style='color: #27ae60'>1.0</td></tr>\n",
              "\n",
              "\n",
              "<tr><td><b>Moral and Cultural Sensitivity</b></td><td></td><td style='color: #27ae60'>1.0</td></tr>\n",
              "<tr><td></td><td style='font-weight: normal;'>Moral Clarity</td><td style='color: #27ae60'>1.0</td></tr>\n",
              "<tr><td></td><td style='font-weight: normal;'>Life Lesson Reiteration</td><td style='color: #27ae60'>1.0</td></tr>\n",
              "<tr><td></td><td style='font-weight: normal;'>Cultural Sensitivity</td><td style='color: #27ae60'>1.0</td></tr>\n",
              "\n",
              "\n",
              "<tr><td><b>Illustration Integration</b></td><td></td><td style='color: #27ae60'>1.0</td></tr>\n",
              "<tr><td></td><td style='font-weight: normal;'>Illustration Suggestions</td><td style='color: #27ae60'>1.0</td></tr>\n",
              "\n",
              "\n",
              "<tr></tr>\n",
              "<tr><td>Total score</td><td></td><td style='color: #27ae60'><b>0.991</b></td></tr>\n",
              "</table>\n",
              "                </div>\n",
              "            </div>"
            ]
          },
          "metadata": {}
        },
        {
          "output_type": "stream",
          "name": "stdout",
          "text": [
            "\n",
            "\n",
            "\n"
          ]
        },
        {
          "output_type": "display_data",
          "data": {
            "text/plain": [
              "<IPython.core.display.HTML object>"
            ],
            "text/html": [
              "\n",
              "        <div style=\"display: flex; gap: 20px;\">\n",
              "            <div style=\"width: 80%; padding: 10px; border: 1px solid #ddd; background-color: #fff9f5;\">\n",
              "                <h4><h4>Input:</h4>\n",
              "<p>Tell a story of a squirrel who discovers that resisting temptation leads to greater success in gathering food for winter.</p></h4>\n",
              "            </div>\n",
              "        </div>\n",
              "        <div style=\"display: flex; gap: 20px;\">\n",
              "            <div style=\"width: 80%; padding: 10px; border: 1px solid #ddd; background-color: #f0f0f0; text-align:center;\">\n",
              "                <h4>gemini/gemini-1.5-flash-8b</h4>\n",
              "            </div>\n",
              "        </div>\n",
              "        <div style=\"display: flex; gap: 20px;\">\n",
              "            <div style=\"width: 80%; padding: 10px; border: 1px solid #ddd;\">\n",
              "                <h4>Output:</h4>\n",
              "<p>Barnaby the squirrel was renowned for his impulsive nature.  Every plump nut, every juicy berry, every glistening acorn sparked a mad dash in his tiny heart.  He’d scamper, snatch, and stash, a whirlwind of frantic activity.  But he’d often leave behind treasures, scattering nuts, and dropping berries.  Winter always arrived too soon, and Barnaby would find himself shivering in his flimsy nest, his larder bare.</p>\n",
              "<p>One year, a wise old owl, Hoot, noticed Barnaby’s frantic gathering. \"Barnaby,\" she hooted gently, \"your eagerness is admirable, but your method is flawed.  Observe the steadfast chipmunk, Clementine. She gathers meticulously, one nut at a time, and she holds back on the sweet things until the nuts are secure.\"</p>\n",
              "<p>Barnaby scoffed. \"Meticulous?  That’s for slowpokes!  I want <em>everything</em> now!\"</p>\n",
              "<p>But Hoot's words lingered.  That winter, Barnaby tried Clementine's method.  He carefully gathered nuts, one by one, placing them neatly in his hoard.  He resisted the urge to grab every tempting berry, knowing it would lessen his nut supply.</p>\n",
              "<p>When the first snow fell, Barnaby’s storehouse was overflowing.  He had more nuts than he could possibly need.  The other squirrels, who had succumbed to their cravings and scattered their stores, huddled in the cold, shivering and hungry.  Barnaby, nestled warmly in his well-stocked nest, had a feast.</p>\n",
              "<p>From that day on, Barnaby understood.  Resisting the allure of immediate pleasure, focusing on diligent, methodical work, led to a richer harvest than the fleeting joy of impulsive grabs.  He learned that true abundance came not from the pursuit of every temptation, but from the disciplined, patient gathering of his treasures.</p>\n",
              "            </div>\n",
              "        </div>\n",
              "        \n",
              "            <div style=\"display: flex; gap: 20px;\">\n",
              "                <div style=\"width: 80%; padding: 10px; border: 1px solid #ddd; background-color: #f2f1fe;\">\n",
              "                    \n",
              "  <style>\n",
              "  table {\n",
              "    border-collapse: collapse; /* Ensures borders don't double up */\n",
              "    width: 100%; /* Optional: makes the table full width */\n",
              "  }\n",
              "\n",
              "  tr {\n",
              "    border-bottom: 1px solid #ccc; /* Sets a bottom border for each row */\n",
              "    border-top: 1px solid #ccc; /* Sets a bottom border for each row */\n",
              "  }\n",
              "\n",
              "  th, td {\n",
              "    font-weight: bold;\n",
              "    padding: 4px; /* Adds some spacing */\n",
              "    text-align: left; /* Aligns text to the left */\n",
              "    border-right: 1px solid #ccc; /* Sets a bottom border for each row */\n",
              "    border-left: 1px solid #ccc; /* Sets a bottom border for each row */\n",
              "  }\n",
              "  img {\n",
              "    width: 30%;\n",
              "  }\n",
              "  </style>\n",
              "  <table><tr><td><b>Story Structure</b></td><td></td><td style='color: #27ae60'>1.0</td></tr>\n",
              "<tr><td></td><td style='font-weight: normal;'>Plot Structure</td><td style='color: #27ae60'>1.0</td></tr>\n",
              "<tr><td></td><td style='font-weight: normal;'>Conflict Introduction</td><td style='color: #27ae60'>1.0</td></tr>\n",
              "<tr><td></td><td style='font-weight: normal;'>Resolution Clarity</td><td style='color: #27ae60'>1.0</td></tr>\n",
              "\n",
              "\n",
              "<tr><td><b>Character Development</b></td><td></td><td style='color: #27ae60'>1.0</td></tr>\n",
              "<tr><td></td><td style='font-weight: normal;'>Character Presence</td><td style='color: #27ae60'>1.0</td></tr>\n",
              "<tr><td></td><td style='font-weight: normal;'>Character Development</td><td style='color: #27ae60'>1.0</td></tr>\n",
              "<tr><td></td><td style='font-weight: normal;'>Dialogue Quality</td><td style='color: #27ae60'>1.0</td></tr>\n",
              "\n",
              "\n",
              "<tr><td><b>Narrative Engagement</b></td><td></td><td style='color: #28b564'>0.936</td></tr>\n",
              "<tr><td></td><td style='font-weight: normal;'>Engaging Narrative</td><td style='color: #27ae60'>1.0</td></tr>\n",
              "<tr><td></td><td style='font-weight: normal;'>Imagery Use</td><td style='color: #2cc46c'>0.809</td></tr>\n",
              "<tr><td></td><td style='font-weight: normal;'>Repetitive Elements</td><td style='color: #27ae60'>1.0</td></tr>\n",
              "\n",
              "\n",
              "<tr><td><b>Language Appropriateness</b></td><td></td><td style='color: #27ae60'>1.0</td></tr>\n",
              "<tr><td></td><td style='font-weight: normal;'>Language Simplicity</td><td style='color: #27ae60'>1.0</td></tr>\n",
              "<tr><td></td><td style='font-weight: normal;'>Length Appropriateness</td><td style='color: #27ae60'>1.0</td></tr>\n",
              "\n",
              "\n",
              "<tr><td><b>Moral and Cultural Sensitivity</b></td><td></td><td style='color: #27ae60'>1.0</td></tr>\n",
              "<tr><td></td><td style='font-weight: normal;'>Moral Clarity</td><td style='color: #27ae60'>1.0</td></tr>\n",
              "<tr><td></td><td style='font-weight: normal;'>Life Lesson Reiteration</td><td style='color: #27ae60'>1.0</td></tr>\n",
              "<tr><td></td><td style='font-weight: normal;'>Cultural Sensitivity</td><td style='color: #27ae60'>1.0</td></tr>\n",
              "\n",
              "\n",
              "<tr><td><b>Illustration Integration</b></td><td></td><td style='color: #27ae60'>1.0</td></tr>\n",
              "<tr><td></td><td style='font-weight: normal;'>Illustration Suggestions</td><td style='color: #27ae60'>1.0</td></tr>\n",
              "\n",
              "\n",
              "<tr></tr>\n",
              "<tr><td>Total score</td><td></td><td style='color: #27ae60'><b>0.989</b></td></tr>\n",
              "</table>\n",
              "                </div>\n",
              "            </div>"
            ]
          },
          "metadata": {}
        },
        {
          "output_type": "stream",
          "name": "stdout",
          "text": [
            "\n",
            "\n",
            "\n"
          ]
        },
        {
          "output_type": "display_data",
          "data": {
            "text/plain": [
              "<IPython.core.display.HTML object>"
            ],
            "text/html": [
              "\n",
              "        <div style=\"display: flex; gap: 20px;\">\n",
              "            <div style=\"width: 80%; padding: 10px; border: 1px solid #ddd; background-color: #fff9f5;\">\n",
              "                <h4><h4>Input:</h4>\n",
              "<p>Write a fable about a stubborn donkey who learns that self-control is essential to avoid danger in the forest.</p></h4>\n",
              "            </div>\n",
              "        </div>\n",
              "        <div style=\"display: flex; gap: 20px;\">\n",
              "            <div style=\"width: 80%; padding: 10px; border: 1px solid #ddd; background-color: #f0f0f0; text-align:center;\">\n",
              "                <h4>gemini/gemini-1.5-flash-8b</h4>\n",
              "            </div>\n",
              "        </div>\n",
              "        <div style=\"display: flex; gap: 20px;\">\n",
              "            <div style=\"width: 80%; padding: 10px; border: 1px solid #ddd;\">\n",
              "                <h4>Output:</h4>\n",
              "<p>Barnaby the donkey was renowned for his stubbornness.  He'd refuse to budge from a particularly juicy patch of clover, even when a rumbling lion's roar echoed through the forest.  He'd argue with the most sensible of squirrels over the best route to the watering hole.</p>\n",
              "<p>One sunny afternoon, Barnaby spotted a shimmering pool of honey in a hollow log.  The scent was intoxicating, a symphony of sweetness that filled his nostrils.  He pranced towards it, hooves drumming a frantic rhythm against the forest floor.  A honeybee, the size of Barnaby's fist, buzzed angrily around the log.  \"Keep back, you clumsy brute!\" it warned.</p>\n",
              "<p>But Barnaby, as usual, was deaf to warnings.  He reached for the honey, his nose practically touching the log. The bee stung him on the snout.  Barnaby, surprised, yelped and lashed out with his head.  He knocked over the log, spilling the honey across the forest floor.  The bees, sensing danger, swarmed him, stinging him relentlessly.</p>\n",
              "<p>Barnaby, finally realizing his foolishness, stumbled back, kicking up dust.  He ran to the stream, his eyes full of tears.  A wise old owl, perched on a branch above, watched his suffering. \"Why did you act so rashly?\" the owl hooted.</p>\n",
              "<p>\"The honey was so tempting!\" Barnaby cried. \"I couldn't resist!\"</p>\n",
              "<p>The owl sighed. \"Self-control, my young friend,\" she said gently, \"is the strongest armor against danger.  Had you listened to the bee, you might have saved yourself a world of pain.  The reward of impulsive actions is often only suffering.\"</p>\n",
              "<p>Barnaby, humbled, bowed his head.  From that day on, Barnaby listened more attentively to the warnings of others, especially when the honey of temptation was within reach.  He realized that true wisdom lay not in the quick satisfaction of his desires, but in the steady path of self-control.</p>\n",
              "            </div>\n",
              "        </div>\n",
              "        \n",
              "            <div style=\"display: flex; gap: 20px;\">\n",
              "                <div style=\"width: 80%; padding: 10px; border: 1px solid #ddd; background-color: #f2f1fe;\">\n",
              "                    \n",
              "  <style>\n",
              "  table {\n",
              "    border-collapse: collapse; /* Ensures borders don't double up */\n",
              "    width: 100%; /* Optional: makes the table full width */\n",
              "  }\n",
              "\n",
              "  tr {\n",
              "    border-bottom: 1px solid #ccc; /* Sets a bottom border for each row */\n",
              "    border-top: 1px solid #ccc; /* Sets a bottom border for each row */\n",
              "  }\n",
              "\n",
              "  th, td {\n",
              "    font-weight: bold;\n",
              "    padding: 4px; /* Adds some spacing */\n",
              "    text-align: left; /* Aligns text to the left */\n",
              "    border-right: 1px solid #ccc; /* Sets a bottom border for each row */\n",
              "    border-left: 1px solid #ccc; /* Sets a bottom border for each row */\n",
              "  }\n",
              "  img {\n",
              "    width: 30%;\n",
              "  }\n",
              "  </style>\n",
              "  <table><tr><td><b>Story Structure</b></td><td></td><td style='color: #28b664'>0.928</td></tr>\n",
              "<tr><td></td><td style='font-weight: normal;'>Plot Structure</td><td style='color: #27ae60'>1.0</td></tr>\n",
              "<tr><td></td><td style='font-weight: normal;'>Conflict Introduction</td><td style='color: #27ae60'>1.0</td></tr>\n",
              "<tr><td></td><td style='font-weight: normal;'>Resolution Clarity</td><td style='color: #2cc76e'>0.785</td></tr>\n",
              "\n",
              "\n",
              "<tr><td><b>Character Development</b></td><td></td><td style='color: #28b664'>0.927</td></tr>\n",
              "<tr><td></td><td style='font-weight: normal;'>Character Presence</td><td style='color: #2dc76e'>0.781</td></tr>\n",
              "<tr><td></td><td style='font-weight: normal;'>Character Development</td><td style='color: #27ae60'>1.0</td></tr>\n",
              "<tr><td></td><td style='font-weight: normal;'>Dialogue Quality</td><td style='color: #27ae60'>1.0</td></tr>\n",
              "\n",
              "\n",
              "<tr><td><b>Narrative Engagement</b></td><td></td><td style='color: #2bc26b'>0.826</td></tr>\n",
              "<tr><td></td><td style='font-weight: normal;'>Engaging Narrative</td><td style='color: #28b564'>0.934</td></tr>\n",
              "<tr><td></td><td style='font-weight: normal;'>Imagery Use</td><td style='color: #2dca70'>0.762</td></tr>\n",
              "<tr><td></td><td style='font-weight: normal;'>Repetitive Elements</td><td style='color: #2dc76e'>0.781</td></tr>\n",
              "\n",
              "\n",
              "<tr><td><b>Language Appropriateness</b></td><td></td><td style='color: #27ae60'>1.0</td></tr>\n",
              "<tr><td></td><td style='font-weight: normal;'>Language Simplicity</td><td style='color: #27ae60'>1.0</td></tr>\n",
              "<tr><td></td><td style='font-weight: normal;'>Length Appropriateness</td><td style='color: #27ae60'>1.0</td></tr>\n",
              "\n",
              "\n",
              "<tr><td><b>Moral and Cultural Sensitivity</b></td><td></td><td style='color: #27ae60'>1.0</td></tr>\n",
              "<tr><td></td><td style='font-weight: normal;'>Moral Clarity</td><td style='color: #27ae60'>1.0</td></tr>\n",
              "<tr><td></td><td style='font-weight: normal;'>Life Lesson Reiteration</td><td style='color: #27ae60'>1.0</td></tr>\n",
              "<tr><td></td><td style='font-weight: normal;'>Cultural Sensitivity</td><td style='color: #27ae60'>1.0</td></tr>\n",
              "\n",
              "\n",
              "<tr><td><b>Illustration Integration</b></td><td></td><td style='color: #2dca70'>0.762</td></tr>\n",
              "<tr><td></td><td style='font-weight: normal;'>Illustration Suggestions</td><td style='color: #2dca70'>0.762</td></tr>\n",
              "\n",
              "\n",
              "<tr></tr>\n",
              "<tr><td>Total score</td><td></td><td style='color: #29b866'><b>0.907</b></td></tr>\n",
              "</table>\n",
              "                </div>\n",
              "            </div>"
            ]
          },
          "metadata": {}
        },
        {
          "output_type": "stream",
          "name": "stdout",
          "text": [
            "\n",
            "\n",
            "\n"
          ]
        },
        {
          "output_type": "display_data",
          "data": {
            "text/plain": [
              "<IPython.core.display.HTML object>"
            ],
            "text/html": [
              "\n",
              "        <div style=\"display: flex; gap: 20px;\">\n",
              "            <div style=\"width: 80%; padding: 10px; border: 1px solid #ddd; background-color: #fff9f5;\">\n",
              "                <h4><h4>Input:</h4>\n",
              "<p>Create a fable that illustrates how teamwork can help a group of animals achieve their goal of reaching a distant berry bush.</p></h4>\n",
              "            </div>\n",
              "        </div>\n",
              "        <div style=\"display: flex; gap: 20px;\">\n",
              "            <div style=\"width: 80%; padding: 10px; border: 1px solid #ddd; background-color: #f0f0f0; text-align:center;\">\n",
              "                <h4>gemini/gemini-1.5-flash-8b</h4>\n",
              "            </div>\n",
              "        </div>\n",
              "        <div style=\"display: flex; gap: 20px;\">\n",
              "            <div style=\"width: 80%; padding: 10px; border: 1px solid #ddd;\">\n",
              "                <h4>Output:</h4>\n",
              "<p>The rabbits, squirrels, and chipmunks huddled together, their noses twitching.  A magnificent berry bush, laden with glistening, ruby red fruit, shimmered far across the meadow.  It was a tempting sight, but the wide, grassy expanse stretched between them and their prize.</p>\n",
              "<p>Barnaby the rabbit, puffed with pride, declared, \"I'll be the first to the berries!  My powerful legs are unmatched!\"  He took off, a blur of brown fur.  But the grass was thick and the path uneven.  He tripped, tumbling over a root, and lost his footing.</p>\n",
              "<p>Meanwhile, the squirrels, chattering amongst themselves, each tried to carry handfuls of berries back across the field.  Their tiny claws slipped on the slippery stems, and the berries tumbled to the ground.</p>\n",
              "<p>The chipmunks, though quick and agile, were too small to carry much weight.  Their efforts were like tiny ripples on a vast lake, barely making a dent in their journey.</p>\n",
              "<p>Discouragement settled upon the group.  They were so close, yet so far away.</p>\n",
              "<p>Then, Pip, a wise old owl, landed on a nearby branch.  \"Why are you scattering yourselves like grains of sand?\" she hooted.  \"You must work together!\"</p>\n",
              "<p>The animals listened.  The rabbits, squirrels, and chipmunks exchanged hesitant glances.  The rabbits formed a chain, their front paws gently nudging each other's backs.  The squirrels carefully handed berries to the rabbits.  The chipmunks, small but strong, dug tunnels through the tall grass, creating shortcuts.</p>\n",
              "<p>Soon, the berries began to trickle back to their community.  The rabbits, squirrels, and chipmunks, working as a team, were transporting the delicious fruit across the meadow.</p>\n",
              "<p>Finally, with a collective gasp of delight, they reached the bush.  They shared the berries, their bellies full, and their hearts full of joy.  They learned that together, even the smallest creatures could achieve extraordinary things.</p>\n",
              "            </div>\n",
              "        </div>\n",
              "        \n",
              "            <div style=\"display: flex; gap: 20px;\">\n",
              "                <div style=\"width: 80%; padding: 10px; border: 1px solid #ddd; background-color: #f2f1fe;\">\n",
              "                    \n",
              "  <style>\n",
              "  table {\n",
              "    border-collapse: collapse; /* Ensures borders don't double up */\n",
              "    width: 100%; /* Optional: makes the table full width */\n",
              "  }\n",
              "\n",
              "  tr {\n",
              "    border-bottom: 1px solid #ccc; /* Sets a bottom border for each row */\n",
              "    border-top: 1px solid #ccc; /* Sets a bottom border for each row */\n",
              "  }\n",
              "\n",
              "  th, td {\n",
              "    font-weight: bold;\n",
              "    padding: 4px; /* Adds some spacing */\n",
              "    text-align: left; /* Aligns text to the left */\n",
              "    border-right: 1px solid #ccc; /* Sets a bottom border for each row */\n",
              "    border-left: 1px solid #ccc; /* Sets a bottom border for each row */\n",
              "  }\n",
              "  img {\n",
              "    width: 30%;\n",
              "  }\n",
              "  </style>\n",
              "  <table><tr><td><b>Story Structure</b></td><td></td><td style='color: #2bbf6a'>0.85</td></tr>\n",
              "<tr><td></td><td style='font-weight: normal;'>Plot Structure</td><td style='color: #27ae60'>1.0</td></tr>\n",
              "<tr><td></td><td style='font-weight: normal;'>Conflict Introduction</td><td style='color: #2dc76e'>0.781</td></tr>\n",
              "<tr><td></td><td style='font-weight: normal;'>Resolution Clarity</td><td style='color: #2dc96f'>0.77</td></tr>\n",
              "\n",
              "\n",
              "<tr><td><b>Character Development</b></td><td></td><td style='color: #2dc96f'>0.77</td></tr>\n",
              "<tr><td></td><td style='font-weight: normal;'>Character Presence</td><td style='color: #2dca70'>0.762</td></tr>\n",
              "<tr><td></td><td style='font-weight: normal;'>Character Development</td><td style='color: #2dc96f'>0.766</td></tr>\n",
              "<tr><td></td><td style='font-weight: normal;'>Dialogue Quality</td><td style='color: #2dc76e'>0.781</td></tr>\n",
              "\n",
              "\n",
              "<tr><td><b>Narrative Engagement</b></td><td></td><td style='color: #2dcb70'>0.757</td></tr>\n",
              "<tr><td></td><td style='font-weight: normal;'>Engaging Narrative</td><td style='color: #2dcb70'>0.754</td></tr>\n",
              "<tr><td></td><td style='font-weight: normal;'>Imagery Use</td><td style='color: #2dca70'>0.762</td></tr>\n",
              "<tr><td></td><td style='font-weight: normal;'>Repetitive Elements</td><td style='color: #2dcb70'>0.754</td></tr>\n",
              "\n",
              "\n",
              "<tr><td><b>Language Appropriateness</b></td><td></td><td style='color: #2abc68'>0.881</td></tr>\n",
              "<tr><td></td><td style='font-weight: normal;'>Language Simplicity</td><td style='color: #2dca70'>0.762</td></tr>\n",
              "<tr><td></td><td style='font-weight: normal;'>Length Appropriateness</td><td style='color: #27ae60'>1.0</td></tr>\n",
              "\n",
              "\n",
              "<tr><td><b>Moral and Cultural Sensitivity</b></td><td></td><td style='color: #29b765'>0.914</td></tr>\n",
              "<tr><td></td><td style='font-weight: normal;'>Moral Clarity</td><td style='color: #27af61'>0.98</td></tr>\n",
              "<tr><td></td><td style='font-weight: normal;'>Life Lesson Reiteration</td><td style='color: #2dca70'>0.762</td></tr>\n",
              "<tr><td></td><td style='font-weight: normal;'>Cultural Sensitivity</td><td style='color: #27ae60'>1.0</td></tr>\n",
              "\n",
              "\n",
              "<tr><td><b>Illustration Integration</b></td><td></td><td style='color: #2dcb70'>0.754</td></tr>\n",
              "<tr><td></td><td style='font-weight: normal;'>Illustration Suggestions</td><td style='color: #2dcb70'>0.754</td></tr>\n",
              "\n",
              "\n",
              "<tr></tr>\n",
              "<tr><td>Total score</td><td></td><td style='color: #2bc36c'><b>0.821</b></td></tr>\n",
              "</table>\n",
              "                </div>\n",
              "            </div>"
            ]
          },
          "metadata": {}
        },
        {
          "output_type": "stream",
          "name": "stdout",
          "text": [
            "\n",
            "\n",
            "\n"
          ]
        },
        {
          "output_type": "display_data",
          "data": {
            "text/plain": [
              "<IPython.core.display.HTML object>"
            ],
            "text/html": [
              "\n",
              "        <div style=\"display: flex; gap: 20px;\">\n",
              "            <div style=\"width: 80%; padding: 10px; border: 1px solid #ddd; background-color: #fff9f5;\">\n",
              "                <h4><h4>Input:</h4>\n",
              "<p>Write a story about two birds who learn that collaborating together makes it easier to build a nest.</p></h4>\n",
              "            </div>\n",
              "        </div>\n",
              "        <div style=\"display: flex; gap: 20px;\">\n",
              "            <div style=\"width: 80%; padding: 10px; border: 1px solid #ddd; background-color: #f0f0f0; text-align:center;\">\n",
              "                <h4>gemini/gemini-1.5-flash-8b</h4>\n",
              "            </div>\n",
              "        </div>\n",
              "        <div style=\"display: flex; gap: 20px;\">\n",
              "            <div style=\"width: 80%; padding: 10px; border: 1px solid #ddd;\">\n",
              "                <h4>Output:</h4>\n",
              "<p>Pip and Tweet were two fledglings, eager to build their first nests. Pip, proud and strong, believed in doing everything alone.  He gathered twigs, one by one, hoisting them high with impressive chirps.  Tweet, small and nimble, flitted around, picking up small feathers and soft grasses.  Pip scoffed, \"You're too small to help, Tweet.  I can do this all myself!\"</p>\n",
              "<p>Tweet, though disheartened, persisted.  Pip's nest, built with brute force, was a lopsided mess of twigs, too thick and heavy in places, and too thin and flimsy in others.  It swayed precariously in the breeze.</p>\n",
              "<p>Tweet, meanwhile, had gathered a magnificent collection of soft materials.  She had woven them together with skill and patience, creating a cozy, stable foundation.  She placed it gently where the wind wouldn't catch it, using her small size to access difficult places.</p>\n",
              "<p>Seeing her nest, Pip realised his was unstable. He tried to add more twigs, but they only made the structure worse.  Defeated, he flew to Tweet.  \"Your nest is beautiful,\" he admitted.  \"I couldn't build it like that.  I've only been able to collect heavy twigs, and my nest is all wonky.\"</p>\n",
              "<p>Tweet, with a soft chirp, said, \"I couldn't gather the larger branches. You brought the needed strength.  Together, our combined efforts can make a magnificent nest.\"</p>\n",
              "<p>Pip and Tweet worked together.  Pip gathered the sturdy branches, while Tweet weaved in the soft materials, creating a strong and comfortable nest.  Their combined efforts, careful planning, and cooperation resulted in a warm and safe home, built to last for years.  And so, they both learned that collaboration brought strength and beauty, while pride and stubbornness brought only weakness.</p>\n",
              "            </div>\n",
              "        </div>\n",
              "        \n",
              "            <div style=\"display: flex; gap: 20px;\">\n",
              "                <div style=\"width: 80%; padding: 10px; border: 1px solid #ddd; background-color: #f2f1fe;\">\n",
              "                    \n",
              "  <style>\n",
              "  table {\n",
              "    border-collapse: collapse; /* Ensures borders don't double up */\n",
              "    width: 100%; /* Optional: makes the table full width */\n",
              "  }\n",
              "\n",
              "  tr {\n",
              "    border-bottom: 1px solid #ccc; /* Sets a bottom border for each row */\n",
              "    border-top: 1px solid #ccc; /* Sets a bottom border for each row */\n",
              "  }\n",
              "\n",
              "  th, td {\n",
              "    font-weight: bold;\n",
              "    padding: 4px; /* Adds some spacing */\n",
              "    text-align: left; /* Aligns text to the left */\n",
              "    border-right: 1px solid #ccc; /* Sets a bottom border for each row */\n",
              "    border-left: 1px solid #ccc; /* Sets a bottom border for each row */\n",
              "  }\n",
              "  img {\n",
              "    width: 30%;\n",
              "  }\n",
              "  </style>\n",
              "  <table><tr><td><b>Story Structure</b></td><td></td><td style='color: #27ae60'>1.0</td></tr>\n",
              "<tr><td></td><td style='font-weight: normal;'>Plot Structure</td><td style='color: #27ae60'>1.0</td></tr>\n",
              "<tr><td></td><td style='font-weight: normal;'>Conflict Introduction</td><td style='color: #27ae60'>1.0</td></tr>\n",
              "<tr><td></td><td style='font-weight: normal;'>Resolution Clarity</td><td style='color: #27ae60'>1.0</td></tr>\n",
              "\n",
              "\n",
              "<tr><td><b>Character Development</b></td><td></td><td style='color: #29b665'>0.922</td></tr>\n",
              "<tr><td></td><td style='font-weight: normal;'>Character Presence</td><td style='color: #2dc96f'>0.766</td></tr>\n",
              "<tr><td></td><td style='font-weight: normal;'>Character Development</td><td style='color: #27ae60'>1.0</td></tr>\n",
              "<tr><td></td><td style='font-weight: normal;'>Dialogue Quality</td><td style='color: #27ae60'>1.0</td></tr>\n",
              "\n",
              "\n",
              "<tr><td><b>Narrative Engagement</b></td><td></td><td style='color: #2abe69'>0.861</td></tr>\n",
              "<tr><td></td><td style='font-weight: normal;'>Engaging Narrative</td><td style='color: #2bc26b'>0.824</td></tr>\n",
              "<tr><td></td><td style='font-weight: normal;'>Imagery Use</td><td style='color: #2dca70'>0.758</td></tr>\n",
              "<tr><td></td><td style='font-weight: normal;'>Repetitive Elements</td><td style='color: #27ae60'>1.0</td></tr>\n",
              "\n",
              "\n",
              "<tr><td><b>Language Appropriateness</b></td><td></td><td style='color: #27ae60'>1.0</td></tr>\n",
              "<tr><td></td><td style='font-weight: normal;'>Language Simplicity</td><td style='color: #27ae60'>1.0</td></tr>\n",
              "<tr><td></td><td style='font-weight: normal;'>Length Appropriateness</td><td style='color: #27ae60'>1.0</td></tr>\n",
              "\n",
              "\n",
              "<tr><td><b>Moral and Cultural Sensitivity</b></td><td></td><td style='color: #27ae60'>1.0</td></tr>\n",
              "<tr><td></td><td style='font-weight: normal;'>Moral Clarity</td><td style='color: #27ae60'>1.0</td></tr>\n",
              "<tr><td></td><td style='font-weight: normal;'>Life Lesson Reiteration</td><td style='color: #27ae60'>1.0</td></tr>\n",
              "<tr><td></td><td style='font-weight: normal;'>Cultural Sensitivity</td><td style='color: #27ae60'>1.0</td></tr>\n",
              "\n",
              "\n",
              "<tr><td><b>Illustration Integration</b></td><td></td><td style='color: #2ecb70'>0.746</td></tr>\n",
              "<tr><td></td><td style='font-weight: normal;'>Illustration Suggestions</td><td style='color: #2ecb70'>0.746</td></tr>\n",
              "\n",
              "\n",
              "<tr></tr>\n",
              "<tr><td>Total score</td><td></td><td style='color: #29b765'><b>0.921</b></td></tr>\n",
              "</table>\n",
              "                </div>\n",
              "            </div>"
            ]
          },
          "metadata": {}
        },
        {
          "output_type": "stream",
          "name": "stdout",
          "text": [
            "\n",
            "\n",
            "\n"
          ]
        },
        {
          "output_type": "display_data",
          "data": {
            "text/plain": [
              "<IPython.core.display.HTML object>"
            ],
            "text/html": [
              "\n",
              "        <div style=\"display: flex; gap: 20px;\">\n",
              "            <div style=\"width: 80%; padding: 10px; border: 1px solid #ddd; background-color: #fff9f5;\">\n",
              "                <h4><h4>Input:</h4>\n",
              "<p>Generate a tale featuring a clever fox and a slow turtle who find that working together can overcome their individual limitations.</p></h4>\n",
              "            </div>\n",
              "        </div>\n",
              "        <div style=\"display: flex; gap: 20px;\">\n",
              "            <div style=\"width: 80%; padding: 10px; border: 1px solid #ddd; background-color: #f0f0f0; text-align:center;\">\n",
              "                <h4>gemini/gemini-1.5-flash-8b</h4>\n",
              "            </div>\n",
              "        </div>\n",
              "        <div style=\"display: flex; gap: 20px;\">\n",
              "            <div style=\"width: 80%; padding: 10px; border: 1px solid #ddd;\">\n",
              "                <h4>Output:</h4>\n",
              "<p>A sly fox named Finley, known throughout the forest for his cunning, longed to reach the juicy berries high atop the tallest oak.  But Finley was a poor climber.  He tried leaping, he tried scrambling, but the berries remained stubbornly out of reach.</p>\n",
              "<p>Meanwhile, a slow but steadfast turtle named Theodore, famed for his patient persistence, was struggling to carry a heavy basket of nuts back to his burrow.  The slope was steep, and the load weighed him down.</p>\n",
              "<p>Finley, watching Theodore's struggle, chuckled.  \"A heavy load for a slow turtle,\" he muttered.  \"I suppose I could help you, if only to watch you struggle.\"</p>\n",
              "<p>Theodore, who always believed in kindness, replied, \"You are a clever fox, Finley. Perhaps together we can manage.\"</p>\n",
              "<p>Finley, intrigued, thought a bit. \"Hmm, I'm not strong enough to carry a basket all the way. But I can climb. You can hold my tail as I scale the oak!\"</p>\n",
              "<p>Theodore, with his slow smile, agreed.  He carefully positioned himself at the base of the oak, holding on to Finley's thick tail with surprising strength.  Finley, using his agility, swiftly climbed the tree, reaching the berries and gathering them into a pouch.  He carefully descended, and Theodore, his basket now filled with the delectable nuts, carried them home with a contented sigh.</p>\n",
              "<p>From that day on, Finley and Theodore were the best of friends, proving that even the most different creatures can find strength in teamwork, a lesson that echoed throughout the forest.</p>\n",
              "            </div>\n",
              "        </div>\n",
              "        \n",
              "            <div style=\"display: flex; gap: 20px;\">\n",
              "                <div style=\"width: 80%; padding: 10px; border: 1px solid #ddd; background-color: #f2f1fe;\">\n",
              "                    \n",
              "  <style>\n",
              "  table {\n",
              "    border-collapse: collapse; /* Ensures borders don't double up */\n",
              "    width: 100%; /* Optional: makes the table full width */\n",
              "  }\n",
              "\n",
              "  tr {\n",
              "    border-bottom: 1px solid #ccc; /* Sets a bottom border for each row */\n",
              "    border-top: 1px solid #ccc; /* Sets a bottom border for each row */\n",
              "  }\n",
              "\n",
              "  th, td {\n",
              "    font-weight: bold;\n",
              "    padding: 4px; /* Adds some spacing */\n",
              "    text-align: left; /* Aligns text to the left */\n",
              "    border-right: 1px solid #ccc; /* Sets a bottom border for each row */\n",
              "    border-left: 1px solid #ccc; /* Sets a bottom border for each row */\n",
              "  }\n",
              "  img {\n",
              "    width: 30%;\n",
              "  }\n",
              "  </style>\n",
              "  <table><tr><td><b>Story Structure</b></td><td></td><td style='color: #29b665'>0.923</td></tr>\n",
              "<tr><td></td><td style='font-weight: normal;'>Plot Structure</td><td style='color: #27ae60'>1.0</td></tr>\n",
              "<tr><td></td><td style='font-weight: normal;'>Conflict Introduction</td><td style='color: #27ae60'>1.0</td></tr>\n",
              "<tr><td></td><td style='font-weight: normal;'>Resolution Clarity</td><td style='color: #2dc96f'>0.77</td></tr>\n",
              "\n",
              "\n",
              "<tr><td><b>Character Development</b></td><td></td><td style='color: #29b966'>0.904</td></tr>\n",
              "<tr><td></td><td style='font-weight: normal;'>Character Presence</td><td style='color: #28b363'>0.949</td></tr>\n",
              "<tr><td></td><td style='font-weight: normal;'>Character Development</td><td style='color: #2dca70'>0.762</td></tr>\n",
              "<tr><td></td><td style='font-weight: normal;'>Dialogue Quality</td><td style='color: #27ae60'>1.0</td></tr>\n",
              "\n",
              "\n",
              "<tr><td><b>Narrative Engagement</b></td><td></td><td style='color: #29b765'>0.915</td></tr>\n",
              "<tr><td></td><td style='font-weight: normal;'>Engaging Narrative</td><td style='color: #27ae60'>1.0</td></tr>\n",
              "<tr><td></td><td style='font-weight: normal;'>Imagery Use</td><td style='color: #2dca70'>0.758</td></tr>\n",
              "<tr><td></td><td style='font-weight: normal;'>Repetitive Elements</td><td style='color: #27ae60'>0.988</td></tr>\n",
              "\n",
              "\n",
              "<tr><td><b>Language Appropriateness</b></td><td></td><td style='color: #27ae60'>1.0</td></tr>\n",
              "<tr><td></td><td style='font-weight: normal;'>Language Simplicity</td><td style='color: #27ae60'>1.0</td></tr>\n",
              "<tr><td></td><td style='font-weight: normal;'>Length Appropriateness</td><td style='color: #27ae60'>1.0</td></tr>\n",
              "\n",
              "\n",
              "<tr><td><b>Moral and Cultural Sensitivity</b></td><td></td><td style='color: #28b664'>0.926</td></tr>\n",
              "<tr><td></td><td style='font-weight: normal;'>Moral Clarity</td><td style='color: #27ae60'>1.0</td></tr>\n",
              "<tr><td></td><td style='font-weight: normal;'>Life Lesson Reiteration</td><td style='color: #2dc86e'>0.777</td></tr>\n",
              "<tr><td></td><td style='font-weight: normal;'>Cultural Sensitivity</td><td style='color: #27ae60'>1.0</td></tr>\n",
              "\n",
              "\n",
              "<tr><td><b>Illustration Integration</b></td><td></td><td style='color: #2dc96f'>0.766</td></tr>\n",
              "<tr><td></td><td style='font-weight: normal;'>Illustration Suggestions</td><td style='color: #2dc96f'>0.766</td></tr>\n",
              "\n",
              "\n",
              "<tr></tr>\n",
              "<tr><td>Total score</td><td></td><td style='color: #29b966'><b>0.906</b></td></tr>\n",
              "</table>\n",
              "                </div>\n",
              "            </div>"
            ]
          },
          "metadata": {}
        },
        {
          "output_type": "stream",
          "name": "stdout",
          "text": [
            "\n",
            "\n",
            "\n"
          ]
        },
        {
          "output_type": "display_data",
          "data": {
            "text/plain": [
              "<IPython.core.display.HTML object>"
            ],
            "text/html": [
              "\n",
              "        <div style=\"display: flex; gap: 20px;\">\n",
              "            <div style=\"width: 80%; padding: 10px; border: 1px solid #ddd; background-color: #fff9f5;\">\n",
              "                <h4><h4>Input:</h4>\n",
              "<p>Tell a fable about a clever fox who learns the value of self-control after trying to eat too many fruits before the harvest.</p></h4>\n",
              "            </div>\n",
              "        </div>\n",
              "        <div style=\"display: flex; gap: 20px;\">\n",
              "            <div style=\"width: 80%; padding: 10px; border: 1px solid #ddd; background-color: #f0f0f0; text-align:center;\">\n",
              "                <h4>gemini/gemini-1.5-flash-8b</h4>\n",
              "            </div>\n",
              "        </div>\n",
              "        <div style=\"display: flex; gap: 20px;\">\n",
              "            <div style=\"width: 80%; padding: 10px; border: 1px solid #ddd;\">\n",
              "                <h4>Output:</h4>\n",
              "<p>Foxy Finn, famed for his cunning, was also known for his insatiable appetite.  Summer's bounty was rich: plump berries, juicy melons, and sweet figs lay scattered across the meadow.  Finn, seeing the abundance, gobbled down every ripe fruit he could find.  He filled his belly, then his paws, even stuffing a few treasures into hollow logs for later.  He reasoned, \"What good is saving for the harvest?  Plenty of tasty treats are right here now!\"</p>\n",
              "<p>Days turned into weeks, and the sun grew hotter.  The plump berries dwindled, the melons vanished, and the figs shrivelled.  Finn, his belly now empty, realized his mistake.  The last few tempting scraps were meagre and tough.  The other animals, who had diligently saved portions of the season's harvest, were now enjoying plump, juicy fruits.  They shared their store, laughing at Finn's empty stomach.</p>\n",
              "<p>Finn, humbled and ashamed, learned a valuable lesson.  He'd chased fleeting pleasures and neglected the rewards of careful planning.  From that day forward, Foxy Finn learned to savor the fruit, one bite at a time. He respected the harvest and the discipline to wait, understanding the value of foresight and self-control.</p>\n",
              "            </div>\n",
              "        </div>\n",
              "        \n",
              "            <div style=\"display: flex; gap: 20px;\">\n",
              "                <div style=\"width: 80%; padding: 10px; border: 1px solid #ddd; background-color: #f2f1fe;\">\n",
              "                    \n",
              "  <style>\n",
              "  table {\n",
              "    border-collapse: collapse; /* Ensures borders don't double up */\n",
              "    width: 100%; /* Optional: makes the table full width */\n",
              "  }\n",
              "\n",
              "  tr {\n",
              "    border-bottom: 1px solid #ccc; /* Sets a bottom border for each row */\n",
              "    border-top: 1px solid #ccc; /* Sets a bottom border for each row */\n",
              "  }\n",
              "\n",
              "  th, td {\n",
              "    font-weight: bold;\n",
              "    padding: 4px; /* Adds some spacing */\n",
              "    text-align: left; /* Aligns text to the left */\n",
              "    border-right: 1px solid #ccc; /* Sets a bottom border for each row */\n",
              "    border-left: 1px solid #ccc; /* Sets a bottom border for each row */\n",
              "  }\n",
              "  img {\n",
              "    width: 30%;\n",
              "  }\n",
              "  </style>\n",
              "  <table><tr><td><b>Story Structure</b></td><td></td><td style='color: #27ae60'>1.0</td></tr>\n",
              "<tr><td></td><td style='font-weight: normal;'>Plot Structure</td><td style='color: #27ae60'>1.0</td></tr>\n",
              "<tr><td></td><td style='font-weight: normal;'>Conflict Introduction</td><td style='color: #27ae60'>1.0</td></tr>\n",
              "<tr><td></td><td style='font-weight: normal;'>Resolution Clarity</td><td style='color: #27ae60'>1.0</td></tr>\n",
              "\n",
              "\n",
              "<tr><td><b>Character Development</b></td><td></td><td style='color: #27ae60'>1.0</td></tr>\n",
              "<tr><td></td><td style='font-weight: normal;'>Character Presence</td><td style='color: #27ae60'>1.0</td></tr>\n",
              "<tr><td></td><td style='font-weight: normal;'>Character Development</td><td style='color: #27ae60'>1.0</td></tr>\n",
              "<tr><td></td><td style='font-weight: normal;'>Dialogue Quality</td><td style='color: #27ae60'>1.0</td></tr>\n",
              "\n",
              "\n",
              "<tr><td><b>Narrative Engagement</b></td><td></td><td style='color: #2abe69'>0.858</td></tr>\n",
              "<tr><td></td><td style='font-weight: normal;'>Engaging Narrative</td><td style='color: #27ae60'>1.0</td></tr>\n",
              "<tr><td></td><td style='font-weight: normal;'>Imagery Use</td><td style='color: #2dc96f'>0.766</td></tr>\n",
              "<tr><td></td><td style='font-weight: normal;'>Repetitive Elements</td><td style='color: #2cc46c'>0.809</td></tr>\n",
              "\n",
              "\n",
              "<tr><td><b>Language Appropriateness</b></td><td></td><td style='color: #27ae60'>1.0</td></tr>\n",
              "<tr><td></td><td style='font-weight: normal;'>Language Simplicity</td><td style='color: #27ae60'>1.0</td></tr>\n",
              "<tr><td></td><td style='font-weight: normal;'>Length Appropriateness</td><td style='color: #27ae60'>1.0</td></tr>\n",
              "\n",
              "\n",
              "<tr><td><b>Moral and Cultural Sensitivity</b></td><td></td><td style='color: #27ae60'>1.0</td></tr>\n",
              "<tr><td></td><td style='font-weight: normal;'>Moral Clarity</td><td style='color: #27ae60'>1.0</td></tr>\n",
              "<tr><td></td><td style='font-weight: normal;'>Life Lesson Reiteration</td><td style='color: #27ae60'>1.0</td></tr>\n",
              "<tr><td></td><td style='font-weight: normal;'>Cultural Sensitivity</td><td style='color: #27ae60'>1.0</td></tr>\n",
              "\n",
              "\n",
              "<tr><td><b>Illustration Integration</b></td><td></td><td style='color: #2dcb70'>0.754</td></tr>\n",
              "<tr><td></td><td style='font-weight: normal;'>Illustration Suggestions</td><td style='color: #2dcb70'>0.754</td></tr>\n",
              "\n",
              "\n",
              "<tr></tr>\n",
              "<tr><td>Total score</td><td></td><td style='color: #28b564'><b>0.935</b></td></tr>\n",
              "</table>\n",
              "                </div>\n",
              "            </div>"
            ]
          },
          "metadata": {}
        },
        {
          "output_type": "stream",
          "name": "stdout",
          "text": [
            "\n",
            "\n",
            "\n"
          ]
        },
        {
          "output_type": "display_data",
          "data": {
            "text/plain": [
              "<IPython.core.display.HTML object>"
            ],
            "text/html": [
              "\n",
              "        <div style=\"display: flex; gap: 20px;\">\n",
              "            <div style=\"width: 80%; padding: 10px; border: 1px solid #ddd; background-color: #fff9f5;\">\n",
              "                <h4><h4>Input:</h4>\n",
              "<p>Create a tale featuring a hungry rabbit who learns that moderation is key after overindulging on carrots and facing an upset stomach.</p></h4>\n",
              "            </div>\n",
              "        </div>\n",
              "        <div style=\"display: flex; gap: 20px;\">\n",
              "            <div style=\"width: 80%; padding: 10px; border: 1px solid #ddd; background-color: #f0f0f0; text-align:center;\">\n",
              "                <h4>gemini/gemini-1.5-flash-8b</h4>\n",
              "            </div>\n",
              "        </div>\n",
              "        <div style=\"display: flex; gap: 20px;\">\n",
              "            <div style=\"width: 80%; padding: 10px; border: 1px solid #ddd;\">\n",
              "                <h4>Output:</h4>\n",
              "<p>Barnaby Bunson was a rabbit renowned for his love of carrots.  He lived in a burrow nestled beneath a vibrant carrot patch, and every morning, he'd devour a whole basketful, his tiny whiskers twitching with delight.  One particularly bountiful harvest, Barnaby, fuelled by an insatiable appetite, gobbled down carrots until his belly was round as a pumpkin. He'd stuffed himself so full, he could barely hop.</p>\n",
              "<p>Feeling sleepy and rather bloated, Barnaby curled up in his burrow, dreaming of more carrots. But the sweet, earthy scent of the carrots soon gave way to a dreadful rumbling in his tummy. A sharp, aching pain blossomed in his insides.</p>\n",
              "<p>He bounced up, his eyes wide with concern. His once joyful leaps now felt like labored struggles. He tried to hop, but a wave of nausea washed over him.  He realized, with a gasp, that his delight had turned into distress.</p>\n",
              "<p>Barnaby remembered the other rabbits, who, though they loved carrots, always ate them in smaller portions, nibbling and savouring each crunchy morsel.  They never stuffed themselves silly.</p>\n",
              "<p>A wise old owl, perched on a nearby branch, hooted softly. \"Barnaby,\" she said, \"overindulgence brings suffering.  Moderation is the key to happiness and well-being.\"</p>\n",
              "<p>Barnaby, feeling the pain lessening, listened intently.  He thought about the rumbling in his tummy, the ache in his chest, and how he had been so focused on stuffing himself that he hadn't enjoyed the delicious taste.</p>\n",
              "<p>From that day on, Barnaby learned his lesson.  He still loved carrots, but he ate them with gratitude and in smaller quantities. He nibbled and savored, enjoying every crunchy bite.  He realised that happiness didn't come from stuffing himself full, but from appreciating the joy of eating properly.  And his tummy, thankfully, was much happier too.</p>\n",
              "            </div>\n",
              "        </div>\n",
              "        \n",
              "            <div style=\"display: flex; gap: 20px;\">\n",
              "                <div style=\"width: 80%; padding: 10px; border: 1px solid #ddd; background-color: #f2f1fe;\">\n",
              "                    \n",
              "  <style>\n",
              "  table {\n",
              "    border-collapse: collapse; /* Ensures borders don't double up */\n",
              "    width: 100%; /* Optional: makes the table full width */\n",
              "  }\n",
              "\n",
              "  tr {\n",
              "    border-bottom: 1px solid #ccc; /* Sets a bottom border for each row */\n",
              "    border-top: 1px solid #ccc; /* Sets a bottom border for each row */\n",
              "  }\n",
              "\n",
              "  th, td {\n",
              "    font-weight: bold;\n",
              "    padding: 4px; /* Adds some spacing */\n",
              "    text-align: left; /* Aligns text to the left */\n",
              "    border-right: 1px solid #ccc; /* Sets a bottom border for each row */\n",
              "    border-left: 1px solid #ccc; /* Sets a bottom border for each row */\n",
              "  }\n",
              "  img {\n",
              "    width: 30%;\n",
              "  }\n",
              "  </style>\n",
              "  <table><tr><td><b>Story Structure</b></td><td></td><td style='color: #27ae60'>1.0</td></tr>\n",
              "<tr><td></td><td style='font-weight: normal;'>Plot Structure</td><td style='color: #27ae60'>1.0</td></tr>\n",
              "<tr><td></td><td style='font-weight: normal;'>Conflict Introduction</td><td style='color: #27ae60'>1.0</td></tr>\n",
              "<tr><td></td><td style='font-weight: normal;'>Resolution Clarity</td><td style='color: #27ae60'>1.0</td></tr>\n",
              "\n",
              "\n",
              "<tr><td><b>Character Development</b></td><td></td><td style='color: #27ae60'>1.0</td></tr>\n",
              "<tr><td></td><td style='font-weight: normal;'>Character Presence</td><td style='color: #27ae60'>1.0</td></tr>\n",
              "<tr><td></td><td style='font-weight: normal;'>Character Development</td><td style='color: #27ae60'>1.0</td></tr>\n",
              "<tr><td></td><td style='font-weight: normal;'>Dialogue Quality</td><td style='color: #27ae60'>1.0</td></tr>\n",
              "\n",
              "\n",
              "<tr><td><b>Narrative Engagement</b></td><td></td><td style='color: #27ae60'>1.0</td></tr>\n",
              "<tr><td></td><td style='font-weight: normal;'>Engaging Narrative</td><td style='color: #27ae60'>1.0</td></tr>\n",
              "<tr><td></td><td style='font-weight: normal;'>Imagery Use</td><td style='color: #27ae60'>1.0</td></tr>\n",
              "<tr><td></td><td style='font-weight: normal;'>Repetitive Elements</td><td style='color: #27ae60'>1.0</td></tr>\n",
              "\n",
              "\n",
              "<tr><td><b>Language Appropriateness</b></td><td></td><td style='color: #27ae60'>1.0</td></tr>\n",
              "<tr><td></td><td style='font-weight: normal;'>Language Simplicity</td><td style='color: #27ae60'>1.0</td></tr>\n",
              "<tr><td></td><td style='font-weight: normal;'>Length Appropriateness</td><td style='color: #27ae60'>1.0</td></tr>\n",
              "\n",
              "\n",
              "<tr><td><b>Moral and Cultural Sensitivity</b></td><td></td><td style='color: #27ae60'>1.0</td></tr>\n",
              "<tr><td></td><td style='font-weight: normal;'>Moral Clarity</td><td style='color: #27ae60'>1.0</td></tr>\n",
              "<tr><td></td><td style='font-weight: normal;'>Life Lesson Reiteration</td><td style='color: #27ae60'>1.0</td></tr>\n",
              "<tr><td></td><td style='font-weight: normal;'>Cultural Sensitivity</td><td style='color: #27ae60'>1.0</td></tr>\n",
              "\n",
              "\n",
              "<tr><td><b>Illustration Integration</b></td><td></td><td style='color: #2dca70'>0.758</td></tr>\n",
              "<tr><td></td><td style='font-weight: normal;'>Illustration Suggestions</td><td style='color: #2dca70'>0.758</td></tr>\n",
              "\n",
              "\n",
              "<tr></tr>\n",
              "<tr><td>Total score</td><td></td><td style='color: #28b262'><b>0.96</b></td></tr>\n",
              "</table>\n",
              "                </div>\n",
              "            </div>"
            ]
          },
          "metadata": {}
        },
        {
          "output_type": "stream",
          "name": "stdout",
          "text": [
            "\n",
            "\n",
            "\n"
          ]
        }
      ]
    },
    {
      "cell_type": "markdown",
      "metadata": {
        "id": "rMTmieU9xPgT"
      },
      "source": [
        "## Save the set\n",
        "\n",
        "We will come back to this in a future colab, so it's useful to capture.  Store it as a Parquet table, which you can download.\n",
        "\n",
        "Alternatively, upload to Hugging Face."
      ]
    },
    {
      "cell_type": "code",
      "execution_count": 25,
      "metadata": {
        "id": "tpWpFWfEwo4j",
        "outputId": "66ca2dab-8753-443a-e1ea-4f5b9222f3d0",
        "colab": {
          "base_uri": "https://localhost:8080/"
        }
      },
      "outputs": [
        {
          "output_type": "stream",
          "name": "stdout",
          "text": [
            "Dataset({\n",
            "    features: ['input', 'response'],\n",
            "    num_rows: 11\n",
            "})\n"
          ]
        }
      ],
      "source": [
        "from datasets import Dataset\n",
        "\n",
        "dataset = Dataset.from_dict({\n",
        "    \"input\": data_generation_status.data,\n",
        "    \"response\": responses\n",
        "})\n",
        "\n",
        "print(dataset)\n",
        "# dataset.push_to_hub(\"...\")"
      ]
    },
    {
      "cell_type": "markdown",
      "metadata": {
        "id": "jT7s_nuJsHbM"
      },
      "source": [
        "## Next Steps\n",
        "\n",
        "This input set can drive many other techniques in Pi.  You can adjust the above methods to add seeds and steer the AI in different ways."
      ]
    }
  ],
  "metadata": {
    "colab": {
      "provenance": [],
      "include_colab_link": true
    },
    "kernelspec": {
      "display_name": "Python 3",
      "name": "python3"
    },
    "language_info": {
      "name": "python"
    }
  },
  "nbformat": 4,
  "nbformat_minor": 0
}