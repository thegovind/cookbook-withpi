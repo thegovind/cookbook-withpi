{
  "cells": [
    {
      "cell_type": "markdown",
      "metadata": {
        "id": "view-in-github",
        "colab_type": "text"
      },
      "source": [
        "<a href=\"https://colab.research.google.com/github/withpi/cookbook-withpi/blob/main/colabs/Scoring.ipynb\" target=\"_parent\"><img src=\"https://colab.research.google.com/assets/colab-badge.svg\" alt=\"Open In Colab\"/></a>"
      ]
    },
    {
      "cell_type": "markdown",
      "source": [
        "<a href=\"https://withpi.ai\"><img src=\"https://play.withpi.ai/logo/logoFullBlack.svg\" width=\"240\"></a>\n",
        "\n",
        "<a href=\"https://code.withpi.ai\"><font size=\"4\">Documentation</font></a>\n",
        "\n",
        "<a href=\"https://build.withpi.ai\"><font size=\"4\">Copilot</font></a>"
      ],
      "metadata": {
        "id": "pi-masthead"
      }
    },
    {
      "cell_type": "markdown",
      "metadata": {
        "id": "Bwm4tjdnedp6"
      },
      "source": [
        "# Scoring\n",
        "\n",
        "This Colab walks you through scoring something with Pi!  It is the companion to our [Getting Started](https://code.withpi.ai/introduction) guide."
      ]
    },
    {
      "cell_type": "markdown",
      "source": [
        "## Install and initialize SDK\n",
        "\n",
        "You'll need a `WITHPI_API_KEY` from https://build.withpi.ai/account/keys.  Add it to your notebook secrets (the key symbol) on the left.\n",
        "\n",
        "Run the cell below to install packages and load the SDK"
      ],
      "metadata": {
        "id": "pi-setup-markdown"
      }
    },
    {
      "cell_type": "code",
      "metadata": {
        "id": "pi-setup"
      },
      "outputs": [],
      "execution_count": 1,
      "source": [
        "%%capture\n",
        "\n",
        "%pip install withpi withpi-utils litellm\n",
        "\n",
        "import os\n",
        "from google.colab import userdata\n",
        "from withpi import PiClient\n",
        "\n",
        "# Load the notebook secret into the environment so the Pi Client can access it.\n",
        "os.environ[\"WITHPI_API_KEY\"] = userdata.get('WITHPI_API_KEY')\n",
        "\n",
        "pi = PiClient()"
      ]
    },
    {
      "cell_type": "markdown",
      "source": [
        "## Setup scoring system\n",
        "\n",
        "Let's say we're building an AI to generate stories in the style of Aesop's Fables.  In good test-driven development, we need to decide what we're looking for out of our system.  Initialize a Scoring System and score function:"
      ],
      "metadata": {
        "id": "7M-7O5w9UECj"
      }
    },
    {
      "cell_type": "code",
      "source": [
        "scoring_spec = [{'question': q} for q in [\n",
        "    \"Does the response contain a clear beginning, middle, and end?\",\n",
        "    \"Does the story follow a logical progression of events?\",\n",
        "    \"Does the story resolve the conflict in a satisfying manner?\",\n",
        "    \"Is the life lesson clearly conveyed in the story?\",\n",
        "    \"Is the life lesson relevant to the input provided by the user?\"\n",
        "]]\n",
        "\n",
        "def score(input, output):\n",
        "  return pi.scoring_system.score(\n",
        "    scoring_spec=scoring_spec,\n",
        "    llm_input=input,\n",
        "    llm_output=output,\n",
        ")"
      ],
      "metadata": {
        "id": "ttdRIlDhUXa4"
      },
      "execution_count": 2,
      "outputs": []
    },
    {
      "cell_type": "markdown",
      "metadata": {
        "id": "j1FAoBqU7dwf"
      },
      "source": [
        "## Generate and score a response\n",
        "\n",
        "The below cell uses Gemini to generate a response, but any suitable model will do fine.\n",
        "\n",
        "You can import a Google Gemini key from AI Studio on the left pane, which populates a `GOOGLE_API_KEY` secret.  At low rates it's free.  Or adjust to a model of your choice with a key using docs at https://docs.litellm.ai/docs/."
      ]
    },
    {
      "cell_type": "code",
      "execution_count": 3,
      "metadata": {
        "id": "WhJrCijJ8I2n",
        "outputId": "c63d59cd-bb5b-42b6-a3f0-809802388a30",
        "colab": {
          "base_uri": "https://localhost:8080/",
          "height": 732
        }
      },
      "outputs": [
        {
          "output_type": "display_data",
          "data": {
            "text/plain": [
              "<IPython.core.display.HTML object>"
            ],
            "text/html": [
              "\n",
              "        <div style=\"display: flex; gap: 20px;\">\n",
              "            <div style=\"width: 80%; padding: 10px; border: 1px solid #ddd; background-color: #fff9f5;\">\n",
              "                <h4><h4>Prompt:</h4>\n",
              "<p>The importance of sharing</p></h4>\n",
              "            </div>\n",
              "        </div>\n",
              "        <div style=\"display: flex; gap: 20px;\">\n",
              "            <div style=\"width: 80%; padding: 10px; border: 1px solid #ddd; background-color: #f0f0f0; text-align:center;\">\n",
              "                <h4>Base</h4>\n",
              "            </div>\n",
              "        </div>\n",
              "        <div style=\"display: flex; gap: 20px;\">\n",
              "            <div style=\"width: 80%; padding: 10px; border: 1px solid #ddd;\">\n",
              "                <h4>Response:</h4>\n",
              "<p>Barnaby Badger had a berry bush, plump with juicy, red berries. He’d spent weeks tending it, shooing away grumpy grubs and watering it just right. “My berries!” he’d mutter, eyeing the bush. “They’re the best in the whole forest! And all for ME!”</p>\n",
              "<p>One sunny morning, Barnaby was about to feast. He gathered a basket, humming to himself. But then he saw them: Pip, the little field mouse, and Rosie, the rabbit, looking longingly at his bush. Their bellies rumbled audibly.</p>\n",
              "<p>Barnaby clutched his basket. “Go away!” he snapped. “These are MY berries! I worked hard for them!”</p>\n",
              "<p>Pip’s whiskers drooped. Rosie’s ears fell flat. They both shuffled away, their tummies still empty.</p>\n",
              "<p>Barnaby picked berry after berry, eating until his cheeks were stuffed and his basket overflowing. But the berries didn’t taste so good. They felt…lonely. And as he ate, he noticed Pip and Rosie watching him from a distance.</p>\n",
              "<p>Suddenly, a huge gust of wind blew through the forest. Branches thrashed. The berry bush wobbled precariously. Then, with a CRACK, a branch snapped and fell, scattering berries everywhere.</p>\n",
              "<p>Barnaby gasped! He scrambled to gather the fallen berries, but it was no use. He couldn’t possibly pick them all before they got trampled or stolen by the birds.</p>\n",
              "<p>Then, he saw Pip and Rosie. Without hesitation, they rushed over and began helping him. Pip, despite his tiny size, scurried back and forth, pushing berries with all his might. Rosie used her big paws to scoop up handfuls.</p>\n",
              "<p>Together, they gathered the scattered berries, saving many of them.</p>\n",
              "<p>When the wind finally died down, they sat together, surrounded by the remaining berries. Barnaby looked at his friends. His basket was still full, but now, Pip and Rosie had a share too.</p>\n",
              "<p>Barnaby felt a warmth spread through him, warmer than the sunshine. He smiled and offered a berry to Pip. Rosie nibbled on another.</p>\n",
              "<p>He finally understood. The berries tasted better when shared. He learned that day that hoarding things makes you lonely, but sharing brings joy and friendship.</p>\n",
              "<p><strong>The moral of the story is: Sharing is the sweetest reward, and kindness tastes better than a lonely feast.</strong></p>\n",
              "            </div>\n",
              "        </div>\n",
              "        \n",
              "            <div style=\"display: flex; gap: 20px;\">\n",
              "                <div style=\"width: 80%; padding: 10px; border: 1px solid #ddd; background-color: #f2f1fe;\">\n",
              "                    \n",
              "  <style>\n",
              "  table {\n",
              "    border-collapse: collapse; /* Ensures borders don't double up */\n",
              "    width: 100%; /* Optional: makes the table full width */\n",
              "  }\n",
              "\n",
              "  tr {\n",
              "    border-bottom: 1px solid #ccc; /* Sets a bottom border for each row */\n",
              "    border-top: 1px solid #ccc; /* Sets a bottom border for each row */\n",
              "  }\n",
              "\n",
              "  th, td {\n",
              "    font-weight: bold;\n",
              "    padding: 4px; /* Adds some spacing */\n",
              "    text-align: left; /* Aligns text to the left */\n",
              "    border-right: 1px solid #ccc; /* Sets a bottom border for each row */\n",
              "    border-left: 1px solid #ccc; /* Sets a bottom border for each row */\n",
              "  }\n",
              "  img {\n",
              "    width: 30%;\n",
              "  }\n",
              "  </style>\n",
              "  <table><tr><td><b>Does the response contain a clear beginning, middle, and end?</b></td><td style='color: #27ae60'>1.0</td><td></td></tr>\n",
              "<tr><td><b>Does the story follow a logical progression of events?</b></td><td style='color: #27ae60'>1.0</td><td></td></tr>\n",
              "<tr><td><b>Does the story resolve the conflict in a satisfying manner?</b></td><td style='color: #2abe69'>0.863</td><td></td></tr>\n",
              "<tr><td><b>Is the life lesson clearly conveyed in the story?</b></td><td style='color: #27ae60'>1.0</td><td></td></tr>\n",
              "<tr><td><b>Is the life lesson relevant to the input provided by the user?</b></td><td style='color: #27ae60'>1.0</td><td></td></tr>\n",
              "<tr><td>Total score</td><td></td><td style='color: #27b061'><b>0.973</b></td></tr>\n",
              "</table>\n",
              "                </div>\n",
              "            </div>"
            ]
          },
          "metadata": {}
        }
      ],
      "source": [
        "import litellm\n",
        "from withpi_utils.colab import pretty_print_responses\n",
        "\n",
        "os.environ[\"GEMINI_API_KEY\"] = userdata.get('GOOGLE_API_KEY')\n",
        "\n",
        "system_prompt = \"\"\"Write a children's story in the style of Aesop's Fables\n",
        "teaching a life lesson specified by the user. Provide just the story with no\n",
        "extra content.\"\"\"\n",
        "\n",
        "test_prompt = \"The importance of sharing\"\n",
        "\n",
        "response = litellm.completion(\n",
        "    model=\"gemini/gemini-2.0-flash-lite\",\n",
        "    messages=[\n",
        "        {\"content\": system_prompt, \"role\": \"system\"},\n",
        "        {\"content\": test_prompt, \"role\": \"user\"}\n",
        "    ]).choices[0].message.content\n",
        "\n",
        "pretty_print_responses(\n",
        "    header=\"#### Prompt:\\n\" + test_prompt,\n",
        "    response1=\"#### Response:\\n\" + response,\n",
        "    scores_left=score(test_prompt, response),\n",
        ")"
      ]
    },
    {
      "cell_type": "markdown",
      "metadata": {
        "id": "jT7s_nuJsHbM"
      },
      "source": [
        "## Next Steps\n",
        "\n",
        "That's it!  Each question gets a score between **0 and 1**, aggregated to a final **goodness** score you can make decisions on.\n",
        "\n",
        "Go back and try different responses to see how the scores change.  Try a different model.  Manually tweak the questions. Get a feel for what's happening."
      ]
    }
  ],
  "metadata": {
    "colab": {
      "provenance": [],
      "include_colab_link": true
    },
    "kernelspec": {
      "display_name": "Python 3",
      "name": "python3"
    },
    "language_info": {
      "name": "python"
    }
  },
  "nbformat": 4,
  "nbformat_minor": 0
}