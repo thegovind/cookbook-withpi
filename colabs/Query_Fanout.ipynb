{
  "cells": [
    {
      "cell_type": "markdown",
      "metadata": {
        "id": "view-in-github",
        "colab_type": "text"
      },
      "source": [
        "<a href=\"https://colab.research.google.com/github/withpi/cookbook-withpi/blob/main/colabs/Query_Fanout.ipynb\" target=\"_parent\"><img src=\"https://colab.research.google.com/assets/colab-badge.svg\" alt=\"Open In Colab\"/></a>"
      ]
    },
    {
      "cell_type": "markdown",
      "metadata": {
        "id": "pi-masthead"
      },
      "source": [
        "<a href=\"https://withpi.ai\"><img src=\"https://play.withpi.ai/logo/logoFullBlack.svg\" width=\"240\"></a>\n",
        "\n",
        "<a href=\"https://code.withpi.ai\"><font size=\"4\">Documentation</font></a>\n",
        "\n",
        "<a href=\"https://play.withpi.ai\"><font size=\"4\">Technique Catalog</font></a>"
      ]
    },
    {
      "cell_type": "markdown",
      "metadata": {
        "id": "Bwm4tjdnedp6"
      },
      "source": [
        "# Query Fanout\n",
        "\n",
        "There is no Playground associated with this Colab, but it's coming soon!\n",
        "\n",
        "In many LLM applications, models are asked questions that require an initially broad query to be decomposed into a set of narrow queries to satisfy the information needs of the original request. These narrow queries, or \"fan-outs\", can be used retrieve documents, issue queries or commands to downstream tools or agents, and form the foundation of multi-hop reasoning, which each hop generating new \"fan-outs\" with the additional, accrued context.\n",
        "\n",
        "Generating these fanouts with AI support can improve any question/answer component of your LLM system. Additionally, we demonstrate the usage of Pi's Scoring System to assess the quality of these fanout queries.\n",
        "\n",
        "We will walk through the generation of more generic fanouts using the Pi SDK, before also highlighting how providing few-shot examples can improve fanout quality for a specific vertical."
      ]
    },
    {
      "cell_type": "markdown",
      "metadata": {
        "id": "pi-setup-markdown"
      },
      "source": [
        "## Install and initialize SDK\n",
        "\n",
        "Connect to a regular CPU Python 3 runtime.  You won't need GPUs for this notebook.\n",
        "\n",
        "You'll need a WITHPI_API_KEY from https://play.withpi.ai.  Add it to your notebook secrets (the key symbol) on the left.\n",
        "\n",
        "Run the cell below to install packages and load the SDK"
      ]
    },
    {
      "cell_type": "code",
      "execution_count": 1,
      "metadata": {
        "id": "pi-setup"
      },
      "outputs": [],
      "source": [
        "%%capture\n",
        "\n",
        "%pip install withpi withpi-utils datasets tqdm litellm\n",
        "\n",
        "import os\n",
        "from google.colab import userdata\n",
        "from withpi import PiClient\n",
        "\n",
        "# Load the notebook secret into the environment so the Pi Client can access it.\n",
        "os.environ[\"WITHPI_API_KEY\"] = userdata.get('WITHPI_API_KEY')\n",
        "\n",
        "client = PiClient()"
      ]
    },
    {
      "cell_type": "markdown",
      "metadata": {
        "id": "WXbsoA6QTqQf"
      },
      "source": [
        "# Load Query Fanout contract\n",
        "\n",
        "Load the `Query Fanout` example from Pi Labs cookbooks, or edit below to load a different one.\n"
      ]
    },
    {
      "cell_type": "code",
      "execution_count": null,
      "metadata": {
        "id": "t80oaqiTTqQg"
      },
      "outputs": [],
      "source": [
        "# @title Load Scoring Spec\n",
        "from withpi_utils.colab import load_scoring_spec_from_web, display_scoring_spec\n",
        "\n",
        "query_fanout_spec = load_scoring_spec_from_web(\n",
        "    \"https://raw.githubusercontent.com/withpi/cookbook-withpi/refs/heads/main/scoring_specs/query_fanout.json\"\n",
        ")\n",
        "\n",
        "display_scoring_spec(query_fanout_spec)"
      ]
    },
    {
      "cell_type": "markdown",
      "metadata": {
        "id": "j1FAoBqU7dwf"
      },
      "source": [
        "## Define an Input Set\n",
        "\n",
        "Let's build a Dataset containing a some examples of broad queries that are amenable to generated fanouts."
      ]
    },
    {
      "cell_type": "code",
      "execution_count": 2,
      "metadata": {
        "id": "4NpCZhP6exgI"
      },
      "outputs": [],
      "source": [
        "import pandas as pd\n",
        "\n",
        "INPUT_FIELD = 'query'\n",
        "OUTPUT_FIELD = 'fanout_queries'\n",
        "\n",
        "example_queries_for_fanout_generation = [\n",
        "    \"Which cities in Australia are known for their art festivals, and what are the dates for the most popular festival in each city?\",\n",
        "    \"List the top three coffee-producing countries in 2024, and specify the unique flavor profile of coffee from each country.\",\n",
        "    \"Identify the top five largest deserts in the world and their total areas in square kilometers.\",\n",
        "    \"Which airport is owned by Roosevelt County and is located in a city with a population of 810?\",\n",
        "    \"Who are the current female cabinet members of the UK Prime Minister and in which city or town were they born?\",\n",
        "    \"What are the titles of the last three albums released by the artist who sang 'Rolling in the Deep', and what is the name of the producer for each album?\"\n",
        "]\n",
        "\n",
        "example_queries_df = pd.DataFrame.from_dict({INPUT_FIELD : example_queries_for_fanout_generation})\n"
      ]
    },
    {
      "cell_type": "markdown",
      "metadata": {
        "id": "FHPv9yOWTqQg"
      },
      "source": [
        "# Generate Fanouts\n",
        "\n",
        "Now use the Pi API to generate fanout queries for each input"
      ]
    },
    {
      "cell_type": "code",
      "execution_count": 3,
      "metadata": {
        "id": "udYWkKxCTqQg",
        "outputId": "6e109f86-43d7-4ceb-b10c-f19d569278c1",
        "colab": {
          "base_uri": "https://localhost:8080/",
          "height": 373
        }
      },
      "outputs": [
        {
          "output_type": "stream",
          "name": "stdout",
          "text": [
            "Generating fanouts for 0: Which cities in Australia are known for their art festivals, and what are the dates for the most popular festival in each city?\n"
          ]
        },
        {
          "output_type": "error",
          "ename": "UnprocessableEntityError",
          "evalue": "Error code: 422 - {'detail': [{'type': 'list_type', 'loc': ['body', 'queries'], 'msg': 'Input should be a valid list', 'input': 'Which cities in Australia are known for their art festivals, and what are the dates for the most popular festival in each city?'}]}",
          "traceback": [
            "\u001b[0;31m---------------------------------------------------------------------------\u001b[0m",
            "\u001b[0;31mUnprocessableEntityError\u001b[0m                  Traceback (most recent call last)",
            "\u001b[0;32m<ipython-input-3-1cf5ad7d8b9a>\u001b[0m in \u001b[0;36m<cell line: 0>\u001b[0;34m()\u001b[0m\n\u001b[1;32m      2\u001b[0m \u001b[0;32mfor\u001b[0m \u001b[0mindex\u001b[0m\u001b[0;34m,\u001b[0m \u001b[0mrow\u001b[0m \u001b[0;32min\u001b[0m \u001b[0mexample_queries_df\u001b[0m\u001b[0;34m.\u001b[0m\u001b[0miterrows\u001b[0m\u001b[0;34m(\u001b[0m\u001b[0;34m)\u001b[0m\u001b[0;34m:\u001b[0m\u001b[0;34m\u001b[0m\u001b[0;34m\u001b[0m\u001b[0m\n\u001b[1;32m      3\u001b[0m     \u001b[0mprint\u001b[0m\u001b[0;34m(\u001b[0m\u001b[0;34mf\"Generating fanouts for {index}: {row[INPUT_FIELD]}\"\u001b[0m\u001b[0;34m)\u001b[0m\u001b[0;34m\u001b[0m\u001b[0;34m\u001b[0m\u001b[0m\n\u001b[0;32m----> 4\u001b[0;31m     \u001b[0mresult\u001b[0m \u001b[0;34m=\u001b[0m \u001b[0mclient\u001b[0m\u001b[0;34m.\u001b[0m\u001b[0msearch\u001b[0m\u001b[0;34m.\u001b[0m\u001b[0mquery_fanout\u001b[0m\u001b[0;34m.\u001b[0m\u001b[0mgenerate\u001b[0m\u001b[0;34m(\u001b[0m\u001b[0mqueries\u001b[0m\u001b[0;34m=\u001b[0m\u001b[0mexample_queries_df\u001b[0m\u001b[0;34m.\u001b[0m\u001b[0mat\u001b[0m\u001b[0;34m[\u001b[0m\u001b[0mindex\u001b[0m\u001b[0;34m,\u001b[0m \u001b[0mINPUT_FIELD\u001b[0m\u001b[0;34m]\u001b[0m\u001b[0;34m)\u001b[0m\u001b[0;34m\u001b[0m\u001b[0;34m\u001b[0m\u001b[0m\n\u001b[0m\u001b[1;32m      5\u001b[0m     \u001b[0mexample_queries_df\u001b[0m\u001b[0;34m.\u001b[0m\u001b[0mat\u001b[0m\u001b[0;34m[\u001b[0m\u001b[0mindex\u001b[0m\u001b[0;34m,\u001b[0m \u001b[0mOUTPUT_FIELD\u001b[0m\u001b[0;34m]\u001b[0m \u001b[0;34m=\u001b[0m \u001b[0mresult\u001b[0m\u001b[0;34m.\u001b[0m\u001b[0mfanout_queries\u001b[0m\u001b[0;34m\u001b[0m\u001b[0;34m\u001b[0m\u001b[0m\n",
            "\u001b[0;32m/usr/local/lib/python3.11/dist-packages/withpi/resources/search/query_fanout.py\u001b[0m in \u001b[0;36mgenerate\u001b[0;34m(self, queries, example_fanout_queries, num_fanout_queries, extra_headers, extra_query, extra_body, timeout)\u001b[0m\n\u001b[1;32m     79\u001b[0m           \u001b[0mtimeout\u001b[0m\u001b[0;34m:\u001b[0m \u001b[0mOverride\u001b[0m \u001b[0mthe\u001b[0m \u001b[0mclient\u001b[0m\u001b[0;34m-\u001b[0m\u001b[0mlevel\u001b[0m \u001b[0mdefault\u001b[0m \u001b[0mtimeout\u001b[0m \u001b[0;32mfor\u001b[0m \u001b[0mthis\u001b[0m \u001b[0mrequest\u001b[0m\u001b[0;34m,\u001b[0m \u001b[0;32min\u001b[0m \u001b[0mseconds\u001b[0m\u001b[0;34m\u001b[0m\u001b[0;34m\u001b[0m\u001b[0m\n\u001b[1;32m     80\u001b[0m         \"\"\"\n\u001b[0;32m---> 81\u001b[0;31m         return self._post(\n\u001b[0m\u001b[1;32m     82\u001b[0m             \u001b[0;34m\"/search/query_fanout/generate\"\u001b[0m\u001b[0;34m,\u001b[0m\u001b[0;34m\u001b[0m\u001b[0;34m\u001b[0m\u001b[0m\n\u001b[1;32m     83\u001b[0m             body=maybe_transform(\n",
            "\u001b[0;32m/usr/local/lib/python3.11/dist-packages/withpi/_base_client.py\u001b[0m in \u001b[0;36mpost\u001b[0;34m(self, path, cast_to, body, options, files, stream, stream_cls)\u001b[0m\n\u001b[1;32m   1223\u001b[0m             \u001b[0mmethod\u001b[0m\u001b[0;34m=\u001b[0m\u001b[0;34m\"post\"\u001b[0m\u001b[0;34m,\u001b[0m \u001b[0murl\u001b[0m\u001b[0;34m=\u001b[0m\u001b[0mpath\u001b[0m\u001b[0;34m,\u001b[0m \u001b[0mjson_data\u001b[0m\u001b[0;34m=\u001b[0m\u001b[0mbody\u001b[0m\u001b[0;34m,\u001b[0m \u001b[0mfiles\u001b[0m\u001b[0;34m=\u001b[0m\u001b[0mto_httpx_files\u001b[0m\u001b[0;34m(\u001b[0m\u001b[0mfiles\u001b[0m\u001b[0;34m)\u001b[0m\u001b[0;34m,\u001b[0m \u001b[0;34m**\u001b[0m\u001b[0moptions\u001b[0m\u001b[0;34m\u001b[0m\u001b[0;34m\u001b[0m\u001b[0m\n\u001b[1;32m   1224\u001b[0m         )\n\u001b[0;32m-> 1225\u001b[0;31m         \u001b[0;32mreturn\u001b[0m \u001b[0mcast\u001b[0m\u001b[0;34m(\u001b[0m\u001b[0mResponseT\u001b[0m\u001b[0;34m,\u001b[0m \u001b[0mself\u001b[0m\u001b[0;34m.\u001b[0m\u001b[0mrequest\u001b[0m\u001b[0;34m(\u001b[0m\u001b[0mcast_to\u001b[0m\u001b[0;34m,\u001b[0m \u001b[0mopts\u001b[0m\u001b[0;34m,\u001b[0m \u001b[0mstream\u001b[0m\u001b[0;34m=\u001b[0m\u001b[0mstream\u001b[0m\u001b[0;34m,\u001b[0m \u001b[0mstream_cls\u001b[0m\u001b[0;34m=\u001b[0m\u001b[0mstream_cls\u001b[0m\u001b[0;34m)\u001b[0m\u001b[0;34m)\u001b[0m\u001b[0;34m\u001b[0m\u001b[0;34m\u001b[0m\u001b[0m\n\u001b[0m\u001b[1;32m   1226\u001b[0m \u001b[0;34m\u001b[0m\u001b[0m\n\u001b[1;32m   1227\u001b[0m     def patch(\n",
            "\u001b[0;32m/usr/local/lib/python3.11/dist-packages/withpi/_base_client.py\u001b[0m in \u001b[0;36mrequest\u001b[0;34m(self, cast_to, options, remaining_retries, stream, stream_cls)\u001b[0m\n\u001b[1;32m    915\u001b[0m             \u001b[0mretries_taken\u001b[0m \u001b[0;34m=\u001b[0m \u001b[0;36m0\u001b[0m\u001b[0;34m\u001b[0m\u001b[0;34m\u001b[0m\u001b[0m\n\u001b[1;32m    916\u001b[0m \u001b[0;34m\u001b[0m\u001b[0m\n\u001b[0;32m--> 917\u001b[0;31m         return self._request(\n\u001b[0m\u001b[1;32m    918\u001b[0m             \u001b[0mcast_to\u001b[0m\u001b[0;34m=\u001b[0m\u001b[0mcast_to\u001b[0m\u001b[0;34m,\u001b[0m\u001b[0;34m\u001b[0m\u001b[0;34m\u001b[0m\u001b[0m\n\u001b[1;32m    919\u001b[0m             \u001b[0moptions\u001b[0m\u001b[0;34m=\u001b[0m\u001b[0moptions\u001b[0m\u001b[0;34m,\u001b[0m\u001b[0;34m\u001b[0m\u001b[0;34m\u001b[0m\u001b[0m\n",
            "\u001b[0;32m/usr/local/lib/python3.11/dist-packages/withpi/_base_client.py\u001b[0m in \u001b[0;36m_request\u001b[0;34m(self, cast_to, options, retries_taken, stream, stream_cls)\u001b[0m\n\u001b[1;32m   1018\u001b[0m \u001b[0;34m\u001b[0m\u001b[0m\n\u001b[1;32m   1019\u001b[0m             \u001b[0mlog\u001b[0m\u001b[0;34m.\u001b[0m\u001b[0mdebug\u001b[0m\u001b[0;34m(\u001b[0m\u001b[0;34m\"Re-raising status error\"\u001b[0m\u001b[0;34m)\u001b[0m\u001b[0;34m\u001b[0m\u001b[0;34m\u001b[0m\u001b[0m\n\u001b[0;32m-> 1020\u001b[0;31m             \u001b[0;32mraise\u001b[0m \u001b[0mself\u001b[0m\u001b[0;34m.\u001b[0m\u001b[0m_make_status_error_from_response\u001b[0m\u001b[0;34m(\u001b[0m\u001b[0merr\u001b[0m\u001b[0;34m.\u001b[0m\u001b[0mresponse\u001b[0m\u001b[0;34m)\u001b[0m \u001b[0;32mfrom\u001b[0m \u001b[0;32mNone\u001b[0m\u001b[0;34m\u001b[0m\u001b[0;34m\u001b[0m\u001b[0m\n\u001b[0m\u001b[1;32m   1021\u001b[0m \u001b[0;34m\u001b[0m\u001b[0m\n\u001b[1;32m   1022\u001b[0m         return self._process_response(\n",
            "\u001b[0;31mUnprocessableEntityError\u001b[0m: Error code: 422 - {'detail': [{'type': 'list_type', 'loc': ['body', 'queries'], 'msg': 'Input should be a valid list', 'input': 'Which cities in Australia are known for their art festivals, and what are the dates for the most popular festival in each city?'}]}"
          ]
        }
      ],
      "source": [
        "example_queries_df[OUTPUT_FIELD] = None\n",
        "for index, row in example_queries_df.iterrows():\n",
        "    print(f\"Generating fanouts for {index}: {row[INPUT_FIELD]}\")\n",
        "    result = client.search.query_fanout.generate(queries=example_queries_df.at[index, INPUT_FIELD])\n",
        "    example_queries_df.at[index, OUTPUT_FIELD] = result.fanout_queries"
      ]
    },
    {
      "cell_type": "code",
      "execution_count": null,
      "metadata": {
        "id": "f6mDeZDYTqQg"
      },
      "outputs": [],
      "source": [
        "example_queries_df[OUTPUT_FIELD].head()"
      ]
    },
    {
      "cell_type": "markdown",
      "metadata": {
        "id": "2JhG_uUoTqQg"
      },
      "source": [
        "## Define Few-Shot Examples\n",
        "\n",
        "Let's augment our initial dataset with a few examples that are specific to our fanout use-case. Suppose our LLM application passes these generated fanouts to downstream tools that perform retrieval and potentially other business-logic. Our generated fanouts should be increasingly concise and narrowly-directed."
      ]
    },
    {
      "cell_type": "code",
      "execution_count": null,
      "metadata": {
        "id": "AEQPo1q_TqQg"
      },
      "outputs": [],
      "source": [
        "example_fanout_queries = [\n",
        "  {\n",
        "      \"query\": \"Identify the three most influential environmental organizations globally, and describe one major campaign each has led in the past year.\",\n",
        "      \"fanout_queries\" : [\n",
        "        'Greenpeace major campaigns',\n",
        "        'World Wildlife Fund major campaigns'\n",
        "        'The Nature Conservancy major campaigns'\n",
        "        'Three most influential environmental organizations'\n",
        "      ]\n",
        "  },\n",
        "  {\n",
        "      \"query\": \"What is the GDP in US dollars of the top three nations with the most international tourists?\",\n",
        "      \"fanout_queries\" : [\n",
        "        'GDP in USD of France',\n",
        "        'GDP in USD of Spain'\n",
        "        'GDP in USD of United States'\n",
        "        'Top tourism nations'\n",
        "        'Top five GDPs'\n",
        "      ]\n",
        "  },\n",
        "  {\n",
        "      \"query\": \"Who were two of Malin Maria Akerman's costars in the comedy film '27 Dresses'?\",\n",
        "      \"fanout_queries\" : [\n",
        "        \"Malin Akerman's female costars in '27 Dresses'\",\n",
        "        'Two costars'\n",
        "      ]\n",
        "  }\n",
        "]\n"
      ]
    },
    {
      "cell_type": "markdown",
      "metadata": {
        "id": "tEhIR8iuTqQh"
      },
      "source": [
        "# Generate Fanouts with Few-Shot Examples\n",
        "\n",
        "Now use the Pi API to generate fanout queries for each input, also supplying our vertical-specific few-shot examples."
      ]
    },
    {
      "cell_type": "code",
      "execution_count": null,
      "metadata": {
        "id": "LfL1-oOETqQh"
      },
      "outputs": [],
      "source": [
        "OUTPUT_FIELD = 'fanout_queries_few_shot'\n",
        "\n",
        "\n",
        "try:\n",
        "    example_queries_df[OUTPUT_FIELD] = None\n",
        "    for index, row in example_queries_df.iterrows():\n",
        "      print(f\"Generating fanouts for {index}: {row[INPUT_FIELD]}\")\n",
        "      result = generate_fanout_queries(example_queries_df.at[index, INPUT_FIELD], example_fanout_queries)\n",
        "      example_queries_df.at[index, OUTPUT_FIELD] = result[\"fanout_queries\"]\n",
        "except Exception as e:\n",
        "    logger.error(\"Request failed\", exc_info=True)"
      ]
    },
    {
      "cell_type": "code",
      "execution_count": null,
      "metadata": {
        "id": "dM9ImLg_TqQh"
      },
      "outputs": [],
      "source": [
        "example_queries_df[OUTPUT_FIELD].head()"
      ]
    },
    {
      "cell_type": "markdown",
      "metadata": {
        "id": "25veFqjQTqQh"
      },
      "source": [
        "# Evaluate Fanouts with Contract\n",
        "Now use the Query Fanout Contract we specified earlier to evaluate the generated fanouts using the Pi scoring system."
      ]
    },
    {
      "cell_type": "code",
      "execution_count": null,
      "metadata": {
        "id": "oDLphKRGTqQh"
      },
      "outputs": [],
      "source": [
        "INPUT_FIELD = 'query'\n",
        "OUTPUT_FIELD = 'fanout_queries' # or fanout_queries_few_shot to evaluate the few-shot fanouts\n",
        "try:\n",
        "    example_queries_df['Total Score'] = None\n",
        "    example_queries_df['Result'] = None\n",
        "    for index, row in example_queries_df.iterrows():\n",
        "      print(f\"Processing {index}: {row[INPUT_FIELD]}\")\n",
        "      fanout_queries = \",\".join(example_queries_df.at[index, OUTPUT_FIELD])\n",
        "      result = score_with_contract(example_queries_df.at[index, INPUT_FIELD], fanout_queries, query_fanout_contract)\n",
        "      example_queries_df.at[index, 'Total Score'] = result.total_score\n",
        "      example_queries_df.at[index, 'Result'] = result\n",
        "      print(f\"Processing {index}: {result}\")\n",
        "except Exception as e:\n",
        "    logger.error(\"Request failed\", exc_info=True)"
      ]
    },
    {
      "cell_type": "code",
      "execution_count": null,
      "metadata": {
        "id": "aWdV08U4TqQh"
      },
      "outputs": [],
      "source": [
        "for index, row in example_queries_df.iterrows():\n",
        "  metrics = row['Result']\n",
        "  print(\"Scores for fanouts for query \" + row[INPUT_FIELD])\n",
        "  print()\n",
        "  print_scores(metrics)\n",
        "  print()"
      ]
    },
    {
      "cell_type": "markdown",
      "metadata": {
        "id": "jT7s_nuJsHbM"
      },
      "source": [
        "## Next Steps\n",
        "\n",
        "This query fanout generation can drive many other techniques in Pi.  You can adjust the above methods to steer the AI in different ways."
      ]
    }
  ],
  "metadata": {
    "colab": {
      "provenance": [],
      "include_colab_link": true
    },
    "kernelspec": {
      "display_name": "Python 3",
      "name": "python3"
    },
    "language_info": {
      "name": "python"
    }
  },
  "nbformat": 4,
  "nbformat_minor": 0
}