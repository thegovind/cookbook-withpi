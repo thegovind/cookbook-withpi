{
  "cells": [
    {
      "cell_type": "markdown",
      "metadata": {
        "colab_type": "text",
        "id": "view-in-github"
      },
      "source": [
        "<a href=\"https://colab.research.google.com/github/withpi/cookbook-withpi/blob/main/colabs/Input_Generation.ipynb\" target=\"_parent\"><img src=\"https://colab.research.google.com/assets/colab-badge.svg\" alt=\"Open In Colab\"/></a>"
      ]
    },
    {
      "cell_type": "markdown",
      "metadata": {
        "id": "pi-masthead"
      },
      "source": [
        "<a href=\"https://withpi.ai\"><img src=\"https://withpi.ai/logoFullBlack.svg\" width=\"240\"></a>\n",
        "\n",
        "<a href=\"https://code.withpi.ai\"><font size=\"4\">Documentation</font></a>\n",
        "\n",
        "<a href=\"https://play.withpi.ai\"><font size=\"4\">Technique Catalog</font></a>"
      ]
    },
    {
      "cell_type": "markdown",
      "metadata": {
        "id": "Bwm4tjdnedp6"
      },
      "source": [
        "# Query Fanout\n",
        "\n",
        "There is no Playground associated with this Colab, but it's coming soon!\n",
        "\n",
        "In many LLM applications, models are asked questions that require an initially broad query to be decomposed into a set of narrow queries to satisfy the information needs of the original request. These narrow queries, or \"fan-outs\", can be used retrieve documents, issue queries or commands to downstream tools or agents, and form the foundation of multi-hop reasoning, which each hop generating new \"fan-outs\" with the additional, accrued context.\n",
        "\n",
        "Generating these fanouts with AI support can improve any question/answer component of your LLM system. Additionally, we demonstrate the usage of Pi's Contract-based evaluation to assess the quality of these fanout queries.\n",
        "\n",
        "We will walk through the generation of more generic fanouts using the Pi SDK, before also highlighting how providing few-shot examples can improve fanout quality for a specific vertical."
      ]
    },
    {
      "cell_type": "markdown",
      "metadata": {
        "id": "pi-setup-markdown"
      },
      "source": [
        "## Install and initialize SDK\n",
        "\n",
        "Connect to a regular CPU Python 3 runtime.  You won't need GPUs for this notebook.\n",
        "\n",
        "You'll need a WITHPI_API_KEY from https://play.withpi.ai.  Add it to your notebook secrets (the key symbol) on the left.\n",
        "\n",
        "Run the cell below to install packages and load the SDK"
      ]
    },
    {
      "cell_type": "code",
      "execution_count": null,
      "metadata": {
        "id": "pi-setup"
      },
      "outputs": [],
      "source": [
        "%%capture\n",
        "\n",
        "import os\n",
        "from google.colab import files, userdata\n",
        "\n",
        "# Load the notebook secret into the environment so the Pi Client can access it.\n",
        "os.environ[\"WITHPI_API_KEY\"] = userdata.get('WITHPI_API_KEY')\n",
        "\n",
        "%pip install withpi litellm httpx datasets jinja2 tqdm\n",
        "\n",
        "# Import a bunch of useful libraries for later.\n",
        "from concurrent.futures import ThreadPoolExecutor\n",
        "import json\n",
        "from pathlib import Path\n",
        "import pandas as pd\n",
        "import re\n",
        "\n",
        "import datasets\n",
        "import httpx\n",
        "import jinja2\n",
        "from litellm import completion\n",
        "from tqdm.notebook import tqdm\n",
        "from withpi import PiClient\n",
        "from withpi.types import Contract\n",
        "\n",
        "from rich.console import Console\n",
        "from rich.table import Table\n",
        "from rich.live import Live\n",
        "\n",
        "console = Console()\n",
        "\n",
        "client = PiClient()\n",
        "\n",
        "def print_contract(contract: Contract):\n",
        "  \"\"\"print_contract pretty-prints a contract\"\"\"\n",
        "  for dimension in contract.dimensions:\n",
        "    print(dimension.label)\n",
        "    for sub_dimension in dimension.sub_dimensions:\n",
        "      print(f\"\\t{sub_dimension.description}\")\n",
        "      \n",
        "def print_scores(pi_scores):\n",
        "  \"\"\"print_scores pretty-prints a Pi Score response as a table.\"\"\"\n",
        "  for dimension_name, dimension_scores in pi_scores.dimension_scores.items():\n",
        "    print(f\"{dimension_name}: {dimension_scores.total_score}\")\n",
        "    for subdimension_name, subdimension_score in dimension_scores.subdimension_scores.items():\n",
        "      print(f\"\\t{subdimension_name}: {subdimension_score}\")\n",
        "    print(\"\\n\")\n",
        "  print(\"---------------------\")\n",
        "  print(f\"Total score: {pi_scores.total_score}\")\n",
        "\n",
        "def generate_fanout_queries(query: str, example_fanout_queries: list[dict] = [], num_fanout_queries: int = 5):\n",
        "    try:\n",
        "        response = client.queries.generate_fanouts(\n",
        "              queries=[query],\n",
        "              example_fanout_queries=example_fanout_queries,\n",
        "              num_fanout_queries=num_fanout_queries\n",
        "        )\n",
        "        return {\"query\" : query, \"fanout_queries\" : response[0].fanout_queries}\n",
        "\n",
        "    except Exception as e:\n",
        "        if hasattr(e, 'response'):\n",
        "            logger.error(f\"Status code: {e.response.status_code}\")\n",
        "            logger.error(f\"Response headers: {e.response.headers}\")\n",
        "            logger.error(f\"Response body: {e.response.text}\")\n",
        "            logger.error(f\"Request URL: {e.response.request.url}\")\n",
        "            logger.error(f\"Request headers: {e.response.request.headers}\")\n",
        "            logger.error(f\"Request body: {e.response.request.content}\")\n",
        "        raise\n",
        "      \n",
        "def score_with_contract(llm_input, llm_output, contract):\n",
        "    try:\n",
        "        input_evaluation_metrics = client.contracts.score(\n",
        "              contract=contract,\n",
        "              llm_input=llm_input,\n",
        "              llm_output= llm_output\n",
        "        )\n",
        "        return input_evaluation_metrics\n",
        "\n",
        "    except Exception as e:\n",
        "        if hasattr(e, 'response'):\n",
        "            logger.error(f\"Status code: {e.response.status_code}\")\n",
        "            logger.error(f\"Response headers: {e.response.headers}\")\n",
        "            logger.error(f\"Response body: {e.response.text}\")\n",
        "            logger.error(f\"Request URL: {e.response.request.url}\")\n",
        "            logger.error(f\"Request headers: {e.response.request.headers}\")\n",
        "            logger.error(f\"Request body: {e.response.request.content}\")\n",
        "        raise\n",
        "\n",
        "def load_contract(url: str) -> Contract:\n",
        "  \"\"\"load_contract pulls a Contract JSON blob locally with validation.\"\"\"\n",
        "  resp = httpx.get(url)\n",
        "  return Contract.model_validate_json(resp.content)"
      ]
    },
    {
      "cell_type": "markdown",
      "metadata": {},
      "source": [
        "# Load Query Fanout contract\n",
        "\n",
        "Load the `Query Fanout` example from Pi Labs cookbooks, or edit below to load a different one.\n"
      ]
    },
    {
      "cell_type": "code",
      "execution_count": null,
      "metadata": {},
      "outputs": [],
      "source": [
        "query_fanout_contract = load_contract(\"https://raw.githubusercontent.com/withpi/cookbook-withpi/refs/heads/main/contracts/query_fanout.json\")\n",
        "print_contract(query_fanout_contract)"
      ]
    },
    {
      "cell_type": "markdown",
      "metadata": {
        "id": "j1FAoBqU7dwf"
      },
      "source": [
        "## Define an Input Set\n",
        "\n",
        "Let's build a Dataset containing a some examples of broad queries that are amenable to generated fanouts."
      ]
    },
    {
      "cell_type": "code",
      "execution_count": null,
      "metadata": {
        "id": "4NpCZhP6exgI"
      },
      "outputs": [],
      "source": [
        "INPUT_FIELD = 'query'\n",
        "OUTPUT_FIELD = 'fanout_queries'\n",
        "\n",
        "example_queries_for_fanout_generation = [\n",
        "    \"Which cities in Australia are known for their art festivals, and what are the dates for the most popular festival in each city?\",\n",
        "    \"List the top three coffee-producing countries in 2024, and specify the unique flavor profile of coffee from each country.\",\n",
        "    \"Identify the top five largest deserts in the world and their total areas in square kilometers.\",\n",
        "    \"Which airport is owned by Roosevelt County and is located in a city with a population of 810?\",\n",
        "    \"Who are the current female cabinet members of the UK Prime Minister and in which city or town were they born?\",\n",
        "    \"What are the titles of the last three albums released by the artist who sang 'Rolling in the Deep', and what is the name of the producer for each album?\"\n",
        "]\n",
        "\n",
        "example_queries_df = pd.from_dict({INPUT_FIELD : example_queries_for_fanout_generation})\n"
      ]
    },
    {
      "cell_type": "markdown",
      "metadata": {},
      "source": [
        "# Generate Fanouts\n",
        "\n",
        "Now use the Pi API to generate fanout queries for each input"
      ]
    },
    {
      "cell_type": "code",
      "execution_count": null,
      "metadata": {},
      "outputs": [],
      "source": [
        "import logging\n",
        "logging.basicConfig(\n",
        "    level=logging.DEBUG,\n",
        "    format='%(asctime)s - %(levelname)s - %(message)s'\n",
        ")\n",
        "logger = logging.getLogger(__name__)\n",
        "\n",
        "try:\n",
        "    example_queries_df[OUTPUT_FIELD] = None\n",
        "    for index, row in example_queries_df.iterrows():\n",
        "      print(f\"Generating fanouts for {index}: {row[INPUT_FIELD]}\")\n",
        "      result = generate_fanout_queries(example_queries_df.at[index, INPUT_FIELD])\n",
        "      example_queries_df.at[index, OUTPUT_FIELD] = result[\"fanout_queries\"]\n",
        "except Exception as e:\n",
        "    logger.error(\"Request failed\", exc_info=True)"
      ]
    },
    {
      "cell_type": "markdown",
      "metadata": {},
      "source": [
        "## Define Few-Shot Examples\n",
        "\n",
        "Let's augment our initial dataset with a few examples that are specific to our fanout use-case. Suppose our LLM application passes these generated fanouts to downstream tools that perform retrieval and potentially other business-logic. Our generated fanouts should be more concise and include the specific tool which the fanout should be directed to. "
      ]
    },
    {
      "cell_type": "code",
      "execution_count": null,
      "metadata": {},
      "outputs": [],
      "source": [
        "example_fanout_queries = [\n",
        "  {\n",
        "      \"query\": \"Identify the three most influential environmental organizations globally, and describe one major campaign each has led in the past year.\",\n",
        "      \"fanout_queries\" : [\n",
        "        'Greenpeace major campaigns [GENERIC_SEARCH]',\n",
        "        'World Wildlife Fund major campaigns [GENERIC_SEARCH]'\n",
        "        'The Nature Conservancy major campaigns [GENERIC_SEARCH]'\n",
        "        'Three most influential environmental organizations [COT_REASONING]'\n",
        "      ]\n",
        "  },\n",
        "  {\n",
        "      \"query\": \"What is the GDP in US dollars of the top three nations with the most international tourists?\",\n",
        "      \"fanout_queries\" : [\n",
        "        'GDP in USD of France [FINANCE]',\n",
        "        'GDP in USD of Spain [FINANCE]'\n",
        "        'GDP in USD of United States [FINANCE]'\n",
        "        'Top tourism nations [GENERIC_SEARCH]'\n",
        "        'Top five GDPs [SUMMARIZE]'\n",
        "      ]\n",
        "  },\n",
        "  {\n",
        "      \"query\": \"Who were two of Malin Maria Akerman's costars in the comedy film '27 Dresses'?\",\n",
        "      \"fanout_queries\" : [\n",
        "        \"Malin Akerman's female costars in '27 Dresses' [ENTERTAINMENT]\",\n",
        "        'Two costars [SUMMARIZE}'\n",
        "      ]\n",
        "  }\n",
        "]\n"
      ]
    },
    {
      "cell_type": "markdown",
      "metadata": {},
      "source": [
        "# Generate Fanouts with Few-Shot Examples\n",
        "\n",
        "Now use the Pi API to generate fanout queries for each input, also supplying our vertical-specific few-shot examples."
      ]
    },
    {
      "cell_type": "code",
      "execution_count": null,
      "metadata": {},
      "outputs": [],
      "source": [
        "OUTPUT_FIELD = 'fanout_queries_few_shot'\n",
        "\n",
        "\n",
        "try:\n",
        "    example_queries_df[OUTPUT_FIELD] = None\n",
        "    for index, row in example_queries_df.iterrows():\n",
        "      print(f\"Generating fanouts for {index}: {row[INPUT_FIELD]}\")\n",
        "      result = generate_fanout_queries(example_queries_df.at[index, INPUT_FIELD], example_fanout_queries)\n",
        "      example_queries_df.at[index, OUTPUT_FIELD] = result[\"fanout_queries\"]\n",
        "except Exception as e:\n",
        "    logger.error(\"Request failed\", exc_info=True)"
      ]
    },
    {
      "cell_type": "markdown",
      "metadata": {},
      "source": [
        "# Evaluate Fanouts with Contract\n",
        "Now use the Query Fanout Contract we specified earlier to evaluate the generated fanouts using the Pi scoring system."
      ]
    },
    {
      "cell_type": "code",
      "execution_count": null,
      "metadata": {},
      "outputs": [],
      "source": [
        "INPUT_FIELD = 'query'\n",
        "OUTPUT_FIELD = 'fanout_queries' # or fanout_queries_few_shot to evaluate the few-shot fanouts\n",
        "try:\n",
        "    example_queries_df['Total Score'] = None\n",
        "    example_queries_df['Result'] = None\n",
        "    for index, row in example_queries_df.iterrows():\n",
        "      print(f\"Processing {index}: {row[INPUT_FIELD]}\")\n",
        "      result = score_with_contract(example_queries_df.at[index, INPUT_FIELD], example_queries_df.at[index, OUTPUT_FIELD], query_fanout_contract)\n",
        "      example_queries_df.at[index, 'Total Score'] = result.total_score\n",
        "      example_queries_df.at[index, 'Result'] = result\n",
        "      print(f\"Processing {index}: {result}\")\n",
        "except Exception as e:\n",
        "    logger.error(\"Request failed\", exc_info=True)"
      ]
    },
    {
      "cell_type": "code",
      "execution_count": null,
      "metadata": {},
      "outputs": [],
      "source": [
        "for index, row in example_queries_df.iterrows():\n",
        "  metrics = row['Result']\n",
        "  print_scores(metrics)"
      ]
    },
    {
      "cell_type": "markdown",
      "metadata": {
        "id": "jT7s_nuJsHbM"
      },
      "source": [
        "## Next Steps\n",
        "\n",
        "This query fanout generation can drive many other techniques in Pi.  You can adjust the above methods to steer the AI in different ways."
      ]
    }
  ],
  "metadata": {
    "colab": {
      "include_colab_link": true,
      "provenance": []
    },
    "kernelspec": {
      "display_name": "Python 3",
      "name": "python3"
    },
    "language_info": {
      "name": "python"
    }
  },
  "nbformat": 4,
  "nbformat_minor": 0
}
