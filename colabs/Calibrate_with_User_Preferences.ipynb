{
  "cells": [
    {
      "cell_type": "markdown",
      "metadata": {
        "id": "view-in-github",
        "colab_type": "text"
      },
      "source": [
        "<a href=\"https://colab.research.google.com/github/withpi/cookbook-withpi/blob/main/colabs/Calibrate_with_User_Preferences.ipynb\" target=\"_parent\"><img src=\"https://colab.research.google.com/assets/colab-badge.svg\" alt=\"Open In Colab\"/></a>"
      ]
    },
    {
      "cell_type": "markdown",
      "metadata": {
        "id": "pi-masthead"
      },
      "source": [
        "<a href=\"https://withpi.ai\"><img src=\"https://play.withpi.ai/logo/logoFullBlack.svg\" width=\"240\"></a>\n",
        "\n",
        "<a href=\"https://code.withpi.ai\"><font size=\"4\">Documentation</font></a>\n",
        "\n",
        "<a href=\"https://play.withpi.ai\"><font size=\"4\">Technique Catalog</font></a>"
      ]
    },
    {
      "cell_type": "markdown",
      "metadata": {
        "id": "Bwm4tjdnedp6"
      },
      "source": [
        "# Calibrate with User Preferences\n",
        "\n",
        "This Colab is the companion to the Preference Collection Playground, showing how you can apply preference data to your training pipeline.\n",
        "\n",
        "It's easier to collect training data from the UI, but this Colab will have you rate a small number of examples in-line.\n",
        "\n",
        "We will walk through the same `Aesop AI` example, but any contract with feedback data should work."
      ]
    },
    {
      "cell_type": "markdown",
      "metadata": {
        "id": "pi-setup-markdown"
      },
      "source": [
        "## Install and initialize SDK\n",
        "\n",
        "Connect to a regular CPU Python 3 runtime.  You won't need GPUs for this notebook.\n",
        "\n",
        "You'll need a WITHPI_API_KEY from https://play.withpi.ai.  Add it to your notebook secrets (the key symbol) on the left.\n",
        "\n",
        "Run the cell below to install packages and load the SDK"
      ]
    },
    {
      "cell_type": "code",
      "execution_count": 1,
      "metadata": {
        "id": "pi-setup"
      },
      "outputs": [],
      "source": [
        "%%capture\n",
        "\n",
        "%pip install withpi withpi-utils datasets tqdm\n",
        "\n",
        "import os\n",
        "from google.colab import userdata\n",
        "from withpi import PiClient\n",
        "\n",
        "# Load the notebook secret into the environment so the Pi Client can access it.\n",
        "os.environ[\"WITHPI_API_KEY\"] = userdata.get('WITHPI_API_KEY')\n",
        "\n",
        "client = PiClient()"
      ]
    },
    {
      "cell_type": "markdown",
      "metadata": {
        "id": "HVdupu3M5t8x"
      },
      "source": [
        "# Load a Pi-Scorer and a Dataset"
      ]
    },
    {
      "cell_type": "code",
      "execution_count": 2,
      "metadata": {
        "id": "oXJmb89i5iN5",
        "colab": {
          "base_uri": "https://localhost:8080/",
          "height": 618
        },
        "collapsed": true,
        "outputId": "fb34a045-0974-4328-e957-9298620b4bc4"
      },
      "outputs": [
        {
          "output_type": "display_data",
          "data": {
            "text/plain": [
              "<IPython.core.display.HTML object>"
            ],
            "text/html": [
              "<div style='font-family: Arial, sans-serif;'><h2 style='color: #202124; border-bottom: 2px solid #4285F4; padding-bottom: 8px; margin-bottom: 10px;'>Scorer: aesop_ai</h2><p style='margin-top: 0; margin-bottom: 20px; color: #5F6368;'>Write a children's story in the style of Aesop's Fables teaching a life lesson specified by the user.  Provide just the story with no extra content.</p><h3 style='margin-bottom: 5px; color: #4285F4;'>Story Structure</h3><ul style='margin-top: 0; padding-left: 20px;'><li><strong>PI_SCORER:</strong> Does the story have a clear beginning, middle, and end?</li><li><strong>PI_SCORER:</strong> Is there a conflict introduced early in the story that drives the plot?</li><li><strong>PI_SCORER:</strong> Is the resolution of the conflict clear and satisfying?</li></ul><h3 style='margin-bottom: 5px; color: #4285F4;'>Character Development</h3><ul style='margin-top: 0; padding-left: 20px;'><li><strong>PI_SCORER:</strong> Does the story include characters that are relatable for children?</li><li><strong>PI_SCORER:</strong> Do the characters demonstrate growth or change by the end of the story?</li><li><strong>PI_SCORER:</strong> Is the dialogue between characters natural and age-appropriate?</li></ul><h3 style='margin-bottom: 5px; color: #4285F4;'>Narrative Engagement</h3><ul style='margin-top: 0; padding-left: 20px;'><li><strong>PI_SCORER:</strong> Is the story engaging and likely to hold a child's interest?</li><li><strong>PI_SCORER:</strong> Does the story use vivid imagery to help children visualize the scenes?</li><li><strong>PI_SCORER:</strong> Does the story incorporate repetitive elements that aid in comprehension and retention?</li></ul><h3 style='margin-bottom: 5px; color: #4285F4;'>Language Appropriateness</h3><ul style='margin-top: 0; padding-left: 20px;'><li><strong>PI_SCORER:</strong> Is the language used in the story appropriate for children's understanding?</li><li><strong>PI_SCORER:</strong> Is the story an appropriate length for a children's tale (not exceeding 1000 words)?</li></ul><h3 style='margin-bottom: 5px; color: #4285F4;'>Moral and Cultural Sensitivity</h3><ul style='margin-top: 0; padding-left: 20px;'><li><strong>PI_SCORER:</strong> Does the story clearly convey a specified life lesson?</li><li><strong>PI_SCORER:</strong> Does the story reiterate the moral lesson at the end?</li><li><strong>PI_SCORER:</strong> Is the content culturally sensitive and inclusive for all children?</li></ul><h3 style='margin-bottom: 5px; color: #4285F4;'>Illustration Integration</h3><ul style='margin-top: 0; padding-left: 20px;'><li><strong>PI_SCORER:</strong> Does the story provide opportunities for illustrations that enhance the narrative?</li></ul></div>"
            ]
          },
          "metadata": {}
        }
      ],
      "source": [
        "# @title Load Scorer\n",
        "from withpi_utils.colab import load_scorer_from_web, display_scorer\n",
        "\n",
        "aesop_scorer = load_scorer_from_web(\"https://raw.githubusercontent.com/withpi/cookbook-withpi/refs/heads/main/contracts/aesop_ai.json\")\n",
        "\n",
        "display_scorer(aesop_scorer)"
      ]
    },
    {
      "cell_type": "code",
      "source": [
        "# @title Load dataset\n",
        "from datasets import load_dataset\n",
        "\n",
        "aesop_dataset = load_dataset(\"withpi/aesop\")\n",
        "\n",
        "print(aesop_dataset)\n"
      ],
      "metadata": {
        "colab": {
          "base_uri": "https://localhost:8080/"
        },
        "id": "RGPsTSPzgWxT",
        "outputId": "c558235e-35a6-4fdd-fdaa-1565c00d1e34"
      },
      "execution_count": 5,
      "outputs": [
        {
          "output_type": "stream",
          "name": "stdout",
          "text": [
            "DatasetDict({\n",
            "    train: Dataset({\n",
            "        features: ['input', 'output'],\n",
            "        num_rows: 23\n",
            "    })\n",
            "})\n"
          ]
        }
      ]
    },
    {
      "cell_type": "markdown",
      "metadata": {
        "id": "j1FAoBqU7dwf"
      },
      "source": [
        "## Cluster Inputs\n",
        "\n",
        "We're going to label some inputs as \"good\" and \"bad\", but to do this it is helpful to focus on a few different types of input.  We'll use clustering to make sure we don't have to look at too many examples."
      ]
    },
    {
      "cell_type": "code",
      "execution_count": 24,
      "metadata": {
        "id": "4NpCZhP6exgI",
        "colab": {
          "base_uri": "https://localhost:8080/",
          "height": 143
        },
        "collapsed": true,
        "outputId": "84fbddf0-47e5-4490-96b2-b4759b686c20"
      },
      "outputs": [
        {
          "output_type": "execute_result",
          "data": {
            "text/plain": [
              "                                  Topic                                       Items  Size\n",
              "0     Animal-Based Moral Story Requests  [1, 4, 5, 7, 8, 9, 11, 14, 16, 17, 18, 20]    12\n",
              "1     \"Storytelling with Moral Lessons\"                  [2, 6, 12, 13, 15, 21, 22]     7\n",
              "2  \"Tortoise Fables with Moral Lessons\"                              [0, 3, 10, 19]     4"
            ],
            "text/html": [
              "\n",
              "  <div id=\"df-1985a104-0ecd-46c1-a67d-114f565bb328\" class=\"colab-df-container\">\n",
              "    <div>\n",
              "<style scoped>\n",
              "    .dataframe tbody tr th:only-of-type {\n",
              "        vertical-align: middle;\n",
              "    }\n",
              "\n",
              "    .dataframe tbody tr th {\n",
              "        vertical-align: top;\n",
              "    }\n",
              "\n",
              "    .dataframe thead th {\n",
              "        text-align: right;\n",
              "    }\n",
              "</style>\n",
              "<table border=\"1\" class=\"dataframe\">\n",
              "  <thead>\n",
              "    <tr style=\"text-align: right;\">\n",
              "      <th></th>\n",
              "      <th>Topic</th>\n",
              "      <th>Items</th>\n",
              "      <th>Size</th>\n",
              "    </tr>\n",
              "  </thead>\n",
              "  <tbody>\n",
              "    <tr>\n",
              "      <th>0</th>\n",
              "      <td>Animal-Based Moral Story Requests</td>\n",
              "      <td>[1, 4, 5, 7, 8, 9, 11, 14, 16, 17, 18, 20]</td>\n",
              "      <td>12</td>\n",
              "    </tr>\n",
              "    <tr>\n",
              "      <th>1</th>\n",
              "      <td>\"Storytelling with Moral Lessons\"</td>\n",
              "      <td>[2, 6, 12, 13, 15, 21, 22]</td>\n",
              "      <td>7</td>\n",
              "    </tr>\n",
              "    <tr>\n",
              "      <th>2</th>\n",
              "      <td>\"Tortoise Fables with Moral Lessons\"</td>\n",
              "      <td>[0, 3, 10, 19]</td>\n",
              "      <td>4</td>\n",
              "    </tr>\n",
              "  </tbody>\n",
              "</table>\n",
              "</div>\n",
              "    <div class=\"colab-df-buttons\">\n",
              "\n",
              "  <div class=\"colab-df-container\">\n",
              "    <button class=\"colab-df-convert\" onclick=\"convertToInteractive('df-1985a104-0ecd-46c1-a67d-114f565bb328')\"\n",
              "            title=\"Convert this dataframe to an interactive table.\"\n",
              "            style=\"display:none;\">\n",
              "\n",
              "  <svg xmlns=\"http://www.w3.org/2000/svg\" height=\"24px\" viewBox=\"0 -960 960 960\">\n",
              "    <path d=\"M120-120v-720h720v720H120Zm60-500h600v-160H180v160Zm220 220h160v-160H400v160Zm0 220h160v-160H400v160ZM180-400h160v-160H180v160Zm440 0h160v-160H620v160ZM180-180h160v-160H180v160Zm440 0h160v-160H620v160Z\"/>\n",
              "  </svg>\n",
              "    </button>\n",
              "\n",
              "  <style>\n",
              "    .colab-df-container {\n",
              "      display:flex;\n",
              "      gap: 12px;\n",
              "    }\n",
              "\n",
              "    .colab-df-convert {\n",
              "      background-color: #E8F0FE;\n",
              "      border: none;\n",
              "      border-radius: 50%;\n",
              "      cursor: pointer;\n",
              "      display: none;\n",
              "      fill: #1967D2;\n",
              "      height: 32px;\n",
              "      padding: 0 0 0 0;\n",
              "      width: 32px;\n",
              "    }\n",
              "\n",
              "    .colab-df-convert:hover {\n",
              "      background-color: #E2EBFA;\n",
              "      box-shadow: 0px 1px 2px rgba(60, 64, 67, 0.3), 0px 1px 3px 1px rgba(60, 64, 67, 0.15);\n",
              "      fill: #174EA6;\n",
              "    }\n",
              "\n",
              "    .colab-df-buttons div {\n",
              "      margin-bottom: 4px;\n",
              "    }\n",
              "\n",
              "    [theme=dark] .colab-df-convert {\n",
              "      background-color: #3B4455;\n",
              "      fill: #D2E3FC;\n",
              "    }\n",
              "\n",
              "    [theme=dark] .colab-df-convert:hover {\n",
              "      background-color: #434B5C;\n",
              "      box-shadow: 0px 1px 3px 1px rgba(0, 0, 0, 0.15);\n",
              "      filter: drop-shadow(0px 1px 2px rgba(0, 0, 0, 0.3));\n",
              "      fill: #FFFFFF;\n",
              "    }\n",
              "  </style>\n",
              "\n",
              "    <script>\n",
              "      const buttonEl =\n",
              "        document.querySelector('#df-1985a104-0ecd-46c1-a67d-114f565bb328 button.colab-df-convert');\n",
              "      buttonEl.style.display =\n",
              "        google.colab.kernel.accessAllowed ? 'block' : 'none';\n",
              "\n",
              "      async function convertToInteractive(key) {\n",
              "        const element = document.querySelector('#df-1985a104-0ecd-46c1-a67d-114f565bb328');\n",
              "        const dataTable =\n",
              "          await google.colab.kernel.invokeFunction('convertToInteractive',\n",
              "                                                    [key], {});\n",
              "        if (!dataTable) return;\n",
              "\n",
              "        const docLinkHtml = 'Like what you see? Visit the ' +\n",
              "          '<a target=\"_blank\" href=https://colab.research.google.com/notebooks/data_table.ipynb>data table notebook</a>'\n",
              "          + ' to learn more about interactive tables.';\n",
              "        element.innerHTML = '';\n",
              "        dataTable['output_type'] = 'display_data';\n",
              "        await google.colab.output.renderOutput(dataTable, element);\n",
              "        const docLink = document.createElement('div');\n",
              "        docLink.innerHTML = docLinkHtml;\n",
              "        element.appendChild(docLink);\n",
              "      }\n",
              "    </script>\n",
              "  </div>\n",
              "\n",
              "\n",
              "<div id=\"df-58a15e38-c81f-484b-8edd-5d7ad56f0430\">\n",
              "  <button class=\"colab-df-quickchart\" onclick=\"quickchart('df-58a15e38-c81f-484b-8edd-5d7ad56f0430')\"\n",
              "            title=\"Suggest charts\"\n",
              "            style=\"display:none;\">\n",
              "\n",
              "<svg xmlns=\"http://www.w3.org/2000/svg\" height=\"24px\"viewBox=\"0 0 24 24\"\n",
              "     width=\"24px\">\n",
              "    <g>\n",
              "        <path d=\"M19 3H5c-1.1 0-2 .9-2 2v14c0 1.1.9 2 2 2h14c1.1 0 2-.9 2-2V5c0-1.1-.9-2-2-2zM9 17H7v-7h2v7zm4 0h-2V7h2v10zm4 0h-2v-4h2v4z\"/>\n",
              "    </g>\n",
              "</svg>\n",
              "  </button>\n",
              "\n",
              "<style>\n",
              "  .colab-df-quickchart {\n",
              "      --bg-color: #E8F0FE;\n",
              "      --fill-color: #1967D2;\n",
              "      --hover-bg-color: #E2EBFA;\n",
              "      --hover-fill-color: #174EA6;\n",
              "      --disabled-fill-color: #AAA;\n",
              "      --disabled-bg-color: #DDD;\n",
              "  }\n",
              "\n",
              "  [theme=dark] .colab-df-quickchart {\n",
              "      --bg-color: #3B4455;\n",
              "      --fill-color: #D2E3FC;\n",
              "      --hover-bg-color: #434B5C;\n",
              "      --hover-fill-color: #FFFFFF;\n",
              "      --disabled-bg-color: #3B4455;\n",
              "      --disabled-fill-color: #666;\n",
              "  }\n",
              "\n",
              "  .colab-df-quickchart {\n",
              "    background-color: var(--bg-color);\n",
              "    border: none;\n",
              "    border-radius: 50%;\n",
              "    cursor: pointer;\n",
              "    display: none;\n",
              "    fill: var(--fill-color);\n",
              "    height: 32px;\n",
              "    padding: 0;\n",
              "    width: 32px;\n",
              "  }\n",
              "\n",
              "  .colab-df-quickchart:hover {\n",
              "    background-color: var(--hover-bg-color);\n",
              "    box-shadow: 0 1px 2px rgba(60, 64, 67, 0.3), 0 1px 3px 1px rgba(60, 64, 67, 0.15);\n",
              "    fill: var(--button-hover-fill-color);\n",
              "  }\n",
              "\n",
              "  .colab-df-quickchart-complete:disabled,\n",
              "  .colab-df-quickchart-complete:disabled:hover {\n",
              "    background-color: var(--disabled-bg-color);\n",
              "    fill: var(--disabled-fill-color);\n",
              "    box-shadow: none;\n",
              "  }\n",
              "\n",
              "  .colab-df-spinner {\n",
              "    border: 2px solid var(--fill-color);\n",
              "    border-color: transparent;\n",
              "    border-bottom-color: var(--fill-color);\n",
              "    animation:\n",
              "      spin 1s steps(1) infinite;\n",
              "  }\n",
              "\n",
              "  @keyframes spin {\n",
              "    0% {\n",
              "      border-color: transparent;\n",
              "      border-bottom-color: var(--fill-color);\n",
              "      border-left-color: var(--fill-color);\n",
              "    }\n",
              "    20% {\n",
              "      border-color: transparent;\n",
              "      border-left-color: var(--fill-color);\n",
              "      border-top-color: var(--fill-color);\n",
              "    }\n",
              "    30% {\n",
              "      border-color: transparent;\n",
              "      border-left-color: var(--fill-color);\n",
              "      border-top-color: var(--fill-color);\n",
              "      border-right-color: var(--fill-color);\n",
              "    }\n",
              "    40% {\n",
              "      border-color: transparent;\n",
              "      border-right-color: var(--fill-color);\n",
              "      border-top-color: var(--fill-color);\n",
              "    }\n",
              "    60% {\n",
              "      border-color: transparent;\n",
              "      border-right-color: var(--fill-color);\n",
              "    }\n",
              "    80% {\n",
              "      border-color: transparent;\n",
              "      border-right-color: var(--fill-color);\n",
              "      border-bottom-color: var(--fill-color);\n",
              "    }\n",
              "    90% {\n",
              "      border-color: transparent;\n",
              "      border-bottom-color: var(--fill-color);\n",
              "    }\n",
              "  }\n",
              "</style>\n",
              "\n",
              "  <script>\n",
              "    async function quickchart(key) {\n",
              "      const quickchartButtonEl =\n",
              "        document.querySelector('#' + key + ' button');\n",
              "      quickchartButtonEl.disabled = true;  // To prevent multiple clicks.\n",
              "      quickchartButtonEl.classList.add('colab-df-spinner');\n",
              "      try {\n",
              "        const charts = await google.colab.kernel.invokeFunction(\n",
              "            'suggestCharts', [key], {});\n",
              "      } catch (error) {\n",
              "        console.error('Error during call to suggestCharts:', error);\n",
              "      }\n",
              "      quickchartButtonEl.classList.remove('colab-df-spinner');\n",
              "      quickchartButtonEl.classList.add('colab-df-quickchart-complete');\n",
              "    }\n",
              "    (() => {\n",
              "      let quickchartButtonEl =\n",
              "        document.querySelector('#df-58a15e38-c81f-484b-8edd-5d7ad56f0430 button');\n",
              "      quickchartButtonEl.style.display =\n",
              "        google.colab.kernel.accessAllowed ? 'block' : 'none';\n",
              "    })();\n",
              "  </script>\n",
              "</div>\n",
              "\n",
              "  <div id=\"id_77ad285d-a0b1-406f-8646-4743fcdeb67d\">\n",
              "    <style>\n",
              "      .colab-df-generate {\n",
              "        background-color: #E8F0FE;\n",
              "        border: none;\n",
              "        border-radius: 50%;\n",
              "        cursor: pointer;\n",
              "        display: none;\n",
              "        fill: #1967D2;\n",
              "        height: 32px;\n",
              "        padding: 0 0 0 0;\n",
              "        width: 32px;\n",
              "      }\n",
              "\n",
              "      .colab-df-generate:hover {\n",
              "        background-color: #E2EBFA;\n",
              "        box-shadow: 0px 1px 2px rgba(60, 64, 67, 0.3), 0px 1px 3px 1px rgba(60, 64, 67, 0.15);\n",
              "        fill: #174EA6;\n",
              "      }\n",
              "\n",
              "      [theme=dark] .colab-df-generate {\n",
              "        background-color: #3B4455;\n",
              "        fill: #D2E3FC;\n",
              "      }\n",
              "\n",
              "      [theme=dark] .colab-df-generate:hover {\n",
              "        background-color: #434B5C;\n",
              "        box-shadow: 0px 1px 3px 1px rgba(0, 0, 0, 0.15);\n",
              "        filter: drop-shadow(0px 1px 2px rgba(0, 0, 0, 0.3));\n",
              "        fill: #FFFFFF;\n",
              "      }\n",
              "    </style>\n",
              "    <button class=\"colab-df-generate\" onclick=\"generateWithVariable('cluster_df')\"\n",
              "            title=\"Generate code using this dataframe.\"\n",
              "            style=\"display:none;\">\n",
              "\n",
              "  <svg xmlns=\"http://www.w3.org/2000/svg\" height=\"24px\"viewBox=\"0 0 24 24\"\n",
              "       width=\"24px\">\n",
              "    <path d=\"M7,19H8.4L18.45,9,17,7.55,7,17.6ZM5,21V16.75L18.45,3.32a2,2,0,0,1,2.83,0l1.4,1.43a1.91,1.91,0,0,1,.58,1.4,1.91,1.91,0,0,1-.58,1.4L9.25,21ZM18.45,9,17,7.55Zm-12,3A5.31,5.31,0,0,0,4.9,8.1,5.31,5.31,0,0,0,1,6.5,5.31,5.31,0,0,0,4.9,4.9,5.31,5.31,0,0,0,6.5,1,5.31,5.31,0,0,0,8.1,4.9,5.31,5.31,0,0,0,12,6.5,5.46,5.46,0,0,0,6.5,12Z\"/>\n",
              "  </svg>\n",
              "    </button>\n",
              "    <script>\n",
              "      (() => {\n",
              "      const buttonEl =\n",
              "        document.querySelector('#id_77ad285d-a0b1-406f-8646-4743fcdeb67d button.colab-df-generate');\n",
              "      buttonEl.style.display =\n",
              "        google.colab.kernel.accessAllowed ? 'block' : 'none';\n",
              "\n",
              "      buttonEl.onclick = () => {\n",
              "        google.colab.notebook.generateWithVariable('cluster_df');\n",
              "      }\n",
              "      })();\n",
              "    </script>\n",
              "  </div>\n",
              "\n",
              "    </div>\n",
              "  </div>\n"
            ],
            "application/vnd.google.colaboratory.intrinsic+json": {
              "type": "dataframe",
              "variable_name": "cluster_df",
              "summary": "{\n  \"name\": \"cluster_df\",\n  \"rows\": 3,\n  \"fields\": [\n    {\n      \"column\": \"Topic\",\n      \"properties\": {\n        \"dtype\": \"string\",\n        \"num_unique_values\": 3,\n        \"samples\": [\n          \"Animal-Based Moral Story Requests\",\n          \"\\\"Storytelling with Moral Lessons\\\"\",\n          \"\\\"Tortoise Fables with Moral Lessons\\\"\"\n        ],\n        \"semantic_type\": \"\",\n        \"description\": \"\"\n      }\n    },\n    {\n      \"column\": \"Items\",\n      \"properties\": {\n        \"dtype\": \"object\",\n        \"semantic_type\": \"\",\n        \"description\": \"\"\n      }\n    },\n    {\n      \"column\": \"Size\",\n      \"properties\": {\n        \"dtype\": \"number\",\n        \"std\": 4,\n        \"min\": 4,\n        \"max\": 12,\n        \"num_unique_values\": 3,\n        \"samples\": [\n          12,\n          7,\n          4\n        ],\n        \"semantic_type\": \"\",\n        \"description\": \"\"\n      }\n    }\n  ]\n}"
            }
          },
          "metadata": {},
          "execution_count": 24
        }
      ],
      "source": [
        "import pandas as pd\n",
        "\n",
        "input_topic_clusters = client.data.cluster_inputs(\n",
        "    inputs=[\n",
        "        {\"identifier\": str(index), \"llm_input\": row[\"input\"]}\n",
        "        for index, row in enumerate(aesop_dataset[\"train\"])\n",
        "    ],\n",
        ")\n",
        "\n",
        "cluster_data = []\n",
        "topics = [None] * len(aesop_dataset[\"train\"])\n",
        "for cluster in input_topic_clusters:\n",
        "    cluster_data.append([cluster.topic, cluster.inputs, len(cluster.inputs)])\n",
        "    for item in cluster.inputs:\n",
        "        topics[int(item)] = cluster.topic\n",
        "\n",
        "cluster_df = pd.DataFrame(cluster_data, columns=[\"Topic\", \"Items\", \"Size\"])\n",
        "cluster_df"
      ]
    },
    {
      "cell_type": "markdown",
      "metadata": {
        "id": "fCHE6g_OCqCD"
      },
      "source": [
        "## Identify outliers\n",
        "\n",
        "Let's first score every input against the scoring system, adding that as a column.  Pi scoring is fast enough that serially processing the dataset is fine, though we could increase parallelism for more speed."
      ]
    },
    {
      "cell_type": "code",
      "execution_count": 27,
      "metadata": {
        "id": "57EujAhfC_qz",
        "colab": {
          "base_uri": "https://localhost:8080/",
          "height": 788
        },
        "outputId": "3a14f062-24b8-4de8-ff66-04deeb636d66"
      },
      "outputs": [
        {
          "output_type": "stream",
          "name": "stderr",
          "text": [
            "100%|██████████| 23/23 [00:06<00:00,  3.43it/s]\n"
          ]
        },
        {
          "output_type": "execute_result",
          "data": {
            "text/plain": [
              "                                                input  ...     score\n",
              "0   Write a children's story in the style of Aesop...  ...  0.831055\n",
              "1   Tell a fable about a crow and a fox that illus...  ...  0.889540\n",
              "2   Create a story featuring a lion and a mouse th...  ...  0.808051\n",
              "3   Write a fable involving a tortoise and a hare ...  ...  0.974392\n",
              "4   Tell a story about a greedy dog who loses his ...  ...  0.972222\n",
              "5   Spin a tale with a squirrel and an owl teachin...  ...  0.980035\n",
              "6   Compose a fable with a feuding sun and wind th...  ...  0.876519\n",
              "7   Dream up a story involving a hummingbird and a...  ...  0.987413\n",
              "8   Tell a saga with a rabbit and a cunning crow i...  ...  0.999783\n",
              "9   Craft a fable about a young rabbit needing hel...  ...  0.987847\n",
              "10  Weave a tale about a lonely tortoise learning ...  ...  0.976997\n",
              "11  Create a story with a novice ant who refuses g...  ...  0.946832\n",
              "12  Think up a scenario involving a butterfly emba...  ...  0.999132\n",
              "13  Make up a tale with a nurturing bear protectin...  ...  0.986762\n",
              "14  Spin a tale with a squirrel and an owl teachin...  ...  0.986979\n",
              "15  Compose a fable with a feuding sun and wind th...  ...  0.953342\n",
              "16  Dream up a story involving a hummingbird and a...  ...  0.950521\n",
              "17  Tell a saga with a rabbit and a cunning crow i...  ...  0.997613\n",
              "18  Craft a fable about a young rabbit needing hel...  ...  0.998698\n",
              "19  Weave a tale about a lonely tortoise learning ...  ...  0.871970\n",
              "20  Create a story with a novice ant who refuses g...  ...  0.879774\n",
              "21  Think up a scenario involving a butterfly emba...  ...  0.999783\n",
              "22  Make up a tale with a nurturing bear protectin...  ...  0.977214\n",
              "\n",
              "[23 rows x 4 columns]"
            ],
            "text/html": [
              "\n",
              "  <div id=\"df-f98c68c4-ca5d-48d7-89ea-5f267e6a228e\" class=\"colab-df-container\">\n",
              "    <div>\n",
              "<style scoped>\n",
              "    .dataframe tbody tr th:only-of-type {\n",
              "        vertical-align: middle;\n",
              "    }\n",
              "\n",
              "    .dataframe tbody tr th {\n",
              "        vertical-align: top;\n",
              "    }\n",
              "\n",
              "    .dataframe thead th {\n",
              "        text-align: right;\n",
              "    }\n",
              "</style>\n",
              "<table border=\"1\" class=\"dataframe\">\n",
              "  <thead>\n",
              "    <tr style=\"text-align: right;\">\n",
              "      <th></th>\n",
              "      <th>input</th>\n",
              "      <th>output</th>\n",
              "      <th>cluster topic</th>\n",
              "      <th>score</th>\n",
              "    </tr>\n",
              "  </thead>\n",
              "  <tbody>\n",
              "    <tr>\n",
              "      <th>0</th>\n",
              "      <td>Write a children's story in the style of Aesop...</td>\n",
              "      <td>Barnaby the hare was a blur of twitching whisk...</td>\n",
              "      <td>\"Tortoise Fables with Moral Lessons\"</td>\n",
              "      <td>0.831055</td>\n",
              "    </tr>\n",
              "    <tr>\n",
              "      <th>1</th>\n",
              "      <td>Tell a fable about a crow and a fox that illus...</td>\n",
              "      <td>Once upon a time, in a sun-drenched forest, li...</td>\n",
              "      <td>Animal-Based Moral Story Requests</td>\n",
              "      <td>0.889540</td>\n",
              "    </tr>\n",
              "    <tr>\n",
              "      <th>2</th>\n",
              "      <td>Create a story featuring a lion and a mouse th...</td>\n",
              "      <td>Leo the lion, king of the sprawling savanna, w...</td>\n",
              "      <td>\"Storytelling with Moral Lessons\"</td>\n",
              "      <td>0.808051</td>\n",
              "    </tr>\n",
              "    <tr>\n",
              "      <th>3</th>\n",
              "      <td>Write a fable involving a tortoise and a hare ...</td>\n",
              "      <td>The Tortoise and the Determined Hare\\n\\nIn the...</td>\n",
              "      <td>\"Tortoise Fables with Moral Lessons\"</td>\n",
              "      <td>0.974392</td>\n",
              "    </tr>\n",
              "    <tr>\n",
              "      <th>4</th>\n",
              "      <td>Tell a story about a greedy dog who loses his ...</td>\n",
              "      <td>Barnaby the Beagle was a dog of magnificent ap...</td>\n",
              "      <td>Animal-Based Moral Story Requests</td>\n",
              "      <td>0.972222</td>\n",
              "    </tr>\n",
              "    <tr>\n",
              "      <th>5</th>\n",
              "      <td>Spin a tale with a squirrel and an owl teachin...</td>\n",
              "      <td>Barnaby the squirrel was renowned throughout t...</td>\n",
              "      <td>Animal-Based Moral Story Requests</td>\n",
              "      <td>0.980035</td>\n",
              "    </tr>\n",
              "    <tr>\n",
              "      <th>6</th>\n",
              "      <td>Compose a fable with a feuding sun and wind th...</td>\n",
              "      <td>The Sun and the Wind\\n\\nThe Sun, a fiery ball ...</td>\n",
              "      <td>\"Storytelling with Moral Lessons\"</td>\n",
              "      <td>0.876519</td>\n",
              "    </tr>\n",
              "    <tr>\n",
              "      <th>7</th>\n",
              "      <td>Dream up a story involving a hummingbird and a...</td>\n",
              "      <td>Pip the hummingbird, a flash of emerald and ru...</td>\n",
              "      <td>Animal-Based Moral Story Requests</td>\n",
              "      <td>0.987413</td>\n",
              "    </tr>\n",
              "    <tr>\n",
              "      <th>8</th>\n",
              "      <td>Tell a saga with a rabbit and a cunning crow i...</td>\n",
              "      <td>Barnaby the rabbit was a champion hopper.  He'...</td>\n",
              "      <td>Animal-Based Moral Story Requests</td>\n",
              "      <td>0.999783</td>\n",
              "    </tr>\n",
              "    <tr>\n",
              "      <th>9</th>\n",
              "      <td>Craft a fable about a young rabbit needing hel...</td>\n",
              "      <td>Barnaby Bunson was a young rabbit with a very ...</td>\n",
              "      <td>Animal-Based Moral Story Requests</td>\n",
              "      <td>0.987847</td>\n",
              "    </tr>\n",
              "    <tr>\n",
              "      <th>10</th>\n",
              "      <td>Weave a tale about a lonely tortoise learning ...</td>\n",
              "      <td>Shelton the tortoise was a creature of habit. ...</td>\n",
              "      <td>\"Tortoise Fables with Moral Lessons\"</td>\n",
              "      <td>0.976997</td>\n",
              "    </tr>\n",
              "    <tr>\n",
              "      <th>11</th>\n",
              "      <td>Create a story with a novice ant who refuses g...</td>\n",
              "      <td>A tiny ant, no bigger than a grain of rice, na...</td>\n",
              "      <td>Animal-Based Moral Story Requests</td>\n",
              "      <td>0.946832</td>\n",
              "    </tr>\n",
              "    <tr>\n",
              "      <th>12</th>\n",
              "      <td>Think up a scenario involving a butterfly emba...</td>\n",
              "      <td>Pip the butterfly was a worrier.  He watched t...</td>\n",
              "      <td>\"Storytelling with Moral Lessons\"</td>\n",
              "      <td>0.999132</td>\n",
              "    </tr>\n",
              "    <tr>\n",
              "      <th>13</th>\n",
              "      <td>Make up a tale with a nurturing bear protectin...</td>\n",
              "      <td>Barnaby the bear cub was a whisper.  He wasn't...</td>\n",
              "      <td>\"Storytelling with Moral Lessons\"</td>\n",
              "      <td>0.986762</td>\n",
              "    </tr>\n",
              "    <tr>\n",
              "      <th>14</th>\n",
              "      <td>Spin a tale with a squirrel and an owl teachin...</td>\n",
              "      <td>Barnaby the squirrel was renowned throughout t...</td>\n",
              "      <td>Animal-Based Moral Story Requests</td>\n",
              "      <td>0.986979</td>\n",
              "    </tr>\n",
              "    <tr>\n",
              "      <th>15</th>\n",
              "      <td>Compose a fable with a feuding sun and wind th...</td>\n",
              "      <td>The Sun and the Wind argued, as they often did...</td>\n",
              "      <td>\"Storytelling with Moral Lessons\"</td>\n",
              "      <td>0.953342</td>\n",
              "    </tr>\n",
              "    <tr>\n",
              "      <th>16</th>\n",
              "      <td>Dream up a story involving a hummingbird and a...</td>\n",
              "      <td>The hummingbird, Pip, zipped and zoomed throug...</td>\n",
              "      <td>Animal-Based Moral Story Requests</td>\n",
              "      <td>0.950521</td>\n",
              "    </tr>\n",
              "    <tr>\n",
              "      <th>17</th>\n",
              "      <td>Tell a saga with a rabbit and a cunning crow i...</td>\n",
              "      <td>Barnaby the rabbit was renowned.  Renowned for...</td>\n",
              "      <td>Animal-Based Moral Story Requests</td>\n",
              "      <td>0.997613</td>\n",
              "    </tr>\n",
              "    <tr>\n",
              "      <th>18</th>\n",
              "      <td>Craft a fable about a young rabbit needing hel...</td>\n",
              "      <td>Barnaby the bunny was a proud young rabbit.  H...</td>\n",
              "      <td>Animal-Based Moral Story Requests</td>\n",
              "      <td>0.998698</td>\n",
              "    </tr>\n",
              "    <tr>\n",
              "      <th>19</th>\n",
              "      <td>Weave a tale about a lonely tortoise learning ...</td>\n",
              "      <td>Sheldon the tortoise was a creature of habit. ...</td>\n",
              "      <td>\"Tortoise Fables with Moral Lessons\"</td>\n",
              "      <td>0.871970</td>\n",
              "    </tr>\n",
              "    <tr>\n",
              "      <th>20</th>\n",
              "      <td>Create a story with a novice ant who refuses g...</td>\n",
              "      <td>Tiny, a brand-new ant, emerged from her chrysa...</td>\n",
              "      <td>Animal-Based Moral Story Requests</td>\n",
              "      <td>0.879774</td>\n",
              "    </tr>\n",
              "    <tr>\n",
              "      <th>21</th>\n",
              "      <td>Think up a scenario involving a butterfly emba...</td>\n",
              "      <td>Pip the butterfly was a beautiful creature, bu...</td>\n",
              "      <td>\"Storytelling with Moral Lessons\"</td>\n",
              "      <td>0.999783</td>\n",
              "    </tr>\n",
              "    <tr>\n",
              "      <th>22</th>\n",
              "      <td>Make up a tale with a nurturing bear protectin...</td>\n",
              "      <td>Barnaby the bear cub was a shadow of a bear.  ...</td>\n",
              "      <td>\"Storytelling with Moral Lessons\"</td>\n",
              "      <td>0.977214</td>\n",
              "    </tr>\n",
              "  </tbody>\n",
              "</table>\n",
              "</div>\n",
              "    <div class=\"colab-df-buttons\">\n",
              "\n",
              "  <div class=\"colab-df-container\">\n",
              "    <button class=\"colab-df-convert\" onclick=\"convertToInteractive('df-f98c68c4-ca5d-48d7-89ea-5f267e6a228e')\"\n",
              "            title=\"Convert this dataframe to an interactive table.\"\n",
              "            style=\"display:none;\">\n",
              "\n",
              "  <svg xmlns=\"http://www.w3.org/2000/svg\" height=\"24px\" viewBox=\"0 -960 960 960\">\n",
              "    <path d=\"M120-120v-720h720v720H120Zm60-500h600v-160H180v160Zm220 220h160v-160H400v160Zm0 220h160v-160H400v160ZM180-400h160v-160H180v160Zm440 0h160v-160H620v160ZM180-180h160v-160H180v160Zm440 0h160v-160H620v160Z\"/>\n",
              "  </svg>\n",
              "    </button>\n",
              "\n",
              "  <style>\n",
              "    .colab-df-container {\n",
              "      display:flex;\n",
              "      gap: 12px;\n",
              "    }\n",
              "\n",
              "    .colab-df-convert {\n",
              "      background-color: #E8F0FE;\n",
              "      border: none;\n",
              "      border-radius: 50%;\n",
              "      cursor: pointer;\n",
              "      display: none;\n",
              "      fill: #1967D2;\n",
              "      height: 32px;\n",
              "      padding: 0 0 0 0;\n",
              "      width: 32px;\n",
              "    }\n",
              "\n",
              "    .colab-df-convert:hover {\n",
              "      background-color: #E2EBFA;\n",
              "      box-shadow: 0px 1px 2px rgba(60, 64, 67, 0.3), 0px 1px 3px 1px rgba(60, 64, 67, 0.15);\n",
              "      fill: #174EA6;\n",
              "    }\n",
              "\n",
              "    .colab-df-buttons div {\n",
              "      margin-bottom: 4px;\n",
              "    }\n",
              "\n",
              "    [theme=dark] .colab-df-convert {\n",
              "      background-color: #3B4455;\n",
              "      fill: #D2E3FC;\n",
              "    }\n",
              "\n",
              "    [theme=dark] .colab-df-convert:hover {\n",
              "      background-color: #434B5C;\n",
              "      box-shadow: 0px 1px 3px 1px rgba(0, 0, 0, 0.15);\n",
              "      filter: drop-shadow(0px 1px 2px rgba(0, 0, 0, 0.3));\n",
              "      fill: #FFFFFF;\n",
              "    }\n",
              "  </style>\n",
              "\n",
              "    <script>\n",
              "      const buttonEl =\n",
              "        document.querySelector('#df-f98c68c4-ca5d-48d7-89ea-5f267e6a228e button.colab-df-convert');\n",
              "      buttonEl.style.display =\n",
              "        google.colab.kernel.accessAllowed ? 'block' : 'none';\n",
              "\n",
              "      async function convertToInteractive(key) {\n",
              "        const element = document.querySelector('#df-f98c68c4-ca5d-48d7-89ea-5f267e6a228e');\n",
              "        const dataTable =\n",
              "          await google.colab.kernel.invokeFunction('convertToInteractive',\n",
              "                                                    [key], {});\n",
              "        if (!dataTable) return;\n",
              "\n",
              "        const docLinkHtml = 'Like what you see? Visit the ' +\n",
              "          '<a target=\"_blank\" href=https://colab.research.google.com/notebooks/data_table.ipynb>data table notebook</a>'\n",
              "          + ' to learn more about interactive tables.';\n",
              "        element.innerHTML = '';\n",
              "        dataTable['output_type'] = 'display_data';\n",
              "        await google.colab.output.renderOutput(dataTable, element);\n",
              "        const docLink = document.createElement('div');\n",
              "        docLink.innerHTML = docLinkHtml;\n",
              "        element.appendChild(docLink);\n",
              "      }\n",
              "    </script>\n",
              "  </div>\n",
              "\n",
              "\n",
              "<div id=\"df-27583aaf-a134-4404-b9c6-d1a7b15749cc\">\n",
              "  <button class=\"colab-df-quickchart\" onclick=\"quickchart('df-27583aaf-a134-4404-b9c6-d1a7b15749cc')\"\n",
              "            title=\"Suggest charts\"\n",
              "            style=\"display:none;\">\n",
              "\n",
              "<svg xmlns=\"http://www.w3.org/2000/svg\" height=\"24px\"viewBox=\"0 0 24 24\"\n",
              "     width=\"24px\">\n",
              "    <g>\n",
              "        <path d=\"M19 3H5c-1.1 0-2 .9-2 2v14c0 1.1.9 2 2 2h14c1.1 0 2-.9 2-2V5c0-1.1-.9-2-2-2zM9 17H7v-7h2v7zm4 0h-2V7h2v10zm4 0h-2v-4h2v4z\"/>\n",
              "    </g>\n",
              "</svg>\n",
              "  </button>\n",
              "\n",
              "<style>\n",
              "  .colab-df-quickchart {\n",
              "      --bg-color: #E8F0FE;\n",
              "      --fill-color: #1967D2;\n",
              "      --hover-bg-color: #E2EBFA;\n",
              "      --hover-fill-color: #174EA6;\n",
              "      --disabled-fill-color: #AAA;\n",
              "      --disabled-bg-color: #DDD;\n",
              "  }\n",
              "\n",
              "  [theme=dark] .colab-df-quickchart {\n",
              "      --bg-color: #3B4455;\n",
              "      --fill-color: #D2E3FC;\n",
              "      --hover-bg-color: #434B5C;\n",
              "      --hover-fill-color: #FFFFFF;\n",
              "      --disabled-bg-color: #3B4455;\n",
              "      --disabled-fill-color: #666;\n",
              "  }\n",
              "\n",
              "  .colab-df-quickchart {\n",
              "    background-color: var(--bg-color);\n",
              "    border: none;\n",
              "    border-radius: 50%;\n",
              "    cursor: pointer;\n",
              "    display: none;\n",
              "    fill: var(--fill-color);\n",
              "    height: 32px;\n",
              "    padding: 0;\n",
              "    width: 32px;\n",
              "  }\n",
              "\n",
              "  .colab-df-quickchart:hover {\n",
              "    background-color: var(--hover-bg-color);\n",
              "    box-shadow: 0 1px 2px rgba(60, 64, 67, 0.3), 0 1px 3px 1px rgba(60, 64, 67, 0.15);\n",
              "    fill: var(--button-hover-fill-color);\n",
              "  }\n",
              "\n",
              "  .colab-df-quickchart-complete:disabled,\n",
              "  .colab-df-quickchart-complete:disabled:hover {\n",
              "    background-color: var(--disabled-bg-color);\n",
              "    fill: var(--disabled-fill-color);\n",
              "    box-shadow: none;\n",
              "  }\n",
              "\n",
              "  .colab-df-spinner {\n",
              "    border: 2px solid var(--fill-color);\n",
              "    border-color: transparent;\n",
              "    border-bottom-color: var(--fill-color);\n",
              "    animation:\n",
              "      spin 1s steps(1) infinite;\n",
              "  }\n",
              "\n",
              "  @keyframes spin {\n",
              "    0% {\n",
              "      border-color: transparent;\n",
              "      border-bottom-color: var(--fill-color);\n",
              "      border-left-color: var(--fill-color);\n",
              "    }\n",
              "    20% {\n",
              "      border-color: transparent;\n",
              "      border-left-color: var(--fill-color);\n",
              "      border-top-color: var(--fill-color);\n",
              "    }\n",
              "    30% {\n",
              "      border-color: transparent;\n",
              "      border-left-color: var(--fill-color);\n",
              "      border-top-color: var(--fill-color);\n",
              "      border-right-color: var(--fill-color);\n",
              "    }\n",
              "    40% {\n",
              "      border-color: transparent;\n",
              "      border-right-color: var(--fill-color);\n",
              "      border-top-color: var(--fill-color);\n",
              "    }\n",
              "    60% {\n",
              "      border-color: transparent;\n",
              "      border-right-color: var(--fill-color);\n",
              "    }\n",
              "    80% {\n",
              "      border-color: transparent;\n",
              "      border-right-color: var(--fill-color);\n",
              "      border-bottom-color: var(--fill-color);\n",
              "    }\n",
              "    90% {\n",
              "      border-color: transparent;\n",
              "      border-bottom-color: var(--fill-color);\n",
              "    }\n",
              "  }\n",
              "</style>\n",
              "\n",
              "  <script>\n",
              "    async function quickchart(key) {\n",
              "      const quickchartButtonEl =\n",
              "        document.querySelector('#' + key + ' button');\n",
              "      quickchartButtonEl.disabled = true;  // To prevent multiple clicks.\n",
              "      quickchartButtonEl.classList.add('colab-df-spinner');\n",
              "      try {\n",
              "        const charts = await google.colab.kernel.invokeFunction(\n",
              "            'suggestCharts', [key], {});\n",
              "      } catch (error) {\n",
              "        console.error('Error during call to suggestCharts:', error);\n",
              "      }\n",
              "      quickchartButtonEl.classList.remove('colab-df-spinner');\n",
              "      quickchartButtonEl.classList.add('colab-df-quickchart-complete');\n",
              "    }\n",
              "    (() => {\n",
              "      let quickchartButtonEl =\n",
              "        document.querySelector('#df-27583aaf-a134-4404-b9c6-d1a7b15749cc button');\n",
              "      quickchartButtonEl.style.display =\n",
              "        google.colab.kernel.accessAllowed ? 'block' : 'none';\n",
              "    })();\n",
              "  </script>\n",
              "</div>\n",
              "\n",
              "  <div id=\"id_2de7a799-4acd-4e0b-ba5e-e4bc575382b8\">\n",
              "    <style>\n",
              "      .colab-df-generate {\n",
              "        background-color: #E8F0FE;\n",
              "        border: none;\n",
              "        border-radius: 50%;\n",
              "        cursor: pointer;\n",
              "        display: none;\n",
              "        fill: #1967D2;\n",
              "        height: 32px;\n",
              "        padding: 0 0 0 0;\n",
              "        width: 32px;\n",
              "      }\n",
              "\n",
              "      .colab-df-generate:hover {\n",
              "        background-color: #E2EBFA;\n",
              "        box-shadow: 0px 1px 2px rgba(60, 64, 67, 0.3), 0px 1px 3px 1px rgba(60, 64, 67, 0.15);\n",
              "        fill: #174EA6;\n",
              "      }\n",
              "\n",
              "      [theme=dark] .colab-df-generate {\n",
              "        background-color: #3B4455;\n",
              "        fill: #D2E3FC;\n",
              "      }\n",
              "\n",
              "      [theme=dark] .colab-df-generate:hover {\n",
              "        background-color: #434B5C;\n",
              "        box-shadow: 0px 1px 3px 1px rgba(0, 0, 0, 0.15);\n",
              "        filter: drop-shadow(0px 1px 2px rgba(0, 0, 0, 0.3));\n",
              "        fill: #FFFFFF;\n",
              "      }\n",
              "    </style>\n",
              "    <button class=\"colab-df-generate\" onclick=\"generateWithVariable('df')\"\n",
              "            title=\"Generate code using this dataframe.\"\n",
              "            style=\"display:none;\">\n",
              "\n",
              "  <svg xmlns=\"http://www.w3.org/2000/svg\" height=\"24px\"viewBox=\"0 0 24 24\"\n",
              "       width=\"24px\">\n",
              "    <path d=\"M7,19H8.4L18.45,9,17,7.55,7,17.6ZM5,21V16.75L18.45,3.32a2,2,0,0,1,2.83,0l1.4,1.43a1.91,1.91,0,0,1,.58,1.4,1.91,1.91,0,0,1-.58,1.4L9.25,21ZM18.45,9,17,7.55Zm-12,3A5.31,5.31,0,0,0,4.9,8.1,5.31,5.31,0,0,0,1,6.5,5.31,5.31,0,0,0,4.9,4.9,5.31,5.31,0,0,0,6.5,1,5.31,5.31,0,0,0,8.1,4.9,5.31,5.31,0,0,0,12,6.5,5.46,5.46,0,0,0,6.5,12Z\"/>\n",
              "  </svg>\n",
              "    </button>\n",
              "    <script>\n",
              "      (() => {\n",
              "      const buttonEl =\n",
              "        document.querySelector('#id_2de7a799-4acd-4e0b-ba5e-e4bc575382b8 button.colab-df-generate');\n",
              "      buttonEl.style.display =\n",
              "        google.colab.kernel.accessAllowed ? 'block' : 'none';\n",
              "\n",
              "      buttonEl.onclick = () => {\n",
              "        google.colab.notebook.generateWithVariable('df');\n",
              "      }\n",
              "      })();\n",
              "    </script>\n",
              "  </div>\n",
              "\n",
              "    </div>\n",
              "  </div>\n"
            ],
            "application/vnd.google.colaboratory.intrinsic+json": {
              "type": "dataframe",
              "variable_name": "df",
              "summary": "{\n  \"name\": \"df\",\n  \"rows\": 23,\n  \"fields\": [\n    {\n      \"column\": \"input\",\n      \"properties\": {\n        \"dtype\": \"string\",\n        \"num_unique_values\": 14,\n        \"samples\": [\n          \"Craft a fable about a young rabbit needing help from others to showcase 'Sometimes we all need a helping hand.'\",\n          \"Create a story with a novice ant who refuses guidance from elders and learns that 'Listening gives you endless wisdom.'\",\n          \"Write a children's story in the style of Aesop's Fables that teaches the lesson 'Slow and steady wins the race.'\"\n        ],\n        \"semantic_type\": \"\",\n        \"description\": \"\"\n      }\n    },\n    {\n      \"column\": \"output\",\n      \"properties\": {\n        \"dtype\": \"string\",\n        \"num_unique_values\": 23,\n        \"samples\": [\n          \"The Sun and the Wind argued, as they often did, about which was more powerful.  \\\"Look at me!\\\" boasted the Sun, his golden rays blazing down on the valley. \\\"I can melt wax, dry the freshest clothes, and even scorch the toughest weeds!\\\"\\n\\nThe Wind, a gusty, mischievous sprite, chuckled. \\\"Melting wax and drying clothes?  Child's play! I can rip leaves from trees, uproot wildflowers, and send dust swirling across the fields!  I am the true master of power!\\\"\\n\\nA proud traveler, laden with a heavy cloak, walked along the valley floor.  The Sun and the Wind, perched high above the peaks, agreed to settle their argument using him as a test subject.\\n\\n\\\"Let's see who can make him shed his cloak!\\\" the Wind declared, a mischievous grin twisting his face. With a mighty roar, he lashed out at the traveler.  The wind howled, icy rain spattered, and the cloak billowed around the man's shoulders, clinging stubbornly. The traveler hugged the cloak tighter, determined not to lose it in the onslaught.  The Wind, frustrated, tried harder, whipping and twisting, but the man only held on.\\n\\nThe Sun, watching with amusement, smiled. \\\"Your strength is brute, Wind.  It's like a fierce storm that only hurts.\\\" He then gently warmed the air, radiating a soft, comforting warmth. The traveler, feeling the soothing heat, started to perspire slightly.  The cloak, heavy and soaked with sweat, began to loosen.  The traveler, realizing the comfort of the heat, unfastened the clasp, and the cloak slid away.\\n\\nThe Wind, speechless, watched as the traveler continued their journey, smiling contentedly in the warm glow. The Sun, casting a knowing look, said, \\\"Kindness, gentle persuasion, and warmth are far more effective than brute force.\\\"  The Wind, finally understanding, nodded in agreement.  From that day on, the Sun and the Wind continued their spirited conversations, but no longer argued about their power; they understood that true strength lay in kindness and gentle influence.\\n\",\n          \"Barnaby Bunson was a young rabbit with a very grand idea.  He spotted a plump, juicy carrot, nestled deep within a thorny patch of brambles.  Barnaby puffed out his chest, his whiskers twitching with determination.  \\\"I will get that carrot!\\\" he declared to the whole meadow.  He would show everyone how strong and independent he was.\\n\\nHe tried to push through the brambles, but they snagged his fur, and their sharp thorns pricked his nose.  He struggled and struggled, but the carrot remained stubbornly hidden.  Tears welled in his eyes.  He was getting nowhere.\\n\\nA wise old owl, perched high in a tree, watched Barnaby's valiant, but failing, efforts.  \\\"What's the matter, little one?\\\" she hooted softly.\\n\\n\\\"I can't reach the carrot,\\\" Barnaby wailed, \\\"and the brambles are too strong.\\\"\\n\\nThe owl chuckled. \\\"Perhaps you need a little help.\\\"\\n\\nBarnaby sniffed. \\\"Help?  I'm a rabbit! I'm supposed to be strong and independent!\\\"\\n\\n\\\"Nonsense,\\\" said the owl. \\\"Even the strongest oak needs the wind to push its roots. Even the fastest deer needs the grass to eat.  A helping hand isn't a sign of weakness, but a sign of smartness.\\\"\\n\\nA curious badger, snuffling nearby, poked his head out from behind a bush. \\\"What's the fuss?\\\" he asked.\\n\\nBarnaby explained his predicament.\\n\\nThe badger, with his powerful paws, cleared away some of the brambles.  A nimble squirrel, with its sharp claws, pulled a few more out. A gentle sheep, with its soft fleece, gently pushed a few more branches aside.\\n\\nSlowly, painstakingly, the carrot was revealed.  The brambles were no match for the combined efforts of the animals.\\n\\nBarnaby, with a grateful hop, scooped up the prize carrot. \\\"Thank you,\\\" he whispered to each of his helpers.\\n\\nThat night, huddled under a warm starlit sky, Barnaby thought about what the owl had said.  He realized that sometimes, it was better to ask for help than to struggle alone. He learned that being independent didn't mean being isolated, but rather, being capable of collaborating with others.  And, he now had the most delicious carrot he had ever tasted \\u2013 thanks to the kindness of his friends.  From that day on, Barnaby was known as Barnaby the Helpful, and he never forgot the lesson learned that day among the brambles.\\n\",\n          \"Barnaby the hare was a blur of twitching whiskers and bouncing leaps.  He scoffed at the tortoise, Theodore, whose pace was slower than a snail's.  \\\"You lumbering, plodding creature!\\\" Barnaby would boast, his long ears flopping with each impatient hop. \\\"I'll be across the meadow before you've even started!\\\"\\n\\nOne spring day, the meadow flowers were in full bloom, their colours like painted rainbows.  A grand festival of the flowers was being held, and a delicious honey cake, baked by the buzzing bees, was the prize.  Barnaby, full of confidence, dashed off, his legs moving like lightning. He zig-zagged through the tall grass, his heart pounding with excitement.\\n\\nTheodore, true to form, started at a steady pace. He methodically made his way through the meadow, nibbling clover and checking each flower for hidden dew drops.  Barnaby, distracted by the sparkling brook and the buzzing dragonflies, took a detour to admire a particularly beautiful buttercup.  He paused to chase a butterfly, and then, lost in a game of tag with a mischievous squirrel, he completely lost his way.\\n\\nTheodore, meanwhile, continued his steady progress.  He encountered a patch of thorny bushes, but carefully maneuvered around them.  He navigated a tricky stream by slowly and deliberately finding the shallowest part.  He was always mindful of his surroundings, even when the pace seemed slow to him.\\n\\nFinally, the finish line, a magnificent oak tree beneath which the bees had placed the honey cake, came into sight. Barnaby, exhausted and disoriented, arrived panting and sweating.  The honey cake had already been devoured!  Theodore, though hours behind Barnaby's initial start, was the next to reach the tree. He'd navigated the meadow with care and determination.\\n\\nTheodore, with a thoughtful sigh, smiled at Barnaby. \\\"You may run fast, Barnaby,\\\" he said, \\\"but slow and steady brings you to the finish line, safely.\\\"\\n\\nBarnaby, seeing the empty plates and the disappointed expressions of the flowers, realized that Theodore was right.  From that day on, Barnaby learned that haste, without care, leads to empty promises, and a slow, thoughtful approach can be just as rewarding \\u2013 and perhaps even more reliable.  And he learned the truth of the adage: Slow and steady wins the race.\\n\"\n        ],\n        \"semantic_type\": \"\",\n        \"description\": \"\"\n      }\n    },\n    {\n      \"column\": \"cluster topic\",\n      \"properties\": {\n        \"dtype\": \"category\",\n        \"num_unique_values\": 3,\n        \"samples\": [\n          \"\\\"Tortoise Fables with Moral Lessons\\\"\",\n          \"Animal-Based Moral Story Requests\",\n          \"\\\"Storytelling with Moral Lessons\\\"\"\n        ],\n        \"semantic_type\": \"\",\n        \"description\": \"\"\n      }\n    },\n    {\n      \"column\": \"score\",\n      \"properties\": {\n        \"dtype\": \"number\",\n        \"std\": 0.058543387777324436,\n        \"min\": 0.8080512152777778,\n        \"max\": 0.9997829861111112,\n        \"num_unique_values\": 23,\n        \"samples\": [\n          0.953342013888889,\n          0.9878472222222222,\n          0.8310546875\n        ],\n        \"semantic_type\": \"\",\n        \"description\": \"\"\n      }\n    }\n  ]\n}"
            }
          },
          "metadata": {},
          "execution_count": 27
        }
      ],
      "source": [
        "from tqdm import tqdm\n",
        "\n",
        "scores = []\n",
        "for example in tqdm(aesop_dataset[\"train\"]):\n",
        "  scores.append(client.scoring_system.score(\n",
        "       scorer=aesop_scorer,\n",
        "       llm_input=example[\"input\"],\n",
        "       llm_output=example[\"output\"])\n",
        "  )\n",
        "\n",
        "df = pd.DataFrame({\n",
        "    \"input\": aesop_dataset[\"train\"][\"input\"],\n",
        "    \"output\": aesop_dataset[\"train\"][\"output\"],\n",
        "    \"cluster topic\": topics,\n",
        "    \"score\": [score.total_score for score in scores]}\n",
        ")\n",
        "\n",
        "df"
      ]
    },
    {
      "cell_type": "markdown",
      "metadata": {
        "id": "rMTmieU9xPgT"
      },
      "source": [
        "## Label data\n",
        "\n",
        "Now it's time to label examples against a simple statement.  **The response fully satisfies the input according to the scoring system**.  Valid responses are **Strongly Agree**, **Agree**, **Neutral**, **Disagree**, and **Strongly Disagree**, or simply **5** down to **1**.\n",
        "\n",
        "The below cell will select a high and low scoring exemplar from each cluster, asking you to respond **5** through **1**"
      ]
    },
    {
      "cell_type": "code",
      "execution_count": null,
      "metadata": {
        "id": "kdaF7pnIGYxa",
        "colab": {
          "base_uri": "https://localhost:8080/",
          "height": 1000,
          "referenced_widgets": [
            "8cbb6c786b5e4c98bce0cc2e80f284de",
            "2576431543c4412ebf9af09da7574b4d",
            "48a0196a3abc4ec2bc1e58aee6268946",
            "c9b8aff673d3483cb9bc681ab166f46e",
            "02f31eea1ac247139c45483df253e5b5",
            "3f09d602eead4abcb003fae24e8babf5",
            "bb8d978b7fc54218a3c32ce238e6bbc5",
            "bdbefd8e3d414767bf16d68742fe7243",
            "0a11cf46378b4b909b8a0d1f9e268367",
            "4e9887a862b547fba6ed3917880b70e8",
            "7271d6c68525487d86452accf7881779",
            "a665d32440ac40e494e31130daf53abd",
            "87279af4726842f4a89a5331eb9c2104",
            "6cd46c8340f94defbcec6fc09e6cf6f6",
            "7889534ba17a43c09ffea61898e55a1b",
            "0a2ca1d024794744b310d3ba4cd8c737",
            "e390b760a42c4f9e96657cc82b809415",
            "5a84b95670514c22961129fe371c1883",
            "8b002e209a22470fa45d5e20ed87d649",
            "d9b90124d6ed480db0166de23638cd34",
            "c6b3e199e6724df38e33d1b2acf4b4b8",
            "f379a21d5d9348ca9b3004952b136bbb",
            "14c63e5a1c46442b94d49edbe2bd9475",
            "a8fa05dac7344649b4c88bf1483151ac",
            "d3654b44d60e48f8a01a81ee2deb81d6",
            "414eb826e2404513983c1bc30cc0bccf",
            "fc9d475a5c5243338746e6fc25f55cf7",
            "4eaed70d3f4d46e095a80c72ec241e09",
            "23d1cda5682f4beda27afc2c1b04e957",
            "79cd33db446e493ca0b221b961749f0c",
            "637111cb42d44d23a86704bc8fa09ffa",
            "5ec3e3b9c54a447e98e0eddf3f71e437",
            "d68d928858b04bd1a58d9aa4044f111b"
          ]
        },
        "collapsed": true,
        "outputId": "63441116-2c44-4c75-b544-1ad8b25b93cc"
      },
      "outputs": [
        {
          "output_type": "display_data",
          "data": {
            "text/plain": [
              "Filter:   0%|          | 0/20 [00:00<?, ? examples/s]"
            ],
            "application/vnd.jupyter.widget-view+json": {
              "version_major": 2,
              "version_minor": 0,
              "model_id": "8cbb6c786b5e4c98bce0cc2e80f284de"
            }
          },
          "metadata": {}
        },
        {
          "output_type": "display_data",
          "data": {
            "text/plain": [
              "'Input Prompt:'"
            ],
            "application/vnd.google.colaboratory.intrinsic+json": {
              "type": "string"
            }
          },
          "metadata": {}
        },
        {
          "output_type": "display_data",
          "data": {
            "text/plain": [
              "'Tell a fable about a crow and a fox that illustrates the importance of being cautious with flattery.'"
            ],
            "application/vnd.google.colaboratory.intrinsic+json": {
              "type": "string"
            }
          },
          "metadata": {}
        },
        {
          "output_type": "display_data",
          "data": {
            "text/plain": [
              "'Output Response:'"
            ],
            "application/vnd.google.colaboratory.intrinsic+json": {
              "type": "string"
            }
          },
          "metadata": {}
        },
        {
          "output_type": "display_data",
          "data": {
            "text/plain": [
              "'Once upon a time, in a sun-drenched forest, lived a clever crow named Corvus.  Corvus was known throughout the woods for his magnificent, iridescent feathers, which shimmered like captured sunlight.  A sly fox, named Reynard, prowled the forest, his eyes gleaming with cunning.\\n\\nReynard, always on the lookout for an easy meal, spied Corvus perched on a branch.  He padded silently towards him, a mischievous glint in his eye.\\n\\n\"Oh, Corvus,\" Reynard purred, his voice smooth as honey. \"What a magnificent creature you are!  Your plumage is the most exquisite I\\'ve ever beheld.  No other bird in the forest can compare.\"\\n\\nCorvus, flattered beyond measure, puffed up his feathers. \"Indeed,\" he crowed, feeling quite important. \"My beauty is unparalleled.\"\\n\\nReynard continued his flattery. \"And your voice! It is like the sweet chime of a thousand bells. I\\'ve never heard such melodious notes.\"\\n\\nCorvus\\'s tail feathers trembled with pride.  \"My song is a gift from the gods,\" he boasted.\\n\\nReynard, with a sly smile, then said, \"You are the most magnificent bird in the whole forest.  Why not come with me to my den?  I have a feast prepared just for you, a feast worthy of such a splendid creature.\"\\n\\nCorvus, utterly convinced of his own magnificence, forgot all caution.  He hopped down from the branch and followed Reynard into the deep woods.\\n\\nReynard, however, led him, not to a feast, but to a trap.  A deep pit, cleverly disguised with leaves and twigs, awaited the unsuspecting crow.\\n\\nCorvus, still basking in the glow of Reynard\\'s praise, landed in the pit with a startled caw.  He looked up, bewildered, at Reynard.\\n\\nReynard laughed, a sound like tinkling ice. \"I\\'m afraid,\" he said, \"your magnificent plumage and melodious voice are no match for a good old-fashioned trap.\"\\n\\nCorvus, finally understanding his mistake, scolded Reynard for his deception.  \"You flattered me with empty words,\" he said. \"Foolish of me to believe such hollow praise.\"\\n\\nReynard merely smirked, and scurried away, leaving Corvus to recover from his near-tragedy.\\n\\n\\nFrom that day on, Corvus learned a valuable lesson.  He learned that true worth isn\\'t found in empty flattery, but in the strength of one\\'s own character and careful judgment. He never trusted a flattering word again, and wisely chose his company with care.\\n'"
            ],
            "application/vnd.google.colaboratory.intrinsic+json": {
              "type": "string"
            }
          },
          "metadata": {}
        },
        {
          "name": "stdout",
          "output_type": "stream",
          "text": [
            "Your rating from 1 to 5: 1\n"
          ]
        },
        {
          "output_type": "display_data",
          "data": {
            "text/plain": [
              "'Input Prompt:'"
            ],
            "application/vnd.google.colaboratory.intrinsic+json": {
              "type": "string"
            }
          },
          "metadata": {}
        },
        {
          "output_type": "display_data",
          "data": {
            "text/plain": [
              "\"Tell a story about a greedy dog who loses his bone to teach the lesson 'Don't be greedy; appreciate what you have.'\""
            ],
            "application/vnd.google.colaboratory.intrinsic+json": {
              "type": "string"
            }
          },
          "metadata": {}
        },
        {
          "output_type": "display_data",
          "data": {
            "text/plain": [
              "'Output Response:'"
            ],
            "application/vnd.google.colaboratory.intrinsic+json": {
              "type": "string"
            }
          },
          "metadata": {}
        },
        {
          "output_type": "display_data",
          "data": {
            "text/plain": [
              "'Barnaby the Beagle was a dog of magnificent appetites.  His nose twitched at the scent of a crumb, his eyes widened at the sight of a juicy bone.  He wasn\\'t just greedy, he was *extraordinarily* greedy.  He\\'d sniff at a scrap on the ground, then whine and whine until he got it, even if it was barely a nibble.  Barnaby considered every bone, every bit of meat, a personal conquest.\\n\\nOne sunny afternoon, Barnaby discovered a magnificent bone. It wasn\\'t just any bone; it was a bone of dazzling white, smooth as polished marble, and plump with marrow.  It was the most beautiful bone Barnaby had ever laid eyes on.  He practically drooled with delight.\\n\\n\"Mine!\" he barked, wagging his tail with exaggerated fervor.  He snatched the bone, ignoring the whimpers of a smaller, less fortunate dog named Pip who\\'d been eyeing it wistfully.  Barnaby happily gnawed, his eyes sparkling with satisfaction.  But the bone, though beautiful, tasted rather bland.\\n\\nHe spent the next hour circling the bone, inspecting it, licking it, and occasionally taking a small nibble.  He imagined all the games he could play with the bone, all the toys he could make out of it.  But the longer he held it, the more he felt the bone’s lackluster flavor.  It wasn\\'t as exciting as he had expected.\\n\\nSuddenly, a delicious aroma drifted on the breeze. A group of squirrels were chattering excitedly about a feast of juicy nuts hidden beneath a large oak tree.  Barnaby, distracted, left the beautiful bone unattended.  He bounded off, following the enticing scent, intent on devouring the delectable nuts.\\n\\nHe discovered a treasure trove of nuts, their shells crackling under his paws. He ate and ate and ate.  In his greed to devour everything, he forgot all about the lovely bone he’d left behind.\\n\\nAs the sun dipped below the horizon, Barnaby, his stomach full but his heart empty, realized he was alone and tired.  He saw Pip, who had found and treasured a small but satisfying bone in the meantime.  He crept closer, regret swelling in his chest.\\n\\n\"That bone,\" Barnaby whimpered, \"it was… nothing.\"\\n\\nPip, seeing Barnaby\\'s sorrowful face, simply nudged the bone he was holding with his nose, and then took a large juicy bite, his eyes lighting up.\\n\\nBarnaby, remembering the bland taste and all the time he had wasted, had a profound realization.  He hadn\\'t appreciated the lovely bone for what it was.  He had only wanted more, more, more.  From that day on, Barnaby learned a valuable lesson.  He learned that true happiness wasn\\'t about having the biggest, the best, or the most; it was about appreciating what he had. And he learned that sometimes, a small but truly delicious treat is the perfect reward.\\n'"
            ],
            "application/vnd.google.colaboratory.intrinsic+json": {
              "type": "string"
            }
          },
          "metadata": {}
        },
        {
          "name": "stdout",
          "output_type": "stream",
          "text": [
            "Your rating from 1 to 5: 3\n"
          ]
        },
        {
          "output_type": "display_data",
          "data": {
            "text/plain": [
              "Filter:   0%|          | 0/20 [00:00<?, ? examples/s]"
            ],
            "application/vnd.jupyter.widget-view+json": {
              "version_major": 2,
              "version_minor": 0,
              "model_id": "a665d32440ac40e494e31130daf53abd"
            }
          },
          "metadata": {}
        },
        {
          "output_type": "display_data",
          "data": {
            "text/plain": [
              "'Input Prompt:'"
            ],
            "application/vnd.google.colaboratory.intrinsic+json": {
              "type": "string"
            }
          },
          "metadata": {}
        },
        {
          "output_type": "display_data",
          "data": {
            "text/plain": [
              "\"Create a story featuring a lion and a mouse that conveys the message 'Even the smallest friends can be the most helpful.'\""
            ],
            "application/vnd.google.colaboratory.intrinsic+json": {
              "type": "string"
            }
          },
          "metadata": {}
        },
        {
          "output_type": "display_data",
          "data": {
            "text/plain": [
              "'Output Response:'"
            ],
            "application/vnd.google.colaboratory.intrinsic+json": {
              "type": "string"
            }
          },
          "metadata": {}
        },
        {
          "output_type": "display_data",
          "data": {
            "text/plain": [
              "'Leo the lion, king of the sprawling savanna, was a creature of immense pride. He ruled with a roar that echoed through the tall grass, and his mane, a golden crown, shimmered in the sun.  He had everything a lion could want – plenty of meat, a comfortable den, and, of course, the unwavering respect of all the other animals.\\n\\nBut Leo was also very, very lonely.  He spent his days patrolling his territory, his powerful paws barely touching the ground as he stalked imaginary prey.  He was so focused on his own importance that he hardly noticed the smaller creatures around him.\\n\\nOne scorching afternoon, Leo was napping under a baobab tree, his magnificent roar reduced to a gentle snore.  Suddenly, a tiny squeak shattered the silence.  A tiny mouse, no bigger than Leo\\'s paw, had somehow gotten tangled in a thick vine near his mighty foot.\\n\\nThe mouse, frantic with fear, squeaked and squirmed, unable to free itself.  Leo, roused from his sleep, grumbled.  \"Another pest,\" he muttered, adjusting his magnificent mane. \"Such a tiny creature, and yet it dares to disturb my nap!\" He was about to swat the mouse away, when he saw the mouse\\'s desperate little face.\\n\\nSomething in the mouse\\'s eyes, a mix of fear and helplessness, stirred a flicker of something new in Leo\\'s heart – something close to... pity.  Instead of crushing the tiny creature, Leo carefully nudged the vine with his nose.  It was no use.  The vine held fast.\\n\\nHe tried again, and again, but the vine remained stubbornly wrapped around the mouse.  Exasperated, Leo sighed.  \"Perhaps,\" he thought, \"a bit of help might be more effective.\"\\n\\nHe knelt, using his enormous paw to gently untangle the vine.  But even Leo’s powerful paw couldn\\'t quite do the trick.  The mouse, sensing his gentle intent, scurried out from under the vine, scurrying up Leo\\'s leg, and found a weak spot in the tangle.\\n\\nWith a tiny nibble, the mouse gnawed through the stubborn vine.  In a flash, the vine loosened, and the mouse, free, scurried away, a grateful squeak escaping its tiny throat.\\n\\nLeo felt a sense of unexpected satisfaction.  The tiny mouse, who had seemed so insignificant, had proven to be surprisingly helpful.\\n\\nFrom that day forward, Leo didn\\'t forget the mouse\\'s kindness. He started noticing the smaller creatures around him, and to his surprise, he found the savanna filled with an abundance of helpful creatures and a joy he hadn\\'t felt before.  Leo realized that even the smallest friends can be the most helpful, and that true strength wasn\\'t just about size, but about caring.  And, sometimes, a little bit of listening and understanding went a long way.\\n'"
            ],
            "application/vnd.google.colaboratory.intrinsic+json": {
              "type": "string"
            }
          },
          "metadata": {}
        },
        {
          "name": "stdout",
          "output_type": "stream",
          "text": [
            "Your rating from 1 to 5: 2\n"
          ]
        },
        {
          "output_type": "display_data",
          "data": {
            "text/plain": [
              "'Input Prompt:'"
            ],
            "application/vnd.google.colaboratory.intrinsic+json": {
              "type": "string"
            }
          },
          "metadata": {}
        },
        {
          "output_type": "display_data",
          "data": {
            "text/plain": [
              "\"Think up a scenario involving a butterfly embarrassed by its wings to highlight 'Embrace your uniqueness.'\""
            ],
            "application/vnd.google.colaboratory.intrinsic+json": {
              "type": "string"
            }
          },
          "metadata": {}
        },
        {
          "output_type": "display_data",
          "data": {
            "text/plain": [
              "'Output Response:'"
            ],
            "application/vnd.google.colaboratory.intrinsic+json": {
              "type": "string"
            }
          },
          "metadata": {}
        },
        {
          "output_type": "display_data",
          "data": {
            "text/plain": [
              "'Pip the butterfly was a beautiful creature, but Pip had a secret. He wasn\\'t happy with his wings.  All the other butterflies had wings so perfectly patterned, so vibrant and shimmery.  Pip\\'s wings were… well, they were speckled.  Tiny, muted spots of brown, grey, and pale yellow, scattered across a background of almost invisible, dusty rose.  They weren\\'t flashy, they weren\\'t striking.  They were, in Pip\\'s opinion, plain.\\n\\nPip watched the other butterflies flitting from flower to flower, their wings catching the sunlight in dazzling displays.  He would flutter close, but only briefly, then retreat to the shadows of the willow tree.  He was ashamed.  He wished his wings were like the vibrant monarchs, the dazzling swallowtails, the graceful painted ladies.  He longed to be admired for his beauty, not pitied for his…unremarkable wings.\\n\\nOne day, a wise old ladybug, named Dot, spotted Pip hiding under a leaf.  \"Why the long face, little one?\" she asked gently.\\n\\nPip, blushing a delicate shade of rose, mumbled, \"My wings… they\\'re just so…ordinary.\"\\n\\nDot chuckled, her tiny voice like wind chimes. \"Ordinary?  My dear Pip, look around you.  Every leaf has its own shape, every flower its own colour.  What makes one thing more beautiful than another is the way it\\'s unique.\"\\n\\nPip looked around.  He saw a tiny, delicate blossom with a single, pale purple petal, nestled amongst a cluster of bold red poppies. He saw a wobbly caterpillar, inching along a leaf, its dull green camouflage almost invisible against the dappled green.  Everything was unique, in its own way.\\n\\n\"But the other butterflies… their wings are so…so…amazing,\" Pip protested.\\n\\nDot landed gently on his wing. \"And yet, your wings, Pip, have a charm all their own.  Imagine if all the butterflies had the same perfect patterns. The world would be much less interesting, wouldn\\'t it?\"\\n\\nPip thought about this.  He remembered how the dappled sunlight filtered through the leaves, illuminating his speckled wings in a way that no other butterfly\\'s wings could.  He remembered the way his wings felt – light and airy, perfect for his gentle fluttering.\\n\\nThat evening, as the sun dipped below the horizon, painting the sky in fiery hues, Pip decided to fly.  He didn\\'t hide in the shadows.  He spread his speckled wings, and soared.  He danced with the breeze, feeling a joyful freedom he had never known before.  He was no longer ashamed of his wings.  He embraced their uniqueness, and discovered a beauty that was all his own. He saw, for the first time, that the flowers loved his muted hues.  They loved him.  He wasn\\'t like the other butterflies, and that was perfectly beautiful.\\n'"
            ],
            "application/vnd.google.colaboratory.intrinsic+json": {
              "type": "string"
            }
          },
          "metadata": {}
        },
        {
          "name": "stdout",
          "output_type": "stream",
          "text": [
            "Your rating from 1 to 5: 3\n"
          ]
        },
        {
          "output_type": "display_data",
          "data": {
            "text/plain": [
              "Filter:   0%|          | 0/20 [00:00<?, ? examples/s]"
            ],
            "application/vnd.jupyter.widget-view+json": {
              "version_major": 2,
              "version_minor": 0,
              "model_id": "14c63e5a1c46442b94d49edbe2bd9475"
            }
          },
          "metadata": {}
        },
        {
          "output_type": "display_data",
          "data": {
            "text/plain": [
              "'Input Prompt:'"
            ],
            "application/vnd.google.colaboratory.intrinsic+json": {
              "type": "string"
            }
          },
          "metadata": {}
        },
        {
          "output_type": "display_data",
          "data": {
            "text/plain": [
              "\"Create a story with a novice ant who refuses guidance from elders and learns that 'Listening gives you endless wisdom.'\""
            ],
            "application/vnd.google.colaboratory.intrinsic+json": {
              "type": "string"
            }
          },
          "metadata": {}
        },
        {
          "output_type": "display_data",
          "data": {
            "text/plain": [
              "'Output Response:'"
            ],
            "application/vnd.google.colaboratory.intrinsic+json": {
              "type": "string"
            }
          },
          "metadata": {}
        },
        {
          "output_type": "display_data",
          "data": {
            "text/plain": [
              "'Tiny, a brand-new ant, emerged from her chrysalis, her tiny legs trembling.  The sun warmed her tiny back, and a delicious scent of sweet dew filled the air.  She scurried about, her antennae twitching with curiosity.  Nearby, old Anthea, with her wise, weathered wings, and Elder Ant, with his glistening, experience-marked mandibles, were diligently collecting crumbs.\\n\\n\"Tiny, dear,\" Anthea whispered, her voice like rustling leaves. \"The best path to the meadow is through the whispering willows.\"\\n\\n\"Whispering willows?\" Tiny scoffed. \"I\\'m Tiny!  I\\'m an amazing ant! I\\'ll find the best path myself!\" And with a determined flick of her head, she darted off, heading straight for the towering, prickly thistles.\\n\\nThe thistles pricked her, the path was rough, and the sun beat down.  She struggled, her tiny body aching.  She missed the juicy berries Elder Ant had pointed out, and the delicious nectar from the fragrant clover blossoms,  because her path led her past them.\\n\\nElder Ant, meanwhile, had led his group through a beautifully shaded ravine, discovering hidden treasures of honeydew and plump, juicy berries along the way.  Anthea, with her knowledge of the wind patterns and the early morning dew, had found a shorter route, leading to a wealth of food.\\n\\nTiny, lost and tired, finally stumbled upon a tiny stream.  A glistening pebble caught her eye.  \"Look at this!\" she exclaimed, picking up the pebble and staring at it.\\n\\nSuddenly, a voice, as soft as a summer breeze, said, \"Tiny?\"\\n\\nShe looked up.  It was Anthea. \"Why did you go that way?\" Anthea asked gently.\\n\\nTiny, her face covered in dust and frustration, mumbled, \"I wanted to find my own way!\"\\n\\nAnthea smiled patiently. \"My dear Tiny, every path has its own dangers and rewards.  Listening to others, observing their experiences, and appreciating the wisdom they hold, that\\'s how you find the best path, and discover the greatest rewards.\"\\n\\nAnthea pointed to the path behind them, \"See how the Elder Ant made his way through the ravine?  It was shaded, there was plenty of food, and it was much faster than these prickly thistles.\" She also pointed to the shorter route she had taken earlier, \"See the treasures I found using my knowledge of the dew?\"\\n\\nElder Ant, with his enormous experience, came forward. \"Tiny,\" he said, \"there is no greater treasure than the wisdom of those who have walked the path before you. Listening gives you endless wisdom, that allows you to discover treasures you wouldn\\'t have found otherwise.\"\\n\\n\\nTiny looked at the path behind her, at the smooth path, the delicious berries, and the short distance.  She looked at Anthea\\'s gentle face, and Elder Ant\\'s wise eyes.\\n\\n\"I understand,\" she whispered.\\n\\nFrom that day on, Tiny listened carefully to the elders. She learned to observe, and she learned to appreciate the wisdom of others. She never again tried to go her own way alone, and she discovered that listening to those who had come before her led her to the greatest treasures of all: knowledge, cooperation, and the joy of sharing. And so, Tiny became a wise and respected ant.\\n'"
            ],
            "application/vnd.google.colaboratory.intrinsic+json": {
              "type": "string"
            }
          },
          "metadata": {}
        },
        {
          "name": "stdout",
          "output_type": "stream",
          "text": [
            "Your rating from 1 to 5: 1\n"
          ]
        },
        {
          "output_type": "display_data",
          "data": {
            "text/plain": [
              "'Input Prompt:'"
            ],
            "application/vnd.google.colaboratory.intrinsic+json": {
              "type": "string"
            }
          },
          "metadata": {}
        },
        {
          "output_type": "display_data",
          "data": {
            "text/plain": [
              "\"Create a story with a novice ant who refuses guidance from elders and learns that 'Listening gives you endless wisdom.'\""
            ],
            "application/vnd.google.colaboratory.intrinsic+json": {
              "type": "string"
            }
          },
          "metadata": {}
        },
        {
          "output_type": "display_data",
          "data": {
            "text/plain": [
              "'Output Response:'"
            ],
            "application/vnd.google.colaboratory.intrinsic+json": {
              "type": "string"
            }
          },
          "metadata": {}
        },
        {
          "output_type": "display_data",
          "data": {
            "text/plain": [
              "'A tiny ant, no bigger than a grain of rice, named Pip, scuttled along the forest floor.  Pip was a novice ant, fresh from the ant hill\\'s nursery.  He\\'d learned the basics – finding crumbs, carrying loads, and keeping the tunnels tidy.  But Pip yearned for something more.  Something… *exciting*.\\n\\nThe older ants, with their wise, wrinkled antennae, saw Pip\\'s eagerness.  \"Pip,\" said one experienced ant, \"to find the tastiest honey, follow the sunbeams.\"\\n\\n\"Sunbeams?  How do they know where the sweet nectar is?\" Pip scoffed. \"I\\'ll follow my nose, it\\'s much quicker!\"\\n\\nAnother elder ant, with a weathered carapace, added, \"The whispers of the wind tell us of ripening berries.  Listen carefully.\"\\n\\n\"Wind whispers?  Sounds silly! I\\'ll sniff every leaf myself!\" Pip retorted, his tiny mandibles snapping.\\n\\nSo, Pip, determined to be clever, set off following his nose.  He found a few stray crumbs, but nothing truly fulfilling.  He sniffed the leaves, but they smelled only of damp earth.  He missed the juicy berries hidden beneath the bushes, and when a heavy rain arrived, he had nowhere to shelter because he\\'d ignored the ants\\' warnings about the approaching storm.\\n\\nMeanwhile, the other ants, following the sunbeams and listening to the wind, were enjoying a feast of honey and plump berries. They had built elaborate shelters to escape the rain.\\n\\nPip, drenched and hungry, finally stumbled upon a tiny group huddled under a large mushroom.  He saw them sharing the last of their berries.  Humiliated, Pip approached.  \"I… I missed it all,\" he mumbled, his antennae drooping.\\n\\nOne of the older ants, with a gentle smile, said, \"Pip, you were too busy following your nose to hear what we had to say. Listening gives you endless wisdom. The sunbeams point the way, the wind whispers the secrets, and the elders share their experience.  Their wisdom is a treasure trove.\"\\n\\nPip looked at the ants, now sharing berries with him. He saw the wisdom in their eyes, the kindness in their gestures. He listened closely, following the sunbeams and the whispers of the wind, and he discovered a wealth of knowledge he never would have found otherwise.\\n\\nFrom that day on, Pip learned to value the wisdom of the elders. He listened to the sunbeams, the wind, and the ants around him, and he discovered that true success wasn\\'t about being quick or clever, but about listening to those who had walked the paths before him.  And with every crumb he collected, with every berry he enjoyed, and with every warning he heeded, Pip knew that listening gave him endless wisdom.\\n'"
            ],
            "application/vnd.google.colaboratory.intrinsic+json": {
              "type": "string"
            }
          },
          "metadata": {}
        },
        {
          "name": "stdout",
          "output_type": "stream",
          "text": [
            "Your rating from 1 to 5: 3\n"
          ]
        }
      ],
      "source": [
        "def get_label(row):\n",
        "  display(\"Input Prompt:\")\n",
        "  display(row[\"input\"])\n",
        "  display(\"Output Response:\")\n",
        "  display(row[\"output\"])\n",
        "  while True:\n",
        "    resp = input(\"Your rating from 1 to 5: \")\n",
        "    try:\n",
        "      if int(resp) not in [1,2,3,4,5]:\n",
        "        raise ValueError(\"Invalid\")\n",
        "    except:\n",
        "      display(\"Invalid input. Try again\")\n",
        "      continue\n",
        "    break\n",
        "  row['label'] = resp\n",
        "  return row\n",
        "\n",
        "cluster_labels = set([x for x in aesop_scored[\"cluster\"]])\n",
        "labelled = []\n",
        "for cluster in cluster_labels:\n",
        "  sorted = aesop_scored.filter(lambda e: e['cluster'] == cluster).sort(\"uncalibrated_scores\")\n",
        "  labelled.append(get_label(sorted[0]))\n",
        "  labelled.append(get_label(sorted[-1]))"
      ]
    },
    {
      "cell_type": "markdown",
      "metadata": {
        "id": "yR-YSyrYM4-z"
      },
      "source": [
        "## Calibrate\n",
        "\n",
        "Now it's time to calibrate with the labelled sets.  The following cell will launch a job and monitor for completion."
      ]
    },
    {
      "cell_type": "code",
      "execution_count": null,
      "metadata": {
        "id": "O-4aZQ4YM9FL",
        "colab": {
          "base_uri": "https://localhost:8080/"
        },
        "collapsed": true,
        "outputId": "601ad98d-1997-453b-e70f-71f6c303d561"
      },
      "outputs": [
        {
          "output_type": "stream",
          "name": "stdout",
          "text": [
            "Detailed Status for contract_calibration_jobs:09ac227c912792130a876568ea872593308c0d4b3d7c896ec7991f041cbeedd8:012e635a-ff1f-4f45-9c3d-99a6d7993000\n",
            "LAUNCHING\n",
            "RUNNING\n",
            "Training the AST...\n",
            "Overall initial loss = 0.4827003761574074\n",
            "Optimizing ROOT + dim:step_c4cd484b-e4c0-416c-823a-c92eac1e826b ...\n",
            "Initial loss = 0.4827003761574074\n",
            "Best trial = Measurement(metrics={'a4709c07-218a-4375-a483-74f0215576e8_loss': Metric(value=0.39789842966806854, std=None)}, elapsed_secs=0.0, steps=0, checkpoint_path='')\n",
            "Apply the new learned params!\n",
            "Optimizing ROOT + dim:step_76333b77-bfd1-4992-af48-50a96eec371b ...\n",
            "Initial loss = 0.39789842966806854\n",
            "Best trial = Measurement(metrics={'a4709c07-218a-4375-a483-74f0215576e8_loss': Metric(value=0.38478766358371086, std=None)}, elapsed_secs=0.0, steps=0, checkpoint_path='')\n",
            "Apply the new learned params!\n",
            "Optimizing ROOT + dim:step_e3ffabc6-12b4-4ecc-baef-a6ec54f45341 ...\n",
            "Initial loss = 0.38478766358371086\n",
            "Best trial = Measurement(metrics={'a4709c07-218a-4375-a483-74f0215576e8_loss': Metric(value=0.382905782061658, std=None)}, elapsed_secs=0.0, steps=0, checkpoint_path='')\n",
            "Apply the new learned params!\n",
            "Optimizing ROOT + dim:step_bfbcbd24-df0c-4d8a-a116-60830da8143a ...\n",
            "Initial loss = 0.382905782061658\n",
            "Best trial = Measurement(metrics={'a4709c07-218a-4375-a483-74f0215576e8_loss': Metric(value=0.3849261320550781, std=None)}, elapsed_secs=0.0, steps=0, checkpoint_path='')\n",
            "Keep the initial learned params!\n",
            "Optimizing ROOT + dim:step_f95f5080-281a-4d4b-a449-1b78bb2502fd ...\n",
            "Initial loss = 0.382905782061658\n",
            "Best trial = Measurement(metrics={'a4709c07-218a-4375-a483-74f0215576e8_loss': Metric(value=0.3906113067774593, std=None)}, elapsed_secs=0.0, steps=0, checkpoint_path='')\n",
            "Keep the initial learned params!\n",
            "Optimizing ROOT + dim:step_920645df-a9a3-4558-b47d-b7c1e6da223e ...\n",
            "Initial loss = 0.382905782061658\n",
            "Best trial = Measurement(metrics={'a4709c07-218a-4375-a483-74f0215576e8_loss': Metric(value=0.38147237849366955, std=None)}, elapsed_secs=0.0, steps=0, checkpoint_path='')\n",
            "Apply the new learned params!\n",
            "Optimizing AST ROOT ...\n",
            "Initial loss = 0.38147237849366955\n",
            "Best trial = Measurement(metrics={'a4709c07-218a-4375-a483-74f0215576e8_loss': Metric(value=0.36722762613270205, std=None)}, elapsed_secs=0.0, steps=0, checkpoint_path='')\n",
            "Apply the new learned params!\n",
            "DONE\n",
            "ScoringSystemCalibrationStatus(detailed_status=['LAUNCHING', 'RUNNING', 'Training the AST...', 'Overall initial loss = 0.4827003761574074', 'Optimizing ROOT + dim:step_c4cd484b-e4c0-416c-823a-c92eac1e826b ...', 'Initial loss = 0.4827003761574074', \"Best trial = Measurement(metrics={'a4709c07-218a-4375-a483-74f0215576e8_loss': Metric(value=0.39789842966806854, std=None)}, elapsed_secs=0.0, steps=0, checkpoint_path='')\", 'Apply the new learned params!', 'Optimizing ROOT + dim:step_76333b77-bfd1-4992-af48-50a96eec371b ...', 'Initial loss = 0.39789842966806854', \"Best trial = Measurement(metrics={'a4709c07-218a-4375-a483-74f0215576e8_loss': Metric(value=0.38478766358371086, std=None)}, elapsed_secs=0.0, steps=0, checkpoint_path='')\", 'Apply the new learned params!', 'Optimizing ROOT + dim:step_e3ffabc6-12b4-4ecc-baef-a6ec54f45341 ...', 'Initial loss = 0.38478766358371086', \"Best trial = Measurement(metrics={'a4709c07-218a-4375-a483-74f0215576e8_loss': Metric(value=0.382905782061658, std=None)}, elapsed_secs=0.0, steps=0, checkpoint_path='')\", 'Apply the new learned params!', 'Optimizing ROOT + dim:step_bfbcbd24-df0c-4d8a-a116-60830da8143a ...', 'Initial loss = 0.382905782061658', \"Best trial = Measurement(metrics={'a4709c07-218a-4375-a483-74f0215576e8_loss': Metric(value=0.3849261320550781, std=None)}, elapsed_secs=0.0, steps=0, checkpoint_path='')\", 'Keep the initial learned params!', 'Optimizing ROOT + dim:step_f95f5080-281a-4d4b-a449-1b78bb2502fd ...', 'Initial loss = 0.382905782061658', \"Best trial = Measurement(metrics={'a4709c07-218a-4375-a483-74f0215576e8_loss': Metric(value=0.3906113067774593, std=None)}, elapsed_secs=0.0, steps=0, checkpoint_path='')\", 'Keep the initial learned params!', 'Optimizing ROOT + dim:step_920645df-a9a3-4558-b47d-b7c1e6da223e ...', 'Initial loss = 0.382905782061658', \"Best trial = Measurement(metrics={'a4709c07-218a-4375-a483-74f0215576e8_loss': Metric(value=0.38147237849366955, std=None)}, elapsed_secs=0.0, steps=0, checkpoint_path='')\", 'Apply the new learned params!', 'Optimizing AST ROOT ...', 'Initial loss = 0.38147237849366955', \"Best trial = Measurement(metrics={'a4709c07-218a-4375-a483-74f0215576e8_loss': Metric(value=0.36722762613270205, std=None)}, elapsed_secs=0.0, steps=0, checkpoint_path='')\", 'Apply the new learned params!', 'DONE'], job_id='contract_calibration_jobs:09ac227c912792130a876568ea872593308c0d4b3d7c896ec7991f041cbeedd8:012e635a-ff1f-4f45-9c3d-99a6d7993000', state='DONE', calibrated_scoring_system=None)\n"
          ]
        }
      ],
      "source": [
        "def to_rating(label):\n",
        "  match label:\n",
        "    case '1':\n",
        "      return \"Strongly Disagree\"\n",
        "    case '2':\n",
        "      return \"Disagree\"\n",
        "    case '3':\n",
        "      return \"Neutral\"\n",
        "    case '4':\n",
        "      return \"Agree\"\n",
        "    case '5':\n",
        "      return \"Strongly Agree\"\n",
        "\n",
        "scoring_system_calibration_status = client.pi_scoring_system.calibrate.start_job(\n",
        "    scoring_system=aesop_scoring_system,\n",
        "    examples=[\n",
        "        {\"llm_input\": row['input'],\n",
        "         \"llm_output\": row['output'],\n",
        "         \"rating\": to_rating(row['label'])}\n",
        "        for row in labelled]\n",
        ")\n",
        "aesop_scoring_system_calibrated = stream_response(\n",
        "    scoring_system_calibration_status.job_id,\n",
        "    client.pi_scoring_system.calibrate).calibrated_scoring_system"
      ]
    },
    {
      "cell_type": "markdown",
      "metadata": {
        "id": "mn4kg54Yixzn"
      },
      "source": [
        "## Rescore after calibration\n",
        "\n",
        "Now add a new column with calibrated scores. You can examine these to see if they more closely align with the examples you labelled.  Ideally the score starts separating good responses from bad.\n",
        "\n",
        "If it does not, that suggests the properties you **really** care about aren't captured in your scoring dimensions and will need to be added.  Proceed to the playgrounds at http://play.withpi.ai to experiment with this.\n",
        "\n",
        "If this is looking good, you have a powerful function for improving your system."
      ]
    },
    {
      "cell_type": "code",
      "execution_count": null,
      "metadata": {
        "id": "Cxd-uOBaOQQh"
      },
      "outputs": [],
      "source": [
        "for row in labelled:\n",
        "   row['calibrated'] = client.pi_scoring_system.score(\n",
        "       scoring_system=aesop_scoring_system_calibrated,\n",
        "       llm_input=row[\"input\"],\n",
        "       llm_output=row[\"output\"]).total_score\n",
        "   print(f\"Label: {row['label']}, Original Score: {row['uncalibrated_scores']}, Calibrated: {row['calibrated']}\")"
      ]
    },
    {
      "cell_type": "markdown",
      "metadata": {
        "id": "rAaeXLrijCrK"
      },
      "source": [
        "## Save calibrated scoring system\n",
        "\n",
        "The updated scoring system now has different weights assigned to its dimensions.  Save those for later."
      ]
    },
    {
      "cell_type": "code",
      "execution_count": null,
      "metadata": {
        "id": "tpWpFWfEwo4j"
      },
      "outputs": [],
      "source": [
        "save_file('aesop_ai_calibrated.json', aesop_scoring_system_calibrated.model_dump_json(indent=2))"
      ]
    },
    {
      "cell_type": "markdown",
      "metadata": {
        "id": "jT7s_nuJsHbM"
      },
      "source": [
        "## Next Steps\n",
        "\n",
        "Now that you have a calibrated scoring system, other parts of Pi should work better.  This Colab used a limited amount of hand-labeled data, but scaling up this feedback loop will pay dividends."
      ]
    }
  ],
  "metadata": {
    "colab": {
      "provenance": [],
      "include_colab_link": true
    },
    "kernelspec": {
      "display_name": "Python 3",
      "name": "python3"
    },
    "language_info": {
      "name": "python"
    },
    "widgets": {
      "application/vnd.jupyter.widget-state+json": {
        "8cbb6c786b5e4c98bce0cc2e80f284de": {
          "model_module": "@jupyter-widgets/controls",
          "model_name": "HBoxModel",
          "model_module_version": "1.5.0",
          "state": {
            "_dom_classes": [],
            "_model_module": "@jupyter-widgets/controls",
            "_model_module_version": "1.5.0",
            "_model_name": "HBoxModel",
            "_view_count": null,
            "_view_module": "@jupyter-widgets/controls",
            "_view_module_version": "1.5.0",
            "_view_name": "HBoxView",
            "box_style": "",
            "children": [
              "IPY_MODEL_2576431543c4412ebf9af09da7574b4d",
              "IPY_MODEL_48a0196a3abc4ec2bc1e58aee6268946",
              "IPY_MODEL_c9b8aff673d3483cb9bc681ab166f46e"
            ],
            "layout": "IPY_MODEL_02f31eea1ac247139c45483df253e5b5"
          }
        },
        "2576431543c4412ebf9af09da7574b4d": {
          "model_module": "@jupyter-widgets/controls",
          "model_name": "HTMLModel",
          "model_module_version": "1.5.0",
          "state": {
            "_dom_classes": [],
            "_model_module": "@jupyter-widgets/controls",
            "_model_module_version": "1.5.0",
            "_model_name": "HTMLModel",
            "_view_count": null,
            "_view_module": "@jupyter-widgets/controls",
            "_view_module_version": "1.5.0",
            "_view_name": "HTMLView",
            "description": "",
            "description_tooltip": null,
            "layout": "IPY_MODEL_3f09d602eead4abcb003fae24e8babf5",
            "placeholder": "​",
            "style": "IPY_MODEL_bb8d978b7fc54218a3c32ce238e6bbc5",
            "value": "Filter: 100%"
          }
        },
        "48a0196a3abc4ec2bc1e58aee6268946": {
          "model_module": "@jupyter-widgets/controls",
          "model_name": "FloatProgressModel",
          "model_module_version": "1.5.0",
          "state": {
            "_dom_classes": [],
            "_model_module": "@jupyter-widgets/controls",
            "_model_module_version": "1.5.0",
            "_model_name": "FloatProgressModel",
            "_view_count": null,
            "_view_module": "@jupyter-widgets/controls",
            "_view_module_version": "1.5.0",
            "_view_name": "ProgressView",
            "bar_style": "success",
            "description": "",
            "description_tooltip": null,
            "layout": "IPY_MODEL_bdbefd8e3d414767bf16d68742fe7243",
            "max": 20,
            "min": 0,
            "orientation": "horizontal",
            "style": "IPY_MODEL_0a11cf46378b4b909b8a0d1f9e268367",
            "value": 20
          }
        },
        "c9b8aff673d3483cb9bc681ab166f46e": {
          "model_module": "@jupyter-widgets/controls",
          "model_name": "HTMLModel",
          "model_module_version": "1.5.0",
          "state": {
            "_dom_classes": [],
            "_model_module": "@jupyter-widgets/controls",
            "_model_module_version": "1.5.0",
            "_model_name": "HTMLModel",
            "_view_count": null,
            "_view_module": "@jupyter-widgets/controls",
            "_view_module_version": "1.5.0",
            "_view_name": "HTMLView",
            "description": "",
            "description_tooltip": null,
            "layout": "IPY_MODEL_4e9887a862b547fba6ed3917880b70e8",
            "placeholder": "​",
            "style": "IPY_MODEL_7271d6c68525487d86452accf7881779",
            "value": " 20/20 [00:00&lt;00:00, 412.33 examples/s]"
          }
        },
        "02f31eea1ac247139c45483df253e5b5": {
          "model_module": "@jupyter-widgets/base",
          "model_name": "LayoutModel",
          "model_module_version": "1.2.0",
          "state": {
            "_model_module": "@jupyter-widgets/base",
            "_model_module_version": "1.2.0",
            "_model_name": "LayoutModel",
            "_view_count": null,
            "_view_module": "@jupyter-widgets/base",
            "_view_module_version": "1.2.0",
            "_view_name": "LayoutView",
            "align_content": null,
            "align_items": null,
            "align_self": null,
            "border": null,
            "bottom": null,
            "display": null,
            "flex": null,
            "flex_flow": null,
            "grid_area": null,
            "grid_auto_columns": null,
            "grid_auto_flow": null,
            "grid_auto_rows": null,
            "grid_column": null,
            "grid_gap": null,
            "grid_row": null,
            "grid_template_areas": null,
            "grid_template_columns": null,
            "grid_template_rows": null,
            "height": null,
            "justify_content": null,
            "justify_items": null,
            "left": null,
            "margin": null,
            "max_height": null,
            "max_width": null,
            "min_height": null,
            "min_width": null,
            "object_fit": null,
            "object_position": null,
            "order": null,
            "overflow": null,
            "overflow_x": null,
            "overflow_y": null,
            "padding": null,
            "right": null,
            "top": null,
            "visibility": null,
            "width": null
          }
        },
        "3f09d602eead4abcb003fae24e8babf5": {
          "model_module": "@jupyter-widgets/base",
          "model_name": "LayoutModel",
          "model_module_version": "1.2.0",
          "state": {
            "_model_module": "@jupyter-widgets/base",
            "_model_module_version": "1.2.0",
            "_model_name": "LayoutModel",
            "_view_count": null,
            "_view_module": "@jupyter-widgets/base",
            "_view_module_version": "1.2.0",
            "_view_name": "LayoutView",
            "align_content": null,
            "align_items": null,
            "align_self": null,
            "border": null,
            "bottom": null,
            "display": null,
            "flex": null,
            "flex_flow": null,
            "grid_area": null,
            "grid_auto_columns": null,
            "grid_auto_flow": null,
            "grid_auto_rows": null,
            "grid_column": null,
            "grid_gap": null,
            "grid_row": null,
            "grid_template_areas": null,
            "grid_template_columns": null,
            "grid_template_rows": null,
            "height": null,
            "justify_content": null,
            "justify_items": null,
            "left": null,
            "margin": null,
            "max_height": null,
            "max_width": null,
            "min_height": null,
            "min_width": null,
            "object_fit": null,
            "object_position": null,
            "order": null,
            "overflow": null,
            "overflow_x": null,
            "overflow_y": null,
            "padding": null,
            "right": null,
            "top": null,
            "visibility": null,
            "width": null
          }
        },
        "bb8d978b7fc54218a3c32ce238e6bbc5": {
          "model_module": "@jupyter-widgets/controls",
          "model_name": "DescriptionStyleModel",
          "model_module_version": "1.5.0",
          "state": {
            "_model_module": "@jupyter-widgets/controls",
            "_model_module_version": "1.5.0",
            "_model_name": "DescriptionStyleModel",
            "_view_count": null,
            "_view_module": "@jupyter-widgets/base",
            "_view_module_version": "1.2.0",
            "_view_name": "StyleView",
            "description_width": ""
          }
        },
        "bdbefd8e3d414767bf16d68742fe7243": {
          "model_module": "@jupyter-widgets/base",
          "model_name": "LayoutModel",
          "model_module_version": "1.2.0",
          "state": {
            "_model_module": "@jupyter-widgets/base",
            "_model_module_version": "1.2.0",
            "_model_name": "LayoutModel",
            "_view_count": null,
            "_view_module": "@jupyter-widgets/base",
            "_view_module_version": "1.2.0",
            "_view_name": "LayoutView",
            "align_content": null,
            "align_items": null,
            "align_self": null,
            "border": null,
            "bottom": null,
            "display": null,
            "flex": null,
            "flex_flow": null,
            "grid_area": null,
            "grid_auto_columns": null,
            "grid_auto_flow": null,
            "grid_auto_rows": null,
            "grid_column": null,
            "grid_gap": null,
            "grid_row": null,
            "grid_template_areas": null,
            "grid_template_columns": null,
            "grid_template_rows": null,
            "height": null,
            "justify_content": null,
            "justify_items": null,
            "left": null,
            "margin": null,
            "max_height": null,
            "max_width": null,
            "min_height": null,
            "min_width": null,
            "object_fit": null,
            "object_position": null,
            "order": null,
            "overflow": null,
            "overflow_x": null,
            "overflow_y": null,
            "padding": null,
            "right": null,
            "top": null,
            "visibility": null,
            "width": null
          }
        },
        "0a11cf46378b4b909b8a0d1f9e268367": {
          "model_module": "@jupyter-widgets/controls",
          "model_name": "ProgressStyleModel",
          "model_module_version": "1.5.0",
          "state": {
            "_model_module": "@jupyter-widgets/controls",
            "_model_module_version": "1.5.0",
            "_model_name": "ProgressStyleModel",
            "_view_count": null,
            "_view_module": "@jupyter-widgets/base",
            "_view_module_version": "1.2.0",
            "_view_name": "StyleView",
            "bar_color": null,
            "description_width": ""
          }
        },
        "4e9887a862b547fba6ed3917880b70e8": {
          "model_module": "@jupyter-widgets/base",
          "model_name": "LayoutModel",
          "model_module_version": "1.2.0",
          "state": {
            "_model_module": "@jupyter-widgets/base",
            "_model_module_version": "1.2.0",
            "_model_name": "LayoutModel",
            "_view_count": null,
            "_view_module": "@jupyter-widgets/base",
            "_view_module_version": "1.2.0",
            "_view_name": "LayoutView",
            "align_content": null,
            "align_items": null,
            "align_self": null,
            "border": null,
            "bottom": null,
            "display": null,
            "flex": null,
            "flex_flow": null,
            "grid_area": null,
            "grid_auto_columns": null,
            "grid_auto_flow": null,
            "grid_auto_rows": null,
            "grid_column": null,
            "grid_gap": null,
            "grid_row": null,
            "grid_template_areas": null,
            "grid_template_columns": null,
            "grid_template_rows": null,
            "height": null,
            "justify_content": null,
            "justify_items": null,
            "left": null,
            "margin": null,
            "max_height": null,
            "max_width": null,
            "min_height": null,
            "min_width": null,
            "object_fit": null,
            "object_position": null,
            "order": null,
            "overflow": null,
            "overflow_x": null,
            "overflow_y": null,
            "padding": null,
            "right": null,
            "top": null,
            "visibility": null,
            "width": null
          }
        },
        "7271d6c68525487d86452accf7881779": {
          "model_module": "@jupyter-widgets/controls",
          "model_name": "DescriptionStyleModel",
          "model_module_version": "1.5.0",
          "state": {
            "_model_module": "@jupyter-widgets/controls",
            "_model_module_version": "1.5.0",
            "_model_name": "DescriptionStyleModel",
            "_view_count": null,
            "_view_module": "@jupyter-widgets/base",
            "_view_module_version": "1.2.0",
            "_view_name": "StyleView",
            "description_width": ""
          }
        },
        "a665d32440ac40e494e31130daf53abd": {
          "model_module": "@jupyter-widgets/controls",
          "model_name": "HBoxModel",
          "model_module_version": "1.5.0",
          "state": {
            "_dom_classes": [],
            "_model_module": "@jupyter-widgets/controls",
            "_model_module_version": "1.5.0",
            "_model_name": "HBoxModel",
            "_view_count": null,
            "_view_module": "@jupyter-widgets/controls",
            "_view_module_version": "1.5.0",
            "_view_name": "HBoxView",
            "box_style": "",
            "children": [
              "IPY_MODEL_87279af4726842f4a89a5331eb9c2104",
              "IPY_MODEL_6cd46c8340f94defbcec6fc09e6cf6f6",
              "IPY_MODEL_7889534ba17a43c09ffea61898e55a1b"
            ],
            "layout": "IPY_MODEL_0a2ca1d024794744b310d3ba4cd8c737"
          }
        },
        "87279af4726842f4a89a5331eb9c2104": {
          "model_module": "@jupyter-widgets/controls",
          "model_name": "HTMLModel",
          "model_module_version": "1.5.0",
          "state": {
            "_dom_classes": [],
            "_model_module": "@jupyter-widgets/controls",
            "_model_module_version": "1.5.0",
            "_model_name": "HTMLModel",
            "_view_count": null,
            "_view_module": "@jupyter-widgets/controls",
            "_view_module_version": "1.5.0",
            "_view_name": "HTMLView",
            "description": "",
            "description_tooltip": null,
            "layout": "IPY_MODEL_e390b760a42c4f9e96657cc82b809415",
            "placeholder": "​",
            "style": "IPY_MODEL_5a84b95670514c22961129fe371c1883",
            "value": "Filter: 100%"
          }
        },
        "6cd46c8340f94defbcec6fc09e6cf6f6": {
          "model_module": "@jupyter-widgets/controls",
          "model_name": "FloatProgressModel",
          "model_module_version": "1.5.0",
          "state": {
            "_dom_classes": [],
            "_model_module": "@jupyter-widgets/controls",
            "_model_module_version": "1.5.0",
            "_model_name": "FloatProgressModel",
            "_view_count": null,
            "_view_module": "@jupyter-widgets/controls",
            "_view_module_version": "1.5.0",
            "_view_name": "ProgressView",
            "bar_style": "success",
            "description": "",
            "description_tooltip": null,
            "layout": "IPY_MODEL_8b002e209a22470fa45d5e20ed87d649",
            "max": 20,
            "min": 0,
            "orientation": "horizontal",
            "style": "IPY_MODEL_d9b90124d6ed480db0166de23638cd34",
            "value": 20
          }
        },
        "7889534ba17a43c09ffea61898e55a1b": {
          "model_module": "@jupyter-widgets/controls",
          "model_name": "HTMLModel",
          "model_module_version": "1.5.0",
          "state": {
            "_dom_classes": [],
            "_model_module": "@jupyter-widgets/controls",
            "_model_module_version": "1.5.0",
            "_model_name": "HTMLModel",
            "_view_count": null,
            "_view_module": "@jupyter-widgets/controls",
            "_view_module_version": "1.5.0",
            "_view_name": "HTMLView",
            "description": "",
            "description_tooltip": null,
            "layout": "IPY_MODEL_c6b3e199e6724df38e33d1b2acf4b4b8",
            "placeholder": "​",
            "style": "IPY_MODEL_f379a21d5d9348ca9b3004952b136bbb",
            "value": " 20/20 [00:00&lt;00:00, 1623.18 examples/s]"
          }
        },
        "0a2ca1d024794744b310d3ba4cd8c737": {
          "model_module": "@jupyter-widgets/base",
          "model_name": "LayoutModel",
          "model_module_version": "1.2.0",
          "state": {
            "_model_module": "@jupyter-widgets/base",
            "_model_module_version": "1.2.0",
            "_model_name": "LayoutModel",
            "_view_count": null,
            "_view_module": "@jupyter-widgets/base",
            "_view_module_version": "1.2.0",
            "_view_name": "LayoutView",
            "align_content": null,
            "align_items": null,
            "align_self": null,
            "border": null,
            "bottom": null,
            "display": null,
            "flex": null,
            "flex_flow": null,
            "grid_area": null,
            "grid_auto_columns": null,
            "grid_auto_flow": null,
            "grid_auto_rows": null,
            "grid_column": null,
            "grid_gap": null,
            "grid_row": null,
            "grid_template_areas": null,
            "grid_template_columns": null,
            "grid_template_rows": null,
            "height": null,
            "justify_content": null,
            "justify_items": null,
            "left": null,
            "margin": null,
            "max_height": null,
            "max_width": null,
            "min_height": null,
            "min_width": null,
            "object_fit": null,
            "object_position": null,
            "order": null,
            "overflow": null,
            "overflow_x": null,
            "overflow_y": null,
            "padding": null,
            "right": null,
            "top": null,
            "visibility": null,
            "width": null
          }
        },
        "e390b760a42c4f9e96657cc82b809415": {
          "model_module": "@jupyter-widgets/base",
          "model_name": "LayoutModel",
          "model_module_version": "1.2.0",
          "state": {
            "_model_module": "@jupyter-widgets/base",
            "_model_module_version": "1.2.0",
            "_model_name": "LayoutModel",
            "_view_count": null,
            "_view_module": "@jupyter-widgets/base",
            "_view_module_version": "1.2.0",
            "_view_name": "LayoutView",
            "align_content": null,
            "align_items": null,
            "align_self": null,
            "border": null,
            "bottom": null,
            "display": null,
            "flex": null,
            "flex_flow": null,
            "grid_area": null,
            "grid_auto_columns": null,
            "grid_auto_flow": null,
            "grid_auto_rows": null,
            "grid_column": null,
            "grid_gap": null,
            "grid_row": null,
            "grid_template_areas": null,
            "grid_template_columns": null,
            "grid_template_rows": null,
            "height": null,
            "justify_content": null,
            "justify_items": null,
            "left": null,
            "margin": null,
            "max_height": null,
            "max_width": null,
            "min_height": null,
            "min_width": null,
            "object_fit": null,
            "object_position": null,
            "order": null,
            "overflow": null,
            "overflow_x": null,
            "overflow_y": null,
            "padding": null,
            "right": null,
            "top": null,
            "visibility": null,
            "width": null
          }
        },
        "5a84b95670514c22961129fe371c1883": {
          "model_module": "@jupyter-widgets/controls",
          "model_name": "DescriptionStyleModel",
          "model_module_version": "1.5.0",
          "state": {
            "_model_module": "@jupyter-widgets/controls",
            "_model_module_version": "1.5.0",
            "_model_name": "DescriptionStyleModel",
            "_view_count": null,
            "_view_module": "@jupyter-widgets/base",
            "_view_module_version": "1.2.0",
            "_view_name": "StyleView",
            "description_width": ""
          }
        },
        "8b002e209a22470fa45d5e20ed87d649": {
          "model_module": "@jupyter-widgets/base",
          "model_name": "LayoutModel",
          "model_module_version": "1.2.0",
          "state": {
            "_model_module": "@jupyter-widgets/base",
            "_model_module_version": "1.2.0",
            "_model_name": "LayoutModel",
            "_view_count": null,
            "_view_module": "@jupyter-widgets/base",
            "_view_module_version": "1.2.0",
            "_view_name": "LayoutView",
            "align_content": null,
            "align_items": null,
            "align_self": null,
            "border": null,
            "bottom": null,
            "display": null,
            "flex": null,
            "flex_flow": null,
            "grid_area": null,
            "grid_auto_columns": null,
            "grid_auto_flow": null,
            "grid_auto_rows": null,
            "grid_column": null,
            "grid_gap": null,
            "grid_row": null,
            "grid_template_areas": null,
            "grid_template_columns": null,
            "grid_template_rows": null,
            "height": null,
            "justify_content": null,
            "justify_items": null,
            "left": null,
            "margin": null,
            "max_height": null,
            "max_width": null,
            "min_height": null,
            "min_width": null,
            "object_fit": null,
            "object_position": null,
            "order": null,
            "overflow": null,
            "overflow_x": null,
            "overflow_y": null,
            "padding": null,
            "right": null,
            "top": null,
            "visibility": null,
            "width": null
          }
        },
        "d9b90124d6ed480db0166de23638cd34": {
          "model_module": "@jupyter-widgets/controls",
          "model_name": "ProgressStyleModel",
          "model_module_version": "1.5.0",
          "state": {
            "_model_module": "@jupyter-widgets/controls",
            "_model_module_version": "1.5.0",
            "_model_name": "ProgressStyleModel",
            "_view_count": null,
            "_view_module": "@jupyter-widgets/base",
            "_view_module_version": "1.2.0",
            "_view_name": "StyleView",
            "bar_color": null,
            "description_width": ""
          }
        },
        "c6b3e199e6724df38e33d1b2acf4b4b8": {
          "model_module": "@jupyter-widgets/base",
          "model_name": "LayoutModel",
          "model_module_version": "1.2.0",
          "state": {
            "_model_module": "@jupyter-widgets/base",
            "_model_module_version": "1.2.0",
            "_model_name": "LayoutModel",
            "_view_count": null,
            "_view_module": "@jupyter-widgets/base",
            "_view_module_version": "1.2.0",
            "_view_name": "LayoutView",
            "align_content": null,
            "align_items": null,
            "align_self": null,
            "border": null,
            "bottom": null,
            "display": null,
            "flex": null,
            "flex_flow": null,
            "grid_area": null,
            "grid_auto_columns": null,
            "grid_auto_flow": null,
            "grid_auto_rows": null,
            "grid_column": null,
            "grid_gap": null,
            "grid_row": null,
            "grid_template_areas": null,
            "grid_template_columns": null,
            "grid_template_rows": null,
            "height": null,
            "justify_content": null,
            "justify_items": null,
            "left": null,
            "margin": null,
            "max_height": null,
            "max_width": null,
            "min_height": null,
            "min_width": null,
            "object_fit": null,
            "object_position": null,
            "order": null,
            "overflow": null,
            "overflow_x": null,
            "overflow_y": null,
            "padding": null,
            "right": null,
            "top": null,
            "visibility": null,
            "width": null
          }
        },
        "f379a21d5d9348ca9b3004952b136bbb": {
          "model_module": "@jupyter-widgets/controls",
          "model_name": "DescriptionStyleModel",
          "model_module_version": "1.5.0",
          "state": {
            "_model_module": "@jupyter-widgets/controls",
            "_model_module_version": "1.5.0",
            "_model_name": "DescriptionStyleModel",
            "_view_count": null,
            "_view_module": "@jupyter-widgets/base",
            "_view_module_version": "1.2.0",
            "_view_name": "StyleView",
            "description_width": ""
          }
        },
        "14c63e5a1c46442b94d49edbe2bd9475": {
          "model_module": "@jupyter-widgets/controls",
          "model_name": "HBoxModel",
          "model_module_version": "1.5.0",
          "state": {
            "_dom_classes": [],
            "_model_module": "@jupyter-widgets/controls",
            "_model_module_version": "1.5.0",
            "_model_name": "HBoxModel",
            "_view_count": null,
            "_view_module": "@jupyter-widgets/controls",
            "_view_module_version": "1.5.0",
            "_view_name": "HBoxView",
            "box_style": "",
            "children": [
              "IPY_MODEL_a8fa05dac7344649b4c88bf1483151ac",
              "IPY_MODEL_d3654b44d60e48f8a01a81ee2deb81d6",
              "IPY_MODEL_414eb826e2404513983c1bc30cc0bccf"
            ],
            "layout": "IPY_MODEL_fc9d475a5c5243338746e6fc25f55cf7"
          }
        },
        "a8fa05dac7344649b4c88bf1483151ac": {
          "model_module": "@jupyter-widgets/controls",
          "model_name": "HTMLModel",
          "model_module_version": "1.5.0",
          "state": {
            "_dom_classes": [],
            "_model_module": "@jupyter-widgets/controls",
            "_model_module_version": "1.5.0",
            "_model_name": "HTMLModel",
            "_view_count": null,
            "_view_module": "@jupyter-widgets/controls",
            "_view_module_version": "1.5.0",
            "_view_name": "HTMLView",
            "description": "",
            "description_tooltip": null,
            "layout": "IPY_MODEL_4eaed70d3f4d46e095a80c72ec241e09",
            "placeholder": "​",
            "style": "IPY_MODEL_23d1cda5682f4beda27afc2c1b04e957",
            "value": "Filter: 100%"
          }
        },
        "d3654b44d60e48f8a01a81ee2deb81d6": {
          "model_module": "@jupyter-widgets/controls",
          "model_name": "FloatProgressModel",
          "model_module_version": "1.5.0",
          "state": {
            "_dom_classes": [],
            "_model_module": "@jupyter-widgets/controls",
            "_model_module_version": "1.5.0",
            "_model_name": "FloatProgressModel",
            "_view_count": null,
            "_view_module": "@jupyter-widgets/controls",
            "_view_module_version": "1.5.0",
            "_view_name": "ProgressView",
            "bar_style": "success",
            "description": "",
            "description_tooltip": null,
            "layout": "IPY_MODEL_79cd33db446e493ca0b221b961749f0c",
            "max": 20,
            "min": 0,
            "orientation": "horizontal",
            "style": "IPY_MODEL_637111cb42d44d23a86704bc8fa09ffa",
            "value": 20
          }
        },
        "414eb826e2404513983c1bc30cc0bccf": {
          "model_module": "@jupyter-widgets/controls",
          "model_name": "HTMLModel",
          "model_module_version": "1.5.0",
          "state": {
            "_dom_classes": [],
            "_model_module": "@jupyter-widgets/controls",
            "_model_module_version": "1.5.0",
            "_model_name": "HTMLModel",
            "_view_count": null,
            "_view_module": "@jupyter-widgets/controls",
            "_view_module_version": "1.5.0",
            "_view_name": "HTMLView",
            "description": "",
            "description_tooltip": null,
            "layout": "IPY_MODEL_5ec3e3b9c54a447e98e0eddf3f71e437",
            "placeholder": "​",
            "style": "IPY_MODEL_d68d928858b04bd1a58d9aa4044f111b",
            "value": " 20/20 [00:00&lt;00:00, 1332.52 examples/s]"
          }
        },
        "fc9d475a5c5243338746e6fc25f55cf7": {
          "model_module": "@jupyter-widgets/base",
          "model_name": "LayoutModel",
          "model_module_version": "1.2.0",
          "state": {
            "_model_module": "@jupyter-widgets/base",
            "_model_module_version": "1.2.0",
            "_model_name": "LayoutModel",
            "_view_count": null,
            "_view_module": "@jupyter-widgets/base",
            "_view_module_version": "1.2.0",
            "_view_name": "LayoutView",
            "align_content": null,
            "align_items": null,
            "align_self": null,
            "border": null,
            "bottom": null,
            "display": null,
            "flex": null,
            "flex_flow": null,
            "grid_area": null,
            "grid_auto_columns": null,
            "grid_auto_flow": null,
            "grid_auto_rows": null,
            "grid_column": null,
            "grid_gap": null,
            "grid_row": null,
            "grid_template_areas": null,
            "grid_template_columns": null,
            "grid_template_rows": null,
            "height": null,
            "justify_content": null,
            "justify_items": null,
            "left": null,
            "margin": null,
            "max_height": null,
            "max_width": null,
            "min_height": null,
            "min_width": null,
            "object_fit": null,
            "object_position": null,
            "order": null,
            "overflow": null,
            "overflow_x": null,
            "overflow_y": null,
            "padding": null,
            "right": null,
            "top": null,
            "visibility": null,
            "width": null
          }
        },
        "4eaed70d3f4d46e095a80c72ec241e09": {
          "model_module": "@jupyter-widgets/base",
          "model_name": "LayoutModel",
          "model_module_version": "1.2.0",
          "state": {
            "_model_module": "@jupyter-widgets/base",
            "_model_module_version": "1.2.0",
            "_model_name": "LayoutModel",
            "_view_count": null,
            "_view_module": "@jupyter-widgets/base",
            "_view_module_version": "1.2.0",
            "_view_name": "LayoutView",
            "align_content": null,
            "align_items": null,
            "align_self": null,
            "border": null,
            "bottom": null,
            "display": null,
            "flex": null,
            "flex_flow": null,
            "grid_area": null,
            "grid_auto_columns": null,
            "grid_auto_flow": null,
            "grid_auto_rows": null,
            "grid_column": null,
            "grid_gap": null,
            "grid_row": null,
            "grid_template_areas": null,
            "grid_template_columns": null,
            "grid_template_rows": null,
            "height": null,
            "justify_content": null,
            "justify_items": null,
            "left": null,
            "margin": null,
            "max_height": null,
            "max_width": null,
            "min_height": null,
            "min_width": null,
            "object_fit": null,
            "object_position": null,
            "order": null,
            "overflow": null,
            "overflow_x": null,
            "overflow_y": null,
            "padding": null,
            "right": null,
            "top": null,
            "visibility": null,
            "width": null
          }
        },
        "23d1cda5682f4beda27afc2c1b04e957": {
          "model_module": "@jupyter-widgets/controls",
          "model_name": "DescriptionStyleModel",
          "model_module_version": "1.5.0",
          "state": {
            "_model_module": "@jupyter-widgets/controls",
            "_model_module_version": "1.5.0",
            "_model_name": "DescriptionStyleModel",
            "_view_count": null,
            "_view_module": "@jupyter-widgets/base",
            "_view_module_version": "1.2.0",
            "_view_name": "StyleView",
            "description_width": ""
          }
        },
        "79cd33db446e493ca0b221b961749f0c": {
          "model_module": "@jupyter-widgets/base",
          "model_name": "LayoutModel",
          "model_module_version": "1.2.0",
          "state": {
            "_model_module": "@jupyter-widgets/base",
            "_model_module_version": "1.2.0",
            "_model_name": "LayoutModel",
            "_view_count": null,
            "_view_module": "@jupyter-widgets/base",
            "_view_module_version": "1.2.0",
            "_view_name": "LayoutView",
            "align_content": null,
            "align_items": null,
            "align_self": null,
            "border": null,
            "bottom": null,
            "display": null,
            "flex": null,
            "flex_flow": null,
            "grid_area": null,
            "grid_auto_columns": null,
            "grid_auto_flow": null,
            "grid_auto_rows": null,
            "grid_column": null,
            "grid_gap": null,
            "grid_row": null,
            "grid_template_areas": null,
            "grid_template_columns": null,
            "grid_template_rows": null,
            "height": null,
            "justify_content": null,
            "justify_items": null,
            "left": null,
            "margin": null,
            "max_height": null,
            "max_width": null,
            "min_height": null,
            "min_width": null,
            "object_fit": null,
            "object_position": null,
            "order": null,
            "overflow": null,
            "overflow_x": null,
            "overflow_y": null,
            "padding": null,
            "right": null,
            "top": null,
            "visibility": null,
            "width": null
          }
        },
        "637111cb42d44d23a86704bc8fa09ffa": {
          "model_module": "@jupyter-widgets/controls",
          "model_name": "ProgressStyleModel",
          "model_module_version": "1.5.0",
          "state": {
            "_model_module": "@jupyter-widgets/controls",
            "_model_module_version": "1.5.0",
            "_model_name": "ProgressStyleModel",
            "_view_count": null,
            "_view_module": "@jupyter-widgets/base",
            "_view_module_version": "1.2.0",
            "_view_name": "StyleView",
            "bar_color": null,
            "description_width": ""
          }
        },
        "5ec3e3b9c54a447e98e0eddf3f71e437": {
          "model_module": "@jupyter-widgets/base",
          "model_name": "LayoutModel",
          "model_module_version": "1.2.0",
          "state": {
            "_model_module": "@jupyter-widgets/base",
            "_model_module_version": "1.2.0",
            "_model_name": "LayoutModel",
            "_view_count": null,
            "_view_module": "@jupyter-widgets/base",
            "_view_module_version": "1.2.0",
            "_view_name": "LayoutView",
            "align_content": null,
            "align_items": null,
            "align_self": null,
            "border": null,
            "bottom": null,
            "display": null,
            "flex": null,
            "flex_flow": null,
            "grid_area": null,
            "grid_auto_columns": null,
            "grid_auto_flow": null,
            "grid_auto_rows": null,
            "grid_column": null,
            "grid_gap": null,
            "grid_row": null,
            "grid_template_areas": null,
            "grid_template_columns": null,
            "grid_template_rows": null,
            "height": null,
            "justify_content": null,
            "justify_items": null,
            "left": null,
            "margin": null,
            "max_height": null,
            "max_width": null,
            "min_height": null,
            "min_width": null,
            "object_fit": null,
            "object_position": null,
            "order": null,
            "overflow": null,
            "overflow_x": null,
            "overflow_y": null,
            "padding": null,
            "right": null,
            "top": null,
            "visibility": null,
            "width": null
          }
        },
        "d68d928858b04bd1a58d9aa4044f111b": {
          "model_module": "@jupyter-widgets/controls",
          "model_name": "DescriptionStyleModel",
          "model_module_version": "1.5.0",
          "state": {
            "_model_module": "@jupyter-widgets/controls",
            "_model_module_version": "1.5.0",
            "_model_name": "DescriptionStyleModel",
            "_view_count": null,
            "_view_module": "@jupyter-widgets/base",
            "_view_module_version": "1.2.0",
            "_view_name": "StyleView",
            "description_width": ""
          }
        }
      }
    }
  },
  "nbformat": 4,
  "nbformat_minor": 0
}