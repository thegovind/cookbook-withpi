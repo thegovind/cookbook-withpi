{
  "cells": [
    {
      "cell_type": "markdown",
      "metadata": {
        "id": "view-in-github",
        "colab_type": "text"
      },
      "source": [
        "<a href=\"https://colab.research.google.com/github/withpi/cookbook-withpi/blob/main/colabs/Generate_Synthetic_Input.ipynb\" target=\"_parent\"><img src=\"https://colab.research.google.com/assets/colab-badge.svg\" alt=\"Open In Colab\"/></a>"
      ]
    },
    {
      "cell_type": "markdown",
      "source": [
        "<a href=\"https://withpi.ai\"><img src=\"https://play.withpi.ai/logo/logoFullBlack.svg\" width=\"240\"></a>\n",
        "\n",
        "<a href=\"https://code.withpi.ai\"><font size=\"4\">Documentation</font></a>\n",
        "\n",
        "<a href=\"https://build.withpi.ai\"><font size=\"4\">Copilot</font></a>"
      ],
      "metadata": {
        "id": "pi-masthead"
      }
    },
    {
      "cell_type": "markdown",
      "metadata": {
        "id": "Bwm4tjdnedp6"
      },
      "source": [
        "# Generate Synthetic Input\n",
        "\n",
        "Many techniques require input data to drives evaluation and training, but getting high-quality data can be painful and expensive.\n",
        "\n",
        "Generating this data with AI support can give you a higher quality set with much lower effort."
      ]
    },
    {
      "cell_type": "markdown",
      "source": [
        "## Install and initialize SDK\n",
        "\n",
        "You'll need a `WITHPI_API_KEY` from https://build.withpi.ai/account.  Add it to your notebook secrets (the key symbol) on the left.\n",
        "\n",
        "Run the cell below to install packages and load the SDK"
      ],
      "metadata": {
        "id": "pi-setup-markdown"
      }
    },
    {
      "cell_type": "code",
      "metadata": {
        "id": "pi-setup"
      },
      "outputs": [],
      "execution_count": 1,
      "source": [
        "%%capture\n",
        "\n",
        "%pip install withpi withpi-utils datasets\n",
        "\n",
        "import os\n",
        "from google.colab import userdata\n",
        "from withpi import PiClient\n",
        "\n",
        "# Load the notebook secret into the environment so the Pi Client can access it.\n",
        "os.environ[\"WITHPI_API_KEY\"] = userdata.get('WITHPI_API_KEY')\n",
        "\n",
        "pi = PiClient()"
      ]
    },
    {
      "cell_type": "markdown",
      "metadata": {
        "id": "j1FAoBqU7dwf"
      },
      "source": [
        "## Generate an Input Set\n",
        "\n",
        "Let's say we want to build an AI to generate stories in the style of Aesop's Fables.  We can build a dataset of moral lessons that could be used to exercise it."
      ]
    },
    {
      "cell_type": "code",
      "execution_count": 4,
      "metadata": {
        "id": "4NpCZhP6exgI",
        "outputId": "b2c6c59b-aefd-4678-b887-884ce10a62ac",
        "colab": {
          "base_uri": "https://localhost:8080/"
        }
      },
      "outputs": [
        {
          "output_type": "stream",
          "name": "stdout",
          "text": [
            "LAUNCHING\n",
            "[INFO] Generating 9 seeds as they are not provided.\n",
            "[INFO] Yielding generated 9 seeds\n",
            "[INFO] Data Generation Complete => Good Inputs: 9. Bad Inputs: 0. Similar Inputs: 0\n",
            "DONE\n",
            "[OUTPUT] - Write a story teaching the lesson 'honesty is the best policy'.\n",
            "[OUTPUT] - Create a fable illustrating why patience is important.\n",
            "[OUTPUT] - Tell a story about the dangers of greed in an animal setting.\n",
            "[OUTPUT] - Write a tale showing the value of teamwork through animals overcoming a challenge together.\n",
            "[OUTPUT] - Create a story that conveys the moral 'slow and steady wins the race'.\n",
            "[OUTPUT] - Write a fable that teaches kids about the importance of kindness.\n",
            "[OUTPUT] - Tell a tale that demonstrates why procrastination can lead to consequences.\n",
            "[OUTPUT] - Create a story teaching that appearances can be deceiving.\n",
            "[OUTPUT] - Write a fable explaining why helping others can bring unexpected rewards.\n"
          ]
        }
      ],
      "source": [
        "from withpi_utils import stream\n",
        "\n",
        "data_generation_status = pi.data.generate.start_job(\n",
        "    application_description=\"\"\"\n",
        "Write a children's story in the style of Aesop's Fables teaching a life lesson\n",
        "specified by the user. Provide just the story with no extra content.\n",
        "\"\"\",\n",
        "    num_inputs_to_generate=9,\n",
        "    seeds=[],\n",
        "    batch_size=3,\n",
        "    num_shots=3,\n",
        ")\n",
        "\n",
        "input_set = []\n",
        "\n",
        "for data in stream(pi.data.generate, data_generation_status):\n",
        "  input_set.append(data)\n",
        "  print(f\"[OUTPUT] - {data}\")"
      ]
    },
    {
      "cell_type": "markdown",
      "metadata": {
        "id": "jT7s_nuJsHbM"
      },
      "source": [
        "## Next Steps\n",
        "\n",
        "You can take this input set and use it to drive your evaluation or training workflows as you see fit.  You can experiment with the parameters to this API function (see https://code.withpi.ai/ for details) to see what sort of behavior you get."
      ]
    }
  ],
  "metadata": {
    "colab": {
      "provenance": [],
      "include_colab_link": true
    },
    "kernelspec": {
      "display_name": "Python 3",
      "name": "python3"
    },
    "language_info": {
      "name": "python"
    }
  },
  "nbformat": 4,
  "nbformat_minor": 0
}