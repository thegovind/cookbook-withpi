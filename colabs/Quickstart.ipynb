{
  "cells": [
    {
      "cell_type": "markdown",
      "metadata": {
        "id": "view-in-github",
        "colab_type": "text"
      },
      "source": [
        "<a href=\"https://colab.research.google.com/github/withpi/cookbook-withpi/blob/main/colabs/Quickstart.ipynb\" target=\"_parent\"><img src=\"https://colab.research.google.com/assets/colab-badge.svg\" alt=\"Open In Colab\"/></a>"
      ]
    },
    {
      "cell_type": "markdown",
      "source": [
        "<a href=\"https://withpi.ai\"><img src=\"https://play.withpi.ai/logo/logoFullBlack.svg\" width=\"240\"></a>\n",
        "\n",
        "<a href=\"https://code.withpi.ai\"><font size=\"4\">Documentation</font></a>\n",
        "\n",
        "<a href=\"https://build.withpi.ai\"><font size=\"4\">Copilot</font></a>"
      ],
      "metadata": {
        "id": "pi-masthead"
      }
    },
    {
      "cell_type": "markdown",
      "metadata": {
        "id": "Bwm4tjdnedp6"
      },
      "source": [
        "# Quickstart\n",
        "\n",
        "This Colab walks you through scoring something with Pi!  It is the companion to our [Getting Started](https://code.withpi.ai/introduction) guide.\n",
        "\n",
        "You will generate some questions and use Pi Scorer to score them."
      ]
    },
    {
      "cell_type": "markdown",
      "source": [
        "## Install and initialize SDK\n",
        "\n",
        "You'll need a `WITHPI_API_KEY` from https://build.withpi.ai/account.  Add it to your notebook secrets (the key symbol) on the left.\n",
        "\n",
        "Run the cell below to install packages and load the SDK"
      ],
      "metadata": {
        "id": "pi-setup-markdown"
      }
    },
    {
      "cell_type": "code",
      "metadata": {
        "id": "pi-setup"
      },
      "outputs": [],
      "execution_count": 1,
      "source": [
        "%%capture\n",
        "\n",
        "%pip install withpi withpi-utils datasets tqdm litellm pandas numpy\n",
        "\n",
        "import os\n",
        "from google.colab import userdata\n",
        "from withpi import PiClient\n",
        "\n",
        "# Load the notebook secret into the environment so the Pi Client can access it.\n",
        "os.environ[\"WITHPI_API_KEY\"] = userdata.get('WITHPI_API_KEY')\n",
        "\n",
        "pi = PiClient()\n"
      ]
    },
    {
      "cell_type": "markdown",
      "metadata": {
        "id": "s7RRO3iXjYbY"
      },
      "source": [
        "# Build some questions\n",
        "\n",
        "Let's say you want to build an application that generates children's stories teaching a life lesson.  Call it `AesopAI`.\n"
      ]
    },
    {
      "cell_type": "code",
      "execution_count": 2,
      "metadata": {
        "id": "oXJmb89i5iN5",
        "outputId": "48587f8f-db53-4bc8-defc-e26325f5838a",
        "colab": {
          "base_uri": "https://localhost:8080/",
          "height": 503
        }
      },
      "outputs": [
        {
          "output_type": "display_data",
          "data": {
            "text/plain": [
              "<IPython.core.display.HTML object>"
            ],
            "text/html": [
              "<div style='font-family: Arial, sans-serif;'><h2 style='color: #202124; border-bottom: 2px solid #4285F4; padding-bottom: 8px; margin-bottom: 10px;'>Scoring Spec</h2><ul style='margin-top: 0; padding-left: 20px;'><li>Does the response contain a clear beginning, middle, and end?</li><li>Does the story follow a logical progression of events?</li><li>Does the story resolve the conflict in a satisfying manner?</li><li>Is the life lesson clearly conveyed in the story?</li><li>Is the life lesson relevant to the input provided by the user?</li><li>Can the life lesson be applied to real-life situations by children?</li><li>Does the story reinforce the life lesson through its narrative?</li><li>Are the characters in the story well-defined and relevant to the lesson?</li><li>Do the characters' actions align with the lesson being taught?</li><li>Are the characters relatable to children?</li><li>Does the story emulate the style of Aesop's Fables?</li><li>Is the style and tone consistent throughout the story?</li><li>Does the story maintain a positive and uplifting tone?</li><li>Is the language used in the story suitable for children?</li><li>Are the sentences simple and easy for children to understand?</li><li>Does the story avoid overly complex themes or language?</li><li>Is the story engaging and likely to capture a child's attention?</li><li>Does the story include imaginative elements that appeal to children?</li><li>Is the story culturally neutral or inclusive?</li><li>Does the story avoid violent or inappropriate content?</li><li>Is the story length appropriate for a children's fable?</li><li>Does the story include a concise moral statement at the end?</li><li>Is the moral statement placed at the end of the story?</li><li>Is the conflict in the story simple enough for children to understand?</li></ul></div>"
            ]
          },
          "metadata": {}
        }
      ],
      "source": [
        "from withpi_utils.colab import display_scoring_spec\n",
        "\n",
        "aesop_application_description = \"\"\"\n",
        "Write a children's story in the style of Aesop's Fables teaching a life lesson\n",
        "specified by the user. Provide just the story with no extra content.\n",
        "\"\"\"\n",
        "\n",
        "scoring_spec = pi.scoring_system.generate(\n",
        "    application_description=aesop_application_description,\n",
        ")\n",
        "\n",
        "display_scoring_spec(scoring_spec)"
      ]
    },
    {
      "cell_type": "markdown",
      "metadata": {
        "id": "t4eChTjc66_f"
      },
      "source": [
        "These questions are suggestions for ways you might score a generated story.  Pi Scorer rates each one from **0.0 to 1.0** for a given story, aggregating them into a final \"goodness\" score."
      ]
    },
    {
      "cell_type": "markdown",
      "metadata": {
        "id": "j1FAoBqU7dwf"
      },
      "source": [
        "## Generate a response\n",
        "Let's see how it performs! The below cell uses Gemini to generate a response, but any suitable model will work fine.\n",
        "\n",
        "You can import a Google Gemini key from AI Studio on the left pane, which populates a `GOOGLE_API_KEY` secret.  At low rates it's free.  Or adjust to a model of your choice with a key using docs at https://docs.litellm.ai/docs/.\n",
        "\n"
      ]
    },
    {
      "cell_type": "code",
      "execution_count": 3,
      "metadata": {
        "id": "WhJrCijJ8I2n",
        "outputId": "97d84290-bbf9-4d3b-fb97-fc48db0d466b",
        "colab": {
          "base_uri": "https://localhost:8080/",
          "height": 358
        }
      },
      "outputs": [
        {
          "output_type": "display_data",
          "data": {
            "text/plain": [
              "<IPython.core.display.HTML object>"
            ],
            "text/html": [
              "\n",
              "        <div style=\"display: flex; gap: 20px;\">\n",
              "            <div style=\"width: 80%; padding: 10px; border: 1px solid #ddd; background-color: #f0f0f0; text-align:center;\">\n",
              "                <h4>Base</h4>\n",
              "            </div>\n",
              "        </div>\n",
              "        <div style=\"display: flex; gap: 20px;\">\n",
              "            <div style=\"width: 80%; padding: 10px; border: 1px solid #ddd;\">\n",
              "                <p>Once upon a time, in a sunny meadow filled with wildflowers, lived two little squirrels named Squeaky and Nutkin. Squeaky was a kind and generous squirrel. Nutkin, however, was very possessive.</p>\n",
              "<p>One autumn day, they discovered a large oak tree brimming with acorns. Squeaky gathered a few, chattering happily, and sharing with any other squirrels who approached. Nutkin, however, gathered as many as he could, stuffing them into his cheeks until they bulged.</p>\n",
              "<p>“These are all mine!” he squeaked, hiding his hoard in a secret hole. “I found them first!”</p>\n",
              "<p>Winter came, and the meadow turned white. The other squirrels, remembering Squeaky's generosity, happily shared their stashes of nuts and seeds. Squeaky, with his friends, remained well-fed.</p>\n",
              "<p>Nutkin, however, had hidden all his acorns away. He tried to eat them, but he'd gathered so many and hidden them so well, he couldn't remember where they all were! He was cold and hungry, shivering and lonely.</p>\n",
              "<p>Finally, he managed to find a small handful of forgotten acorns, but they were rotten and moldy. Tears welled up in his eyes.</p>\n",
              "<p>Squeaky, seeing his friend's plight, scurried over, offering him a plump, delicious acorn. Nutkin gratefully accepted, then confessed, \"I was foolish, Squeaky. I should have shared.”</p>\n",
              "<p>Squeaky smiled. “Sharing makes everything better, Nutkin. And when you share, others are more willing to share with you.”</p>\n",
              "<p>Nutkin, learning his lesson, joined Squeaky and his friends, promising to share the good things in life, knowing that friendship and kindness were the warmest things of all.</p>\n",
              "<p><strong>The Moral of the Story:</strong> Sharing brings happiness, not just to others, but to yourself. It also makes sure you always have friends to turn to.</p>\n",
              "            </div>\n",
              "        </div>\n",
              "        "
            ]
          },
          "metadata": {}
        }
      ],
      "source": [
        "import litellm\n",
        "from withpi_utils.colab import pretty_print_responses\n",
        "\n",
        "os.environ[\"GEMINI_API_KEY\"] = userdata.get('GOOGLE_API_KEY')\n",
        "\n",
        "prompt = \"The importance of sharing\"\n",
        "\n",
        "response = litellm.completion(\n",
        "    model=\"gemini/gemini-2.0-flash-lite\",\n",
        "    messages=[\n",
        "        {\"content\": aesop_application_description, \"role\": \"system\"},\n",
        "        {\"content\": prompt, \"role\": \"user\"}\n",
        "    ]).choices[0].message.content\n",
        "\n",
        "pretty_print_responses(response)"
      ]
    },
    {
      "cell_type": "markdown",
      "metadata": {
        "id": "sU0TJGzFk-2C"
      },
      "source": [
        "## Score it!\n",
        "\n",
        "Take the generated response and see how it scores with Pi.\n",
        "\n",
        "The below cell will run Pi Scoring, evaluating question in the scoring spec, offering a score from 1 (excellent!) to 0 (terrible!).  The current scoring spec is **uncalibrated**, meaning that all the dimensions are equally important, but it's a starting point for learning which are **actually** imporant based on your preferences."
      ]
    },
    {
      "cell_type": "code",
      "execution_count": 4,
      "metadata": {
        "id": "4NpCZhP6exgI",
        "outputId": "e3f3f262-0aae-4be7-d414-4177c45a47a2",
        "colab": {
          "base_uri": "https://localhost:8080/",
          "height": 1000
        }
      },
      "outputs": [
        {
          "output_type": "display_data",
          "data": {
            "text/plain": [
              "<IPython.core.display.HTML object>"
            ],
            "text/html": [
              "\n",
              "        <div style=\"display: flex; gap: 20px;\">\n",
              "            <div style=\"width: 80%; padding: 10px; border: 1px solid #ddd; background-color: #fff9f5;\">\n",
              "                <h4><h4>Prompt:</h4>\n",
              "<p>The importance of sharing</p></h4>\n",
              "            </div>\n",
              "        </div>\n",
              "        <div style=\"display: flex; gap: 20px;\">\n",
              "            <div style=\"width: 80%; padding: 10px; border: 1px solid #ddd; background-color: #f0f0f0; text-align:center;\">\n",
              "                <h4>Base</h4>\n",
              "            </div>\n",
              "        </div>\n",
              "        <div style=\"display: flex; gap: 20px;\">\n",
              "            <div style=\"width: 80%; padding: 10px; border: 1px solid #ddd;\">\n",
              "                <h4>Response:</h4>\n",
              "<p>Once upon a time, in a sunny meadow filled with wildflowers, lived two little squirrels named Squeaky and Nutkin. Squeaky was a kind and generous squirrel. Nutkin, however, was very possessive.</p>\n",
              "<p>One autumn day, they discovered a large oak tree brimming with acorns. Squeaky gathered a few, chattering happily, and sharing with any other squirrels who approached. Nutkin, however, gathered as many as he could, stuffing them into his cheeks until they bulged.</p>\n",
              "<p>“These are all mine!” he squeaked, hiding his hoard in a secret hole. “I found them first!”</p>\n",
              "<p>Winter came, and the meadow turned white. The other squirrels, remembering Squeaky's generosity, happily shared their stashes of nuts and seeds. Squeaky, with his friends, remained well-fed.</p>\n",
              "<p>Nutkin, however, had hidden all his acorns away. He tried to eat them, but he'd gathered so many and hidden them so well, he couldn't remember where they all were! He was cold and hungry, shivering and lonely.</p>\n",
              "<p>Finally, he managed to find a small handful of forgotten acorns, but they were rotten and moldy. Tears welled up in his eyes.</p>\n",
              "<p>Squeaky, seeing his friend's plight, scurried over, offering him a plump, delicious acorn. Nutkin gratefully accepted, then confessed, \"I was foolish, Squeaky. I should have shared.”</p>\n",
              "<p>Squeaky smiled. “Sharing makes everything better, Nutkin. And when you share, others are more willing to share with you.”</p>\n",
              "<p>Nutkin, learning his lesson, joined Squeaky and his friends, promising to share the good things in life, knowing that friendship and kindness were the warmest things of all.</p>\n",
              "<p><strong>The Moral of the Story:</strong> Sharing brings happiness, not just to others, but to yourself. It also makes sure you always have friends to turn to.</p>\n",
              "            </div>\n",
              "        </div>\n",
              "        \n",
              "            <div style=\"display: flex; gap: 20px;\">\n",
              "                <div style=\"width: 80%; padding: 10px; border: 1px solid #ddd; background-color: #f2f1fe;\">\n",
              "                    \n",
              "  <style>\n",
              "  table {\n",
              "    border-collapse: collapse; /* Ensures borders don't double up */\n",
              "    width: 100%; /* Optional: makes the table full width */\n",
              "  }\n",
              "\n",
              "  tr {\n",
              "    border-bottom: 1px solid #ccc; /* Sets a bottom border for each row */\n",
              "    border-top: 1px solid #ccc; /* Sets a bottom border for each row */\n",
              "  }\n",
              "\n",
              "  th, td {\n",
              "    font-weight: bold;\n",
              "    padding: 4px; /* Adds some spacing */\n",
              "    text-align: left; /* Aligns text to the left */\n",
              "    border-right: 1px solid #ccc; /* Sets a bottom border for each row */\n",
              "    border-left: 1px solid #ccc; /* Sets a bottom border for each row */\n",
              "  }\n",
              "  img {\n",
              "    width: 30%;\n",
              "  }\n",
              "  </style>\n",
              "  <table><tr><td><b>Does the response contain a clear beginning, middle, and end?</b></td><td style='color: #27ae60'>1.0</td><td></td></tr>\n",
              "<tr><td><b>Does the story follow a logical progression of events?</b></td><td style='color: #27ae60'>1.0</td><td></td></tr>\n",
              "<tr><td><b>Does the story resolve the conflict in a satisfying manner?</b></td><td style='color: #27b262'>0.961</td><td></td></tr>\n",
              "<tr><td><b>Is the life lesson clearly conveyed in the story?</b></td><td style='color: #27ae60'>1.0</td><td></td></tr>\n",
              "<tr><td><b>Is the life lesson relevant to the input provided by the user?</b></td><td style='color: #27ae60'>1.0</td><td></td></tr>\n",
              "<tr><td><b>Can the life lesson be applied to real-life situations by children?</b></td><td style='color: #27ae60'>1.0</td><td></td></tr>\n",
              "<tr><td><b>Does the story reinforce the life lesson through its narrative?</b></td><td style='color: #27ae60'>1.0</td><td></td></tr>\n",
              "<tr><td><b>Are the characters in the story well-defined and relevant to the lesson?</b></td><td style='color: #27ae60'>1.0</td><td></td></tr>\n",
              "<tr><td><b>Do the characters' actions align with the lesson being taught?</b></td><td style='color: #27ae60'>1.0</td><td></td></tr>\n",
              "<tr><td><b>Are the characters relatable to children?</b></td><td style='color: #27ae60'>0.992</td><td></td></tr>\n",
              "<tr><td><b>Does the story emulate the style of Aesop's Fables?</b></td><td style='color: #47ca64'>0.715</td><td></td></tr>\n",
              "<tr><td><b>Is the style and tone consistent throughout the story?</b></td><td style='color: #27ae60'>1.0</td><td></td></tr>\n",
              "<tr><td><b>Does the story maintain a positive and uplifting tone?</b></td><td style='color: #27ae60'>1.0</td><td></td></tr>\n",
              "<tr><td><b>Is the language used in the story suitable for children?</b></td><td style='color: #27ae60'>1.0</td><td></td></tr>\n",
              "<tr><td><b>Are the sentences simple and easy for children to understand?</b></td><td style='color: #27b161'>0.969</td><td></td></tr>\n",
              "<tr><td><b>Does the story avoid overly complex themes or language?</b></td><td style='color: #2cc46c'>0.809</td><td></td></tr>\n",
              "<tr><td><b>Is the story engaging and likely to capture a child's attention?</b></td><td style='color: #2bc06a'>0.844</td><td></td></tr>\n",
              "<tr><td><b>Does the story include imaginative elements that appeal to children?</b></td><td style='color: #2dc86f'>0.773</td><td></td></tr>\n",
              "<tr><td><b>Is the story culturally neutral or inclusive?</b></td><td style='color: #2dc96f'>0.77</td><td></td></tr>\n",
              "<tr><td><b>Does the story avoid violent or inappropriate content?</b></td><td style='color: #27ae60'>1.0</td><td></td></tr>\n",
              "<tr><td><b>Is the story length appropriate for a children's fable?</b></td><td style='color: #27ae60'>1.0</td><td></td></tr>\n",
              "<tr><td><b>Does the story include a concise moral statement at the end?</b></td><td style='color: #27ae60'>1.0</td><td></td></tr>\n",
              "<tr><td><b>Is the moral statement placed at the end of the story?</b></td><td style='color: #27ae60'>1.0</td><td></td></tr>\n",
              "<tr><td><b>Is the conflict in the story simple enough for children to understand?</b></td><td style='color: #27ae60'>1.0</td><td></td></tr>\n",
              "<tr><td>Total score</td><td></td><td style='color: #28b363'><b>0.951</b></td></tr>\n",
              "</table>\n",
              "                </div>\n",
              "            </div>"
            ]
          },
          "metadata": {}
        }
      ],
      "source": [
        "from withpi_utils.colab import pretty_print_responses\n",
        "\n",
        "score = pi.scoring_system.score(\n",
        "    scoring_spec=scoring_spec,\n",
        "    llm_input=prompt,\n",
        "    llm_output=response,\n",
        ")\n",
        "\n",
        "pretty_print_responses(\n",
        "    header=\"#### Prompt:\\n\" + prompt,\n",
        "    response1=\"#### Response:\\n\" + response,\n",
        "    scores_left=score,\n",
        ")"
      ]
    },
    {
      "cell_type": "markdown",
      "metadata": {
        "id": "jT7s_nuJsHbM"
      },
      "source": [
        "## Next Steps\n",
        "\n",
        "Go back and try different system prompts to see how they respond to outputs.  Try a different model.  Manually tweak the questions. Get a feel for what's happening."
      ]
    }
  ],
  "metadata": {
    "colab": {
      "provenance": [],
      "include_colab_link": true
    },
    "kernelspec": {
      "display_name": "Python 3",
      "name": "python3"
    },
    "language_info": {
      "name": "python"
    }
  },
  "nbformat": 4,
  "nbformat_minor": 0
}