{
  "cells": [
    {
      "cell_type": "markdown",
      "metadata": {
        "id": "view-in-github",
        "colab_type": "text"
      },
      "source": [
        "<a href=\"https://colab.research.google.com/github/withpi/cookbook-withpi/blob/main/colabs/Quickstart.ipynb\" target=\"_parent\"><img src=\"https://colab.research.google.com/assets/colab-badge.svg\" alt=\"Open In Colab\"/></a>"
      ]
    },
    {
      "cell_type": "markdown",
      "metadata": {
        "id": "pi-masthead"
      },
      "source": [
        "<a href=\"https://withpi.ai\"><img src=\"https://play.withpi.ai/logo/logoFullBlack.svg\" width=\"240\"></a>\n",
        "\n",
        "<a href=\"https://code.withpi.ai\"><font size=\"4\">Documentation</font></a>\n",
        "\n",
        "<a href=\"https://play.withpi.ai\"><font size=\"4\">Technique Catalog</font></a>"
      ]
    },
    {
      "cell_type": "markdown",
      "metadata": {
        "id": "Bwm4tjdnedp6"
      },
      "source": [
        "# Quickstart\n",
        "\n",
        "This Colab walks you through scoring something with Pi!  It is the companion to our [Getting Started](https://code.withpi.ai/introduction) guide.\n",
        "\n",
        "You will generate some questions and use Pi Scorer to score with them."
      ]
    },
    {
      "cell_type": "markdown",
      "metadata": {
        "id": "pi-setup-markdown"
      },
      "source": [
        "## Install and initialize SDK\n",
        "\n",
        "\n",
        "You'll need a WITHPI_API_KEY from your [account page](https://build.withpi.ai/account) (for now this is **free**, but in the future we expect to charge for scoring calls).  Add it to your notebook secrets (the key symbol) on the left.\n",
        "\n",
        "Run the cell below to install packages and load the SDK."
      ]
    },
    {
      "cell_type": "code",
      "execution_count": 6,
      "metadata": {
        "id": "pi-setup"
      },
      "outputs": [],
      "source": [
        "%%capture\n",
        "\n",
        "%pip install withpi withpi-utils litellm\n",
        "\n",
        "import os\n",
        "from google.colab import userdata\n",
        "from withpi import PiClient\n",
        "\n",
        "# Load the notebook secret into the environment so the Pi Client can access it.\n",
        "os.environ[\"WITHPI_API_KEY\"] = userdata.get('WITHPI_API_KEY')\n",
        "\n",
        "pi = PiClient()"
      ]
    },
    {
      "cell_type": "markdown",
      "metadata": {
        "id": "s7RRO3iXjYbY"
      },
      "source": [
        "# Build some questions\n",
        "\n",
        "Let's say you want to build an application that generates children's stories teaching a life lesson.  Call it `AesopAI`.\n"
      ]
    },
    {
      "cell_type": "code",
      "execution_count": 4,
      "metadata": {
        "id": "oXJmb89i5iN5",
        "outputId": "0c59e671-99eb-4891-f487-f66e6762c8d1",
        "colab": {
          "base_uri": "https://localhost:8080/",
          "height": 481
        }
      },
      "outputs": [
        {
          "output_type": "display_data",
          "data": {
            "text/plain": [
              "['Does the story have a clear beginning, middle, and end?',\n",
              " 'Does the story include a conflict that is resolved in a way that teaches the life lesson?',\n",
              " 'Is the resolution of the story satisfying and meaningful?',\n",
              " 'Are the characters in the story well-defined and relevant to the life lesson?',\n",
              " 'Are the characters relatable to children?',\n",
              " \"Do the characters' actions logically lead to the life lesson?\",\n",
              " 'Is the specified life lesson clearly conveyed in the story?',\n",
              " 'Is the life lesson seamlessly integrated into the narrative?',\n",
              " 'Does the story include an explicit moral statement at the end?',\n",
              " 'Is the moral of the story clear and easy to understand?',\n",
              " 'Is the moral relevant to the specified life lesson?',\n",
              " 'Is the life lesson presented in a memorable way?',\n",
              " \"Does the story emulate the style of Aesop's Fables, including anthropomorphic characters and a moral?\",\n",
              " 'Does the story maintain a positive and encouraging tone?',\n",
              " 'Is the story consistent in tone and style throughout?',\n",
              " 'Is the language and content suitable for children?',\n",
              " \"Is the plot engaging and likely to capture a child's interest?\",\n",
              " 'Is the story likely to engage and hold the attention of a child?',\n",
              " 'Does the story include imaginative or fantastical elements that appeal to children?',\n",
              " 'Is the language simple enough for children to comprehend?',\n",
              " \"Is the story of an appropriate length for a children's fable?\",\n",
              " 'Does the story include dialogue that enhances the narrative?',\n",
              " 'Does the story lend itself well to potential illustrations?',\n",
              " 'Does the story avoid cultural biases and stereotypes?',\n",
              " 'Does the story provide educational value beyond the life lesson?',\n",
              " \"Is the story original and not a direct copy of an existing Aesop's Fable?\"]"
            ]
          },
          "metadata": {}
        }
      ],
      "source": [
        "questions = pi.scoring_system.generate(\n",
        "    application_description=(\n",
        "        \"Write a children's story in the style of Aesop's Fables \"\n",
        "        \"teaching a life lesson specified by the user. Provide just the \"\n",
        "        \"story with no extra content.\"\n",
        "    ),\n",
        ")\n",
        "\n",
        "display([q.question for q in questions])"
      ]
    },
    {
      "cell_type": "markdown",
      "metadata": {
        "id": "t4eChTjc66_f"
      },
      "source": [
        "These questions are suggestions for ways you might score a generated story.  Pi Scorer rates each one from **0.0 to 1.0** for a given story, aggregating them into a final \"goodness\" score."
      ]
    },
    {
      "cell_type": "markdown",
      "metadata": {
        "id": "j1FAoBqU7dwf"
      },
      "source": [
        "## Generate a response\n",
        "Let's see how it performs! The below cell uses Gemini to generate a response, but any suitable model will work fine.\n",
        "\n",
        "Adjust to pick a different model and supply your own key with docs at https://docs.litellm.ai/docs/.\n",
        "\n",
        "You can import a Google Gemini key from AI Studio on the left pane, which populates a GOOGLE_API_KEY secret.  At low rates it's free."
      ]
    },
    {
      "cell_type": "code",
      "execution_count": 7,
      "metadata": {
        "id": "WhJrCijJ8I2n",
        "outputId": "275c6978-6e1a-4fac-dfc5-6871b8e3e20c",
        "colab": {
          "base_uri": "https://localhost:8080/"
        }
      },
      "outputs": [
        {
          "output_type": "stream",
          "name": "stdout",
          "text": [
            "Once upon a time, in a lush green meadow, lived a grumpy hedgehog named Horace. Horace had a beautiful, juicy red apple tree all to himself. He would guard his apples fiercely, scowling at any creature who dared to look longingly at his bounty.\n",
            "\n",
            "One hot summer day, a little field mouse, Millie, scurried up to Horace. \"Mr. Hedgehog,\" she squeaked, her voice trembling. \"I haven't eaten all day, and I see your lovely apples. Might I have just one, please?\"\n",
            "\n",
            "Horace grumbled, \"Go away! These apples are mine! Find your own food.\" He turned his back and began to munch his own apple.\n",
            "\n",
            "Next came Barnaby Badger, his tummy rumbling. \"Horace, old friend,\" he wheezed. \"My family and I haven't found anything to eat. Could we possibly have a few of your delicious apples?\"\n",
            "\n",
            "\"No!\" Horace snapped, guarding his tree. \"They are for me, and me alone!\"\n",
            "\n",
            "The sun beat down, and as the days grew hotter, the meadow dried up. The river shrank, and the berries on the bushes withered. Horace’s apple tree remained laden with fruit, but the apples began to rot on the branches. They became soft and mushy, and the birds and insects wouldn't touch them.\n",
            "\n",
            "Then, a terrible storm arrived. The wind howled, and the rain poured down, knocking many of Horace’s apples to the ground. The rotting apples soon became food for other creatures, creating an abundance of nutrients.\n",
            "\n",
            "One day, Millie Mouse, Barnaby Badger, and all the other animals returned to the now flourishing meadow. They had found a new water source and berries were growing again. Horace Hedgehog, now alone with his spoiled apples, watched them feast. \n",
            "\n",
            "He saw Millie and Barnaby helping others, sharing their newfound bounty. He remembered his grumbling ways and felt ashamed. He slowly gathered some of the few remaining apples and offered them to the others.\n",
            "\n",
            "The animals, though wary at first, eventually accepted. They were delicious. As they ate, they welcomed Horace, and all the creatures shared food and kindness. The meadow became a haven of generosity.\n",
            "\n",
            "And so, Horace learned a valuable lesson: that sharing brings more joy than hoarding. For even though he had kept all the apples for himself, they had rotted, and he had been alone. But by sharing, he found friendship, a feast, and a blossoming meadow.\n",
            "\n",
            "*The moral of the story is: Sharing makes life richer for everyone.*\n",
            "\n"
          ]
        }
      ],
      "source": [
        "import litellm\n",
        "\n",
        "os.environ[\"GEMINI_API_KEY\"] = userdata.get('GOOGLE_API_KEY')\n",
        "\n",
        "response = litellm.completion(\n",
        "    model=\"gemini/gemini-2.0-flash-lite\",\n",
        "    messages=[\n",
        "        {\"content\": \"Write a children's story in the style of Aesop's Fables \"\n",
        "          \"teaching a life lesson specified by the user. Provide just the \"\n",
        "          \"story with no extra content.\", \"role\": \"system\"},\n",
        "        {\"content\": \"The importance of sharing\", \"role\": \"user\"}\n",
        "    ]).choices[0].message.content\n",
        "\n",
        "print(response)"
      ]
    },
    {
      "cell_type": "markdown",
      "metadata": {
        "id": "sU0TJGzFk-2C"
      },
      "source": [
        "## Score it!\n",
        "\n",
        "Take the generated response and see how it scores with Pi.\n",
        "\n",
        "The below cell will run Pi Scoring, evaluating question in the scoring spec, offering a score from 1 (excellent!) to 0 (terrible!).  The current scoring spec is **uncalibrated**, meaning that all the dimensions are equally important, but it's a starting point for learning which are **actually** imporant based on your preferences."
      ]
    },
    {
      "cell_type": "code",
      "execution_count": null,
      "metadata": {
        "id": "4NpCZhP6exgI",
        "outputId": "ab4a95b6-0b4d-4181-c11a-3ea17c34c157",
        "colab": {
          "base_uri": "https://localhost:8080/",
          "height": 1000
        }
      },
      "outputs": [
        {
          "output_type": "display_data",
          "data": {
            "text/plain": [
              "<IPython.core.display.HTML object>"
            ],
            "text/html": [
              "\n",
              "        <div style=\"display: flex; gap: 20px;\">\n",
              "            <div style=\"width: 80%; padding: 10px; border: 1px solid #ddd; background-color: #fff9f5;\">\n",
              "                <h4><h4>Prompt:</h4>\n",
              "<p>The importance of sharing</p></h4>\n",
              "            </div>\n",
              "        </div>\n",
              "        <div style=\"display: flex; gap: 20px;\">\n",
              "            <div style=\"width: 80%; padding: 10px; border: 1px solid #ddd; background-color: #f0f0f0; text-align:center;\">\n",
              "                <h4>gemini/gemini-1.5-flash-8b</h4>\n",
              "            </div>\n",
              "        </div>\n",
              "        <div style=\"display: flex; gap: 20px;\">\n",
              "            <div style=\"width: 80%; padding: 10px; border: 1px solid #ddd;\">\n",
              "                <h4>Response:</h4>\n",
              "<p>Barnaby the badger had a magnificent hoard of acorns.  Every sunny afternoon, he'd scavenge, burying treasures deeper and deeper in his cozy burrow.  He'd boast to the other woodland creatures about the size of his pile, his voice rumbling with pride.  The squirrels, the rabbits, and the chipmunks watched, their bellies rumbling with hunger.  The tiny field mice, too small to reach the plentiful acorns, often went without.</p>\n",
              "<p>One day, a fierce storm swept through the forest.  Trees crashed, branches snapped, and the ground was covered in a blanket of fallen leaves.  The acorns, once so carefully buried, were scattered, some lost forever. Barnaby, frantic, searched high and low, his pride turning to despair.  He had nothing left.</p>\n",
              "<p>The squirrels, though their own stores were depleted, shared the few acorns they'd managed to salvage. The rabbits offered their carrots, and the chipmunks their berries.  Even the tiny field mice, grateful for the gesture, shared their roots.  Barnaby, humbled and starving, felt a pang of regret.  He had been so caught up in hoarding, he'd forgotten the value of generosity.  He learned that day that sharing not only helps others but also brings a different kind of richness – the richness of community and companionship.  From that day forward, Barnaby shared his remaining acorns, realizing that a full belly and a full heart are worth far more than a hidden hoard.</p>\n",
              "            </div>\n",
              "        </div>\n",
              "        \n",
              "            <div style=\"display: flex; gap: 20px;\">\n",
              "                <div style=\"width: 80%; padding: 10px; border: 1px solid #ddd; background-color: #f2f1fe;\">\n",
              "                    \n",
              "  <style>\n",
              "  table {\n",
              "    border-collapse: collapse; /* Ensures borders don't double up */\n",
              "    width: 100%; /* Optional: makes the table full width */\n",
              "  }\n",
              "\n",
              "  tr {\n",
              "    border-bottom: 1px solid #ccc; /* Sets a bottom border for each row */\n",
              "    border-top: 1px solid #ccc; /* Sets a bottom border for each row */\n",
              "  }\n",
              "\n",
              "  th, td {\n",
              "    font-weight: bold;\n",
              "    padding: 4px; /* Adds some spacing */\n",
              "    text-align: left; /* Aligns text to the left */\n",
              "    border-right: 1px solid #ccc; /* Sets a bottom border for each row */\n",
              "    border-left: 1px solid #ccc; /* Sets a bottom border for each row */\n",
              "  }\n",
              "  img {\n",
              "    width: 30%;\n",
              "  }\n",
              "  </style>\n",
              "  <table><tr><td><b>Story Structure</b></td><td></td><td style='color: #28b463'>0.943</td></tr>\n",
              "<tr><td></td><td style='font-weight: normal;'>Story Completeness</td><td style='color: #27ae60'>1.0</td></tr>\n",
              "<tr><td></td><td style='font-weight: normal;'>Conflict Resolution</td><td style='color: #27ae60'>0.996</td></tr>\n",
              "<tr><td></td><td style='font-weight: normal;'>Narrative Flow</td><td style='color: #27ae60'>1.0</td></tr>\n",
              "<tr><td></td><td style='font-weight: normal;'>Appropriate Length</td><td style='color: #2dc86e'>0.777</td></tr>\n",
              "\n",
              "\n",
              "<tr><td><b>Moral and Lesson</b></td><td></td><td style='color: #27ae60'>1.0</td></tr>\n",
              "<tr><td></td><td style='font-weight: normal;'>Life Lesson Inclusion</td><td style='color: #27ae60'>1.0</td></tr>\n",
              "<tr><td></td><td style='font-weight: normal;'>Lesson Clarity</td><td style='color: #27ae60'>1.0</td></tr>\n",
              "<tr><td></td><td style='font-weight: normal;'>Moral Statement Presence</td><td style='color: #27ae60'>1.0</td></tr>\n",
              "<tr><td></td><td style='font-weight: normal;'>Lesson Integration</td><td style='color: #27ae60'>1.0</td></tr>\n",
              "<tr><td></td><td style='font-weight: normal;'>Moral Relevance</td><td style='color: #27ae60'>1.0</td></tr>\n",
              "\n",
              "\n",
              "<tr><td><b>Style and Language</b></td><td></td><td style='color: #28b564'>0.934</td></tr>\n",
              "<tr><td></td><td style='font-weight: normal;'>Language Simplicity</td><td style='color: #27ae60'>1.0</td></tr>\n",
              "<tr><td></td><td style='font-weight: normal;'>Consistency in Style</td><td style='color: #27ae60'>1.0</td></tr>\n",
              "<tr><td></td><td style='font-weight: normal;'>Avoidance of Complexity</td><td style='color: #27af61'>0.98</td></tr>\n",
              "<tr><td></td><td style='font-weight: normal;'>Aesop Style Adherence</td><td style='color: #2dcb70'>0.754</td></tr>\n",
              "\n",
              "\n",
              "<tr><td><b>Character and Setting</b></td><td></td><td style='color: #29b765'>0.919</td></tr>\n",
              "<tr><td></td><td style='font-weight: normal;'>Character Simplicity</td><td style='color: #27ae60'>1.0</td></tr>\n",
              "<tr><td></td><td style='font-weight: normal;'>Animal Characters</td><td style='color: #29b865'>0.91</td></tr>\n",
              "<tr><td></td><td style='font-weight: normal;'>Character Development</td><td style='color: #27ae60'>1.0</td></tr>\n",
              "<tr><td></td><td style='font-weight: normal;'>Setting Description</td><td style='color: #2dc96f'>0.766</td></tr>\n",
              "\n",
              "\n",
              "<tr><td><b>Engagement and Creativity</b></td><td></td><td style='color: #47ca64'>0.716</td></tr>\n",
              "<tr><td></td><td style='font-weight: normal;'>Engaging Plot</td><td style='color: #27ae60'>1.0</td></tr>\n",
              "<tr><td></td><td style='font-weight: normal;'>Dialogue Presence</td><td style='color: #e67924'>0.229</td></tr>\n",
              "<tr><td></td><td style='font-weight: normal;'>Imaginative Elements</td><td style='color: #2cc56d'>0.805</td></tr>\n",
              "<tr><td></td><td style='font-weight: normal;'>Reader Engagement</td><td style='color: #2bc16b'>0.832</td></tr>\n",
              "\n",
              "\n",
              "<tr><td><b>Themes and Appropriateness</b></td><td></td><td style='color: #27ae60'>1.0</td></tr>\n",
              "<tr><td></td><td style='font-weight: normal;'>Child-Friendly Themes</td><td style='color: #27ae60'>1.0</td></tr>\n",
              "<tr><td></td><td style='font-weight: normal;'>Avoidance of Violence</td><td style='color: #27ae60'>1.0</td></tr>\n",
              "<tr><td></td><td style='font-weight: normal;'>Positive Outcome</td><td style='color: #27ae60'>1.0</td></tr>\n",
              "<tr><td></td><td style='font-weight: normal;'>Cultural Neutrality</td><td style='color: #27ae60'>1.0</td></tr>\n",
              "\n",
              "\n",
              "<tr><td><b>Educational and Additional Value</b></td><td></td><td style='color: #2ecb70'>0.746</td></tr>\n",
              "<tr><td></td><td style='font-weight: normal;'>Educational Value</td><td style='color: #2ecb70'>0.746</td></tr>\n",
              "\n",
              "\n",
              "<tr></tr>\n",
              "<tr><td>Total score</td><td></td><td style='color: #29ba67'><b>0.894</b></td></tr>\n",
              "</table>\n",
              "                </div>\n",
              "            </div>"
            ]
          },
          "metadata": {}
        }
      ],
      "source": [
        "from withpi_utils.colab import pretty_print_responses\n",
        "\n",
        "score = client.scoring_system.score(\n",
        "    scoring_spec=aesop_scoring_spec,\n",
        "    llm_input=prompt,\n",
        "    llm_output=response,\n",
        ")\n",
        "\n",
        "pretty_print_responses(\n",
        "    header=\"#### Prompt:\\n\" + prompt,\n",
        "    response1=\"#### Response:\\n\" + response,\n",
        "    left_label=\"gemini/gemini-1.5-flash-8b\",\n",
        "    scores_left=score,\n",
        ")"
      ]
    },
    {
      "cell_type": "markdown",
      "metadata": {
        "id": "k9UOAOSQn1bF"
      },
      "source": [
        "## Save it!\n",
        "\n",
        "Finally, save the ScoringSpec so you can come back to it later.\n",
        "\n",
        "A scoring spec is a simple Pydantic model, which can be serialized to JSON and stored locally.\n",
        "\n",
        "The cell below will offer a download of the scoring spec."
      ]
    },
    {
      "cell_type": "code",
      "execution_count": null,
      "metadata": {
        "id": "lPlsGumImqm1"
      },
      "outputs": [],
      "source": [
        "with open(\"aesop_ai.json\", \"w\") as file:\n",
        "    file.write(aesop_scoring_spec.model_dump_json(indent=2))"
      ]
    },
    {
      "cell_type": "markdown",
      "metadata": {
        "id": "jT7s_nuJsHbM"
      },
      "source": [
        "## Next Steps\n",
        "\n",
        "Go back and try different system prompts to see how they respond to outputs.  Try a different model.  Manually tweak the dimensions. Get a feel for what's happening.\n",
        "\n",
        "When you're ready to move beyond basic vibe checking, you'll need to take a systematic approach.  To do that, you'll need input data.  Fortunately, we have tools to help build a representative set.  Head over to the input data playground for this."
      ]
    }
  ],
  "metadata": {
    "colab": {
      "provenance": [],
      "include_colab_link": true
    },
    "kernelspec": {
      "display_name": "Python 3",
      "name": "python3"
    },
    "language_info": {
      "name": "python"
    }
  },
  "nbformat": 4,
  "nbformat_minor": 0
}