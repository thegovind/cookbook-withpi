{
  "cells": [
    {
      "cell_type": "markdown",
      "metadata": {
        "id": "view-in-github",
        "colab_type": "text"
      },
      "source": [
        "<a href=\"https://colab.research.google.com/github/withpi/cookbook-withpi/blob/main/colabs/Quickstart.ipynb\" target=\"_parent\"><img src=\"https://colab.research.google.com/assets/colab-badge.svg\" alt=\"Open In Colab\"/></a>"
      ]
    },
    {
      "cell_type": "markdown",
      "source": [
        "<a href=\"https://withpi.ai\"><img src=\"https://play.withpi.ai/logo/logoFullBlack.svg\" width=\"240\"></a>\n",
        "\n",
        "<a href=\"https://code.withpi.ai\"><font size=\"4\">Documentation</font></a>\n",
        "\n",
        "<a href=\"https://build.withpi.ai\"><font size=\"4\">Copilot</font></a>"
      ],
      "metadata": {
        "id": "pi-masthead"
      }
    },
    {
      "cell_type": "markdown",
      "metadata": {
        "id": "Bwm4tjdnedp6"
      },
      "source": [
        "# Quickstart\n",
        "\n",
        "This Colab walks you through scoring something with Pi!  It is the companion to our [Getting Started](https://code.withpi.ai/introduction) guide.\n",
        "\n",
        "You will generate some questions and use Pi Scorer to score them."
      ]
    },
    {
      "cell_type": "markdown",
      "source": [
        "## Install and initialize SDK\n",
        "\n",
        "You'll need a `WITHPI_API_KEY` from https://build.withpi.ai/account.  Add it to your notebook secrets (the key symbol) on the left.\n",
        "\n",
        "Run the cell below to install packages and load the SDK"
      ],
      "metadata": {
        "id": "pi-setup-markdown"
      }
    },
    {
      "cell_type": "code",
      "metadata": {
        "id": "pi-setup"
      },
      "outputs": [],
      "execution_count": null,
      "source": [
        "%%capture\n",
        "\n",
        "%pip install withpi withpi-utils datasets tqdm litellm pandas numpy\n",
        "\n",
        "import os\n",
        "from google.colab import userdata\n",
        "from withpi import PiClient\n",
        "\n",
        "# Load the notebook secret into the environment so the Pi Client can access it.\n",
        "os.environ[\"WITHPI_API_KEY\"] = userdata.get('WITHPI_API_KEY')\n",
        "\n",
        "pi = PiClient()\n"
      ]
    },
    {
      "cell_type": "markdown",
      "metadata": {
        "id": "s7RRO3iXjYbY"
      },
      "source": [
        "# Build some questions\n",
        "\n",
        "Let's say you want to build an application that generates children's stories teaching a life lesson.  Call it `AesopAI`.\n"
      ]
    },
    {
      "cell_type": "code",
      "execution_count": null,
      "metadata": {
        "id": "oXJmb89i5iN5",
        "outputId": "0491a5fb-864a-4442-f3e2-f90474113538",
        "colab": {
          "base_uri": "https://localhost:8080/",
          "height": 503
        }
      },
      "outputs": [
        {
          "output_type": "display_data",
          "data": {
            "text/plain": [
              "<IPython.core.display.HTML object>"
            ],
            "text/html": [
              "<div style='font-family: Arial, sans-serif;'><h2 style='color: #202124; border-bottom: 2px solid #4285F4; padding-bottom: 8px; margin-bottom: 10px;'>Scoring Spec</h2><ul style='margin-top: 0; padding-left: 20px;'><li><strong>PI_SCORER:</strong> Does the response follow a clear beginning, middle, and end structure?</li><li><strong>PI_SCORER:</strong> Does the story flow smoothly from one event to the next?</li><li><strong>PI_SCORER:</strong> Are the events in the story clearly described and easy to follow?</li><li><strong>PI_SCORER:</strong> Does the story include a clear moral or life lesson?</li><li><strong>PI_SCORER:</strong> Is the life lesson specified by the user clearly integrated into the story?</li><li><strong>PI_SCORER:</strong> Is the moral of the story explicitly stated or easily inferred?</li><li><strong>PI_SCORER:</strong> Does the story emphasize the life lesson throughout its narrative?</li><li><strong>PI_SCORER:</strong> Does the moral of the story align with the lesson specified by the user?</li><li><strong>PI_SCORER:</strong> Is the moral impactful and likely to be remembered by children?</li><li><strong>PI_SCORER:</strong> Are the characters in the story well-defined and relevant to the moral?</li><li><strong>PI_SCORER:</strong> Are the characters relatable to children?</li><li><strong>PI_SCORER:</strong> Is the language used in the story appropriate for children?</li><li><strong>PI_SCORER:</strong> Is the language simple enough for children to understand without difficulty?</li><li><strong>PI_SCORER:</strong> Does the story maintain a positive and encouraging tone suitable for children?</li><li><strong>PI_SCORER:</strong> Does the story emulate the style of Aesop's Fables, such as anthropomorphic characters and a concise narrative?</li><li><strong>PI_SCORER:</strong> Does the story include anthropomorphic characters, as is typical in Aesop's Fables?</li><li><strong>PI_SCORER:</strong> Is the plot engaging and likely to capture the attention of children?</li><li><strong>PI_SCORER:</strong> Does the story include imaginative elements that would appeal to children?</li><li><strong>PI_SCORER:</strong> Is the story likely to engage and hold the interest of children?</li><li><strong>PI_SCORER:</strong> Is the story culturally neutral or inclusive, avoiding stereotypes?</li><li><strong>PI_SCORER:</strong> Does the story provide educational value beyond the moral, such as vocabulary or concepts?</li><li><strong>PI_SCORER:</strong> Is the content of the story appropriate for the intended age group of children?</li><li><strong>PI_SCORER:</strong> Is the story concise and of an appropriate length for a children's fable?</li><li><strong>PI_SCORER:</strong> Is the story original and not a direct retelling of an existing Aesop's Fable?</li></ul></div>"
            ]
          },
          "metadata": {}
        }
      ],
      "source": [
        "from withpi_utils.colab import display_scoring_spec\n",
        "\n",
        "aesop_application_description = \"\"\"\n",
        "Write a children's story in the style of Aesop's Fables teaching a life lesson\n",
        "specified by the user. Provide just the story with no extra content.\n",
        "\"\"\"\n",
        "\n",
        "scoring_spec = pi.scoring_system.generate(\n",
        "    application_description=aesop_application_description,\n",
        ")\n",
        "\n",
        "display_scoring_spec(scoring_spec)"
      ]
    },
    {
      "cell_type": "markdown",
      "metadata": {
        "id": "t4eChTjc66_f"
      },
      "source": [
        "These questions are suggestions for ways you might score a generated story.  Pi Scorer rates each one from **0.0 to 1.0** for a given story, aggregating them into a final \"goodness\" score."
      ]
    },
    {
      "cell_type": "markdown",
      "metadata": {
        "id": "j1FAoBqU7dwf"
      },
      "source": [
        "## Generate a response\n",
        "Let's see how it performs! The below cell uses Gemini to generate a response, but any suitable model will work fine.\n",
        "\n",
        "You can import a Google Gemini key from AI Studio on the left pane, which populates a `GOOGLE_API_KEY` secret.  At low rates it's free.  Or adjust to a model of your choice with a key using docs at https://docs.litellm.ai/docs/.\n",
        "\n"
      ]
    },
    {
      "cell_type": "code",
      "execution_count": null,
      "metadata": {
        "id": "WhJrCijJ8I2n",
        "outputId": "88f94ee2-e142-40ae-d851-14d1e5a2cbb3",
        "colab": {
          "base_uri": "https://localhost:8080/",
          "height": 468
        }
      },
      "outputs": [
        {
          "output_type": "display_data",
          "data": {
            "text/plain": [
              "<IPython.core.display.HTML object>"
            ],
            "text/html": [
              "\n",
              "        <div style=\"display: flex; gap: 20px;\">\n",
              "            <div style=\"width: 80%; padding: 10px; border: 1px solid #ddd; background-color: #f0f0f0; text-align:center;\">\n",
              "                <h4>Base</h4>\n",
              "            </div>\n",
              "        </div>\n",
              "        <div style=\"display: flex; gap: 20px;\">\n",
              "            <div style=\"width: 80%; padding: 10px; border: 1px solid #ddd;\">\n",
              "                <p>Once, in a sunny meadow, lived two field mice named Pip and Squeak. Pip was a plump, cheerful mouse with a bright red coat. Squeak was a smaller mouse, with a shy personality and a coat the color of dried leaves.</p>\n",
              "<p>One day, Pip stumbled upon a giant strawberry. It was the biggest, juiciest strawberry he had ever seen! \"Mine!\" he squeaked, already imagining the sweet taste. He curled up beside it, ready to feast.</p>\n",
              "<p>Soon, Squeak, sniffing the air, found Pip. His eyes widened. He\u2019d never seen such a magnificent strawberry! His tummy rumbled.</p>\n",
              "<p>\u201cOh, Pip,\u201d he whispered, \u201cthat\u2019s a wonderful berry. May I\u2026may I have just a tiny piece?\u201d</p>\n",
              "<p>Pip puffed out his chest. \"This is <em>my</em> strawberry! I found it! Go find your own!\" He began to gobble down the strawberry, not offering even a tiny crumb.</p>\n",
              "<p>The next day, a fierce storm raged. The wind howled, and the rain lashed the meadow. Pip, without any shelter, was soaked and shivering. His belly, full from yesterday's feast, ached.</p>\n",
              "<p>Squeak, however, had a cozy burrow. He found Pip, shivering and miserable. Without hesitation, Squeak led him inside. He shared his small store of seeds and even offered to snuggle close to keep Pip warm.</p>\n",
              "<p>Pip, humbled and ashamed, realized how selfish he had been. The strawberry had filled his belly for a short time, but sharing the simple burrow had offered him warmth, comfort, and the kindest companionship.</p>\n",
              "<p>When the storm passed, the sun peeked through the clouds. Pip looked at Squeak and said, \u201cSqueak, thank you. I understand now.\u201d</p>\n",
              "<p>From that day on, Pip and Squeak were the best of friends, always sharing what they had. And they both learned that the joy of sharing is far sweeter than any single, delicious treat.</p>\n",
              "<p><em>The moral of the story: Sharing brings greater happiness than greed.</em></p>\n",
              "            </div>\n",
              "        </div>\n",
              "        "
            ]
          },
          "metadata": {}
        }
      ],
      "source": [
        "import litellm\n",
        "from withpi_utils.colab import pretty_print_responses\n",
        "\n",
        "os.environ[\"GEMINI_API_KEY\"] = userdata.get('GOOGLE_API_KEY')\n",
        "\n",
        "prompt = \"The importance of sharing\"\n",
        "\n",
        "response = litellm.completion(\n",
        "    model=\"gemini/gemini-2.0-flash-lite\",\n",
        "    messages=[\n",
        "        {\"content\": aesop_application_description, \"role\": \"system\"},\n",
        "        {\"content\": prompt, \"role\": \"user\"}\n",
        "    ]).choices[0].message.content\n",
        "\n",
        "pretty_print_responses(response)"
      ]
    },
    {
      "cell_type": "markdown",
      "metadata": {
        "id": "sU0TJGzFk-2C"
      },
      "source": [
        "## Score it!\n",
        "\n",
        "Take the generated response and see how it scores with Pi.\n",
        "\n",
        "The below cell will run Pi Scoring, evaluating question in the scoring spec, offering a score from 1 (excellent!) to 0 (terrible!).  The current scoring spec is **uncalibrated**, meaning that all the dimensions are equally important, but it's a starting point for learning which are **actually** imporant based on your preferences."
      ]
    },
    {
      "cell_type": "code",
      "execution_count": null,
      "metadata": {
        "id": "4NpCZhP6exgI",
        "outputId": "5eba0db8-ecbf-4450-9166-e28eb1216daf",
        "colab": {
          "base_uri": "https://localhost:8080/",
          "height": 1000
        }
      },
      "outputs": [
        {
          "output_type": "display_data",
          "data": {
            "text/plain": [
              "<IPython.core.display.HTML object>"
            ],
            "text/html": [
              "\n",
              "        <div style=\"display: flex; gap: 20px;\">\n",
              "            <div style=\"width: 80%; padding: 10px; border: 1px solid #ddd; background-color: #fff9f5;\">\n",
              "                <h4><h4>Prompt:</h4>\n",
              "<p>The importance of sharing</p></h4>\n",
              "            </div>\n",
              "        </div>\n",
              "        <div style=\"display: flex; gap: 20px;\">\n",
              "            <div style=\"width: 80%; padding: 10px; border: 1px solid #ddd; background-color: #f0f0f0; text-align:center;\">\n",
              "                <h4>Base</h4>\n",
              "            </div>\n",
              "        </div>\n",
              "        <div style=\"display: flex; gap: 20px;\">\n",
              "            <div style=\"width: 80%; padding: 10px; border: 1px solid #ddd;\">\n",
              "                <h4>Response:</h4>\n",
              "<p>Once, in a sunny meadow, lived two field mice named Pip and Squeak. Pip was a plump, cheerful mouse with a bright red coat. Squeak was a smaller mouse, with a shy personality and a coat the color of dried leaves.</p>\n",
              "<p>One day, Pip stumbled upon a giant strawberry. It was the biggest, juiciest strawberry he had ever seen! \"Mine!\" he squeaked, already imagining the sweet taste. He curled up beside it, ready to feast.</p>\n",
              "<p>Soon, Squeak, sniffing the air, found Pip. His eyes widened. He\u2019d never seen such a magnificent strawberry! His tummy rumbled.</p>\n",
              "<p>\u201cOh, Pip,\u201d he whispered, \u201cthat\u2019s a wonderful berry. May I\u2026may I have just a tiny piece?\u201d</p>\n",
              "<p>Pip puffed out his chest. \"This is <em>my</em> strawberry! I found it! Go find your own!\" He began to gobble down the strawberry, not offering even a tiny crumb.</p>\n",
              "<p>The next day, a fierce storm raged. The wind howled, and the rain lashed the meadow. Pip, without any shelter, was soaked and shivering. His belly, full from yesterday's feast, ached.</p>\n",
              "<p>Squeak, however, had a cozy burrow. He found Pip, shivering and miserable. Without hesitation, Squeak led him inside. He shared his small store of seeds and even offered to snuggle close to keep Pip warm.</p>\n",
              "<p>Pip, humbled and ashamed, realized how selfish he had been. The strawberry had filled his belly for a short time, but sharing the simple burrow had offered him warmth, comfort, and the kindest companionship.</p>\n",
              "<p>When the storm passed, the sun peeked through the clouds. Pip looked at Squeak and said, \u201cSqueak, thank you. I understand now.\u201d</p>\n",
              "<p>From that day on, Pip and Squeak were the best of friends, always sharing what they had. And they both learned that the joy of sharing is far sweeter than any single, delicious treat.</p>\n",
              "<p><em>The moral of the story: Sharing brings greater happiness than greed.</em></p>\n",
              "            </div>\n",
              "        </div>\n",
              "        \n",
              "            <div style=\"display: flex; gap: 20px;\">\n",
              "                <div style=\"width: 80%; padding: 10px; border: 1px solid #ddd; background-color: #f2f1fe;\">\n",
              "                    \n",
              "  <style>\n",
              "  table {\n",
              "    border-collapse: collapse; /* Ensures borders don't double up */\n",
              "    width: 100%; /* Optional: makes the table full width */\n",
              "  }\n",
              "\n",
              "  tr {\n",
              "    border-bottom: 1px solid #ccc; /* Sets a bottom border for each row */\n",
              "    border-top: 1px solid #ccc; /* Sets a bottom border for each row */\n",
              "  }\n",
              "\n",
              "  th, td {\n",
              "    font-weight: bold;\n",
              "    padding: 4px; /* Adds some spacing */\n",
              "    text-align: left; /* Aligns text to the left */\n",
              "    border-right: 1px solid #ccc; /* Sets a bottom border for each row */\n",
              "    border-left: 1px solid #ccc; /* Sets a bottom border for each row */\n",
              "  }\n",
              "  img {\n",
              "    width: 30%;\n",
              "  }\n",
              "  </style>\n",
              "  <table><tr><td><b>Does the response follow a clear beginning, middle, and end structure?</b></td><td style='color: #27ae60'>1.0</td><td></td></tr>\n",
              "<tr><td><b>Does the story flow smoothly from one event to the next?</b></td><td style='color: #27ae60'>1.0</td><td></td></tr>\n",
              "<tr><td><b>Are the events in the story clearly described and easy to follow?</b></td><td style='color: #27ae60'>1.0</td><td></td></tr>\n",
              "<tr><td><b>Does the story include a clear moral or life lesson?</b></td><td style='color: #27ae60'>1.0</td><td></td></tr>\n",
              "<tr><td><b>Is the life lesson specified by the user clearly integrated into the story?</b></td><td style='color: #27ae60'>1.0</td><td></td></tr>\n",
              "<tr><td><b>Is the moral of the story explicitly stated or easily inferred?</b></td><td style='color: #27ae60'>1.0</td><td></td></tr>\n",
              "<tr><td><b>Does the story emphasize the life lesson throughout its narrative?</b></td><td style='color: #27ae60'>1.0</td><td></td></tr>\n",
              "<tr><td><b>Does the moral of the story align with the lesson specified by the user?</b></td><td style='color: #27ae60'>1.0</td><td></td></tr>\n",
              "<tr><td><b>Is the moral impactful and likely to be remembered by children?</b></td><td style='color: #29ba67'>0.891</td><td></td></tr>\n",
              "<tr><td><b>Are the characters in the story well-defined and relevant to the moral?</b></td><td style='color: #27ae60'>1.0</td><td></td></tr>\n",
              "<tr><td><b>Are the characters relatable to children?</b></td><td style='color: #27af61'>0.98</td><td></td></tr>\n",
              "<tr><td><b>Is the language used in the story appropriate for children?</b></td><td style='color: #27ae60'>1.0</td><td></td></tr>\n",
              "<tr><td><b>Is the language simple enough for children to understand without difficulty?</b></td><td style='color: #27ae60'>1.0</td><td></td></tr>\n",
              "<tr><td><b>Does the story maintain a positive and encouraging tone suitable for children?</b></td><td style='color: #27ae60'>1.0</td><td></td></tr>\n",
              "<tr><td><b>Does the story emulate the style of Aesop's Fables, such as anthropomorphic characters and a concise narrative?</b></td><td style='color: #2bc06a'>0.84</td><td></td></tr>\n",
              "<tr><td><b>Does the story include anthropomorphic characters, as is typical in Aesop's Fables?</b></td><td style='color: #2bc06a'>0.844</td><td></td></tr>\n",
              "<tr><td><b>Is the plot engaging and likely to capture the attention of children?</b></td><td style='color: #2abe69'>0.859</td><td></td></tr>\n",
              "<tr><td><b>Does the story include imaginative elements that would appeal to children?</b></td><td style='color: #2abc68'>0.875</td><td></td></tr>\n",
              "<tr><td><b>Is the story likely to engage and hold the interest of children?</b></td><td style='color: #27ae60'>0.988</td><td></td></tr>\n",
              "<tr><td><b>Is the story culturally neutral or inclusive, avoiding stereotypes?</b></td><td style='color: #bec628'>0.562</td><td></td></tr>\n",
              "<tr><td><b>Does the story provide educational value beyond the moral, such as vocabulary or concepts?</b></td><td style='color: #2dca70'>0.758</td><td></td></tr>\n",
              "<tr><td><b>Is the content of the story appropriate for the intended age group of children?</b></td><td style='color: #27ae60'>1.0</td><td></td></tr>\n",
              "<tr><td><b>Is the story concise and of an appropriate length for a children's fable?</b></td><td style='color: #2cc46c'>0.809</td><td></td></tr>\n",
              "<tr><td><b>Is the story original and not a direct retelling of an existing Aesop's Fable?</b></td><td style='color: #2cc56d'>0.801</td><td></td></tr>\n",
              "<tr><td>Total score</td><td></td><td style='color: #29b665'><b>0.925</b></td></tr>\n",
              "</table>\n",
              "                </div>\n",
              "            </div>"
            ]
          },
          "metadata": {}
        }
      ],
      "source": [
        "from withpi_utils.colab import pretty_print_responses\n",
        "\n",
        "score = pi.scoring_system.score(\n",
        "    scoring_spec=scoring_spec,\n",
        "    llm_input=prompt,\n",
        "    llm_output=response,\n",
        ")\n",
        "\n",
        "pretty_print_responses(\n",
        "    header=\"#### Prompt:\\n\" + prompt,\n",
        "    response1=\"#### Response:\\n\" + response,\n",
        "    scores_left=score,\n",
        ")"
      ]
    },
    {
      "cell_type": "markdown",
      "metadata": {
        "id": "jT7s_nuJsHbM"
      },
      "source": [
        "## Next Steps\n",
        "\n",
        "Go back and try different system prompts to see how they respond to outputs.  Try a different model.  Manually tweak the questions. Get a feel for what's happening."
      ]
    }
  ],
  "metadata": {
    "colab": {
      "provenance": [],
      "include_colab_link": true
    },
    "kernelspec": {
      "display_name": "Python 3",
      "name": "python3"
    },
    "language_info": {
      "name": "python"
    }
  },
  "nbformat": 4,
  "nbformat_minor": 0
}