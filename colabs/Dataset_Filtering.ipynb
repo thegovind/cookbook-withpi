{
  "cells": [
    {
      "cell_type": "markdown",
      "metadata": {
        "id": "view-in-github",
        "colab_type": "text"
      },
      "source": [
        "<a href=\"https://colab.research.google.com/github/withpi/cookbook-withpi/blob/main/colabs/Dataset_Filtering.ipynb\" target=\"_parent\"><img src=\"https://colab.research.google.com/assets/colab-badge.svg\" alt=\"Open In Colab\"/></a>"
      ]
    },
    {
      "cell_type": "markdown",
      "source": [
        "<a href=\"https://withpi.ai\"><img src=\"https://play.withpi.ai/logo/logoFullBlack.svg\" width=\"240\"></a>\n",
        "\n",
        "<a href=\"https://code.withpi.ai\"><font size=\"4\">Documentation</font></a>\n",
        "\n",
        "<a href=\"https://build.withpi.ai\"><font size=\"4\">Copilot</font></a>"
      ],
      "metadata": {
        "id": "pi-masthead"
      }
    },
    {
      "cell_type": "markdown",
      "metadata": {
        "id": "Bwm4tjdnedp6"
      },
      "source": [
        "# Dataset Filtering\n",
        "\n",
        "This demonstrates how to load a dataset and then filter it through a scorer.  You'll need a Hugging Face token to pull our sample, or you can bring your own."
      ]
    },
    {
      "cell_type": "markdown",
      "source": [
        "## Install and initialize SDK\n",
        "\n",
        "You'll need a `WITHPI_API_KEY` from https://build.withpi.ai/account/keys.  Add it to your notebook secrets (the key symbol) on the left.\n",
        "\n",
        "Run the cell below to install packages and load the SDK"
      ],
      "metadata": {
        "id": "pi-setup-markdown"
      }
    },
    {
      "cell_type": "code",
      "metadata": {
        "id": "pi-setup"
      },
      "outputs": [],
      "execution_count": null,
      "source": [
        "%%capture\n",
        "\n",
        "%pip install withpi withpi-utils datasets\n",
        "\n",
        "import os\n",
        "from google.colab import userdata\n",
        "from withpi import PiClient\n",
        "\n",
        "# Load the notebook secret into the environment so the Pi Client can access it.\n",
        "os.environ[\"WITHPI_API_KEY\"] = userdata.get('WITHPI_API_KEY')\n",
        "\n",
        "pi = PiClient()"
      ]
    },
    {
      "cell_type": "markdown",
      "source": [
        "## Setup scoring system\n",
        "\n",
        "Let's say we're building an AI to generate stories in the style of Aesop's Fables.  In good test-driven development, we need to decide what we're looking for out of our system.  Initialize a Scoring System and score function:"
      ],
      "metadata": {
        "id": "aV1T90KDWlO_"
      }
    },
    {
      "cell_type": "code",
      "source": [
        "scoring_spec = [{'question': q} for q in [\n",
        "    \"Does the response contain a clear beginning, middle, and end?\",\n",
        "    \"Does the story follow a logical progression of events?\",\n",
        "    \"Does the story resolve the conflict in a satisfying manner?\",\n",
        "    \"Is the life lesson clearly conveyed in the story?\",\n",
        "    \"Is the life lesson relevant to the input provided by the user?\"\n",
        "]]\n",
        "\n",
        "def score(example):\n",
        "    example[\"score\"] = pi.scoring_system.score(\n",
        "        llm_input=example[\"input\"],\n",
        "        llm_output=example[\"output\"],\n",
        "        scoring_spec=scoring_spec,\n",
        "    ).total_score\n",
        "    return example"
      ],
      "metadata": {
        "id": "EXistLbQWmcC"
      },
      "execution_count": null,
      "outputs": []
    },
    {
      "cell_type": "markdown",
      "metadata": {
        "id": "TCez8w28vWCA"
      },
      "source": [
        "# Load Sample Data\n",
        "\n",
        "We have a small dataset published to Hugging Face with some examples.  You'll need a secret named `HF_TOKEN` you can retrieve from https://huggingface.co/settings/tokens\n"
      ]
    },
    {
      "cell_type": "code",
      "execution_count": null,
      "metadata": {
        "colab": {
          "base_uri": "https://localhost:8080/"
        },
        "id": "5CXLiokNvZ-L",
        "outputId": "08a0ae91-f60f-4536-c1f5-ff2665829b03"
      },
      "outputs": [
        {
          "output_type": "stream",
          "name": "stdout",
          "text": [
            "Dataset({\n",
            "    features: ['input', 'output'],\n",
            "    num_rows: 23\n",
            "})\n"
          ]
        }
      ],
      "source": [
        "from datasets import load_dataset\n",
        "\n",
        "aesop_dataset = load_dataset(\"withpi/aesop\", split=\"train\")\n",
        "print(aesop_dataset)"
      ]
    },
    {
      "cell_type": "markdown",
      "metadata": {
        "id": "xKdHjmT3wTWi"
      },
      "source": [
        "# Score\n",
        "\n",
        "Let's first score all the examples and only keep the high scored examples which can be used as training examples later on."
      ]
    },
    {
      "cell_type": "code",
      "execution_count": null,
      "metadata": {
        "colab": {
          "base_uri": "https://localhost:8080/",
          "height": 118,
          "referenced_widgets": [
            "6afd357040814411948dd2433bdc95cb",
            "cade6636f1514886b2b7f908c9bda637",
            "3fd5669d72d746a4ab28cb3fe6ffb29c",
            "535c29f005b94132afdf4569da7a828f",
            "a7eec40282bc47c1a64e6e6837d8a7ef",
            "f45d83f63c614a979d007626af31b0b3",
            "cab598f708eb4207b79da45a73d00fce",
            "5493857aae8f4f86b217ed9b5e0c804a",
            "a1d3df5917be4950961a8fb106a12564",
            "c4405143e11e49509805f7f6aa82c510",
            "29657c8a685a49e5b234a274b41f8aa6"
          ]
        },
        "id": "8CI3CbX8wvly",
        "outputId": "a74f19cd-2cf9-4872-a143-4ce4e2dd6fbd"
      },
      "outputs": [
        {
          "output_type": "display_data",
          "data": {
            "text/plain": [
              "Map:   0%|          | 0/23 [00:00<?, ? examples/s]"
            ],
            "application/vnd.jupyter.widget-view+json": {
              "version_major": 2,
              "version_minor": 0,
              "model_id": "6afd357040814411948dd2433bdc95cb"
            }
          },
          "metadata": {}
        },
        {
          "output_type": "display_data",
          "data": {
            "text/plain": [
              "Dataset({\n",
              "    features: ['input', 'output', 'score'],\n",
              "    num_rows: 23\n",
              "})"
            ]
          },
          "metadata": {}
        }
      ],
      "source": [
        "aesop_dataset = aesop_dataset.map(score)\n",
        "\n",
        "display(aesop_dataset)"
      ]
    },
    {
      "cell_type": "markdown",
      "source": [
        "# Filter\n",
        "\n",
        "Now lets compare a good example and a bad one, to see if the score makes sense"
      ],
      "metadata": {
        "id": "x3bQpSlPvNfM"
      }
    },
    {
      "cell_type": "code",
      "execution_count": null,
      "metadata": {
        "colab": {
          "base_uri": "https://localhost:8080/",
          "height": 741,
          "referenced_widgets": [
            "926dd820ba3143af8b45c4403da369b6",
            "9b9e76c20e764d83804d538cb6bb76b3",
            "53fa35549fae4b6981f72ddf8bf83541",
            "008ac3aeffb54cf9ae0e8b32cf75cb59",
            "5edcae4855ac4e7bb13d70718aaa2308",
            "a12552ceb866437ab64a47b7490bfd5e",
            "6ba4423f5e844573b08ec13553088e50",
            "87a40bb09c1b4e3589897c2b63bbc211",
            "96657f94370d4138b043c9dcf3899884",
            "61e72ca8d2324b91b9cbf142d8deef0e",
            "98a9e265dd774740af9db724f0e4b10e",
            "66073418e7af479397a42780f51766d0",
            "923a95afbaa44f0a9a5d00ad3d76f7c4",
            "49af1015b71e45199abb0b0544e70ccf",
            "077093f6bfc44bb9aa4b7f17981c0988",
            "c9b19a3e5a8544f8870d065cda824942",
            "aa38f6a84e3b486f83ec009042a039ae",
            "e272e182792b4966bcf534d9652c762a",
            "9d0592472e4a44789b37021710e061d8",
            "754c4404c91745ff869a89420a2bbad2",
            "98d18bbd1c79473cac0949191a7f923d",
            "d7737bdc93b14727b25460aa06e2a9f8"
          ]
        },
        "id": "99pzv2GN4M-x",
        "outputId": "06c471f4-f7d2-4fb3-e942-8dc85232771d"
      },
      "outputs": [
        {
          "output_type": "display_data",
          "data": {
            "text/plain": [
              "Filter:   0%|          | 0/23 [00:00<?, ? examples/s]"
            ],
            "application/vnd.jupyter.widget-view+json": {
              "version_major": 2,
              "version_minor": 0,
              "model_id": "926dd820ba3143af8b45c4403da369b6"
            }
          },
          "metadata": {}
        },
        {
          "output_type": "display_data",
          "data": {
            "text/plain": [
              "Filter:   0%|          | 0/23 [00:00<?, ? examples/s]"
            ],
            "application/vnd.jupyter.widget-view+json": {
              "version_major": 2,
              "version_minor": 0,
              "model_id": "66073418e7af479397a42780f51766d0"
            }
          },
          "metadata": {}
        },
        {
          "output_type": "display_data",
          "data": {
            "text/plain": [
              "<IPython.core.display.HTML object>"
            ],
            "text/html": [
              "\n",
              "        <div style=\"display: flex; gap: 20px;\">\n",
              "            <div style=\"width: 40%; padding: 10px; border: 1px solid #ddd; background-color: #f0f0f0; text-align:center;\">\n",
              "                <h4>Base</h4>\n",
              "            </div>\n",
              "            <div style=\"width: 40%; padding: 10px; border: 1px solid #ddd; background-color: #f0f0f0; text-align:center;\">\n",
              "                <h4>Test</h4>\n",
              "            </div>\n",
              "        </div>\n",
              "        <div style=\"display: flex; gap: 20px;\">\n",
              "            <div style=\"width: 40%; padding: 10px; border: 1px solid #ddd;\">\n",
              "                <p>Once upon a time, in a sun-drenched forest, lived a clever crow named Corvus.  Corvus was known throughout the woods for his magnificent, iridescent feathers, which shimmered like captured sunlight.  A sly fox, named Reynard, prowled the forest, his eyes gleaming with cunning.</p>\n",
              "<p>Reynard, always on the lookout for an easy meal, spied Corvus perched on a branch.  He padded silently towards him, a mischievous glint in his eye.</p>\n",
              "<p>\"Oh, Corvus,\" Reynard purred, his voice smooth as honey. \"What a magnificent creature you are!  Your plumage is the most exquisite I've ever beheld.  No other bird in the forest can compare.\"</p>\n",
              "<p>Corvus, flattered beyond measure, puffed up his feathers. \"Indeed,\" he crowed, feeling quite important. \"My beauty is unparalleled.\"</p>\n",
              "<p>Reynard continued his flattery. \"And your voice! It is like the sweet chime of a thousand bells. I've never heard such melodious notes.\"</p>\n",
              "<p>Corvus's tail feathers trembled with pride.  \"My song is a gift from the gods,\" he boasted.</p>\n",
              "<p>Reynard, with a sly smile, then said, \"You are the most magnificent bird in the whole forest.  Why not come with me to my den?  I have a feast prepared just for you, a feast worthy of such a splendid creature.\"</p>\n",
              "<p>Corvus, utterly convinced of his own magnificence, forgot all caution.  He hopped down from the branch and followed Reynard into the deep woods.</p>\n",
              "<p>Reynard, however, led him, not to a feast, but to a trap.  A deep pit, cleverly disguised with leaves and twigs, awaited the unsuspecting crow.</p>\n",
              "<p>Corvus, still basking in the glow of Reynard's praise, landed in the pit with a startled caw.  He looked up, bewildered, at Reynard.</p>\n",
              "<p>Reynard laughed, a sound like tinkling ice. \"I'm afraid,\" he said, \"your magnificent plumage and melodious voice are no match for a good old-fashioned trap.\"</p>\n",
              "<p>Corvus, finally understanding his mistake, scolded Reynard for his deception.  \"You flattered me with empty words,\" he said. \"Foolish of me to believe such hollow praise.\"</p>\n",
              "<p>Reynard merely smirked, and scurried away, leaving Corvus to recover from his near-tragedy.</p>\n",
              "<p>From that day on, Corvus learned a valuable lesson.  He learned that true worth isn't found in empty flattery, but in the strength of one's own character and careful judgment. He never trusted a flattering word again, and wisely chose his company with care.</p>\n",
              "            </div>\n",
              "            <div style=\"width: 40%; padding: 10px; border: 1px solid #ddd;\">\n",
              "                <p>Barnaby the hare was a blur of twitching whiskers and bouncing leaps.  He scoffed at the tortoise, Theodore, whose pace was slower than a snail's.  \"You lumbering, plodding creature!\" Barnaby would boast, his long ears flopping with each impatient hop. \"I'll be across the meadow before you've even started!\"</p>\n",
              "<p>One spring day, the meadow flowers were in full bloom, their colours like painted rainbows.  A grand festival of the flowers was being held, and a delicious honey cake, baked by the buzzing bees, was the prize.  Barnaby, full of confidence, dashed off, his legs moving like lightning. He zig-zagged through the tall grass, his heart pounding with excitement.</p>\n",
              "<p>Theodore, true to form, started at a steady pace. He methodically made his way through the meadow, nibbling clover and checking each flower for hidden dew drops.  Barnaby, distracted by the sparkling brook and the buzzing dragonflies, took a detour to admire a particularly beautiful buttercup.  He paused to chase a butterfly, and then, lost in a game of tag with a mischievous squirrel, he completely lost his way.</p>\n",
              "<p>Theodore, meanwhile, continued his steady progress.  He encountered a patch of thorny bushes, but carefully maneuvered around them.  He navigated a tricky stream by slowly and deliberately finding the shallowest part.  He was always mindful of his surroundings, even when the pace seemed slow to him.</p>\n",
              "<p>Finally, the finish line, a magnificent oak tree beneath which the bees had placed the honey cake, came into sight. Barnaby, exhausted and disoriented, arrived panting and sweating.  The honey cake had already been devoured!  Theodore, though hours behind Barnaby's initial start, was the next to reach the tree. He'd navigated the meadow with care and determination.</p>\n",
              "<p>Theodore, with a thoughtful sigh, smiled at Barnaby. \"You may run fast, Barnaby,\" he said, \"but slow and steady brings you to the finish line, safely.\"</p>\n",
              "<p>Barnaby, seeing the empty plates and the disappointed expressions of the flowers, realized that Theodore was right.  From that day on, Barnaby learned that haste, without care, leads to empty promises, and a slow, thoughtful approach can be just as rewarding \u2013 and perhaps even more reliable.  And he learned the truth of the adage: Slow and steady wins the race.</p>\n",
              "            </div>\n",
              "        </div>\n",
              "        "
            ]
          },
          "metadata": {}
        }
      ],
      "source": [
        "from withpi_utils.colab import pretty_print_responses\n",
        "\n",
        "\n",
        "good_examples = aesop_dataset.filter(lambda example: example[\"score\"] > 0.95)\n",
        "bad_examples = aesop_dataset.filter(lambda example: example[\"score\"] <= 0.95)\n",
        "\n",
        "pretty_print_responses(good_examples.take(1)[0][\"output\"], bad_examples.take(1)[0][\"output\"])"
      ]
    },
    {
      "cell_type": "markdown",
      "metadata": {
        "id": "pbIvdCOE5A9m"
      },
      "source": [
        "## Next Steps\n",
        "\n",
        "Look at the datasets above and see if you agree with the scorer's assesment. Try different questions or different data.\n",
        "\n",
        "With a cleaner dataset you can use it in training or fine-tuning workflows as you see fit."
      ]
    }
  ],
  "metadata": {
    "colab": {
      "provenance": [],
      "include_colab_link": true
    },
    "kernelspec": {
      "display_name": "Python 3",
      "name": "python3"
    },
    "language_info": {
      "name": "python"
    },
    "widgets": {
      "application/vnd.jupyter.widget-state+json": {
        "6afd357040814411948dd2433bdc95cb": {
          "model_module": "@jupyter-widgets/controls",
          "model_name": "HBoxModel",
          "model_module_version": "1.5.0",
          "state": {
            "_dom_classes": [],
            "_model_module": "@jupyter-widgets/controls",
            "_model_module_version": "1.5.0",
            "_model_name": "HBoxModel",
            "_view_count": null,
            "_view_module": "@jupyter-widgets/controls",
            "_view_module_version": "1.5.0",
            "_view_name": "HBoxView",
            "box_style": "",
            "children": [
              "IPY_MODEL_cade6636f1514886b2b7f908c9bda637",
              "IPY_MODEL_3fd5669d72d746a4ab28cb3fe6ffb29c",
              "IPY_MODEL_535c29f005b94132afdf4569da7a828f"
            ],
            "layout": "IPY_MODEL_a7eec40282bc47c1a64e6e6837d8a7ef"
          }
        },
        "cade6636f1514886b2b7f908c9bda637": {
          "model_module": "@jupyter-widgets/controls",
          "model_name": "HTMLModel",
          "model_module_version": "1.5.0",
          "state": {
            "_dom_classes": [],
            "_model_module": "@jupyter-widgets/controls",
            "_model_module_version": "1.5.0",
            "_model_name": "HTMLModel",
            "_view_count": null,
            "_view_module": "@jupyter-widgets/controls",
            "_view_module_version": "1.5.0",
            "_view_name": "HTMLView",
            "description": "",
            "description_tooltip": null,
            "layout": "IPY_MODEL_f45d83f63c614a979d007626af31b0b3",
            "placeholder": "\u200b",
            "style": "IPY_MODEL_cab598f708eb4207b79da45a73d00fce",
            "value": "Map:\u2007100%"
          }
        },
        "3fd5669d72d746a4ab28cb3fe6ffb29c": {
          "model_module": "@jupyter-widgets/controls",
          "model_name": "FloatProgressModel",
          "model_module_version": "1.5.0",
          "state": {
            "_dom_classes": [],
            "_model_module": "@jupyter-widgets/controls",
            "_model_module_version": "1.5.0",
            "_model_name": "FloatProgressModel",
            "_view_count": null,
            "_view_module": "@jupyter-widgets/controls",
            "_view_module_version": "1.5.0",
            "_view_name": "ProgressView",
            "bar_style": "success",
            "description": "",
            "description_tooltip": null,
            "layout": "IPY_MODEL_5493857aae8f4f86b217ed9b5e0c804a",
            "max": 23,
            "min": 0,
            "orientation": "horizontal",
            "style": "IPY_MODEL_a1d3df5917be4950961a8fb106a12564",
            "value": 23
          }
        },
        "535c29f005b94132afdf4569da7a828f": {
          "model_module": "@jupyter-widgets/controls",
          "model_name": "HTMLModel",
          "model_module_version": "1.5.0",
          "state": {
            "_dom_classes": [],
            "_model_module": "@jupyter-widgets/controls",
            "_model_module_version": "1.5.0",
            "_model_name": "HTMLModel",
            "_view_count": null,
            "_view_module": "@jupyter-widgets/controls",
            "_view_module_version": "1.5.0",
            "_view_name": "HTMLView",
            "description": "",
            "description_tooltip": null,
            "layout": "IPY_MODEL_c4405143e11e49509805f7f6aa82c510",
            "placeholder": "\u200b",
            "style": "IPY_MODEL_29657c8a685a49e5b234a274b41f8aa6",
            "value": "\u200723/23\u2007[00:03&lt;00:00,\u2007\u20077.89\u2007examples/s]"
          }
        },
        "a7eec40282bc47c1a64e6e6837d8a7ef": {
          "model_module": "@jupyter-widgets/base",
          "model_name": "LayoutModel",
          "model_module_version": "1.2.0",
          "state": {
            "_model_module": "@jupyter-widgets/base",
            "_model_module_version": "1.2.0",
            "_model_name": "LayoutModel",
            "_view_count": null,
            "_view_module": "@jupyter-widgets/base",
            "_view_module_version": "1.2.0",
            "_view_name": "LayoutView",
            "align_content": null,
            "align_items": null,
            "align_self": null,
            "border": null,
            "bottom": null,
            "display": null,
            "flex": null,
            "flex_flow": null,
            "grid_area": null,
            "grid_auto_columns": null,
            "grid_auto_flow": null,
            "grid_auto_rows": null,
            "grid_column": null,
            "grid_gap": null,
            "grid_row": null,
            "grid_template_areas": null,
            "grid_template_columns": null,
            "grid_template_rows": null,
            "height": null,
            "justify_content": null,
            "justify_items": null,
            "left": null,
            "margin": null,
            "max_height": null,
            "max_width": null,
            "min_height": null,
            "min_width": null,
            "object_fit": null,
            "object_position": null,
            "order": null,
            "overflow": null,
            "overflow_x": null,
            "overflow_y": null,
            "padding": null,
            "right": null,
            "top": null,
            "visibility": null,
            "width": null
          }
        },
        "f45d83f63c614a979d007626af31b0b3": {
          "model_module": "@jupyter-widgets/base",
          "model_name": "LayoutModel",
          "model_module_version": "1.2.0",
          "state": {
            "_model_module": "@jupyter-widgets/base",
            "_model_module_version": "1.2.0",
            "_model_name": "LayoutModel",
            "_view_count": null,
            "_view_module": "@jupyter-widgets/base",
            "_view_module_version": "1.2.0",
            "_view_name": "LayoutView",
            "align_content": null,
            "align_items": null,
            "align_self": null,
            "border": null,
            "bottom": null,
            "display": null,
            "flex": null,
            "flex_flow": null,
            "grid_area": null,
            "grid_auto_columns": null,
            "grid_auto_flow": null,
            "grid_auto_rows": null,
            "grid_column": null,
            "grid_gap": null,
            "grid_row": null,
            "grid_template_areas": null,
            "grid_template_columns": null,
            "grid_template_rows": null,
            "height": null,
            "justify_content": null,
            "justify_items": null,
            "left": null,
            "margin": null,
            "max_height": null,
            "max_width": null,
            "min_height": null,
            "min_width": null,
            "object_fit": null,
            "object_position": null,
            "order": null,
            "overflow": null,
            "overflow_x": null,
            "overflow_y": null,
            "padding": null,
            "right": null,
            "top": null,
            "visibility": null,
            "width": null
          }
        },
        "cab598f708eb4207b79da45a73d00fce": {
          "model_module": "@jupyter-widgets/controls",
          "model_name": "DescriptionStyleModel",
          "model_module_version": "1.5.0",
          "state": {
            "_model_module": "@jupyter-widgets/controls",
            "_model_module_version": "1.5.0",
            "_model_name": "DescriptionStyleModel",
            "_view_count": null,
            "_view_module": "@jupyter-widgets/base",
            "_view_module_version": "1.2.0",
            "_view_name": "StyleView",
            "description_width": ""
          }
        },
        "5493857aae8f4f86b217ed9b5e0c804a": {
          "model_module": "@jupyter-widgets/base",
          "model_name": "LayoutModel",
          "model_module_version": "1.2.0",
          "state": {
            "_model_module": "@jupyter-widgets/base",
            "_model_module_version": "1.2.0",
            "_model_name": "LayoutModel",
            "_view_count": null,
            "_view_module": "@jupyter-widgets/base",
            "_view_module_version": "1.2.0",
            "_view_name": "LayoutView",
            "align_content": null,
            "align_items": null,
            "align_self": null,
            "border": null,
            "bottom": null,
            "display": null,
            "flex": null,
            "flex_flow": null,
            "grid_area": null,
            "grid_auto_columns": null,
            "grid_auto_flow": null,
            "grid_auto_rows": null,
            "grid_column": null,
            "grid_gap": null,
            "grid_row": null,
            "grid_template_areas": null,
            "grid_template_columns": null,
            "grid_template_rows": null,
            "height": null,
            "justify_content": null,
            "justify_items": null,
            "left": null,
            "margin": null,
            "max_height": null,
            "max_width": null,
            "min_height": null,
            "min_width": null,
            "object_fit": null,
            "object_position": null,
            "order": null,
            "overflow": null,
            "overflow_x": null,
            "overflow_y": null,
            "padding": null,
            "right": null,
            "top": null,
            "visibility": null,
            "width": null
          }
        },
        "a1d3df5917be4950961a8fb106a12564": {
          "model_module": "@jupyter-widgets/controls",
          "model_name": "ProgressStyleModel",
          "model_module_version": "1.5.0",
          "state": {
            "_model_module": "@jupyter-widgets/controls",
            "_model_module_version": "1.5.0",
            "_model_name": "ProgressStyleModel",
            "_view_count": null,
            "_view_module": "@jupyter-widgets/base",
            "_view_module_version": "1.2.0",
            "_view_name": "StyleView",
            "bar_color": null,
            "description_width": ""
          }
        },
        "c4405143e11e49509805f7f6aa82c510": {
          "model_module": "@jupyter-widgets/base",
          "model_name": "LayoutModel",
          "model_module_version": "1.2.0",
          "state": {
            "_model_module": "@jupyter-widgets/base",
            "_model_module_version": "1.2.0",
            "_model_name": "LayoutModel",
            "_view_count": null,
            "_view_module": "@jupyter-widgets/base",
            "_view_module_version": "1.2.0",
            "_view_name": "LayoutView",
            "align_content": null,
            "align_items": null,
            "align_self": null,
            "border": null,
            "bottom": null,
            "display": null,
            "flex": null,
            "flex_flow": null,
            "grid_area": null,
            "grid_auto_columns": null,
            "grid_auto_flow": null,
            "grid_auto_rows": null,
            "grid_column": null,
            "grid_gap": null,
            "grid_row": null,
            "grid_template_areas": null,
            "grid_template_columns": null,
            "grid_template_rows": null,
            "height": null,
            "justify_content": null,
            "justify_items": null,
            "left": null,
            "margin": null,
            "max_height": null,
            "max_width": null,
            "min_height": null,
            "min_width": null,
            "object_fit": null,
            "object_position": null,
            "order": null,
            "overflow": null,
            "overflow_x": null,
            "overflow_y": null,
            "padding": null,
            "right": null,
            "top": null,
            "visibility": null,
            "width": null
          }
        },
        "29657c8a685a49e5b234a274b41f8aa6": {
          "model_module": "@jupyter-widgets/controls",
          "model_name": "DescriptionStyleModel",
          "model_module_version": "1.5.0",
          "state": {
            "_model_module": "@jupyter-widgets/controls",
            "_model_module_version": "1.5.0",
            "_model_name": "DescriptionStyleModel",
            "_view_count": null,
            "_view_module": "@jupyter-widgets/base",
            "_view_module_version": "1.2.0",
            "_view_name": "StyleView",
            "description_width": ""
          }
        },
        "926dd820ba3143af8b45c4403da369b6": {
          "model_module": "@jupyter-widgets/controls",
          "model_name": "HBoxModel",
          "model_module_version": "1.5.0",
          "state": {
            "_dom_classes": [],
            "_model_module": "@jupyter-widgets/controls",
            "_model_module_version": "1.5.0",
            "_model_name": "HBoxModel",
            "_view_count": null,
            "_view_module": "@jupyter-widgets/controls",
            "_view_module_version": "1.5.0",
            "_view_name": "HBoxView",
            "box_style": "",
            "children": [
              "IPY_MODEL_9b9e76c20e764d83804d538cb6bb76b3",
              "IPY_MODEL_53fa35549fae4b6981f72ddf8bf83541",
              "IPY_MODEL_008ac3aeffb54cf9ae0e8b32cf75cb59"
            ],
            "layout": "IPY_MODEL_5edcae4855ac4e7bb13d70718aaa2308"
          }
        },
        "9b9e76c20e764d83804d538cb6bb76b3": {
          "model_module": "@jupyter-widgets/controls",
          "model_name": "HTMLModel",
          "model_module_version": "1.5.0",
          "state": {
            "_dom_classes": [],
            "_model_module": "@jupyter-widgets/controls",
            "_model_module_version": "1.5.0",
            "_model_name": "HTMLModel",
            "_view_count": null,
            "_view_module": "@jupyter-widgets/controls",
            "_view_module_version": "1.5.0",
            "_view_name": "HTMLView",
            "description": "",
            "description_tooltip": null,
            "layout": "IPY_MODEL_a12552ceb866437ab64a47b7490bfd5e",
            "placeholder": "\u200b",
            "style": "IPY_MODEL_6ba4423f5e844573b08ec13553088e50",
            "value": "Filter:\u2007100%"
          }
        },
        "53fa35549fae4b6981f72ddf8bf83541": {
          "model_module": "@jupyter-widgets/controls",
          "model_name": "FloatProgressModel",
          "model_module_version": "1.5.0",
          "state": {
            "_dom_classes": [],
            "_model_module": "@jupyter-widgets/controls",
            "_model_module_version": "1.5.0",
            "_model_name": "FloatProgressModel",
            "_view_count": null,
            "_view_module": "@jupyter-widgets/controls",
            "_view_module_version": "1.5.0",
            "_view_name": "ProgressView",
            "bar_style": "success",
            "description": "",
            "description_tooltip": null,
            "layout": "IPY_MODEL_87a40bb09c1b4e3589897c2b63bbc211",
            "max": 23,
            "min": 0,
            "orientation": "horizontal",
            "style": "IPY_MODEL_96657f94370d4138b043c9dcf3899884",
            "value": 23
          }
        },
        "008ac3aeffb54cf9ae0e8b32cf75cb59": {
          "model_module": "@jupyter-widgets/controls",
          "model_name": "HTMLModel",
          "model_module_version": "1.5.0",
          "state": {
            "_dom_classes": [],
            "_model_module": "@jupyter-widgets/controls",
            "_model_module_version": "1.5.0",
            "_model_name": "HTMLModel",
            "_view_count": null,
            "_view_module": "@jupyter-widgets/controls",
            "_view_module_version": "1.5.0",
            "_view_name": "HTMLView",
            "description": "",
            "description_tooltip": null,
            "layout": "IPY_MODEL_61e72ca8d2324b91b9cbf142d8deef0e",
            "placeholder": "\u200b",
            "style": "IPY_MODEL_98a9e265dd774740af9db724f0e4b10e",
            "value": "\u200723/23\u2007[00:00&lt;00:00,\u2007823.42\u2007examples/s]"
          }
        },
        "5edcae4855ac4e7bb13d70718aaa2308": {
          "model_module": "@jupyter-widgets/base",
          "model_name": "LayoutModel",
          "model_module_version": "1.2.0",
          "state": {
            "_model_module": "@jupyter-widgets/base",
            "_model_module_version": "1.2.0",
            "_model_name": "LayoutModel",
            "_view_count": null,
            "_view_module": "@jupyter-widgets/base",
            "_view_module_version": "1.2.0",
            "_view_name": "LayoutView",
            "align_content": null,
            "align_items": null,
            "align_self": null,
            "border": null,
            "bottom": null,
            "display": null,
            "flex": null,
            "flex_flow": null,
            "grid_area": null,
            "grid_auto_columns": null,
            "grid_auto_flow": null,
            "grid_auto_rows": null,
            "grid_column": null,
            "grid_gap": null,
            "grid_row": null,
            "grid_template_areas": null,
            "grid_template_columns": null,
            "grid_template_rows": null,
            "height": null,
            "justify_content": null,
            "justify_items": null,
            "left": null,
            "margin": null,
            "max_height": null,
            "max_width": null,
            "min_height": null,
            "min_width": null,
            "object_fit": null,
            "object_position": null,
            "order": null,
            "overflow": null,
            "overflow_x": null,
            "overflow_y": null,
            "padding": null,
            "right": null,
            "top": null,
            "visibility": null,
            "width": null
          }
        },
        "a12552ceb866437ab64a47b7490bfd5e": {
          "model_module": "@jupyter-widgets/base",
          "model_name": "LayoutModel",
          "model_module_version": "1.2.0",
          "state": {
            "_model_module": "@jupyter-widgets/base",
            "_model_module_version": "1.2.0",
            "_model_name": "LayoutModel",
            "_view_count": null,
            "_view_module": "@jupyter-widgets/base",
            "_view_module_version": "1.2.0",
            "_view_name": "LayoutView",
            "align_content": null,
            "align_items": null,
            "align_self": null,
            "border": null,
            "bottom": null,
            "display": null,
            "flex": null,
            "flex_flow": null,
            "grid_area": null,
            "grid_auto_columns": null,
            "grid_auto_flow": null,
            "grid_auto_rows": null,
            "grid_column": null,
            "grid_gap": null,
            "grid_row": null,
            "grid_template_areas": null,
            "grid_template_columns": null,
            "grid_template_rows": null,
            "height": null,
            "justify_content": null,
            "justify_items": null,
            "left": null,
            "margin": null,
            "max_height": null,
            "max_width": null,
            "min_height": null,
            "min_width": null,
            "object_fit": null,
            "object_position": null,
            "order": null,
            "overflow": null,
            "overflow_x": null,
            "overflow_y": null,
            "padding": null,
            "right": null,
            "top": null,
            "visibility": null,
            "width": null
          }
        },
        "6ba4423f5e844573b08ec13553088e50": {
          "model_module": "@jupyter-widgets/controls",
          "model_name": "DescriptionStyleModel",
          "model_module_version": "1.5.0",
          "state": {
            "_model_module": "@jupyter-widgets/controls",
            "_model_module_version": "1.5.0",
            "_model_name": "DescriptionStyleModel",
            "_view_count": null,
            "_view_module": "@jupyter-widgets/base",
            "_view_module_version": "1.2.0",
            "_view_name": "StyleView",
            "description_width": ""
          }
        },
        "87a40bb09c1b4e3589897c2b63bbc211": {
          "model_module": "@jupyter-widgets/base",
          "model_name": "LayoutModel",
          "model_module_version": "1.2.0",
          "state": {
            "_model_module": "@jupyter-widgets/base",
            "_model_module_version": "1.2.0",
            "_model_name": "LayoutModel",
            "_view_count": null,
            "_view_module": "@jupyter-widgets/base",
            "_view_module_version": "1.2.0",
            "_view_name": "LayoutView",
            "align_content": null,
            "align_items": null,
            "align_self": null,
            "border": null,
            "bottom": null,
            "display": null,
            "flex": null,
            "flex_flow": null,
            "grid_area": null,
            "grid_auto_columns": null,
            "grid_auto_flow": null,
            "grid_auto_rows": null,
            "grid_column": null,
            "grid_gap": null,
            "grid_row": null,
            "grid_template_areas": null,
            "grid_template_columns": null,
            "grid_template_rows": null,
            "height": null,
            "justify_content": null,
            "justify_items": null,
            "left": null,
            "margin": null,
            "max_height": null,
            "max_width": null,
            "min_height": null,
            "min_width": null,
            "object_fit": null,
            "object_position": null,
            "order": null,
            "overflow": null,
            "overflow_x": null,
            "overflow_y": null,
            "padding": null,
            "right": null,
            "top": null,
            "visibility": null,
            "width": null
          }
        },
        "96657f94370d4138b043c9dcf3899884": {
          "model_module": "@jupyter-widgets/controls",
          "model_name": "ProgressStyleModel",
          "model_module_version": "1.5.0",
          "state": {
            "_model_module": "@jupyter-widgets/controls",
            "_model_module_version": "1.5.0",
            "_model_name": "ProgressStyleModel",
            "_view_count": null,
            "_view_module": "@jupyter-widgets/base",
            "_view_module_version": "1.2.0",
            "_view_name": "StyleView",
            "bar_color": null,
            "description_width": ""
          }
        },
        "61e72ca8d2324b91b9cbf142d8deef0e": {
          "model_module": "@jupyter-widgets/base",
          "model_name": "LayoutModel",
          "model_module_version": "1.2.0",
          "state": {
            "_model_module": "@jupyter-widgets/base",
            "_model_module_version": "1.2.0",
            "_model_name": "LayoutModel",
            "_view_count": null,
            "_view_module": "@jupyter-widgets/base",
            "_view_module_version": "1.2.0",
            "_view_name": "LayoutView",
            "align_content": null,
            "align_items": null,
            "align_self": null,
            "border": null,
            "bottom": null,
            "display": null,
            "flex": null,
            "flex_flow": null,
            "grid_area": null,
            "grid_auto_columns": null,
            "grid_auto_flow": null,
            "grid_auto_rows": null,
            "grid_column": null,
            "grid_gap": null,
            "grid_row": null,
            "grid_template_areas": null,
            "grid_template_columns": null,
            "grid_template_rows": null,
            "height": null,
            "justify_content": null,
            "justify_items": null,
            "left": null,
            "margin": null,
            "max_height": null,
            "max_width": null,
            "min_height": null,
            "min_width": null,
            "object_fit": null,
            "object_position": null,
            "order": null,
            "overflow": null,
            "overflow_x": null,
            "overflow_y": null,
            "padding": null,
            "right": null,
            "top": null,
            "visibility": null,
            "width": null
          }
        },
        "98a9e265dd774740af9db724f0e4b10e": {
          "model_module": "@jupyter-widgets/controls",
          "model_name": "DescriptionStyleModel",
          "model_module_version": "1.5.0",
          "state": {
            "_model_module": "@jupyter-widgets/controls",
            "_model_module_version": "1.5.0",
            "_model_name": "DescriptionStyleModel",
            "_view_count": null,
            "_view_module": "@jupyter-widgets/base",
            "_view_module_version": "1.2.0",
            "_view_name": "StyleView",
            "description_width": ""
          }
        },
        "66073418e7af479397a42780f51766d0": {
          "model_module": "@jupyter-widgets/controls",
          "model_name": "HBoxModel",
          "model_module_version": "1.5.0",
          "state": {
            "_dom_classes": [],
            "_model_module": "@jupyter-widgets/controls",
            "_model_module_version": "1.5.0",
            "_model_name": "HBoxModel",
            "_view_count": null,
            "_view_module": "@jupyter-widgets/controls",
            "_view_module_version": "1.5.0",
            "_view_name": "HBoxView",
            "box_style": "",
            "children": [
              "IPY_MODEL_923a95afbaa44f0a9a5d00ad3d76f7c4",
              "IPY_MODEL_49af1015b71e45199abb0b0544e70ccf",
              "IPY_MODEL_077093f6bfc44bb9aa4b7f17981c0988"
            ],
            "layout": "IPY_MODEL_c9b19a3e5a8544f8870d065cda824942"
          }
        },
        "923a95afbaa44f0a9a5d00ad3d76f7c4": {
          "model_module": "@jupyter-widgets/controls",
          "model_name": "HTMLModel",
          "model_module_version": "1.5.0",
          "state": {
            "_dom_classes": [],
            "_model_module": "@jupyter-widgets/controls",
            "_model_module_version": "1.5.0",
            "_model_name": "HTMLModel",
            "_view_count": null,
            "_view_module": "@jupyter-widgets/controls",
            "_view_module_version": "1.5.0",
            "_view_name": "HTMLView",
            "description": "",
            "description_tooltip": null,
            "layout": "IPY_MODEL_aa38f6a84e3b486f83ec009042a039ae",
            "placeholder": "\u200b",
            "style": "IPY_MODEL_e272e182792b4966bcf534d9652c762a",
            "value": "Filter:\u2007100%"
          }
        },
        "49af1015b71e45199abb0b0544e70ccf": {
          "model_module": "@jupyter-widgets/controls",
          "model_name": "FloatProgressModel",
          "model_module_version": "1.5.0",
          "state": {
            "_dom_classes": [],
            "_model_module": "@jupyter-widgets/controls",
            "_model_module_version": "1.5.0",
            "_model_name": "FloatProgressModel",
            "_view_count": null,
            "_view_module": "@jupyter-widgets/controls",
            "_view_module_version": "1.5.0",
            "_view_name": "ProgressView",
            "bar_style": "success",
            "description": "",
            "description_tooltip": null,
            "layout": "IPY_MODEL_9d0592472e4a44789b37021710e061d8",
            "max": 23,
            "min": 0,
            "orientation": "horizontal",
            "style": "IPY_MODEL_754c4404c91745ff869a89420a2bbad2",
            "value": 23
          }
        },
        "077093f6bfc44bb9aa4b7f17981c0988": {
          "model_module": "@jupyter-widgets/controls",
          "model_name": "HTMLModel",
          "model_module_version": "1.5.0",
          "state": {
            "_dom_classes": [],
            "_model_module": "@jupyter-widgets/controls",
            "_model_module_version": "1.5.0",
            "_model_name": "HTMLModel",
            "_view_count": null,
            "_view_module": "@jupyter-widgets/controls",
            "_view_module_version": "1.5.0",
            "_view_name": "HTMLView",
            "description": "",
            "description_tooltip": null,
            "layout": "IPY_MODEL_98d18bbd1c79473cac0949191a7f923d",
            "placeholder": "\u200b",
            "style": "IPY_MODEL_d7737bdc93b14727b25460aa06e2a9f8",
            "value": "\u200723/23\u2007[00:00&lt;00:00,\u2007798.64\u2007examples/s]"
          }
        },
        "c9b19a3e5a8544f8870d065cda824942": {
          "model_module": "@jupyter-widgets/base",
          "model_name": "LayoutModel",
          "model_module_version": "1.2.0",
          "state": {
            "_model_module": "@jupyter-widgets/base",
            "_model_module_version": "1.2.0",
            "_model_name": "LayoutModel",
            "_view_count": null,
            "_view_module": "@jupyter-widgets/base",
            "_view_module_version": "1.2.0",
            "_view_name": "LayoutView",
            "align_content": null,
            "align_items": null,
            "align_self": null,
            "border": null,
            "bottom": null,
            "display": null,
            "flex": null,
            "flex_flow": null,
            "grid_area": null,
            "grid_auto_columns": null,
            "grid_auto_flow": null,
            "grid_auto_rows": null,
            "grid_column": null,
            "grid_gap": null,
            "grid_row": null,
            "grid_template_areas": null,
            "grid_template_columns": null,
            "grid_template_rows": null,
            "height": null,
            "justify_content": null,
            "justify_items": null,
            "left": null,
            "margin": null,
            "max_height": null,
            "max_width": null,
            "min_height": null,
            "min_width": null,
            "object_fit": null,
            "object_position": null,
            "order": null,
            "overflow": null,
            "overflow_x": null,
            "overflow_y": null,
            "padding": null,
            "right": null,
            "top": null,
            "visibility": null,
            "width": null
          }
        },
        "aa38f6a84e3b486f83ec009042a039ae": {
          "model_module": "@jupyter-widgets/base",
          "model_name": "LayoutModel",
          "model_module_version": "1.2.0",
          "state": {
            "_model_module": "@jupyter-widgets/base",
            "_model_module_version": "1.2.0",
            "_model_name": "LayoutModel",
            "_view_count": null,
            "_view_module": "@jupyter-widgets/base",
            "_view_module_version": "1.2.0",
            "_view_name": "LayoutView",
            "align_content": null,
            "align_items": null,
            "align_self": null,
            "border": null,
            "bottom": null,
            "display": null,
            "flex": null,
            "flex_flow": null,
            "grid_area": null,
            "grid_auto_columns": null,
            "grid_auto_flow": null,
            "grid_auto_rows": null,
            "grid_column": null,
            "grid_gap": null,
            "grid_row": null,
            "grid_template_areas": null,
            "grid_template_columns": null,
            "grid_template_rows": null,
            "height": null,
            "justify_content": null,
            "justify_items": null,
            "left": null,
            "margin": null,
            "max_height": null,
            "max_width": null,
            "min_height": null,
            "min_width": null,
            "object_fit": null,
            "object_position": null,
            "order": null,
            "overflow": null,
            "overflow_x": null,
            "overflow_y": null,
            "padding": null,
            "right": null,
            "top": null,
            "visibility": null,
            "width": null
          }
        },
        "e272e182792b4966bcf534d9652c762a": {
          "model_module": "@jupyter-widgets/controls",
          "model_name": "DescriptionStyleModel",
          "model_module_version": "1.5.0",
          "state": {
            "_model_module": "@jupyter-widgets/controls",
            "_model_module_version": "1.5.0",
            "_model_name": "DescriptionStyleModel",
            "_view_count": null,
            "_view_module": "@jupyter-widgets/base",
            "_view_module_version": "1.2.0",
            "_view_name": "StyleView",
            "description_width": ""
          }
        },
        "9d0592472e4a44789b37021710e061d8": {
          "model_module": "@jupyter-widgets/base",
          "model_name": "LayoutModel",
          "model_module_version": "1.2.0",
          "state": {
            "_model_module": "@jupyter-widgets/base",
            "_model_module_version": "1.2.0",
            "_model_name": "LayoutModel",
            "_view_count": null,
            "_view_module": "@jupyter-widgets/base",
            "_view_module_version": "1.2.0",
            "_view_name": "LayoutView",
            "align_content": null,
            "align_items": null,
            "align_self": null,
            "border": null,
            "bottom": null,
            "display": null,
            "flex": null,
            "flex_flow": null,
            "grid_area": null,
            "grid_auto_columns": null,
            "grid_auto_flow": null,
            "grid_auto_rows": null,
            "grid_column": null,
            "grid_gap": null,
            "grid_row": null,
            "grid_template_areas": null,
            "grid_template_columns": null,
            "grid_template_rows": null,
            "height": null,
            "justify_content": null,
            "justify_items": null,
            "left": null,
            "margin": null,
            "max_height": null,
            "max_width": null,
            "min_height": null,
            "min_width": null,
            "object_fit": null,
            "object_position": null,
            "order": null,
            "overflow": null,
            "overflow_x": null,
            "overflow_y": null,
            "padding": null,
            "right": null,
            "top": null,
            "visibility": null,
            "width": null
          }
        },
        "754c4404c91745ff869a89420a2bbad2": {
          "model_module": "@jupyter-widgets/controls",
          "model_name": "ProgressStyleModel",
          "model_module_version": "1.5.0",
          "state": {
            "_model_module": "@jupyter-widgets/controls",
            "_model_module_version": "1.5.0",
            "_model_name": "ProgressStyleModel",
            "_view_count": null,
            "_view_module": "@jupyter-widgets/base",
            "_view_module_version": "1.2.0",
            "_view_name": "StyleView",
            "bar_color": null,
            "description_width": ""
          }
        },
        "98d18bbd1c79473cac0949191a7f923d": {
          "model_module": "@jupyter-widgets/base",
          "model_name": "LayoutModel",
          "model_module_version": "1.2.0",
          "state": {
            "_model_module": "@jupyter-widgets/base",
            "_model_module_version": "1.2.0",
            "_model_name": "LayoutModel",
            "_view_count": null,
            "_view_module": "@jupyter-widgets/base",
            "_view_module_version": "1.2.0",
            "_view_name": "LayoutView",
            "align_content": null,
            "align_items": null,
            "align_self": null,
            "border": null,
            "bottom": null,
            "display": null,
            "flex": null,
            "flex_flow": null,
            "grid_area": null,
            "grid_auto_columns": null,
            "grid_auto_flow": null,
            "grid_auto_rows": null,
            "grid_column": null,
            "grid_gap": null,
            "grid_row": null,
            "grid_template_areas": null,
            "grid_template_columns": null,
            "grid_template_rows": null,
            "height": null,
            "justify_content": null,
            "justify_items": null,
            "left": null,
            "margin": null,
            "max_height": null,
            "max_width": null,
            "min_height": null,
            "min_width": null,
            "object_fit": null,
            "object_position": null,
            "order": null,
            "overflow": null,
            "overflow_x": null,
            "overflow_y": null,
            "padding": null,
            "right": null,
            "top": null,
            "visibility": null,
            "width": null
          }
        },
        "d7737bdc93b14727b25460aa06e2a9f8": {
          "model_module": "@jupyter-widgets/controls",
          "model_name": "DescriptionStyleModel",
          "model_module_version": "1.5.0",
          "state": {
            "_model_module": "@jupyter-widgets/controls",
            "_model_module_version": "1.5.0",
            "_model_name": "DescriptionStyleModel",
            "_view_count": null,
            "_view_module": "@jupyter-widgets/base",
            "_view_module_version": "1.2.0",
            "_view_name": "StyleView",
            "description_width": ""
          }
        }
      }
    }
  },
  "nbformat": 4,
  "nbformat_minor": 0
}