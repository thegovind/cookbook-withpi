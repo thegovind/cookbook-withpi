{
  "cells": [
    {
      "cell_type": "markdown",
      "metadata": {
        "id": "view-in-github",
        "colab_type": "text"
      },
      "source": [
        "<a href=\"https://colab.research.google.com/github/withpi/cookbook-withpi/blob/main/colabs/Calibration.ipynb\" target=\"_parent\"><img src=\"https://colab.research.google.com/assets/colab-badge.svg\" alt=\"Open In Colab\"/></a>"
      ]
    },
    {
      "cell_type": "markdown",
      "source": [
        "<a href=\"https://withpi.ai\"><img src=\"https://play.withpi.ai/logo/logoFullBlack.svg\" width=\"240\"></a>\n",
        "\n",
        "<a href=\"https://code.withpi.ai\"><font size=\"4\">Documentation</font></a>\n",
        "\n",
        "<a href=\"https://build.withpi.ai\"><font size=\"4\">Copilot</font></a>"
      ],
      "metadata": {
        "id": "pi-masthead"
      }
    },
    {
      "cell_type": "markdown",
      "metadata": {
        "id": "Bwm4tjdnedp6"
      },
      "source": [
        "# Calibration\n",
        "\n",
        "Calibration lets you alter how a Pi Scoring System evaluates a question or a set of questions by providing a few updated score labels.  This notebook walks through tuning a single question so you can see what's happening, but the same API works on full Scoring Systems too."
      ]
    },
    {
      "cell_type": "markdown",
      "source": [
        "## Install and initialize SDK\n",
        "\n",
        "You'll need a `WITHPI_API_KEY` from https://build.withpi.ai/account/keys.  Add it to your notebook secrets (the key symbol) on the left.\n",
        "\n",
        "Run the cell below to install packages and load the SDK"
      ],
      "metadata": {
        "id": "pi-setup-markdown"
      }
    },
    {
      "cell_type": "code",
      "metadata": {
        "id": "pi-setup"
      },
      "outputs": [],
      "execution_count": null,
      "source": [
        "%%capture\n",
        "\n",
        "%pip install withpi withpi-utils datasets\n",
        "\n",
        "import os\n",
        "from google.colab import userdata\n",
        "from withpi import PiClient\n",
        "\n",
        "# Load the notebook secret into the environment so the Pi Client can access it.\n",
        "os.environ[\"WITHPI_API_KEY\"] = userdata.get('WITHPI_API_KEY')\n",
        "\n",
        "pi = PiClient()"
      ]
    },
    {
      "cell_type": "markdown",
      "source": [
        "## Setup scoring system\n",
        "\n",
        "Let's say we're building an AI to generate stories in the style of Aesop's Fables.  Consider the following Scoring System:"
      ],
      "metadata": {
        "id": "P1xBzfEU9Cc3"
      }
    },
    {
      "cell_type": "code",
      "source": [
        "scoring_spec = [{'question': q} for q in [\n",
        "    \"Is the life lesson clearly conveyed in the story?\",\n",
        "]]\n",
        "\n",
        "def score(example):\n",
        "    example[\"score\"] = pi.scoring_system.score(\n",
        "        llm_input=example[\"input\"],\n",
        "        llm_output=example[\"output\"],\n",
        "        scoring_spec=scoring_spec,\n",
        "    ).total_score\n",
        "    return example"
      ],
      "metadata": {
        "id": "M9H_WD789PGh"
      },
      "execution_count": null,
      "outputs": []
    },
    {
      "cell_type": "markdown",
      "metadata": {
        "id": "HVdupu3M5t8x"
      },
      "source": [
        "# Load a dataset\n",
        "\n",
        "Load our example training dataset, and let's dig in. You'll need an `HF_TOKEN` from https://huggingface.co/settings/tokens set in your notebook secrets."
      ]
    },
    {
      "cell_type": "code",
      "execution_count": null,
      "metadata": {
        "colab": {
          "base_uri": "https://localhost:8080/",
          "height": 184,
          "referenced_widgets": [
            "e878b8e4d28c41f3bd0c63c9092d998c",
            "545f3270d08b461fa4f39108c33e4d8c",
            "2668c58d66dc4b1981a1b60ab9bbd0a2",
            "f99c852a31c1474db855e69db6098ce9",
            "93ce7c3f8e934cb5957a8c591d5a187f",
            "006655db56f946249e65edd9844ccb91",
            "10857439b1ad40528888baeef4623403",
            "c22886c9e9104571a0e12be26f8256af",
            "dbc5cfef44244be79a2eb0d4396d74ad",
            "7bc6782aedde4bc3a1d97eba6ff98253",
            "2a6cb68a18bf49f68604f3f3c4c9a8da",
            "b2421c0f7486486b8145f3d32968d0d8",
            "bdbaf8e546a542bf81cdc553b40e0b8a",
            "d0f7bbfefdd14dd1acc70d6f0fb88e73",
            "b595534dd7554639b4bf615ce9018f23",
            "11d6dffe7ebd4b18905eb754aafa88fe",
            "918a445dc7894f5eb18fd6fe196d83da",
            "a558bec576cb4f7f9e06f412f52cc5d6",
            "547602ea73c8425498ec6f2682e7f2a4",
            "e1f3796eef3b4f8ea485b4c87038d619",
            "9af47dda44554edab3c6ca27e3cb7223",
            "ca04baa5d536451388c6d0f02e3dcd8e",
            "92f0ecd7a5c542e59bc9cb537465f545",
            "755315e54cc64bc7b59cc16e93dd58cd",
            "11d9432c265b400ca972624fc4fbd6eb",
            "e953532ce4a042c99626d886ea91af44",
            "51c4b5adb72d41339100f01608ffc478",
            "4b735e2a442d4542a7049c5691f1e8fb",
            "0d21a6a8a3454b5ba118bdf54424d4f9",
            "fa5aa6fd4c3549e6b493cec2df8da4f3",
            "de2f20f8dd334f43b51d7bd1f8673400",
            "edd4027f06ed4a9ea9bf80944daa9701",
            "25cd84151e8a4f409f3735ed805ba4a2"
          ]
        },
        "collapsed": true,
        "id": "RGPsTSPzgWxT",
        "outputId": "d9c03e08-898a-4ef1-ef8a-d31ab27e7225"
      },
      "outputs": [
        {
          "output_type": "display_data",
          "data": {
            "text/plain": [
              "README.md:   0%|          | 0.00/302 [00:00<?, ?B/s]"
            ],
            "application/vnd.jupyter.widget-view+json": {
              "version_major": 2,
              "version_minor": 0,
              "model_id": "e878b8e4d28c41f3bd0c63c9092d998c"
            }
          },
          "metadata": {}
        },
        {
          "output_type": "display_data",
          "data": {
            "text/plain": [
              "train-00000-of-00001.parquet:   0%|          | 0.00/55.0k [00:00<?, ?B/s]"
            ],
            "application/vnd.jupyter.widget-view+json": {
              "version_major": 2,
              "version_minor": 0,
              "model_id": "b2421c0f7486486b8145f3d32968d0d8"
            }
          },
          "metadata": {}
        },
        {
          "output_type": "display_data",
          "data": {
            "text/plain": [
              "Generating train split:   0%|          | 0/23 [00:00<?, ? examples/s]"
            ],
            "application/vnd.jupyter.widget-view+json": {
              "version_major": 2,
              "version_minor": 0,
              "model_id": "92f0ecd7a5c542e59bc9cb537465f545"
            }
          },
          "metadata": {}
        },
        {
          "output_type": "stream",
          "name": "stdout",
          "text": [
            "Dataset({\n",
            "    features: ['input', 'output'],\n",
            "    num_rows: 23\n",
            "})\n"
          ]
        }
      ],
      "source": [
        "from datasets import load_dataset\n",
        "\n",
        "aesop_dataset = load_dataset(\"withpi/aesop\", split=\"train\")\n",
        "\n",
        "print(aesop_dataset)"
      ]
    },
    {
      "cell_type": "markdown",
      "source": [
        "## Examine scores\n",
        "\n",
        "Let's score these and see how they're behaving."
      ],
      "metadata": {
        "id": "i0-N4zVm-ESh"
      }
    },
    {
      "cell_type": "code",
      "source": [
        "aesop_dataset = aesop_dataset.map(score)\n",
        "\n",
        "print(aesop_dataset[\"score\"][:])"
      ],
      "metadata": {
        "id": "RNIxOLPt-O1j",
        "outputId": "f49e6f33-366d-48f1-d089-7745d0744a44",
        "colab": {
          "base_uri": "https://localhost:8080/",
          "height": 67,
          "referenced_widgets": [
            "899684f6661f466ebd3f6aaf596513bf",
            "c8e3f6181be74050b2cbad62c1e826ef",
            "6b8f17a7f2134abf8b7c855ff4324a0b",
            "36c2be361b2b4a7b938bf72e3cc875b8",
            "dd2cbdb5a72e48ef981e5c6221852d4c",
            "ed1f1203ef464d5e890986adfc67577f",
            "8bfbe521d6c845fba3a3de733cb2ef85",
            "f2e5c75f137b4f81b99bcad8f7155f26",
            "806646077fed4721a014aa0a588c40b3",
            "1f75cb4ef635415c8d2623adc3e07752",
            "6b171ece4f7f41f4affd62fea55f2b99"
          ]
        }
      },
      "execution_count": null,
      "outputs": [
        {
          "output_type": "display_data",
          "data": {
            "text/plain": [
              "Map:   0%|          | 0/23 [00:00<?, ? examples/s]"
            ],
            "application/vnd.jupyter.widget-view+json": {
              "version_major": 2,
              "version_minor": 0,
              "model_id": "899684f6661f466ebd3f6aaf596513bf"
            }
          },
          "metadata": {}
        },
        {
          "output_type": "stream",
          "name": "stdout",
          "text": [
            "[0.80078125, 1.0, 1.0, 1.0, 1.0, 1.0, 1.0, 1.0, 1.0, 1.0, 1.0, 1.0, 1.0, 1.0, 1.0, 1.0, 1.0, 1.0, 1.0, 1.0, 1.0, 1.0, 1.0]\n"
          ]
        }
      ]
    },
    {
      "cell_type": "markdown",
      "source": [
        "## Examine the responses\n",
        "\n",
        "The first row was a little worse on this question, but 0.8 is still pretty good.  What if it should have been harsher?  Let's take a look and see what it was, along with an example from the rest of the set."
      ],
      "metadata": {
        "id": "836QjYNl-7NT"
      }
    },
    {
      "cell_type": "code",
      "source": [
        "from withpi_utils.colab import pretty_print_responses\n",
        "\n",
        "pretty_print_responses(\n",
        "    response1=\"#### Input:\\n\" + aesop_dataset[0][\"input\"] + \"\\n#### Output:\\n\" + aesop_dataset[0][\"output\"],\n",
        "    response2=\"#### Input:\\n\" + aesop_dataset[1][\"input\"] + \"\\n#### Output:\\n\" + aesop_dataset[1][\"output\"],\n",
        "    left_label=\"Bad\", right_label=\"Good\")"
      ],
      "metadata": {
        "id": "8cKHR9Kq_LrV",
        "outputId": "b167d3bb-d9b6-41e5-cbf9-d33483305c4b",
        "colab": {
          "base_uri": "https://localhost:8080/",
          "height": 859
        }
      },
      "execution_count": null,
      "outputs": [
        {
          "output_type": "display_data",
          "data": {
            "text/plain": [
              "<IPython.core.display.HTML object>"
            ],
            "text/html": [
              "\n",
              "        <div style=\"display: flex; gap: 20px;\">\n",
              "            <div style=\"width: 40%; padding: 10px; border: 1px solid #ddd; background-color: #f0f0f0; text-align:center;\">\n",
              "                <h4>Bad</h4>\n",
              "            </div>\n",
              "            <div style=\"width: 40%; padding: 10px; border: 1px solid #ddd; background-color: #f0f0f0; text-align:center;\">\n",
              "                <h4>Good</h4>\n",
              "            </div>\n",
              "        </div>\n",
              "        <div style=\"display: flex; gap: 20px;\">\n",
              "            <div style=\"width: 40%; padding: 10px; border: 1px solid #ddd;\">\n",
              "                <h4>Input:</h4>\n",
              "<p>Write a children's story in the style of Aesop's Fables that teaches the lesson 'Slow and steady wins the race.'</p>\n",
              "<h4>Output:</h4>\n",
              "<p>Barnaby the hare was a blur of twitching whiskers and bouncing leaps.  He scoffed at the tortoise, Theodore, whose pace was slower than a snail's.  \"You lumbering, plodding creature!\" Barnaby would boast, his long ears flopping with each impatient hop. \"I'll be across the meadow before you've even started!\"</p>\n",
              "<p>One spring day, the meadow flowers were in full bloom, their colours like painted rainbows.  A grand festival of the flowers was being held, and a delicious honey cake, baked by the buzzing bees, was the prize.  Barnaby, full of confidence, dashed off, his legs moving like lightning. He zig-zagged through the tall grass, his heart pounding with excitement.</p>\n",
              "<p>Theodore, true to form, started at a steady pace. He methodically made his way through the meadow, nibbling clover and checking each flower for hidden dew drops.  Barnaby, distracted by the sparkling brook and the buzzing dragonflies, took a detour to admire a particularly beautiful buttercup.  He paused to chase a butterfly, and then, lost in a game of tag with a mischievous squirrel, he completely lost his way.</p>\n",
              "<p>Theodore, meanwhile, continued his steady progress.  He encountered a patch of thorny bushes, but carefully maneuvered around them.  He navigated a tricky stream by slowly and deliberately finding the shallowest part.  He was always mindful of his surroundings, even when the pace seemed slow to him.</p>\n",
              "<p>Finally, the finish line, a magnificent oak tree beneath which the bees had placed the honey cake, came into sight. Barnaby, exhausted and disoriented, arrived panting and sweating.  The honey cake had already been devoured!  Theodore, though hours behind Barnaby's initial start, was the next to reach the tree. He'd navigated the meadow with care and determination.</p>\n",
              "<p>Theodore, with a thoughtful sigh, smiled at Barnaby. \"You may run fast, Barnaby,\" he said, \"but slow and steady brings you to the finish line, safely.\"</p>\n",
              "<p>Barnaby, seeing the empty plates and the disappointed expressions of the flowers, realized that Theodore was right.  From that day on, Barnaby learned that haste, without care, leads to empty promises, and a slow, thoughtful approach can be just as rewarding \u2013 and perhaps even more reliable.  And he learned the truth of the adage: Slow and steady wins the race.</p>\n",
              "            </div>\n",
              "            <div style=\"width: 40%; padding: 10px; border: 1px solid #ddd;\">\n",
              "                <h4>Input:</h4>\n",
              "<p>Tell a fable about a crow and a fox that illustrates the importance of being cautious with flattery.</p>\n",
              "<h4>Output:</h4>\n",
              "<p>Once upon a time, in a sun-drenched forest, lived a clever crow named Corvus.  Corvus was known throughout the woods for his magnificent, iridescent feathers, which shimmered like captured sunlight.  A sly fox, named Reynard, prowled the forest, his eyes gleaming with cunning.</p>\n",
              "<p>Reynard, always on the lookout for an easy meal, spied Corvus perched on a branch.  He padded silently towards him, a mischievous glint in his eye.</p>\n",
              "<p>\"Oh, Corvus,\" Reynard purred, his voice smooth as honey. \"What a magnificent creature you are!  Your plumage is the most exquisite I've ever beheld.  No other bird in the forest can compare.\"</p>\n",
              "<p>Corvus, flattered beyond measure, puffed up his feathers. \"Indeed,\" he crowed, feeling quite important. \"My beauty is unparalleled.\"</p>\n",
              "<p>Reynard continued his flattery. \"And your voice! It is like the sweet chime of a thousand bells. I've never heard such melodious notes.\"</p>\n",
              "<p>Corvus's tail feathers trembled with pride.  \"My song is a gift from the gods,\" he boasted.</p>\n",
              "<p>Reynard, with a sly smile, then said, \"You are the most magnificent bird in the whole forest.  Why not come with me to my den?  I have a feast prepared just for you, a feast worthy of such a splendid creature.\"</p>\n",
              "<p>Corvus, utterly convinced of his own magnificence, forgot all caution.  He hopped down from the branch and followed Reynard into the deep woods.</p>\n",
              "<p>Reynard, however, led him, not to a feast, but to a trap.  A deep pit, cleverly disguised with leaves and twigs, awaited the unsuspecting crow.</p>\n",
              "<p>Corvus, still basking in the glow of Reynard's praise, landed in the pit with a startled caw.  He looked up, bewildered, at Reynard.</p>\n",
              "<p>Reynard laughed, a sound like tinkling ice. \"I'm afraid,\" he said, \"your magnificent plumage and melodious voice are no match for a good old-fashioned trap.\"</p>\n",
              "<p>Corvus, finally understanding his mistake, scolded Reynard for his deception.  \"You flattered me with empty words,\" he said. \"Foolish of me to believe such hollow praise.\"</p>\n",
              "<p>Reynard merely smirked, and scurried away, leaving Corvus to recover from his near-tragedy.</p>\n",
              "<p>From that day on, Corvus learned a valuable lesson.  He learned that true worth isn't found in empty flattery, but in the strength of one's own character and careful judgment. He never trusted a flattering word again, and wisely chose his company with care.</p>\n",
              "            </div>\n",
              "        </div>\n",
              "        "
            ]
          },
          "metadata": {}
        }
      ]
    },
    {
      "cell_type": "markdown",
      "source": [
        "## Make it harsher\n",
        "\n",
        "The first story fails to set up the race, relying on the reader to fill in that context from their knowledge of original story.  You might want to harshly penalize this story because it misses the moral point.\n",
        "\n",
        "In reality you'd label more examples, but two labels should show off the effect of calibration."
      ],
      "metadata": {
        "id": "DNoo4tvdAUe-"
      }
    },
    {
      "cell_type": "code",
      "source": [
        "examples = [\n",
        "    {\n",
        "        \"llm_input\": aesop_dataset[0][\"input\"],\n",
        "        \"llm_output\": aesop_dataset[0][\"output\"],\n",
        "        \"rating\": \"Strongly Disagree\",\n",
        "    },\n",
        "    {\n",
        "        \"llm_input\": aesop_dataset[1][\"input\"],\n",
        "        \"llm_output\": aesop_dataset[1][\"output\"],\n",
        "        \"rating\": \"Strongly Agree\",\n",
        "    },\n",
        "]\n"
      ],
      "metadata": {
        "id": "W9K_RhaIBSVR"
      },
      "execution_count": null,
      "outputs": []
    },
    {
      "cell_type": "markdown",
      "metadata": {
        "id": "yR-YSyrYM4-z"
      },
      "source": [
        "## Calibrate\n",
        "\n",
        "Now it's time to calibrate with the labelled sets.  The following cell will launch a job and monitor for completion."
      ]
    },
    {
      "cell_type": "code",
      "execution_count": null,
      "metadata": {
        "colab": {
          "base_uri": "https://localhost:8080/"
        },
        "collapsed": true,
        "id": "O-4aZQ4YM9FL",
        "outputId": "258b47b0-3ee3-4b43-e437-9becf29740bc"
      },
      "outputs": [
        {
          "output_type": "stream",
          "name": "stdout",
          "text": [
            "LAUNCHING\n",
            "RUNNING\n",
            "Training the AST...\n",
            "Overall initial loss = 0.400390625\n",
            "Optimizing ROOT + dim:step_9f6278f4-0135-40af-98e9-24ede97410dc ...\n",
            "Initial loss = 0.400390625\n",
            "Best trial = Measurement(metrics={'acf2de4c-1541-4a0c-98f8-1b1fc5d3ae25_loss': Metric(value=0.19981745737270945, std=None)}, elapsed_secs=0.0, steps=0, checkpoint_path='')\n",
            "Apply the new learned params!\n",
            "Optimizing AST ROOT ...\n",
            "Initial loss = 0.19981745737270945\n",
            "Best trial = Measurement(metrics={'acf2de4c-1541-4a0c-98f8-1b1fc5d3ae25_loss': Metric(value=0.19981745737270942, std=None)}, elapsed_secs=0.0, steps=0, checkpoint_path='')\n",
            "Keep the initial learned params!\n",
            "DONE\n"
          ]
        }
      ],
      "source": [
        "from withpi_utils import stream\n",
        "\n",
        "scoring_system_calibration_status = pi.scoring_system.calibrate.start_job(\n",
        "    scoring_spec=scoring_spec, examples=examples\n",
        ")\n",
        "\n",
        "next(stream(pi.scoring_system.calibrate, scoring_system_calibration_status), None)\n",
        "\n",
        "scoring_spec_calibrated = pi.scoring_system.calibrate.retrieve(scoring_system_calibration_status.job_id).calibrated_scoring_spec"
      ]
    },
    {
      "cell_type": "markdown",
      "metadata": {
        "id": "mn4kg54Yixzn"
      },
      "source": [
        "## Score after calibration\n",
        "\n",
        "Now add a new column with calibrated scores so we can compare."
      ]
    },
    {
      "cell_type": "code",
      "execution_count": null,
      "metadata": {
        "colab": {
          "base_uri": "https://localhost:8080/",
          "height": 138,
          "referenced_widgets": [
            "aa1365fb5c6340f29208dadb2261fcc7",
            "a3e6f9c0ab7c4eee9722de9548ec108f",
            "17f9277e1fbc4cc5acc5a9fb7b4ac939",
            "f7f17f606904484490822e256f426f64",
            "f66acc3de6fb42429d69a7ae6638cadf",
            "f21d7c2fdc4543cf9044dba1fba006c3",
            "eb873fda981344459cc6d42c1a15a1f8",
            "3bcdc522fca149d6a471f5ad80a53e7f",
            "170311e8181d40d9b2d2e33aef56aae3",
            "b2a24da012c04a348184bfeda7a02ee9",
            "dac9d125b9a2464fa711a420a2641839"
          ]
        },
        "id": "Cxd-uOBaOQQh",
        "outputId": "dc8445aa-b5b2-4787-cab9-afeba57aeed1"
      },
      "outputs": [
        {
          "output_type": "display_data",
          "data": {
            "text/plain": [
              "Map:   0%|          | 0/23 [00:00<?, ? examples/s]"
            ],
            "application/vnd.jupyter.widget-view+json": {
              "version_major": 2,
              "version_minor": 0,
              "model_id": "aa1365fb5c6340f29208dadb2261fcc7"
            }
          },
          "metadata": {}
        },
        {
          "output_type": "stream",
          "name": "stdout",
          "text": [
            "Original Scores:\n",
            "[0.80078125, 1.0, 1.0, 1.0, 1.0, 1.0, 1.0, 1.0, 1.0, 1.0, 1.0, 1.0, 1.0, 1.0, 1.0, 1.0, 1.0, 1.0, 1.0, 1.0, 1.0, 1.0, 1.0]\n",
            "\n",
            "Calibrated Scores:\n",
            "[0.3996349147454189, 1.0, 1.0, 1.0, 1.0, 1.0, 1.0, 1.0, 1.0, 1.0, 1.0, 1.0, 1.0, 1.0, 1.0, 1.0, 1.0, 1.0, 1.0, 1.0, 1.0, 1.0, 1.0]\n"
          ]
        }
      ],
      "source": [
        "from withpi_utils.colab import pretty_print_responses\n",
        "\n",
        "def score_calibrated(example):\n",
        "    example[\"score_calibrated\"] = pi.scoring_system.score(\n",
        "        llm_input=example[\"input\"],\n",
        "        llm_output=example[\"output\"],\n",
        "        scoring_spec=scoring_spec_calibrated,\n",
        "    ).total_score\n",
        "    return example\n",
        "\n",
        "aesop_dataset = aesop_dataset.map(score_calibrated)\n",
        "\n",
        "print(\"Original Scores:\")\n",
        "print(aesop_dataset[\"score\"][:])\n",
        "print(\"\\nCalibrated Scores:\")\n",
        "print(aesop_dataset[\"score_calibrated\"][:])"
      ]
    },
    {
      "cell_type": "markdown",
      "source": [
        "## What have we achieved?\n",
        "\n",
        "Now this question is much \"harsher\".  It's saturated on many of the inputs, but we've pulled the \"bad\" response away from the other \"good\" ones, allowing this question to have more power to filter out bad examples."
      ],
      "metadata": {
        "id": "cJLNaMaSDKoT"
      }
    },
    {
      "cell_type": "markdown",
      "metadata": {
        "id": "rAaeXLrijCrK"
      },
      "source": [
        "## Save calibrated scoring system\n",
        "\n",
        "Save the updated scoring spec to a file, which can be loaded in the future with `load_scoring_spec`."
      ]
    },
    {
      "cell_type": "code",
      "execution_count": null,
      "metadata": {
        "id": "tpWpFWfEwo4j",
        "outputId": "055d640c-9bc9-4264-ad88-6ae24d32883e",
        "colab": {
          "base_uri": "https://localhost:8080/",
          "height": 17
        }
      },
      "outputs": [
        {
          "output_type": "display_data",
          "data": {
            "text/plain": [
              "<IPython.core.display.Javascript object>"
            ],
            "application/javascript": [
              "\n",
              "    async function download(id, filename, size) {\n",
              "      if (!google.colab.kernel.accessAllowed) {\n",
              "        return;\n",
              "      }\n",
              "      const div = document.createElement('div');\n",
              "      const label = document.createElement('label');\n",
              "      label.textContent = `Downloading \"${filename}\": `;\n",
              "      div.appendChild(label);\n",
              "      const progress = document.createElement('progress');\n",
              "      progress.max = size;\n",
              "      div.appendChild(progress);\n",
              "      document.body.appendChild(div);\n",
              "\n",
              "      const buffers = [];\n",
              "      let downloaded = 0;\n",
              "\n",
              "      const channel = await google.colab.kernel.comms.open(id);\n",
              "      // Send a message to notify the kernel that we're ready.\n",
              "      channel.send({})\n",
              "\n",
              "      for await (const message of channel.messages) {\n",
              "        // Send a message to notify the kernel that we're ready.\n",
              "        channel.send({})\n",
              "        if (message.buffers) {\n",
              "          for (const buffer of message.buffers) {\n",
              "            buffers.push(buffer);\n",
              "            downloaded += buffer.byteLength;\n",
              "            progress.value = downloaded;\n",
              "          }\n",
              "        }\n",
              "      }\n",
              "      const blob = new Blob(buffers, {type: 'application/binary'});\n",
              "      const a = document.createElement('a');\n",
              "      a.href = window.URL.createObjectURL(blob);\n",
              "      a.download = filename;\n",
              "      div.appendChild(a);\n",
              "      a.click();\n",
              "      div.remove();\n",
              "    }\n",
              "  "
            ]
          },
          "metadata": {}
        },
        {
          "output_type": "display_data",
          "data": {
            "text/plain": [
              "<IPython.core.display.Javascript object>"
            ],
            "application/javascript": [
              "download(\"download_8cf5a4fe-67e6-456e-88d5-70a9f496e921\", \"aesop_ai_calibrated.json\", 2090)"
            ]
          },
          "metadata": {}
        }
      ],
      "source": [
        "from withpi_utils.colab import dump_scoring_spec\n",
        "from google.colab import files\n",
        "\n",
        "with open(\"aesop_ai_calibrated.json\", \"w\") as file:\n",
        "    file.write(dump_scoring_spec(scoring_spec_calibrated))\n",
        "files.download('aesop_ai_calibrated.json')"
      ]
    },
    {
      "cell_type": "markdown",
      "metadata": {
        "id": "jT7s_nuJsHbM"
      },
      "source": [
        "## Next Steps\n",
        "\n",
        "This Colab used an (extremely!) limited amount of labeled data, but scaling up this feedback loop will pay dividends, allowing you to tune the range of your questions to match your notion of \"goodness\".\n",
        "\n",
        "You can also try calibrating a set of questions rather than just one.  The API is exactly the same."
      ]
    }
  ],
  "metadata": {
    "colab": {
      "provenance": [],
      "include_colab_link": true
    },
    "kernelspec": {
      "display_name": "Python 3",
      "name": "python3"
    },
    "language_info": {
      "name": "python"
    },
    "widgets": {
      "application/vnd.jupyter.widget-state+json": {
        "e878b8e4d28c41f3bd0c63c9092d998c": {
          "model_module": "@jupyter-widgets/controls",
          "model_name": "HBoxModel",
          "model_module_version": "1.5.0",
          "state": {
            "_dom_classes": [],
            "_model_module": "@jupyter-widgets/controls",
            "_model_module_version": "1.5.0",
            "_model_name": "HBoxModel",
            "_view_count": null,
            "_view_module": "@jupyter-widgets/controls",
            "_view_module_version": "1.5.0",
            "_view_name": "HBoxView",
            "box_style": "",
            "children": [
              "IPY_MODEL_545f3270d08b461fa4f39108c33e4d8c",
              "IPY_MODEL_2668c58d66dc4b1981a1b60ab9bbd0a2",
              "IPY_MODEL_f99c852a31c1474db855e69db6098ce9"
            ],
            "layout": "IPY_MODEL_93ce7c3f8e934cb5957a8c591d5a187f"
          }
        },
        "545f3270d08b461fa4f39108c33e4d8c": {
          "model_module": "@jupyter-widgets/controls",
          "model_name": "HTMLModel",
          "model_module_version": "1.5.0",
          "state": {
            "_dom_classes": [],
            "_model_module": "@jupyter-widgets/controls",
            "_model_module_version": "1.5.0",
            "_model_name": "HTMLModel",
            "_view_count": null,
            "_view_module": "@jupyter-widgets/controls",
            "_view_module_version": "1.5.0",
            "_view_name": "HTMLView",
            "description": "",
            "description_tooltip": null,
            "layout": "IPY_MODEL_006655db56f946249e65edd9844ccb91",
            "placeholder": "\u200b",
            "style": "IPY_MODEL_10857439b1ad40528888baeef4623403",
            "value": "README.md:\u2007100%"
          }
        },
        "2668c58d66dc4b1981a1b60ab9bbd0a2": {
          "model_module": "@jupyter-widgets/controls",
          "model_name": "FloatProgressModel",
          "model_module_version": "1.5.0",
          "state": {
            "_dom_classes": [],
            "_model_module": "@jupyter-widgets/controls",
            "_model_module_version": "1.5.0",
            "_model_name": "FloatProgressModel",
            "_view_count": null,
            "_view_module": "@jupyter-widgets/controls",
            "_view_module_version": "1.5.0",
            "_view_name": "ProgressView",
            "bar_style": "success",
            "description": "",
            "description_tooltip": null,
            "layout": "IPY_MODEL_c22886c9e9104571a0e12be26f8256af",
            "max": 302,
            "min": 0,
            "orientation": "horizontal",
            "style": "IPY_MODEL_dbc5cfef44244be79a2eb0d4396d74ad",
            "value": 302
          }
        },
        "f99c852a31c1474db855e69db6098ce9": {
          "model_module": "@jupyter-widgets/controls",
          "model_name": "HTMLModel",
          "model_module_version": "1.5.0",
          "state": {
            "_dom_classes": [],
            "_model_module": "@jupyter-widgets/controls",
            "_model_module_version": "1.5.0",
            "_model_name": "HTMLModel",
            "_view_count": null,
            "_view_module": "@jupyter-widgets/controls",
            "_view_module_version": "1.5.0",
            "_view_name": "HTMLView",
            "description": "",
            "description_tooltip": null,
            "layout": "IPY_MODEL_7bc6782aedde4bc3a1d97eba6ff98253",
            "placeholder": "\u200b",
            "style": "IPY_MODEL_2a6cb68a18bf49f68604f3f3c4c9a8da",
            "value": "\u2007302/302\u2007[00:00&lt;00:00,\u20072.34kB/s]"
          }
        },
        "93ce7c3f8e934cb5957a8c591d5a187f": {
          "model_module": "@jupyter-widgets/base",
          "model_name": "LayoutModel",
          "model_module_version": "1.2.0",
          "state": {
            "_model_module": "@jupyter-widgets/base",
            "_model_module_version": "1.2.0",
            "_model_name": "LayoutModel",
            "_view_count": null,
            "_view_module": "@jupyter-widgets/base",
            "_view_module_version": "1.2.0",
            "_view_name": "LayoutView",
            "align_content": null,
            "align_items": null,
            "align_self": null,
            "border": null,
            "bottom": null,
            "display": null,
            "flex": null,
            "flex_flow": null,
            "grid_area": null,
            "grid_auto_columns": null,
            "grid_auto_flow": null,
            "grid_auto_rows": null,
            "grid_column": null,
            "grid_gap": null,
            "grid_row": null,
            "grid_template_areas": null,
            "grid_template_columns": null,
            "grid_template_rows": null,
            "height": null,
            "justify_content": null,
            "justify_items": null,
            "left": null,
            "margin": null,
            "max_height": null,
            "max_width": null,
            "min_height": null,
            "min_width": null,
            "object_fit": null,
            "object_position": null,
            "order": null,
            "overflow": null,
            "overflow_x": null,
            "overflow_y": null,
            "padding": null,
            "right": null,
            "top": null,
            "visibility": null,
            "width": null
          }
        },
        "006655db56f946249e65edd9844ccb91": {
          "model_module": "@jupyter-widgets/base",
          "model_name": "LayoutModel",
          "model_module_version": "1.2.0",
          "state": {
            "_model_module": "@jupyter-widgets/base",
            "_model_module_version": "1.2.0",
            "_model_name": "LayoutModel",
            "_view_count": null,
            "_view_module": "@jupyter-widgets/base",
            "_view_module_version": "1.2.0",
            "_view_name": "LayoutView",
            "align_content": null,
            "align_items": null,
            "align_self": null,
            "border": null,
            "bottom": null,
            "display": null,
            "flex": null,
            "flex_flow": null,
            "grid_area": null,
            "grid_auto_columns": null,
            "grid_auto_flow": null,
            "grid_auto_rows": null,
            "grid_column": null,
            "grid_gap": null,
            "grid_row": null,
            "grid_template_areas": null,
            "grid_template_columns": null,
            "grid_template_rows": null,
            "height": null,
            "justify_content": null,
            "justify_items": null,
            "left": null,
            "margin": null,
            "max_height": null,
            "max_width": null,
            "min_height": null,
            "min_width": null,
            "object_fit": null,
            "object_position": null,
            "order": null,
            "overflow": null,
            "overflow_x": null,
            "overflow_y": null,
            "padding": null,
            "right": null,
            "top": null,
            "visibility": null,
            "width": null
          }
        },
        "10857439b1ad40528888baeef4623403": {
          "model_module": "@jupyter-widgets/controls",
          "model_name": "DescriptionStyleModel",
          "model_module_version": "1.5.0",
          "state": {
            "_model_module": "@jupyter-widgets/controls",
            "_model_module_version": "1.5.0",
            "_model_name": "DescriptionStyleModel",
            "_view_count": null,
            "_view_module": "@jupyter-widgets/base",
            "_view_module_version": "1.2.0",
            "_view_name": "StyleView",
            "description_width": ""
          }
        },
        "c22886c9e9104571a0e12be26f8256af": {
          "model_module": "@jupyter-widgets/base",
          "model_name": "LayoutModel",
          "model_module_version": "1.2.0",
          "state": {
            "_model_module": "@jupyter-widgets/base",
            "_model_module_version": "1.2.0",
            "_model_name": "LayoutModel",
            "_view_count": null,
            "_view_module": "@jupyter-widgets/base",
            "_view_module_version": "1.2.0",
            "_view_name": "LayoutView",
            "align_content": null,
            "align_items": null,
            "align_self": null,
            "border": null,
            "bottom": null,
            "display": null,
            "flex": null,
            "flex_flow": null,
            "grid_area": null,
            "grid_auto_columns": null,
            "grid_auto_flow": null,
            "grid_auto_rows": null,
            "grid_column": null,
            "grid_gap": null,
            "grid_row": null,
            "grid_template_areas": null,
            "grid_template_columns": null,
            "grid_template_rows": null,
            "height": null,
            "justify_content": null,
            "justify_items": null,
            "left": null,
            "margin": null,
            "max_height": null,
            "max_width": null,
            "min_height": null,
            "min_width": null,
            "object_fit": null,
            "object_position": null,
            "order": null,
            "overflow": null,
            "overflow_x": null,
            "overflow_y": null,
            "padding": null,
            "right": null,
            "top": null,
            "visibility": null,
            "width": null
          }
        },
        "dbc5cfef44244be79a2eb0d4396d74ad": {
          "model_module": "@jupyter-widgets/controls",
          "model_name": "ProgressStyleModel",
          "model_module_version": "1.5.0",
          "state": {
            "_model_module": "@jupyter-widgets/controls",
            "_model_module_version": "1.5.0",
            "_model_name": "ProgressStyleModel",
            "_view_count": null,
            "_view_module": "@jupyter-widgets/base",
            "_view_module_version": "1.2.0",
            "_view_name": "StyleView",
            "bar_color": null,
            "description_width": ""
          }
        },
        "7bc6782aedde4bc3a1d97eba6ff98253": {
          "model_module": "@jupyter-widgets/base",
          "model_name": "LayoutModel",
          "model_module_version": "1.2.0",
          "state": {
            "_model_module": "@jupyter-widgets/base",
            "_model_module_version": "1.2.0",
            "_model_name": "LayoutModel",
            "_view_count": null,
            "_view_module": "@jupyter-widgets/base",
            "_view_module_version": "1.2.0",
            "_view_name": "LayoutView",
            "align_content": null,
            "align_items": null,
            "align_self": null,
            "border": null,
            "bottom": null,
            "display": null,
            "flex": null,
            "flex_flow": null,
            "grid_area": null,
            "grid_auto_columns": null,
            "grid_auto_flow": null,
            "grid_auto_rows": null,
            "grid_column": null,
            "grid_gap": null,
            "grid_row": null,
            "grid_template_areas": null,
            "grid_template_columns": null,
            "grid_template_rows": null,
            "height": null,
            "justify_content": null,
            "justify_items": null,
            "left": null,
            "margin": null,
            "max_height": null,
            "max_width": null,
            "min_height": null,
            "min_width": null,
            "object_fit": null,
            "object_position": null,
            "order": null,
            "overflow": null,
            "overflow_x": null,
            "overflow_y": null,
            "padding": null,
            "right": null,
            "top": null,
            "visibility": null,
            "width": null
          }
        },
        "2a6cb68a18bf49f68604f3f3c4c9a8da": {
          "model_module": "@jupyter-widgets/controls",
          "model_name": "DescriptionStyleModel",
          "model_module_version": "1.5.0",
          "state": {
            "_model_module": "@jupyter-widgets/controls",
            "_model_module_version": "1.5.0",
            "_model_name": "DescriptionStyleModel",
            "_view_count": null,
            "_view_module": "@jupyter-widgets/base",
            "_view_module_version": "1.2.0",
            "_view_name": "StyleView",
            "description_width": ""
          }
        },
        "b2421c0f7486486b8145f3d32968d0d8": {
          "model_module": "@jupyter-widgets/controls",
          "model_name": "HBoxModel",
          "model_module_version": "1.5.0",
          "state": {
            "_dom_classes": [],
            "_model_module": "@jupyter-widgets/controls",
            "_model_module_version": "1.5.0",
            "_model_name": "HBoxModel",
            "_view_count": null,
            "_view_module": "@jupyter-widgets/controls",
            "_view_module_version": "1.5.0",
            "_view_name": "HBoxView",
            "box_style": "",
            "children": [
              "IPY_MODEL_bdbaf8e546a542bf81cdc553b40e0b8a",
              "IPY_MODEL_d0f7bbfefdd14dd1acc70d6f0fb88e73",
              "IPY_MODEL_b595534dd7554639b4bf615ce9018f23"
            ],
            "layout": "IPY_MODEL_11d6dffe7ebd4b18905eb754aafa88fe"
          }
        },
        "bdbaf8e546a542bf81cdc553b40e0b8a": {
          "model_module": "@jupyter-widgets/controls",
          "model_name": "HTMLModel",
          "model_module_version": "1.5.0",
          "state": {
            "_dom_classes": [],
            "_model_module": "@jupyter-widgets/controls",
            "_model_module_version": "1.5.0",
            "_model_name": "HTMLModel",
            "_view_count": null,
            "_view_module": "@jupyter-widgets/controls",
            "_view_module_version": "1.5.0",
            "_view_name": "HTMLView",
            "description": "",
            "description_tooltip": null,
            "layout": "IPY_MODEL_918a445dc7894f5eb18fd6fe196d83da",
            "placeholder": "\u200b",
            "style": "IPY_MODEL_a558bec576cb4f7f9e06f412f52cc5d6",
            "value": "train-00000-of-00001.parquet:\u2007100%"
          }
        },
        "d0f7bbfefdd14dd1acc70d6f0fb88e73": {
          "model_module": "@jupyter-widgets/controls",
          "model_name": "FloatProgressModel",
          "model_module_version": "1.5.0",
          "state": {
            "_dom_classes": [],
            "_model_module": "@jupyter-widgets/controls",
            "_model_module_version": "1.5.0",
            "_model_name": "FloatProgressModel",
            "_view_count": null,
            "_view_module": "@jupyter-widgets/controls",
            "_view_module_version": "1.5.0",
            "_view_name": "ProgressView",
            "bar_style": "success",
            "description": "",
            "description_tooltip": null,
            "layout": "IPY_MODEL_547602ea73c8425498ec6f2682e7f2a4",
            "max": 54979,
            "min": 0,
            "orientation": "horizontal",
            "style": "IPY_MODEL_e1f3796eef3b4f8ea485b4c87038d619",
            "value": 54979
          }
        },
        "b595534dd7554639b4bf615ce9018f23": {
          "model_module": "@jupyter-widgets/controls",
          "model_name": "HTMLModel",
          "model_module_version": "1.5.0",
          "state": {
            "_dom_classes": [],
            "_model_module": "@jupyter-widgets/controls",
            "_model_module_version": "1.5.0",
            "_model_name": "HTMLModel",
            "_view_count": null,
            "_view_module": "@jupyter-widgets/controls",
            "_view_module_version": "1.5.0",
            "_view_name": "HTMLView",
            "description": "",
            "description_tooltip": null,
            "layout": "IPY_MODEL_9af47dda44554edab3c6ca27e3cb7223",
            "placeholder": "\u200b",
            "style": "IPY_MODEL_ca04baa5d536451388c6d0f02e3dcd8e",
            "value": "\u200755.0k/55.0k\u2007[00:00&lt;00:00,\u2007784kB/s]"
          }
        },
        "11d6dffe7ebd4b18905eb754aafa88fe": {
          "model_module": "@jupyter-widgets/base",
          "model_name": "LayoutModel",
          "model_module_version": "1.2.0",
          "state": {
            "_model_module": "@jupyter-widgets/base",
            "_model_module_version": "1.2.0",
            "_model_name": "LayoutModel",
            "_view_count": null,
            "_view_module": "@jupyter-widgets/base",
            "_view_module_version": "1.2.0",
            "_view_name": "LayoutView",
            "align_content": null,
            "align_items": null,
            "align_self": null,
            "border": null,
            "bottom": null,
            "display": null,
            "flex": null,
            "flex_flow": null,
            "grid_area": null,
            "grid_auto_columns": null,
            "grid_auto_flow": null,
            "grid_auto_rows": null,
            "grid_column": null,
            "grid_gap": null,
            "grid_row": null,
            "grid_template_areas": null,
            "grid_template_columns": null,
            "grid_template_rows": null,
            "height": null,
            "justify_content": null,
            "justify_items": null,
            "left": null,
            "margin": null,
            "max_height": null,
            "max_width": null,
            "min_height": null,
            "min_width": null,
            "object_fit": null,
            "object_position": null,
            "order": null,
            "overflow": null,
            "overflow_x": null,
            "overflow_y": null,
            "padding": null,
            "right": null,
            "top": null,
            "visibility": null,
            "width": null
          }
        },
        "918a445dc7894f5eb18fd6fe196d83da": {
          "model_module": "@jupyter-widgets/base",
          "model_name": "LayoutModel",
          "model_module_version": "1.2.0",
          "state": {
            "_model_module": "@jupyter-widgets/base",
            "_model_module_version": "1.2.0",
            "_model_name": "LayoutModel",
            "_view_count": null,
            "_view_module": "@jupyter-widgets/base",
            "_view_module_version": "1.2.0",
            "_view_name": "LayoutView",
            "align_content": null,
            "align_items": null,
            "align_self": null,
            "border": null,
            "bottom": null,
            "display": null,
            "flex": null,
            "flex_flow": null,
            "grid_area": null,
            "grid_auto_columns": null,
            "grid_auto_flow": null,
            "grid_auto_rows": null,
            "grid_column": null,
            "grid_gap": null,
            "grid_row": null,
            "grid_template_areas": null,
            "grid_template_columns": null,
            "grid_template_rows": null,
            "height": null,
            "justify_content": null,
            "justify_items": null,
            "left": null,
            "margin": null,
            "max_height": null,
            "max_width": null,
            "min_height": null,
            "min_width": null,
            "object_fit": null,
            "object_position": null,
            "order": null,
            "overflow": null,
            "overflow_x": null,
            "overflow_y": null,
            "padding": null,
            "right": null,
            "top": null,
            "visibility": null,
            "width": null
          }
        },
        "a558bec576cb4f7f9e06f412f52cc5d6": {
          "model_module": "@jupyter-widgets/controls",
          "model_name": "DescriptionStyleModel",
          "model_module_version": "1.5.0",
          "state": {
            "_model_module": "@jupyter-widgets/controls",
            "_model_module_version": "1.5.0",
            "_model_name": "DescriptionStyleModel",
            "_view_count": null,
            "_view_module": "@jupyter-widgets/base",
            "_view_module_version": "1.2.0",
            "_view_name": "StyleView",
            "description_width": ""
          }
        },
        "547602ea73c8425498ec6f2682e7f2a4": {
          "model_module": "@jupyter-widgets/base",
          "model_name": "LayoutModel",
          "model_module_version": "1.2.0",
          "state": {
            "_model_module": "@jupyter-widgets/base",
            "_model_module_version": "1.2.0",
            "_model_name": "LayoutModel",
            "_view_count": null,
            "_view_module": "@jupyter-widgets/base",
            "_view_module_version": "1.2.0",
            "_view_name": "LayoutView",
            "align_content": null,
            "align_items": null,
            "align_self": null,
            "border": null,
            "bottom": null,
            "display": null,
            "flex": null,
            "flex_flow": null,
            "grid_area": null,
            "grid_auto_columns": null,
            "grid_auto_flow": null,
            "grid_auto_rows": null,
            "grid_column": null,
            "grid_gap": null,
            "grid_row": null,
            "grid_template_areas": null,
            "grid_template_columns": null,
            "grid_template_rows": null,
            "height": null,
            "justify_content": null,
            "justify_items": null,
            "left": null,
            "margin": null,
            "max_height": null,
            "max_width": null,
            "min_height": null,
            "min_width": null,
            "object_fit": null,
            "object_position": null,
            "order": null,
            "overflow": null,
            "overflow_x": null,
            "overflow_y": null,
            "padding": null,
            "right": null,
            "top": null,
            "visibility": null,
            "width": null
          }
        },
        "e1f3796eef3b4f8ea485b4c87038d619": {
          "model_module": "@jupyter-widgets/controls",
          "model_name": "ProgressStyleModel",
          "model_module_version": "1.5.0",
          "state": {
            "_model_module": "@jupyter-widgets/controls",
            "_model_module_version": "1.5.0",
            "_model_name": "ProgressStyleModel",
            "_view_count": null,
            "_view_module": "@jupyter-widgets/base",
            "_view_module_version": "1.2.0",
            "_view_name": "StyleView",
            "bar_color": null,
            "description_width": ""
          }
        },
        "9af47dda44554edab3c6ca27e3cb7223": {
          "model_module": "@jupyter-widgets/base",
          "model_name": "LayoutModel",
          "model_module_version": "1.2.0",
          "state": {
            "_model_module": "@jupyter-widgets/base",
            "_model_module_version": "1.2.0",
            "_model_name": "LayoutModel",
            "_view_count": null,
            "_view_module": "@jupyter-widgets/base",
            "_view_module_version": "1.2.0",
            "_view_name": "LayoutView",
            "align_content": null,
            "align_items": null,
            "align_self": null,
            "border": null,
            "bottom": null,
            "display": null,
            "flex": null,
            "flex_flow": null,
            "grid_area": null,
            "grid_auto_columns": null,
            "grid_auto_flow": null,
            "grid_auto_rows": null,
            "grid_column": null,
            "grid_gap": null,
            "grid_row": null,
            "grid_template_areas": null,
            "grid_template_columns": null,
            "grid_template_rows": null,
            "height": null,
            "justify_content": null,
            "justify_items": null,
            "left": null,
            "margin": null,
            "max_height": null,
            "max_width": null,
            "min_height": null,
            "min_width": null,
            "object_fit": null,
            "object_position": null,
            "order": null,
            "overflow": null,
            "overflow_x": null,
            "overflow_y": null,
            "padding": null,
            "right": null,
            "top": null,
            "visibility": null,
            "width": null
          }
        },
        "ca04baa5d536451388c6d0f02e3dcd8e": {
          "model_module": "@jupyter-widgets/controls",
          "model_name": "DescriptionStyleModel",
          "model_module_version": "1.5.0",
          "state": {
            "_model_module": "@jupyter-widgets/controls",
            "_model_module_version": "1.5.0",
            "_model_name": "DescriptionStyleModel",
            "_view_count": null,
            "_view_module": "@jupyter-widgets/base",
            "_view_module_version": "1.2.0",
            "_view_name": "StyleView",
            "description_width": ""
          }
        },
        "92f0ecd7a5c542e59bc9cb537465f545": {
          "model_module": "@jupyter-widgets/controls",
          "model_name": "HBoxModel",
          "model_module_version": "1.5.0",
          "state": {
            "_dom_classes": [],
            "_model_module": "@jupyter-widgets/controls",
            "_model_module_version": "1.5.0",
            "_model_name": "HBoxModel",
            "_view_count": null,
            "_view_module": "@jupyter-widgets/controls",
            "_view_module_version": "1.5.0",
            "_view_name": "HBoxView",
            "box_style": "",
            "children": [
              "IPY_MODEL_755315e54cc64bc7b59cc16e93dd58cd",
              "IPY_MODEL_11d9432c265b400ca972624fc4fbd6eb",
              "IPY_MODEL_e953532ce4a042c99626d886ea91af44"
            ],
            "layout": "IPY_MODEL_51c4b5adb72d41339100f01608ffc478"
          }
        },
        "755315e54cc64bc7b59cc16e93dd58cd": {
          "model_module": "@jupyter-widgets/controls",
          "model_name": "HTMLModel",
          "model_module_version": "1.5.0",
          "state": {
            "_dom_classes": [],
            "_model_module": "@jupyter-widgets/controls",
            "_model_module_version": "1.5.0",
            "_model_name": "HTMLModel",
            "_view_count": null,
            "_view_module": "@jupyter-widgets/controls",
            "_view_module_version": "1.5.0",
            "_view_name": "HTMLView",
            "description": "",
            "description_tooltip": null,
            "layout": "IPY_MODEL_4b735e2a442d4542a7049c5691f1e8fb",
            "placeholder": "\u200b",
            "style": "IPY_MODEL_0d21a6a8a3454b5ba118bdf54424d4f9",
            "value": "Generating\u2007train\u2007split:\u2007100%"
          }
        },
        "11d9432c265b400ca972624fc4fbd6eb": {
          "model_module": "@jupyter-widgets/controls",
          "model_name": "FloatProgressModel",
          "model_module_version": "1.5.0",
          "state": {
            "_dom_classes": [],
            "_model_module": "@jupyter-widgets/controls",
            "_model_module_version": "1.5.0",
            "_model_name": "FloatProgressModel",
            "_view_count": null,
            "_view_module": "@jupyter-widgets/controls",
            "_view_module_version": "1.5.0",
            "_view_name": "ProgressView",
            "bar_style": "success",
            "description": "",
            "description_tooltip": null,
            "layout": "IPY_MODEL_fa5aa6fd4c3549e6b493cec2df8da4f3",
            "max": 23,
            "min": 0,
            "orientation": "horizontal",
            "style": "IPY_MODEL_de2f20f8dd334f43b51d7bd1f8673400",
            "value": 23
          }
        },
        "e953532ce4a042c99626d886ea91af44": {
          "model_module": "@jupyter-widgets/controls",
          "model_name": "HTMLModel",
          "model_module_version": "1.5.0",
          "state": {
            "_dom_classes": [],
            "_model_module": "@jupyter-widgets/controls",
            "_model_module_version": "1.5.0",
            "_model_name": "HTMLModel",
            "_view_count": null,
            "_view_module": "@jupyter-widgets/controls",
            "_view_module_version": "1.5.0",
            "_view_name": "HTMLView",
            "description": "",
            "description_tooltip": null,
            "layout": "IPY_MODEL_edd4027f06ed4a9ea9bf80944daa9701",
            "placeholder": "\u200b",
            "style": "IPY_MODEL_25cd84151e8a4f409f3735ed805ba4a2",
            "value": "\u200723/23\u2007[00:00&lt;00:00,\u2007193.66\u2007examples/s]"
          }
        },
        "51c4b5adb72d41339100f01608ffc478": {
          "model_module": "@jupyter-widgets/base",
          "model_name": "LayoutModel",
          "model_module_version": "1.2.0",
          "state": {
            "_model_module": "@jupyter-widgets/base",
            "_model_module_version": "1.2.0",
            "_model_name": "LayoutModel",
            "_view_count": null,
            "_view_module": "@jupyter-widgets/base",
            "_view_module_version": "1.2.0",
            "_view_name": "LayoutView",
            "align_content": null,
            "align_items": null,
            "align_self": null,
            "border": null,
            "bottom": null,
            "display": null,
            "flex": null,
            "flex_flow": null,
            "grid_area": null,
            "grid_auto_columns": null,
            "grid_auto_flow": null,
            "grid_auto_rows": null,
            "grid_column": null,
            "grid_gap": null,
            "grid_row": null,
            "grid_template_areas": null,
            "grid_template_columns": null,
            "grid_template_rows": null,
            "height": null,
            "justify_content": null,
            "justify_items": null,
            "left": null,
            "margin": null,
            "max_height": null,
            "max_width": null,
            "min_height": null,
            "min_width": null,
            "object_fit": null,
            "object_position": null,
            "order": null,
            "overflow": null,
            "overflow_x": null,
            "overflow_y": null,
            "padding": null,
            "right": null,
            "top": null,
            "visibility": null,
            "width": null
          }
        },
        "4b735e2a442d4542a7049c5691f1e8fb": {
          "model_module": "@jupyter-widgets/base",
          "model_name": "LayoutModel",
          "model_module_version": "1.2.0",
          "state": {
            "_model_module": "@jupyter-widgets/base",
            "_model_module_version": "1.2.0",
            "_model_name": "LayoutModel",
            "_view_count": null,
            "_view_module": "@jupyter-widgets/base",
            "_view_module_version": "1.2.0",
            "_view_name": "LayoutView",
            "align_content": null,
            "align_items": null,
            "align_self": null,
            "border": null,
            "bottom": null,
            "display": null,
            "flex": null,
            "flex_flow": null,
            "grid_area": null,
            "grid_auto_columns": null,
            "grid_auto_flow": null,
            "grid_auto_rows": null,
            "grid_column": null,
            "grid_gap": null,
            "grid_row": null,
            "grid_template_areas": null,
            "grid_template_columns": null,
            "grid_template_rows": null,
            "height": null,
            "justify_content": null,
            "justify_items": null,
            "left": null,
            "margin": null,
            "max_height": null,
            "max_width": null,
            "min_height": null,
            "min_width": null,
            "object_fit": null,
            "object_position": null,
            "order": null,
            "overflow": null,
            "overflow_x": null,
            "overflow_y": null,
            "padding": null,
            "right": null,
            "top": null,
            "visibility": null,
            "width": null
          }
        },
        "0d21a6a8a3454b5ba118bdf54424d4f9": {
          "model_module": "@jupyter-widgets/controls",
          "model_name": "DescriptionStyleModel",
          "model_module_version": "1.5.0",
          "state": {
            "_model_module": "@jupyter-widgets/controls",
            "_model_module_version": "1.5.0",
            "_model_name": "DescriptionStyleModel",
            "_view_count": null,
            "_view_module": "@jupyter-widgets/base",
            "_view_module_version": "1.2.0",
            "_view_name": "StyleView",
            "description_width": ""
          }
        },
        "fa5aa6fd4c3549e6b493cec2df8da4f3": {
          "model_module": "@jupyter-widgets/base",
          "model_name": "LayoutModel",
          "model_module_version": "1.2.0",
          "state": {
            "_model_module": "@jupyter-widgets/base",
            "_model_module_version": "1.2.0",
            "_model_name": "LayoutModel",
            "_view_count": null,
            "_view_module": "@jupyter-widgets/base",
            "_view_module_version": "1.2.0",
            "_view_name": "LayoutView",
            "align_content": null,
            "align_items": null,
            "align_self": null,
            "border": null,
            "bottom": null,
            "display": null,
            "flex": null,
            "flex_flow": null,
            "grid_area": null,
            "grid_auto_columns": null,
            "grid_auto_flow": null,
            "grid_auto_rows": null,
            "grid_column": null,
            "grid_gap": null,
            "grid_row": null,
            "grid_template_areas": null,
            "grid_template_columns": null,
            "grid_template_rows": null,
            "height": null,
            "justify_content": null,
            "justify_items": null,
            "left": null,
            "margin": null,
            "max_height": null,
            "max_width": null,
            "min_height": null,
            "min_width": null,
            "object_fit": null,
            "object_position": null,
            "order": null,
            "overflow": null,
            "overflow_x": null,
            "overflow_y": null,
            "padding": null,
            "right": null,
            "top": null,
            "visibility": null,
            "width": null
          }
        },
        "de2f20f8dd334f43b51d7bd1f8673400": {
          "model_module": "@jupyter-widgets/controls",
          "model_name": "ProgressStyleModel",
          "model_module_version": "1.5.0",
          "state": {
            "_model_module": "@jupyter-widgets/controls",
            "_model_module_version": "1.5.0",
            "_model_name": "ProgressStyleModel",
            "_view_count": null,
            "_view_module": "@jupyter-widgets/base",
            "_view_module_version": "1.2.0",
            "_view_name": "StyleView",
            "bar_color": null,
            "description_width": ""
          }
        },
        "edd4027f06ed4a9ea9bf80944daa9701": {
          "model_module": "@jupyter-widgets/base",
          "model_name": "LayoutModel",
          "model_module_version": "1.2.0",
          "state": {
            "_model_module": "@jupyter-widgets/base",
            "_model_module_version": "1.2.0",
            "_model_name": "LayoutModel",
            "_view_count": null,
            "_view_module": "@jupyter-widgets/base",
            "_view_module_version": "1.2.0",
            "_view_name": "LayoutView",
            "align_content": null,
            "align_items": null,
            "align_self": null,
            "border": null,
            "bottom": null,
            "display": null,
            "flex": null,
            "flex_flow": null,
            "grid_area": null,
            "grid_auto_columns": null,
            "grid_auto_flow": null,
            "grid_auto_rows": null,
            "grid_column": null,
            "grid_gap": null,
            "grid_row": null,
            "grid_template_areas": null,
            "grid_template_columns": null,
            "grid_template_rows": null,
            "height": null,
            "justify_content": null,
            "justify_items": null,
            "left": null,
            "margin": null,
            "max_height": null,
            "max_width": null,
            "min_height": null,
            "min_width": null,
            "object_fit": null,
            "object_position": null,
            "order": null,
            "overflow": null,
            "overflow_x": null,
            "overflow_y": null,
            "padding": null,
            "right": null,
            "top": null,
            "visibility": null,
            "width": null
          }
        },
        "25cd84151e8a4f409f3735ed805ba4a2": {
          "model_module": "@jupyter-widgets/controls",
          "model_name": "DescriptionStyleModel",
          "model_module_version": "1.5.0",
          "state": {
            "_model_module": "@jupyter-widgets/controls",
            "_model_module_version": "1.5.0",
            "_model_name": "DescriptionStyleModel",
            "_view_count": null,
            "_view_module": "@jupyter-widgets/base",
            "_view_module_version": "1.2.0",
            "_view_name": "StyleView",
            "description_width": ""
          }
        },
        "899684f6661f466ebd3f6aaf596513bf": {
          "model_module": "@jupyter-widgets/controls",
          "model_name": "HBoxModel",
          "model_module_version": "1.5.0",
          "state": {
            "_dom_classes": [],
            "_model_module": "@jupyter-widgets/controls",
            "_model_module_version": "1.5.0",
            "_model_name": "HBoxModel",
            "_view_count": null,
            "_view_module": "@jupyter-widgets/controls",
            "_view_module_version": "1.5.0",
            "_view_name": "HBoxView",
            "box_style": "",
            "children": [
              "IPY_MODEL_c8e3f6181be74050b2cbad62c1e826ef",
              "IPY_MODEL_6b8f17a7f2134abf8b7c855ff4324a0b",
              "IPY_MODEL_36c2be361b2b4a7b938bf72e3cc875b8"
            ],
            "layout": "IPY_MODEL_dd2cbdb5a72e48ef981e5c6221852d4c"
          }
        },
        "c8e3f6181be74050b2cbad62c1e826ef": {
          "model_module": "@jupyter-widgets/controls",
          "model_name": "HTMLModel",
          "model_module_version": "1.5.0",
          "state": {
            "_dom_classes": [],
            "_model_module": "@jupyter-widgets/controls",
            "_model_module_version": "1.5.0",
            "_model_name": "HTMLModel",
            "_view_count": null,
            "_view_module": "@jupyter-widgets/controls",
            "_view_module_version": "1.5.0",
            "_view_name": "HTMLView",
            "description": "",
            "description_tooltip": null,
            "layout": "IPY_MODEL_ed1f1203ef464d5e890986adfc67577f",
            "placeholder": "\u200b",
            "style": "IPY_MODEL_8bfbe521d6c845fba3a3de733cb2ef85",
            "value": "Map:\u2007100%"
          }
        },
        "6b8f17a7f2134abf8b7c855ff4324a0b": {
          "model_module": "@jupyter-widgets/controls",
          "model_name": "FloatProgressModel",
          "model_module_version": "1.5.0",
          "state": {
            "_dom_classes": [],
            "_model_module": "@jupyter-widgets/controls",
            "_model_module_version": "1.5.0",
            "_model_name": "FloatProgressModel",
            "_view_count": null,
            "_view_module": "@jupyter-widgets/controls",
            "_view_module_version": "1.5.0",
            "_view_name": "ProgressView",
            "bar_style": "success",
            "description": "",
            "description_tooltip": null,
            "layout": "IPY_MODEL_f2e5c75f137b4f81b99bcad8f7155f26",
            "max": 23,
            "min": 0,
            "orientation": "horizontal",
            "style": "IPY_MODEL_806646077fed4721a014aa0a588c40b3",
            "value": 23
          }
        },
        "36c2be361b2b4a7b938bf72e3cc875b8": {
          "model_module": "@jupyter-widgets/controls",
          "model_name": "HTMLModel",
          "model_module_version": "1.5.0",
          "state": {
            "_dom_classes": [],
            "_model_module": "@jupyter-widgets/controls",
            "_model_module_version": "1.5.0",
            "_model_name": "HTMLModel",
            "_view_count": null,
            "_view_module": "@jupyter-widgets/controls",
            "_view_module_version": "1.5.0",
            "_view_name": "HTMLView",
            "description": "",
            "description_tooltip": null,
            "layout": "IPY_MODEL_1f75cb4ef635415c8d2623adc3e07752",
            "placeholder": "\u200b",
            "style": "IPY_MODEL_6b171ece4f7f41f4affd62fea55f2b99",
            "value": "\u200723/23\u2007[00:01&lt;00:00,\u200719.29\u2007examples/s]"
          }
        },
        "dd2cbdb5a72e48ef981e5c6221852d4c": {
          "model_module": "@jupyter-widgets/base",
          "model_name": "LayoutModel",
          "model_module_version": "1.2.0",
          "state": {
            "_model_module": "@jupyter-widgets/base",
            "_model_module_version": "1.2.0",
            "_model_name": "LayoutModel",
            "_view_count": null,
            "_view_module": "@jupyter-widgets/base",
            "_view_module_version": "1.2.0",
            "_view_name": "LayoutView",
            "align_content": null,
            "align_items": null,
            "align_self": null,
            "border": null,
            "bottom": null,
            "display": null,
            "flex": null,
            "flex_flow": null,
            "grid_area": null,
            "grid_auto_columns": null,
            "grid_auto_flow": null,
            "grid_auto_rows": null,
            "grid_column": null,
            "grid_gap": null,
            "grid_row": null,
            "grid_template_areas": null,
            "grid_template_columns": null,
            "grid_template_rows": null,
            "height": null,
            "justify_content": null,
            "justify_items": null,
            "left": null,
            "margin": null,
            "max_height": null,
            "max_width": null,
            "min_height": null,
            "min_width": null,
            "object_fit": null,
            "object_position": null,
            "order": null,
            "overflow": null,
            "overflow_x": null,
            "overflow_y": null,
            "padding": null,
            "right": null,
            "top": null,
            "visibility": null,
            "width": null
          }
        },
        "ed1f1203ef464d5e890986adfc67577f": {
          "model_module": "@jupyter-widgets/base",
          "model_name": "LayoutModel",
          "model_module_version": "1.2.0",
          "state": {
            "_model_module": "@jupyter-widgets/base",
            "_model_module_version": "1.2.0",
            "_model_name": "LayoutModel",
            "_view_count": null,
            "_view_module": "@jupyter-widgets/base",
            "_view_module_version": "1.2.0",
            "_view_name": "LayoutView",
            "align_content": null,
            "align_items": null,
            "align_self": null,
            "border": null,
            "bottom": null,
            "display": null,
            "flex": null,
            "flex_flow": null,
            "grid_area": null,
            "grid_auto_columns": null,
            "grid_auto_flow": null,
            "grid_auto_rows": null,
            "grid_column": null,
            "grid_gap": null,
            "grid_row": null,
            "grid_template_areas": null,
            "grid_template_columns": null,
            "grid_template_rows": null,
            "height": null,
            "justify_content": null,
            "justify_items": null,
            "left": null,
            "margin": null,
            "max_height": null,
            "max_width": null,
            "min_height": null,
            "min_width": null,
            "object_fit": null,
            "object_position": null,
            "order": null,
            "overflow": null,
            "overflow_x": null,
            "overflow_y": null,
            "padding": null,
            "right": null,
            "top": null,
            "visibility": null,
            "width": null
          }
        },
        "8bfbe521d6c845fba3a3de733cb2ef85": {
          "model_module": "@jupyter-widgets/controls",
          "model_name": "DescriptionStyleModel",
          "model_module_version": "1.5.0",
          "state": {
            "_model_module": "@jupyter-widgets/controls",
            "_model_module_version": "1.5.0",
            "_model_name": "DescriptionStyleModel",
            "_view_count": null,
            "_view_module": "@jupyter-widgets/base",
            "_view_module_version": "1.2.0",
            "_view_name": "StyleView",
            "description_width": ""
          }
        },
        "f2e5c75f137b4f81b99bcad8f7155f26": {
          "model_module": "@jupyter-widgets/base",
          "model_name": "LayoutModel",
          "model_module_version": "1.2.0",
          "state": {
            "_model_module": "@jupyter-widgets/base",
            "_model_module_version": "1.2.0",
            "_model_name": "LayoutModel",
            "_view_count": null,
            "_view_module": "@jupyter-widgets/base",
            "_view_module_version": "1.2.0",
            "_view_name": "LayoutView",
            "align_content": null,
            "align_items": null,
            "align_self": null,
            "border": null,
            "bottom": null,
            "display": null,
            "flex": null,
            "flex_flow": null,
            "grid_area": null,
            "grid_auto_columns": null,
            "grid_auto_flow": null,
            "grid_auto_rows": null,
            "grid_column": null,
            "grid_gap": null,
            "grid_row": null,
            "grid_template_areas": null,
            "grid_template_columns": null,
            "grid_template_rows": null,
            "height": null,
            "justify_content": null,
            "justify_items": null,
            "left": null,
            "margin": null,
            "max_height": null,
            "max_width": null,
            "min_height": null,
            "min_width": null,
            "object_fit": null,
            "object_position": null,
            "order": null,
            "overflow": null,
            "overflow_x": null,
            "overflow_y": null,
            "padding": null,
            "right": null,
            "top": null,
            "visibility": null,
            "width": null
          }
        },
        "806646077fed4721a014aa0a588c40b3": {
          "model_module": "@jupyter-widgets/controls",
          "model_name": "ProgressStyleModel",
          "model_module_version": "1.5.0",
          "state": {
            "_model_module": "@jupyter-widgets/controls",
            "_model_module_version": "1.5.0",
            "_model_name": "ProgressStyleModel",
            "_view_count": null,
            "_view_module": "@jupyter-widgets/base",
            "_view_module_version": "1.2.0",
            "_view_name": "StyleView",
            "bar_color": null,
            "description_width": ""
          }
        },
        "1f75cb4ef635415c8d2623adc3e07752": {
          "model_module": "@jupyter-widgets/base",
          "model_name": "LayoutModel",
          "model_module_version": "1.2.0",
          "state": {
            "_model_module": "@jupyter-widgets/base",
            "_model_module_version": "1.2.0",
            "_model_name": "LayoutModel",
            "_view_count": null,
            "_view_module": "@jupyter-widgets/base",
            "_view_module_version": "1.2.0",
            "_view_name": "LayoutView",
            "align_content": null,
            "align_items": null,
            "align_self": null,
            "border": null,
            "bottom": null,
            "display": null,
            "flex": null,
            "flex_flow": null,
            "grid_area": null,
            "grid_auto_columns": null,
            "grid_auto_flow": null,
            "grid_auto_rows": null,
            "grid_column": null,
            "grid_gap": null,
            "grid_row": null,
            "grid_template_areas": null,
            "grid_template_columns": null,
            "grid_template_rows": null,
            "height": null,
            "justify_content": null,
            "justify_items": null,
            "left": null,
            "margin": null,
            "max_height": null,
            "max_width": null,
            "min_height": null,
            "min_width": null,
            "object_fit": null,
            "object_position": null,
            "order": null,
            "overflow": null,
            "overflow_x": null,
            "overflow_y": null,
            "padding": null,
            "right": null,
            "top": null,
            "visibility": null,
            "width": null
          }
        },
        "6b171ece4f7f41f4affd62fea55f2b99": {
          "model_module": "@jupyter-widgets/controls",
          "model_name": "DescriptionStyleModel",
          "model_module_version": "1.5.0",
          "state": {
            "_model_module": "@jupyter-widgets/controls",
            "_model_module_version": "1.5.0",
            "_model_name": "DescriptionStyleModel",
            "_view_count": null,
            "_view_module": "@jupyter-widgets/base",
            "_view_module_version": "1.2.0",
            "_view_name": "StyleView",
            "description_width": ""
          }
        },
        "aa1365fb5c6340f29208dadb2261fcc7": {
          "model_module": "@jupyter-widgets/controls",
          "model_name": "HBoxModel",
          "model_module_version": "1.5.0",
          "state": {
            "_dom_classes": [],
            "_model_module": "@jupyter-widgets/controls",
            "_model_module_version": "1.5.0",
            "_model_name": "HBoxModel",
            "_view_count": null,
            "_view_module": "@jupyter-widgets/controls",
            "_view_module_version": "1.5.0",
            "_view_name": "HBoxView",
            "box_style": "",
            "children": [
              "IPY_MODEL_a3e6f9c0ab7c4eee9722de9548ec108f",
              "IPY_MODEL_17f9277e1fbc4cc5acc5a9fb7b4ac939",
              "IPY_MODEL_f7f17f606904484490822e256f426f64"
            ],
            "layout": "IPY_MODEL_f66acc3de6fb42429d69a7ae6638cadf"
          }
        },
        "a3e6f9c0ab7c4eee9722de9548ec108f": {
          "model_module": "@jupyter-widgets/controls",
          "model_name": "HTMLModel",
          "model_module_version": "1.5.0",
          "state": {
            "_dom_classes": [],
            "_model_module": "@jupyter-widgets/controls",
            "_model_module_version": "1.5.0",
            "_model_name": "HTMLModel",
            "_view_count": null,
            "_view_module": "@jupyter-widgets/controls",
            "_view_module_version": "1.5.0",
            "_view_name": "HTMLView",
            "description": "",
            "description_tooltip": null,
            "layout": "IPY_MODEL_f21d7c2fdc4543cf9044dba1fba006c3",
            "placeholder": "\u200b",
            "style": "IPY_MODEL_eb873fda981344459cc6d42c1a15a1f8",
            "value": "Map:\u2007100%"
          }
        },
        "17f9277e1fbc4cc5acc5a9fb7b4ac939": {
          "model_module": "@jupyter-widgets/controls",
          "model_name": "FloatProgressModel",
          "model_module_version": "1.5.0",
          "state": {
            "_dom_classes": [],
            "_model_module": "@jupyter-widgets/controls",
            "_model_module_version": "1.5.0",
            "_model_name": "FloatProgressModel",
            "_view_count": null,
            "_view_module": "@jupyter-widgets/controls",
            "_view_module_version": "1.5.0",
            "_view_name": "ProgressView",
            "bar_style": "success",
            "description": "",
            "description_tooltip": null,
            "layout": "IPY_MODEL_3bcdc522fca149d6a471f5ad80a53e7f",
            "max": 23,
            "min": 0,
            "orientation": "horizontal",
            "style": "IPY_MODEL_170311e8181d40d9b2d2e33aef56aae3",
            "value": 23
          }
        },
        "f7f17f606904484490822e256f426f64": {
          "model_module": "@jupyter-widgets/controls",
          "model_name": "HTMLModel",
          "model_module_version": "1.5.0",
          "state": {
            "_dom_classes": [],
            "_model_module": "@jupyter-widgets/controls",
            "_model_module_version": "1.5.0",
            "_model_name": "HTMLModel",
            "_view_count": null,
            "_view_module": "@jupyter-widgets/controls",
            "_view_module_version": "1.5.0",
            "_view_name": "HTMLView",
            "description": "",
            "description_tooltip": null,
            "layout": "IPY_MODEL_b2a24da012c04a348184bfeda7a02ee9",
            "placeholder": "\u200b",
            "style": "IPY_MODEL_dac9d125b9a2464fa711a420a2641839",
            "value": "\u200723/23\u2007[00:01&lt;00:00,\u200717.80\u2007examples/s]"
          }
        },
        "f66acc3de6fb42429d69a7ae6638cadf": {
          "model_module": "@jupyter-widgets/base",
          "model_name": "LayoutModel",
          "model_module_version": "1.2.0",
          "state": {
            "_model_module": "@jupyter-widgets/base",
            "_model_module_version": "1.2.0",
            "_model_name": "LayoutModel",
            "_view_count": null,
            "_view_module": "@jupyter-widgets/base",
            "_view_module_version": "1.2.0",
            "_view_name": "LayoutView",
            "align_content": null,
            "align_items": null,
            "align_self": null,
            "border": null,
            "bottom": null,
            "display": null,
            "flex": null,
            "flex_flow": null,
            "grid_area": null,
            "grid_auto_columns": null,
            "grid_auto_flow": null,
            "grid_auto_rows": null,
            "grid_column": null,
            "grid_gap": null,
            "grid_row": null,
            "grid_template_areas": null,
            "grid_template_columns": null,
            "grid_template_rows": null,
            "height": null,
            "justify_content": null,
            "justify_items": null,
            "left": null,
            "margin": null,
            "max_height": null,
            "max_width": null,
            "min_height": null,
            "min_width": null,
            "object_fit": null,
            "object_position": null,
            "order": null,
            "overflow": null,
            "overflow_x": null,
            "overflow_y": null,
            "padding": null,
            "right": null,
            "top": null,
            "visibility": null,
            "width": null
          }
        },
        "f21d7c2fdc4543cf9044dba1fba006c3": {
          "model_module": "@jupyter-widgets/base",
          "model_name": "LayoutModel",
          "model_module_version": "1.2.0",
          "state": {
            "_model_module": "@jupyter-widgets/base",
            "_model_module_version": "1.2.0",
            "_model_name": "LayoutModel",
            "_view_count": null,
            "_view_module": "@jupyter-widgets/base",
            "_view_module_version": "1.2.0",
            "_view_name": "LayoutView",
            "align_content": null,
            "align_items": null,
            "align_self": null,
            "border": null,
            "bottom": null,
            "display": null,
            "flex": null,
            "flex_flow": null,
            "grid_area": null,
            "grid_auto_columns": null,
            "grid_auto_flow": null,
            "grid_auto_rows": null,
            "grid_column": null,
            "grid_gap": null,
            "grid_row": null,
            "grid_template_areas": null,
            "grid_template_columns": null,
            "grid_template_rows": null,
            "height": null,
            "justify_content": null,
            "justify_items": null,
            "left": null,
            "margin": null,
            "max_height": null,
            "max_width": null,
            "min_height": null,
            "min_width": null,
            "object_fit": null,
            "object_position": null,
            "order": null,
            "overflow": null,
            "overflow_x": null,
            "overflow_y": null,
            "padding": null,
            "right": null,
            "top": null,
            "visibility": null,
            "width": null
          }
        },
        "eb873fda981344459cc6d42c1a15a1f8": {
          "model_module": "@jupyter-widgets/controls",
          "model_name": "DescriptionStyleModel",
          "model_module_version": "1.5.0",
          "state": {
            "_model_module": "@jupyter-widgets/controls",
            "_model_module_version": "1.5.0",
            "_model_name": "DescriptionStyleModel",
            "_view_count": null,
            "_view_module": "@jupyter-widgets/base",
            "_view_module_version": "1.2.0",
            "_view_name": "StyleView",
            "description_width": ""
          }
        },
        "3bcdc522fca149d6a471f5ad80a53e7f": {
          "model_module": "@jupyter-widgets/base",
          "model_name": "LayoutModel",
          "model_module_version": "1.2.0",
          "state": {
            "_model_module": "@jupyter-widgets/base",
            "_model_module_version": "1.2.0",
            "_model_name": "LayoutModel",
            "_view_count": null,
            "_view_module": "@jupyter-widgets/base",
            "_view_module_version": "1.2.0",
            "_view_name": "LayoutView",
            "align_content": null,
            "align_items": null,
            "align_self": null,
            "border": null,
            "bottom": null,
            "display": null,
            "flex": null,
            "flex_flow": null,
            "grid_area": null,
            "grid_auto_columns": null,
            "grid_auto_flow": null,
            "grid_auto_rows": null,
            "grid_column": null,
            "grid_gap": null,
            "grid_row": null,
            "grid_template_areas": null,
            "grid_template_columns": null,
            "grid_template_rows": null,
            "height": null,
            "justify_content": null,
            "justify_items": null,
            "left": null,
            "margin": null,
            "max_height": null,
            "max_width": null,
            "min_height": null,
            "min_width": null,
            "object_fit": null,
            "object_position": null,
            "order": null,
            "overflow": null,
            "overflow_x": null,
            "overflow_y": null,
            "padding": null,
            "right": null,
            "top": null,
            "visibility": null,
            "width": null
          }
        },
        "170311e8181d40d9b2d2e33aef56aae3": {
          "model_module": "@jupyter-widgets/controls",
          "model_name": "ProgressStyleModel",
          "model_module_version": "1.5.0",
          "state": {
            "_model_module": "@jupyter-widgets/controls",
            "_model_module_version": "1.5.0",
            "_model_name": "ProgressStyleModel",
            "_view_count": null,
            "_view_module": "@jupyter-widgets/base",
            "_view_module_version": "1.2.0",
            "_view_name": "StyleView",
            "bar_color": null,
            "description_width": ""
          }
        },
        "b2a24da012c04a348184bfeda7a02ee9": {
          "model_module": "@jupyter-widgets/base",
          "model_name": "LayoutModel",
          "model_module_version": "1.2.0",
          "state": {
            "_model_module": "@jupyter-widgets/base",
            "_model_module_version": "1.2.0",
            "_model_name": "LayoutModel",
            "_view_count": null,
            "_view_module": "@jupyter-widgets/base",
            "_view_module_version": "1.2.0",
            "_view_name": "LayoutView",
            "align_content": null,
            "align_items": null,
            "align_self": null,
            "border": null,
            "bottom": null,
            "display": null,
            "flex": null,
            "flex_flow": null,
            "grid_area": null,
            "grid_auto_columns": null,
            "grid_auto_flow": null,
            "grid_auto_rows": null,
            "grid_column": null,
            "grid_gap": null,
            "grid_row": null,
            "grid_template_areas": null,
            "grid_template_columns": null,
            "grid_template_rows": null,
            "height": null,
            "justify_content": null,
            "justify_items": null,
            "left": null,
            "margin": null,
            "max_height": null,
            "max_width": null,
            "min_height": null,
            "min_width": null,
            "object_fit": null,
            "object_position": null,
            "order": null,
            "overflow": null,
            "overflow_x": null,
            "overflow_y": null,
            "padding": null,
            "right": null,
            "top": null,
            "visibility": null,
            "width": null
          }
        },
        "dac9d125b9a2464fa711a420a2641839": {
          "model_module": "@jupyter-widgets/controls",
          "model_name": "DescriptionStyleModel",
          "model_module_version": "1.5.0",
          "state": {
            "_model_module": "@jupyter-widgets/controls",
            "_model_module_version": "1.5.0",
            "_model_name": "DescriptionStyleModel",
            "_view_count": null,
            "_view_module": "@jupyter-widgets/base",
            "_view_module_version": "1.2.0",
            "_view_name": "StyleView",
            "description_width": ""
          }
        }
      }
    }
  },
  "nbformat": 4,
  "nbformat_minor": 0
}